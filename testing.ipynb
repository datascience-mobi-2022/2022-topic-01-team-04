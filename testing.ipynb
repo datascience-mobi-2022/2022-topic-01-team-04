{
 "cells": [
  {
   "cell_type": "markdown",
   "metadata": {},
   "source": [
    "# Preprocessing + Otsu testing using the Dice score algorithm!"
   ]
  },
  {
   "cell_type": "markdown",
   "metadata": {},
   "source": [
    "**UPDATES**\n",
    "**Testing (02.06.2022)**\n",
    "\n",
    "- Dice score around 60-65 % \n",
    "- stretching seems not to be working\n",
    "- first test round complete\n",
    "\n",
    "**To-Do:**\n",
    "\n",
    "- optimize preprocessing\n",
    "- test on whole dataset \n",
    "\n"
   ]
  },
  {
   "cell_type": "code",
   "execution_count": 91,
   "metadata": {},
   "outputs": [
    {
     "name": "stdout",
     "output_type": "stream",
     "text": [
      "Using matplotlib backend: QtAgg\n",
      "%pylab is deprecated, use %matplotlib inline and import the required libraries.\n",
      "Populating the interactive namespace from numpy and matplotlib\n",
      "Unexpected exception formatting exception. Falling back to standard exception\n"
     ]
    },
    {
     "name": "stderr",
     "output_type": "stream",
     "text": [
      "Traceback (most recent call last):\n",
      "  File \"d:\\Anaconda\\envs\\dataanalysis0104_env\\lib\\site-packages\\IPython\\core\\interactiveshell.py\", line 3397, in run_code\n",
      "    exec(code_obj, self.user_global_ns, self.user_ns)\n",
      "  File \"C:\\Users\\marie\\AppData\\Local\\Temp\\ipykernel_19104\\1290861229.py\", line 8, in <cell line: 8>\n",
      "    from images_segmentation import dicescore as dice\n",
      "  File \"c:\\Users\\marie\\Desktop\\2022-topic-01-team-04\\images_segmentation\\dicescore.py\", line 60, in <module>\n",
      "    bice.append(b_dice(i))\n",
      "  File \"c:\\Users\\marie\\Desktop\\2022-topic-01-team-04\\images_segmentation\\dicescore.py\", line 8, in b_dice\n",
      "    gt = ground_truth[x] #gt picture x\n",
      "NameError: name 'ground_truth' is not defined\n",
      "\n",
      "During handling of the above exception, another exception occurred:\n",
      "\n",
      "Traceback (most recent call last):\n",
      "  File \"d:\\Anaconda\\envs\\dataanalysis0104_env\\lib\\site-packages\\IPython\\core\\interactiveshell.py\", line 1992, in showtraceback\n",
      "    stb = self.InteractiveTB.structured_traceback(\n",
      "  File \"d:\\Anaconda\\envs\\dataanalysis0104_env\\lib\\site-packages\\IPython\\core\\ultratb.py\", line 1118, in structured_traceback\n",
      "    return FormattedTB.structured_traceback(\n",
      "  File \"d:\\Anaconda\\envs\\dataanalysis0104_env\\lib\\site-packages\\IPython\\core\\ultratb.py\", line 1012, in structured_traceback\n",
      "    return VerboseTB.structured_traceback(\n",
      "  File \"d:\\Anaconda\\envs\\dataanalysis0104_env\\lib\\site-packages\\IPython\\core\\ultratb.py\", line 865, in structured_traceback\n",
      "    formatted_exception = self.format_exception_as_a_whole(etype, evalue, etb, number_of_lines_of_context,\n",
      "  File \"d:\\Anaconda\\envs\\dataanalysis0104_env\\lib\\site-packages\\IPython\\core\\ultratb.py\", line 818, in format_exception_as_a_whole\n",
      "    frames.append(self.format_record(r))\n",
      "  File \"d:\\Anaconda\\envs\\dataanalysis0104_env\\lib\\site-packages\\IPython\\core\\ultratb.py\", line 736, in format_record\n",
      "    result += ''.join(_format_traceback_lines(frame_info.lines, Colors, self.has_colors, lvals))\n",
      "  File \"d:\\Anaconda\\envs\\dataanalysis0104_env\\lib\\site-packages\\stack_data\\utils.py\", line 145, in cached_property_wrapper\n",
      "    value = obj.__dict__[self.func.__name__] = self.func(obj)\n",
      "  File \"d:\\Anaconda\\envs\\dataanalysis0104_env\\lib\\site-packages\\stack_data\\core.py\", line 698, in lines\n",
      "    pieces = self.included_pieces\n",
      "  File \"d:\\Anaconda\\envs\\dataanalysis0104_env\\lib\\site-packages\\stack_data\\utils.py\", line 145, in cached_property_wrapper\n",
      "    value = obj.__dict__[self.func.__name__] = self.func(obj)\n",
      "  File \"d:\\Anaconda\\envs\\dataanalysis0104_env\\lib\\site-packages\\stack_data\\core.py\", line 649, in included_pieces\n",
      "    pos = scope_pieces.index(self.executing_piece)\n",
      "  File \"d:\\Anaconda\\envs\\dataanalysis0104_env\\lib\\site-packages\\stack_data\\utils.py\", line 145, in cached_property_wrapper\n",
      "    value = obj.__dict__[self.func.__name__] = self.func(obj)\n",
      "  File \"d:\\Anaconda\\envs\\dataanalysis0104_env\\lib\\site-packages\\stack_data\\core.py\", line 628, in executing_piece\n",
      "    return only(\n",
      "  File \"d:\\Anaconda\\envs\\dataanalysis0104_env\\lib\\site-packages\\executing\\executing.py\", line 164, in only\n",
      "    raise NotOneValueFound('Expected one value, found 0')\n",
      "executing.executing.NotOneValueFound: Expected one value, found 0\n"
     ]
    }
   ],
   "source": [
    "#Packages\n",
    "%pylab\n",
    "%matplotlib inline\n",
    "import numpy as np\n",
    "import scipy.ndimage\n",
    "import matplotlib.pyplot as plt\n",
    "from images_segmentation import otsu as ot\n",
    "from images_segmentation import dicescore as dice "
   ]
  },
  {
   "cell_type": "code",
   "execution_count": 92,
   "metadata": {},
   "outputs": [],
   "source": [
    "#Images\n",
    "img_1 = imread(r\"data\\Otsu_data\\NIH3T3\\img\\dna-44.png\")\n",
    "img_2 = imread(r\"data\\Otsu_data\\N2DH-GOWT1\\img\\t39.tif\") \n",
    "img_3 = imread(r\"data\\Otsu_data\\N2DL-HeLa\\img\\t13.tif\") \n",
    "gt_3 = imread(r\"data\\Otsu_data\\N2DL-HeLa\\gt\\man_seg13.tif\")\n",
    "gt_1 = imread(r\"data\\Otsu_data\\NIH3T3\\gt\\44.png\")\n",
    "gt_2 = imread(r\"data\\Otsu_data\\N2DH-GOWT1\\gt\\man_seg39.tif\")"
   ]
  },
  {
   "cell_type": "code",
   "execution_count": 108,
   "metadata": {},
   "outputs": [],
   "source": [
    "# histogram stretching algorithm\n",
    "def stretch(x):\n",
    "    intensities = []\n",
    "    img = x.copy()\n",
    "    h = img.shape[0]\n",
    "    w = img.shape[1]\n",
    "    for x, y in np.ndindex((h,w)):\n",
    "        intensities.append(img[x,y])\n",
    "    img_max = max(intensities)\n",
    "    img_min = min(intensities)\n",
    "    for a, b in np.ndindex((h,w)):\n",
    "        img[a,b] = (img[a,b]-img_min)*256/(img_max-img_min)\n",
    "    return img "
   ]
  },
  {
   "cell_type": "code",
   "execution_count": 109,
   "metadata": {},
   "outputs": [],
   "source": [
    "#Preprocessing\n",
    "median1 = scipy.ndimage.median_filter(img_1, 11)\n",
    "gauss1 = scipy.ndimage.gaussian_filter(img_1,9)\n",
    "\n",
    "median2 = scipy.ndimage.median_filter(img_2, 11)\n",
    "gauss2 = scipy.ndimage.gaussian_filter(img_2,9)\n",
    "\n",
    "median3 = scipy.ndimage.median_filter(img_3, 11)\n",
    "gauss3 = scipy.ndimage.gaussian_filter(img_3,9)\n",
    "\n",
    "stretch1 = stretch(img_1)\n",
    "stretch2 = stretch(img_2)\n",
    "stretch3 = stretch(img_3)\n"
   ]
  },
  {
   "cell_type": "code",
   "execution_count": 112,
   "metadata": {},
   "outputs": [
    {
     "data": {
      "image/png": "[encoded data removed]",
      "text/plain": [
       "<Figure size 432x288 with 1 Axes>"
      ]
     },
     "metadata": {
      "needs_background": "light"
     },
     "output_type": "display_data"
    }
   ],
   "source": [
    "#Otsu\n",
    "pt1 = ot.otsu_thresholding(img_1,256)\n",
    "pt2 = ot.otsu_thresholding(img_2,256)\n",
    "pt3 = ot.otsu_thresholding(img_3,256)\n",
    "\n",
    "pt4 = ot.otsu_thresholding(stretch1,256)\n",
    "pt5 = ot.otsu_thresholding(stretch2,256)\n",
    "pt6 = ot.otsu_thresholding(stretch3,256)\n",
    "\n",
    "pt8 = ot.otsu_thresholding(median1,256)\n",
    "pt9 = ot.otsu_thresholding(median2,256)\n",
    "pt10 = ot.otsu_thresholding(median3,256)\n",
    "\n",
    "pt11 = ot.otsu_thresholding(gauss1,256)\n",
    "pt12 = ot.otsu_thresholding(gauss2,256)\n",
    "pt13 = ot.otsu_thresholding(gauss3,256)"
   ]
  },
  {
   "cell_type": "code",
   "execution_count": 114,
   "metadata": {},
   "outputs": [
    {
     "name": "stdout",
     "output_type": "stream",
     "text": [
      "['foreground dice 0.5594109014644562', 'background dice 0.8532988402157338', 'foreground dice 0.6573833594179603', 'background dice 0.9795350759772747', 'foreground dice 0.6153487287147189', 'background dice 0.9820688755260267']\n"
     ]
    }
   ],
   "source": [
    "#Dice score\n",
    "\n",
    "tresholded = [pt11,pt12,pt13]\n",
    "ground_truth = [gt_1,gt_2,gt_3]\n",
    "dsc = ['foreground dice ' + str(f_dice(0)), 'background dice ' + str(b_dice(0)),\n",
    "        'foreground dice ' + str(f_dice(1)), 'background dice ' + str(b_dice(1)),\n",
    "        'foreground dice ' + str(f_dice(2)), 'background dice ' + str(b_dice(2))]\n",
    "print(dsc)\n",
    "\n"
   ]
  },
  {
   "cell_type": "markdown",
   "metadata": {},
   "source": [
    "**Erste Ergebnisse:**\n",
    "\n",
    "**Nur Otsu:**  \n",
    "- 1.Img: 57,58 %  \n",
    "- 2.Img: 58,30 %   \n",
    "- 3.Img: 69,61 %   \n",
    "\n",
    "**Gestretcht:**\n",
    "- 1.Img: 57,58%  \n",
    "- 2.Img  58,30%    -> stretcht nicht?   \n",
    "- 3.Img: 69,61%  \n",
    "\n",
    "**Median:**\n",
    "- 1.Img: 56,93 %   \n",
    "- 2.Img: 59,99 %  \n",
    "- 3.Img: 66,50 %   \n",
    "\n",
    "**Gauss:**\n",
    "- 1.Img: 55,94 %   \n",
    "- 2.Img: 65,74 %   \n",
    "- 3.Img: 61,53 %   \n"
   ]
  }
 ],
 "metadata": {
  "interpreter": {
   "hash": "73a5aaef6c11b1ea6e162ad69f2e79f73d9b6fd099813d04ec92d64c4323e461"
  },
  "kernelspec": {
   "display_name": "Python 3.9.12 ('dataanalysis0104_env')",
   "language": "python",
   "name": "python3"
  },
  "language_info": {
   "codemirror_mode": {
    "name": "ipython",
    "version": 3
   },
   "file_extension": ".py",
   "mimetype": "text/x-python",
   "name": "python",
   "nbconvert_exporter": "python",
   "pygments_lexer": "ipython3",
   "version": "3.9.12"
  },
  "orig_nbformat": 4
 },
 "nbformat": 4,
 "nbformat_minor": 2
}
