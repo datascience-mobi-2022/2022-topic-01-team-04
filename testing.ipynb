{
 "cells": [
  {
   "cell_type": "markdown",
   "metadata": {},
   "source": [
    "# Preprocessing + Otsu testing using the Dice score algorithm!"
   ]
  },
  {
   "cell_type": "markdown",
   "metadata": {},
   "source": [
    "**UPDATES**\n",
    "**Testing (05.06.2022)**\n",
    "\n",
    "- Dice score around 60-70 % \n",
    "- stretching issue resolved \n",
    "- second test round complete\n",
    "\n",
    "- ALL Dice scores computed !! (whole dataset)\n",
    "\n",
    "**To-Do:**\n",
    "\n",
    "- optimize preprocessing -> optimal filter size\n",
    "- optimal bin size \n",
    "\n"
   ]
  },
  {
   "cell_type": "code",
   "execution_count": 1,
   "metadata": {},
   "outputs": [
    {
     "name": "stdout",
     "output_type": "stream",
     "text": [
      "Using matplotlib backend: <object object at 0x000002845C823630>\n",
      "%pylab is deprecated, use %matplotlib inline and import the required libraries.\n",
      "Populating the interactive namespace from numpy and matplotlib\n"
     ]
    }
   ],
   "source": [
    "#Packages\n",
    "%pylab\n",
    "%matplotlib inline\n",
    "import numpy as np\n",
    "import scipy.ndimage\n",
    "import matplotlib.pyplot as plt\n",
    "from images_segmentation import otsu as ot\n",
    "#from images_segmentation import dicescore as dice \n",
    "import os"
   ]
  },
  {
   "cell_type": "code",
   "execution_count": 33,
   "metadata": {},
   "outputs": [],
   "source": [
    "from PIL import Image\n",
    "import os, os.path\n",
    "\n",
    "imgs = []\n",
    "path = r\"data\\Otsu_data\\NIH3T3\\img\"\n",
    "valid_images = [\".jpg\",\".gif\",\".png\",\".tga\"]\n",
    "for f in os.listdir(path):\n",
    "    ext = os.path.splitext(f)[1]\n",
    "    if ext.lower() not in valid_images:\n",
    "        continue\n",
    "    imgs.append(imread(os.path.join(path,f)))\n",
    "\n",
    "imgs_gt = []\n",
    "path = r\"data\\Otsu_data\\NIH3T3\\gt\"\n",
    "valid_images = [\".jpg\",\".gif\",\".png\",\".tga\"]\n",
    "for f in os.listdir(path):\n",
    "    ext = os.path.splitext(f)[1]\n",
    "    if ext.lower() not in valid_images:\n",
    "        continue\n",
    "    imgs_gt.append(imread(os.path.join(path,f)))\n",
    "\n",
    "imgs_1 = []\n",
    "path = r\"data\\Otsu_data\\N2DH-GOWT1\\img\"\n",
    "valid_images = [\".jpg\",\".gif\",\".png\",\".tif\"]\n",
    "for f in os.listdir(path):\n",
    "    ext = os.path.splitext(f)[1]\n",
    "    if ext.lower() not in valid_images:\n",
    "        continue\n",
    "    imgs_1.append(imread(os.path.join(path,f)))\n",
    "\n",
    "imgs_gt_1 = []\n",
    "path = r\"data\\Otsu_data\\N2DH-GOWT1\\gt\"\n",
    "valid_images = [\".jpg\",\".gif\",\".png\",\".tif\"]\n",
    "for f in os.listdir(path):\n",
    "    ext = os.path.splitext(f)[1]\n",
    "    if ext.lower() not in valid_images:\n",
    "        continue\n",
    "    imgs_gt_1.append(imread(os.path.join(path,f)))\n",
    "\n",
    "imgs_2 = []\n",
    "path = r\"data\\Otsu_data\\N2DL-HeLa\\img\"\n",
    "valid_images = [\".jpg\",\".gif\",\".png\",\".tif\"]\n",
    "for f in os.listdir(path):\n",
    "    ext = os.path.splitext(f)[1]\n",
    "    if ext.lower() not in valid_images:\n",
    "        continue\n",
    "    imgs_2.append(imread(os.path.join(path,f)))\n",
    "\n",
    "imgs_gt_2 = []\n",
    "path = r\"data\\Otsu_data\\N2DL-HeLa\\gt\"\n",
    "valid_images = [\".jpg\",\".gif\",\".png\",\".tif\"]\n",
    "for f in os.listdir(path):\n",
    "    ext = os.path.splitext(f)[1]\n",
    "    if ext.lower() not in valid_images:\n",
    "        continue\n",
    "    imgs_gt_2.append(imread(os.path.join(path,f)))\n",
    "\n"
   ]
  },
  {
   "cell_type": "code",
   "execution_count": 34,
   "metadata": {},
   "outputs": [
    {
     "data": {
      "image/png": "[encoded data removed]",
      "text/plain": [
       "<Figure size 432x288 with 1 Axes>"
      ]
     },
     "metadata": {
      "needs_background": "light"
     },
     "output_type": "display_data"
    }
   ],
   "source": [
    "otsu_1 = []\n",
    "for i in range(0,len(imgs)):\n",
    "    otsu_1.append(ot.otsu_thresholding(imgs[i],256)) \n",
    "\n",
    "otsu_2 = []\n",
    "for i in range(0,len(imgs_1)):\n",
    "    otsu_2.append(ot.otsu_thresholding(imgs_1[i],256)) \n",
    "\n",
    "otsu_3 = []\n",
    "for i in range(0,len(imgs_2)):\n",
    "    otsu_3.append(ot.otsu_thresholding(imgs_2[i],256)) \n",
    "\n"
   ]
  },
  {
   "cell_type": "code",
   "execution_count": 25,
   "metadata": {},
   "outputs": [
    {
     "name": "stdout",
     "output_type": "stream",
     "text": [
      "[0.8943783223933183, 0.8845252721173281, 0.8248360803970239, 0.7345417270163801, 0.7304073649082119, 0.6728102311790894, 0.6711519137663287, 0.7237186625334818, 0.03844935467277361, 0.482970126366923, 0.0, 0.680536637820677, 0.00026339009389856846, 0.5757554586315079, 0.6165448260228947, 0.07605520913993832, 0.07186834004262373, 0.7965485556767932]\n"
     ]
    }
   ],
   "source": [
    "tresholded = otsu_1\n",
    "ground_truth = imgs_gt\n",
    "dsc = []\n",
    "for j in range(0,len(otsu_1)):\n",
    "        dsc.append(f_dice(j))\n",
    "print(dsc)"
   ]
  },
  {
   "cell_type": "code",
   "execution_count": 35,
   "metadata": {},
   "outputs": [
    {
     "name": "stdout",
     "output_type": "stream",
     "text": [
      "[0.5705017182130584, 0.5321692131795032, 0.568002229254991, 0.5830196570472606, 0.6502180828858916, 0.588161094224924]\n"
     ]
    }
   ],
   "source": [
    "tresholded = otsu_2\n",
    "ground_truth = imgs_gt_1\n",
    "dsc_1 = []\n",
    "for j in range(0,len(otsu_2)):\n",
    "        dsc_1.append(f_dice(j))\n",
    "print(dsc_1)"
   ]
  },
  {
   "cell_type": "code",
   "execution_count": 36,
   "metadata": {},
   "outputs": [
    {
     "name": "stdout",
     "output_type": "stream",
     "text": [
      "[0.6961222399023476, 0.65534219596258, 0.7806862514268343, 0.7806012094816297]\n"
     ]
    }
   ],
   "source": [
    "tresholded = otsu_3\n",
    "ground_truth = imgs_gt_2\n",
    "dsc_2 = []\n",
    "for j in range(0,len(otsu_3)):\n",
    "        dsc_2.append(f_dice(j))\n",
    "print(dsc_2)"
   ]
  },
  {
   "cell_type": "code",
   "execution_count": 2,
   "metadata": {},
   "outputs": [],
   "source": [
    "#Images\n",
    "img_1 = imread(r\"data\\Otsu_data\\NIH3T3\\img\\dna-44.png\")\n",
    "img_2 = imread(r\"data\\Otsu_data\\N2DH-GOWT1\\img\\t39.tif\") \n",
    "img_3 = imread(r\"data\\Otsu_data\\N2DL-HeLa\\img\\t13.tif\") \n",
    "gt_3 = imread(r\"data\\Otsu_data\\N2DL-HeLa\\gt\\man_seg13.tif\")\n",
    "gt_1 = imread(r\"data\\Otsu_data\\NIH3T3\\gt\\44.png\")\n",
    "gt_2 = imread(r\"data\\Otsu_data\\N2DH-GOWT1\\gt\\man_seg39.tif\")"
   ]
  },
  {
   "cell_type": "code",
   "execution_count": 37,
   "metadata": {},
   "outputs": [],
   "source": [
    "# histogram stretching algorithm\n",
    "def stretch(x):\n",
    "    intensities = []\n",
    "    img = x.copy()\n",
    "    lower_quantile, upper_quantile = np.percentile(img, (2, 100 - 2))\n",
    "\n",
    "    img[img < lower_quantile] = lower_quantile\n",
    "    img[img > upper_quantile] = upper_quantile\n",
    "    \n",
    "    for i in np.ndindex(img.shape):\n",
    "        intensities.append(img[i])\n",
    "    img_max = max(intensities)\n",
    "    img_min = min(intensities)\n",
    "    for j in np.ndindex(img.shape):\n",
    "        img[j]= (img[j]-img_min)*(256 /(img_max-img_min))\n",
    "    return img "
   ]
  },
  {
   "cell_type": "code",
   "execution_count": 91,
   "metadata": {},
   "outputs": [],
   "source": [
    "#Preprocessing\n",
    "#median1 = scipy.ndimage.median_filter(img_1, 3)\n",
    "#gauss1 = scipy.ndimage.gaussian_filter(img_1,3)\n",
    "\n",
    "#median2 = scipy.ndimage.median_filter(img_2, 3)\n",
    "#gauss2 = scipy.ndimage.gaussian_filter(img_2,3)\n",
    "\n",
    "#median3 = scipy.ndimage.median_filter(img_3, 3)\n",
    "#gauss3 = scipy.ndimage.gaussian_filter(img_3,3)\n",
    "\n",
    "stretch1 = stretch(img_1)\n",
    "stretch2 = stretch(img_2)\n",
    "stretch3 = stretch(img_3)\n",
    "\n",
    "#stretch4 = stretch(median1)\n",
    "#stretch5 = stretch(median2)\n",
    "#stretch6 = stretch(median3)\n",
    "\n",
    "#stretch7 = stretch(gauss1)\n",
    "#stretch8 = stretch(gauss2)\n",
    "#stretch9 = stretch(gauss3)\n",
    "\n",
    "#median4 = scipy.ndimage.median_filter(stretch1, 3)\n",
    "#median5 = scipy.ndimage.median_filter(stretch2, 10)\n",
    "#median6 = scipy.ndimage.median_filter(stretch3, 11)\n",
    "\n",
    "gauss4 = scipy.ndimage.gaussian_filter(stretch1,3)\n",
    "gauss5 = scipy.ndimage.gaussian_filter(stretch2,3)\n",
    "gauss6 = scipy.ndimage.gaussian_filter(stretch3,3)\n"
   ]
  },
  {
   "cell_type": "code",
   "execution_count": 93,
   "metadata": {},
   "outputs": [
    {
     "data": {
      "text/plain": [
       "'pt8 = ot.otsu_thresholding(median1,256)\\npt9 = ot.otsu_thresholding(median2,256)\\npt10 = ot.otsu_thresholding(median3,256)\\n\\npt11 = ot.otsu_thresholding(gauss1,256)\\npt12 = ot.otsu_thresholding(gauss2,256)\\npt13 = ot.otsu_thresholding(gauss3,256)'"
      ]
     },
     "execution_count": 93,
     "metadata": {},
     "output_type": "execute_result"
    },
    {
     "data": {
      "image/png": "[encoded data removed]",
      "text/plain": [
       "<Figure size 432x288 with 1 Axes>"
      ]
     },
     "metadata": {
      "needs_background": "light"
     },
     "output_type": "display_data"
    },
    {
     "data": {
      "image/png": "[encoded data removed]",
      "text/plain": [
       "<Figure size 432x288 with 2 Axes>"
      ]
     },
     "metadata": {
      "needs_background": "light"
     },
     "output_type": "display_data"
    },
    {
     "data": {
      "image/png": "[encoded data removed]",
      "text/plain": [
       "<Figure size 432x288 with 2 Axes>"
      ]
     },
     "metadata": {
      "needs_background": "light"
     },
     "output_type": "display_data"
    },
    {
     "data": {
      "image/png": "[encoded data removed]",
      "text/plain": [
       "<Figure size 432x288 with 2 Axes>"
      ]
     },
     "metadata": {
      "needs_background": "light"
     },
     "output_type": "display_data"
    }
   ],
   "source": [
    "#Otsu\n",
    "'''pt1 = ot.otsu_thresholding(img_1,256)\n",
    "pt2 = ot.otsu_thresholding(img_2,256)\n",
    "pt3 = ot.otsu_thresholding(img_3,256)'''\n",
    "\n",
    "pt4 = ot.otsu_thresholding(gauss4,256)\n",
    "pt5 = ot.otsu_thresholding(gauss5,256)\n",
    "pt6 = ot.otsu_thresholding(gauss6,256)\n",
    "\n",
    "figure()  \n",
    "imshow(pt4, 'gray')\n",
    "colorbar()\n",
    "\n",
    "figure()  \n",
    "imshow(pt5, 'gray')\n",
    "colorbar()\n",
    "\n",
    "figure()  \n",
    "imshow(pt6, 'gray')\n",
    "colorbar()\n",
    "\n",
    "\n",
    "'''pt8 = ot.otsu_thresholding(median1,256)\n",
    "pt9 = ot.otsu_thresholding(median2,256)\n",
    "pt10 = ot.otsu_thresholding(median3,256)\n",
    "\n",
    "pt11 = ot.otsu_thresholding(gauss1,256)\n",
    "pt12 = ot.otsu_thresholding(gauss2,256)\n",
    "pt13 = ot.otsu_thresholding(gauss3,256)'''"
   ]
  },
  {
   "cell_type": "code",
   "execution_count": 19,
   "metadata": {},
   "outputs": [],
   "source": [
    "\n",
    "def b_dice(x): # POSITIVE PIXELS = BACKGROUND x=picture number, same number for gt and post tresholding image):\n",
    "    gt = ground_truth[x] #gt picture x\n",
    "    pt = tresholded[x] #post tresholding picture x\n",
    "    tp=0\n",
    "    tn=0\n",
    "    fp=0\n",
    "    fn=0\n",
    "    h = gt.shape[0]\n",
    "    w = gt.shape[1]\n",
    "    for x, y in np.ndindex((h,w)):\n",
    "        if gt[x,y]==0:\n",
    "            if pt[x,y]==0:\n",
    "                tp+=1\n",
    "            else:\n",
    "                fn+=1\n",
    "        else:\n",
    "            if pt[x,y]==0:\n",
    "                fp+=1\n",
    "            else:\n",
    "                tn+=1 #not really needed, but does not influence the runtime\n",
    "    b_dsc= 2*tp/(2*tp+fn+fp)\n",
    "    return b_dsc\n",
    "    print(b_dsc)\n",
    "\n",
    "def f_dice(x): # POSITIVE PIXELS = FOREGROUND\n",
    "    gt = ground_truth[x] \n",
    "    pt = tresholded[x] \n",
    "    tp=0\n",
    "    tn=0\n",
    "    fp=0\n",
    "    fn=0\n",
    "    h = gt.shape[0]\n",
    "    w = gt.shape[1]\n",
    "    for x, y in np.ndindex((h,w)):\n",
    "        if gt[x,y]!=0:\n",
    "            if pt[x,y]!=0:\n",
    "                tp+=1\n",
    "            else:\n",
    "                fn+=1\n",
    "        else:\n",
    "            if pt[x,y]!=0:\n",
    "                fp+=1\n",
    "            else:\n",
    "                tn+=1 \n",
    "    f_dsc= 2*tp/(2*tp+fn+fp)\n",
    "    return f_dsc\n",
    "    \n",
    "    "
   ]
  },
  {
   "cell_type": "code",
   "execution_count": 94,
   "metadata": {},
   "outputs": [
    {
     "name": "stdout",
     "output_type": "stream",
     "text": [
      "['foreground dice 0.5941665864492086', 'background dice 0.854285886392386', 'foreground dice 0.7292286234178483', 'background dice 0.9828741721384242', 'foreground dice 0.8094224700961327', 'background dice 0.9930070306672806']\n"
     ]
    }
   ],
   "source": [
    "#Dice score\n",
    "\n",
    "\n",
    "\n",
    "tresholded = [pt4,pt5,pt6]\n",
    "ground_truth = [gt_1,gt_2,gt_3]\n",
    "dsc = ['foreground dice ' + str(f_dice(0)), 'background dice ' + str(b_dice(0)),\n",
    "        'foreground dice ' + str(f_dice(1)), 'background dice ' + str(b_dice(1)),\n",
    "        'foreground dice ' + str(f_dice(2)), 'background dice ' + str(b_dice(2))]\n",
    "print(dsc)\n",
    "\n"
   ]
  },
  {
   "cell_type": "markdown",
   "metadata": {},
   "source": [
    "**Erste Ergebnisse:**\n",
    "\n",
    "**Nur Otsu:**  \n",
    "- 1.Img: 57,58 %  \n",
    "- 2.Img: 58,30 %   \n",
    "- 3.Img: 69,61 %   \n",
    "- NIH3T3: \n",
    "\n",
    "[0.8943783223933183, 0.8845252721173281, 0.8248360803970239, 0.7345417270163801, 0.7304073649082119, 0.6728102311790894, 0.6711519137663287, 0.7237186625334818, 0.03844935467277361, 0.482970126366923, 0.0, 0.680536637820677, 0.00026339009389856846, 0.5757554586315079, 0.6165448260228947, 0.07605520913993832, 0.07186834004262373, 0.7965485556767932]\n",
    "\n",
    "- N2DH-GOWT1:\n",
    "\n",
    "[0.5705017182130584, 0.5321692131795032, 0.568002229254991, 0.5830196570472606, 0.6502180828858916, 0.588161094224924]\n",
    "\n",
    "- N2DL-HeLa:\n",
    "\n",
    "[0.6961222399023476, 0.65534219596258, 0.7806862514268343, 0.7806012094816297]\n",
    "\n",
    "**Gestretcht:**\n",
    "- 1.Img: 59,70%  \n",
    "- 2.Img  53,19%       \n",
    "- 3.Img: 80,97%  \n",
    "\n",
    "**Median:** -> Filter size \n",
    "- 1.Img: 56,93 %   \n",
    "- 2.Img: 59,99 %  \n",
    "- 3.Img: 66,50 %   \n",
    "\n",
    "**Gauss:** -> Filter size\n",
    "- 1.Img: 55,94 %   \n",
    "- 2.Img: 65,74 %   \n",
    "- 3.Img: 61,53 %   \n",
    "\n",
    "**Median+Stretching**\n",
    "- 1.Img: 59,71 % \n",
    "- 2.Img: 55,45 % \n",
    "- 3.Img: 80,97 % \n",
    "\n",
    "**Gauss+Stretching**\n",
    "- 1.Img: 59,43 % \n",
    "- 2.Img: 72,92 % \n",
    "- 3.Img: 80,94 % \n"
   ]
  }
 ],
 "metadata": {
  "interpreter": {
   "hash": "21db8ca179e1c46f3f1871b3fc2646379981f9fac7908d31737eb0066b24c468"
  },
  "kernelspec": {
   "display_name": "Python 3.10.4 ('dataanalysis0104_env')",
   "language": "python",
   "name": "python3"
  },
  "language_info": {
   "codemirror_mode": {
    "name": "ipython",
    "version": 3
   },
   "file_extension": ".py",
   "mimetype": "text/x-python",
   "name": "python",
   "nbconvert_exporter": "python",
   "pygments_lexer": "ipython3",
   "version": "3.10.4"
  },
  "orig_nbformat": 4
 },
 "nbformat": 4,
 "nbformat_minor": 2
}
