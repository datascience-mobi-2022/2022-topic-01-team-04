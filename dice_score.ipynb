{
 "cells": [
  {
   "cell_type": "markdown",
   "metadata": {},
   "source": [
    "## Dice Score Coefficient\n",
    "\n",
    "### Algorithms:\n",
    "- algorithm for easy picture plotting (has to be updated to remove white borders if we want to, should NOT influece the dice coefficient, just for better visualization :))-> cell 3\n",
    "- picture loading -> cell 5\n",
    "- assignment of loaded  pictures to gt and tresholded lists -> cell 6\n",
    "- dice score algorithm, where: f_dice(x) returns and prints the dice score if foreground is taken as positive pixels, b_dice(x) -\"- background as positive pixels, x: index in list -> cell 7\n",
    "\n",
    "### Trial grounds\n",
    "- Picture plotting trial -> cell 4\n",
    "- Dice score trials -> cells 8 & 9\n",
    "\n",
    "### Other cells\n",
    "- cells 10 and up are brainstorming, flawed code, code that is yet to be implemented such as dice score average, for which we need a whole imageJ dataset to try it on"
   ]
  },
  {
   "cell_type": "code",
   "execution_count": 2,
   "metadata": {},
   "outputs": [
    {
     "name": "stdout",
     "output_type": "stream",
     "text": [
      "Using matplotlib backend: <object object at 0x000001DC71FCB040>\n",
      "%pylab is deprecated, use %matplotlib inline and import the required libraries.\n",
      "Populating the interactive namespace from numpy and matplotlib\n"
     ]
    }
   ],
   "source": [
    "%pylab\n",
    "%matplotlib inline\n",
    "import numpy as np\n",
    "import matplotlib.pyplot as plt"
   ]
  },
  {
   "cell_type": "code",
   "execution_count": 20,
   "metadata": {},
   "outputs": [],
   "source": [
    "#Function for optimised images for dice score, removes axis labels, for some reason does not remove the white border :/\n",
    "\n",
    "def better_imshow(x,y): # for x insert the image path, for y the name you want your picture to have\n",
    "    y = plt.imread(x)\n",
    "    plt.imshow(gt1,'gray')\n",
    "    plt.axis('off')\n",
    "    plt.axis('tight')\n",
    "   "
   ]
  },
  {
   "cell_type": "code",
   "execution_count": 21,
   "metadata": {},
   "outputs": [
    {
     "data": {
      "image/png": "[encoded data removed]",
      "text/plain": [
       "<Figure size 432x288 with 1 Axes>"
      ]
     },
     "metadata": {
      "needs_background": "light"
     },
     "output_type": "display_data"
    }
   ],
   "source": [
    "#BETTER IMSHOW TRIAL\n",
    "x = r'data\\Otsu_data\\NIH3T3\\gt\\0.png'\n",
    "y = gt1\n",
    "better_imshow(x,y)"
   ]
  },
  {
   "cell_type": "code",
   "execution_count": null,
   "metadata": {},
   "outputs": [],
   "source": [
    "#normal picture loading\n",
    "\n",
    "gt1 = plt.imread(r\"data\\Otsu_data\\NIH3T3\\gt\\0.png\")\n",
    "\n",
    "pt1 = plt.imread(r\"data\\Otsu_data\\NIH3T3\\imageJ\\dna-0.png\")"
   ]
  },
  {
   "cell_type": "code",
   "execution_count": null,
   "metadata": {},
   "outputs": [],
   "source": [
    "tresholded = [pt1]\n",
    "ground_truth = [gt1]"
   ]
  },
  {
   "cell_type": "code",
   "execution_count": 22,
   "metadata": {},
   "outputs": [
    {
     "data": {
      "text/plain": [
       "0.9827235249209292"
      ]
     },
     "execution_count": 22,
     "metadata": {},
     "output_type": "execute_result"
    }
   ],
   "source": [
    "#TRIAL VERSION, BACKGROUND DICE WORKS, FOREGROUND DICE IM NOT 100% SURE (about accuracy, because I used the \"not\" operator)\n",
    "\n",
    "\n",
    "\n",
    "\n",
    "\n",
    "def b_dice(x): # POSITIVE PIXELS = BACKGROUNDx=picture number, same number for gt and post tresholding image):\n",
    "    gt = ground_truth[x] #somehow define that we are taking gt picture x\n",
    "    pt = tresholded[x] #somehow define that we are taking post tresholding picture x\n",
    "    tp=0\n",
    "    tn=0\n",
    "    fp=0\n",
    "    fn=0\n",
    "    h = gt.shape[0]\n",
    "    w = gt.shape[1]\n",
    "    for x, y in np.ndindex((h,w)):\n",
    "        if gt[x,y]==0:\n",
    "            if pt[x,y]==0:\n",
    "                tp+=1\n",
    "            else:\n",
    "                fn+=1\n",
    "        else:\n",
    "            if pt[x,y]==0:\n",
    "                fp+=1\n",
    "            else:\n",
    "                tn+=1 #this part not rly needed tbh\n",
    "    b_dsc= 2*tp/(2*tp+fn+fp)\n",
    "    return b_dsc\n",
    "    print(b_dsc)\n",
    "\n",
    "def f_dice(x): # POSITIVE PIXELS = FOREGROUND x=picture number, same number for gt and post tresholding image):\n",
    "    gt = ground_truth[x] #somehow define that we are taking gt picture x\n",
    "    pt = tresholded[x] #somehow define that we are taking post tresholding picture x\n",
    "    tp=0\n",
    "    tn=0\n",
    "    fp=0\n",
    "    fn=0\n",
    "    h = gt.shape[0]\n",
    "    w = gt.shape[1]\n",
    "    for x, y in np.ndindex((h,w)):\n",
    "        if gt[x,y]!=0:\n",
    "            if pt[x,y]!=0:\n",
    "                tp+=1\n",
    "            else:\n",
    "                fn+=1\n",
    "        else:\n",
    "            if pt[x,y]!=0:\n",
    "                fp+=1\n",
    "            else:\n",
    "                tn+=1 #this part not rly needed tbh\n",
    "    f_dsc= 2*tp/(2*tp+fn+fp)\n",
    "    return f_dsc\n",
    "    print(f_dsc)\n",
    "    \n",
    "f_dice(0)\n",
    "b_dice(0)\n"
   ]
  },
  {
   "cell_type": "code",
   "execution_count": 4,
   "metadata": {},
   "outputs": [
    {
     "data": {
      "text/plain": [
       "0.9827235249209292"
      ]
     },
     "execution_count": 4,
     "metadata": {},
     "output_type": "execute_result"
    }
   ],
   "source": [
    "b_dice(0)"
   ]
  },
  {
   "cell_type": "code",
   "execution_count": 5,
   "metadata": {},
   "outputs": [
    {
     "data": {
      "text/plain": [
       "0.9139577023521386"
      ]
     },
     "execution_count": 5,
     "metadata": {},
     "output_type": "execute_result"
    }
   ],
   "source": [
    "f_dice(0)"
   ]
  },
  {
   "cell_type": "code",
   "execution_count": 11,
   "metadata": {},
   "outputs": [
    {
     "ename": "NameError",
     "evalue": "name 'pic1' is not defined",
     "output_type": "error",
     "traceback": [
      "\u001b[1;31m---------------------------------------------------------------------------\u001b[0m",
      "\u001b[1;31mNameError\u001b[0m                                 Traceback (most recent call last)",
      "\u001b[1;32mc:\\Users\\ievas\\Desktop\\2022-topic-01-team-04\\code\\dice_score.ipynb Cell 2'\u001b[0m in \u001b[0;36m<cell line: 3>\u001b[1;34m()\u001b[0m\n\u001b[0;32m      <a href='vscode-notebook-cell:/c%3A/Users/ievas/Desktop/2022-topic-01-team-04/code/dice_score.ipynb#ch0000003?line=0'>1</a>\u001b[0m \u001b[39m# lists of tresholded pictures and gt pictures!\u001b[39;00m\n\u001b[0;32m      <a href='vscode-notebook-cell:/c%3A/Users/ievas/Desktop/2022-topic-01-team-04/code/dice_score.ipynb#ch0000003?line=1'>2</a>\u001b[0m \u001b[39m# could we automatize this assigning process????\u001b[39;00m\n\u001b[1;32m----> <a href='vscode-notebook-cell:/c%3A/Users/ievas/Desktop/2022-topic-01-team-04/code/dice_score.ipynb#ch0000003?line=2'>3</a>\u001b[0m tresholded \u001b[39m=\u001b[39m [pic1, pic2, pic3, \u001b[39m.\u001b[39m\u001b[39m.\u001b[39m\u001b[39m.\u001b[39m]\n\u001b[0;32m      <a href='vscode-notebook-cell:/c%3A/Users/ievas/Desktop/2022-topic-01-team-04/code/dice_score.ipynb#ch0000003?line=3'>4</a>\u001b[0m ground_truth \u001b[39m=\u001b[39m [pic1, pic2, pic3, \u001b[39m.\u001b[39m\u001b[39m.\u001b[39m\u001b[39m.\u001b[39m]\n",
      "\u001b[1;31mNameError\u001b[0m: name 'pic1' is not defined"
     ]
    }
   ],
   "source": [
    "# lists of tresholded pictures and gt pictures!\n",
    "# could we automatize this assigning process????\n",
    "tresholded = [pic1, pic2, pic3, ...]\n",
    "ground_truth = [pic1, pic2, pic3, ...]"
   ]
  },
  {
   "cell_type": "code",
   "execution_count": 12,
   "metadata": {},
   "outputs": [],
   "source": [
    "def dice(x): #x=picture number, same number for gt and post tresholding image):\n",
    "    gt = ground_truth[x] #somehow define that we are taking gt picture x\n",
    "    pt = tresholded[x] #somehow define that we are taking post tresholding picture x\n",
    "    tp=0\n",
    "    tn=0\n",
    "    fp=0\n",
    "    fn=0\n",
    "    for i in shape(gt): # shape(gt) should be equalt to shape(pt)\n",
    "        if gt[i]==256:\n",
    "            if pt[i]==256:\n",
    "                tp+=1\n",
    "            else:\n",
    "                fn+=1\n",
    "        else:\n",
    "            if pt[i]==256:\n",
    "                fp+=1\n",
    "            else:\n",
    "                tn+=1 #this part not rly needed tbh\n",
    "    dsc= 2*tp/(2*tp+fn+fp)\n",
    "    return dsc\n",
    "\n",
    "\n",
    "\n",
    "    "
   ]
  },
  {
   "cell_type": "code",
   "execution_count": 13,
   "metadata": {},
   "outputs": [],
   "source": [
    "# we can then make it run trough a whole dataset like\n",
    "def dice_avg(y):\n",
    "    sum = 0\n",
    "    for x in range(0,len(tresholded)+1):\n",
    "        dice(x)\n",
    "        sum += dsc\n",
    "    dsc_avg = sum/len(tresholded)\n",
    "    return dsc_avg\n",
    "\n",
    "    \n",
    "    #whatever we want to do, we can store them in a vector and then make a graph or smth to visualize them especially for the report as time goes on, or calculate the average :)"
   ]
  }
 ],
 "metadata": {
  "interpreter": {
   "hash": "21db8ca179e1c46f3f1871b3fc2646379981f9fac7908d31737eb0066b24c468"
  },
  "kernelspec": {
   "display_name": "Python 3.10.4 ('dataanalysis0104_env')",
   "language": "python",
   "name": "python3"
  },
  "language_info": {
   "codemirror_mode": {
    "name": "ipython",
    "version": 3
   },
   "file_extension": ".py",
   "mimetype": "text/x-python",
   "name": "python",
   "nbconvert_exporter": "python",
   "pygments_lexer": "ipython3",
   "version": "3.10.4"
  },
  "orig_nbformat": 4
 },
 "nbformat": 4,
 "nbformat_minor": 2
}
