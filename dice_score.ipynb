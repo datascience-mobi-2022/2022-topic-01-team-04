{
 "cells": [
  {
   "cell_type": "markdown",
   "metadata": {},
   "source": [
    "## Dice Score Coefficient\n",
    "\n",
    "### Algorithms:\n",
    "- algorithm for easy picture plotting (has to be updated to remove white borders if we want to, does not influece the dice coefficient, just for better visualization :))-> cell 3\n",
    "- picture loading -> cell 5\n",
    "- assignment of loaded  pictures to gt and tresholded lists -> cell 6\n",
    "- dice score algorithm, where: f_dice(x) returns and prints the dice score if foreground is taken as positive pixels, b_dice(x) -\"- background as positive pixels, x: index in list -> cell 7\n",
    "\n",
    "### Trial grounds\n",
    "- Picture plotting trial -> cell 4\n",
    "- Dice score trials -> cells 8 & 9\n",
    "\n",
    "### Other cells\n",
    "- cells 10 and up are brainstorming, flawed code, code that is yet to be implemented such as dice score average, for which we need a whole imageJ dataset to try it on"
   ]
  },
  {
   "cell_type": "code",
   "execution_count": 9,
   "metadata": {},
   "outputs": [
    {
     "name": "stdout",
     "output_type": "stream",
     "text": [
      "Using matplotlib backend: QtAgg\n",
      "%pylab is deprecated, use %matplotlib inline and import the required libraries.\n",
      "Populating the interactive namespace from numpy and matplotlib\n"
     ]
    }
   ],
   "source": [
    "%pylab\n",
    "%matplotlib inline\n",
    "import numpy as np\n",
    "import matplotlib.pyplot as plt"
   ]
  },
  {
   "cell_type": "code",
   "execution_count": 7,
   "metadata": {},
   "outputs": [],
   "source": [
    "#Function for optimised images for dice score, removes axis labels, for some reason does not remove the white border :/\n",
    "\n",
    "def better_imshow(x,y): # for x insert the image path, for y the name you want your picture to have\n",
    "    y = plt.imread(x)\n",
    "    plt.imshow(gt1,'gray')\n",
    "    plt.axis('off')\n",
    "    plt.axis('tight')\n",
    "   "
   ]
  },
  {
   "cell_type": "code",
   "execution_count": 8,
   "metadata": {},
   "outputs": [
    {
     "ename": "NameError",
     "evalue": "name 'gt1' is not defined",
     "output_type": "error",
     "traceback": [
      "\u001b[1;31m---------------------------------------------------------------------------\u001b[0m",
      "\u001b[1;31mNameError\u001b[0m                                 Traceback (most recent call last)",
      "\u001b[1;32mc:\\Users\\ievas\\Desktop\\2022-topic-01-team-04\\dice_score.ipynb Cell 4'\u001b[0m in \u001b[0;36m<cell line: 3>\u001b[1;34m()\u001b[0m\n\u001b[0;32m      <a href='vscode-notebook-cell:/c%3A/Users/ievas/Desktop/2022-topic-01-team-04/dice_score.ipynb#ch0000003?line=0'>1</a>\u001b[0m \u001b[39m#BETTER IMSHOW TRIAL\u001b[39;00m\n\u001b[0;32m      <a href='vscode-notebook-cell:/c%3A/Users/ievas/Desktop/2022-topic-01-team-04/dice_score.ipynb#ch0000003?line=1'>2</a>\u001b[0m x \u001b[39m=\u001b[39m \u001b[39mr\u001b[39m\u001b[39m'\u001b[39m\u001b[39mdata\u001b[39m\u001b[39m\\\u001b[39m\u001b[39mOtsu_data\u001b[39m\u001b[39m\\\u001b[39m\u001b[39mNIH3T3\u001b[39m\u001b[39m\\\u001b[39m\u001b[39mgt\u001b[39m\u001b[39m\\\u001b[39m\u001b[39m0.png\u001b[39m\u001b[39m'\u001b[39m\n\u001b[1;32m----> <a href='vscode-notebook-cell:/c%3A/Users/ievas/Desktop/2022-topic-01-team-04/dice_score.ipynb#ch0000003?line=2'>3</a>\u001b[0m y \u001b[39m=\u001b[39m gt1\n\u001b[0;32m      <a href='vscode-notebook-cell:/c%3A/Users/ievas/Desktop/2022-topic-01-team-04/dice_score.ipynb#ch0000003?line=3'>4</a>\u001b[0m better_imshow(x,y)\n",
      "\u001b[1;31mNameError\u001b[0m: name 'gt1' is not defined"
     ]
    }
   ],
   "source": [
    "#BETTER IMSHOW TRIAL\n",
    "x = r'data\\Otsu_data\\NIH3T3\\gt\\0.png'\n",
    "y = gt1\n",
    "better_imshow(x,y)\n",
    "\n",
    "\n"
   ]
  },
  {
   "cell_type": "code",
   "execution_count": 10,
   "metadata": {},
   "outputs": [],
   "source": [
    "#normal picture loading\n",
    "#ground truth images and imageJ segmented images of the NIH3T3 dataset\n",
    "\n",
    "gt1 = plt.imread(r'data\\Otsu_data\\NIH3T3\\gt\\0.png')\n",
    "gt2 = plt.imread(r'data\\Otsu_data\\NIH3T3\\gt\\1.png')\n",
    "gt3 = plt.imread(r'data\\Otsu_data\\NIH3T3\\gt\\26.png')\n",
    "gt4 = plt.imread(r'data\\Otsu_data\\NIH3T3\\gt\\27.png')\n",
    "gt5 = plt.imread(r'data\\Otsu_data\\NIH3T3\\gt\\28.png')\n",
    "gt6 = plt.imread(r'data\\Otsu_data\\NIH3T3\\gt\\29.png')\n",
    "gt7 = plt.imread(r'data\\Otsu_data\\NIH3T3\\gt\\30.png')\n",
    "gt8 = plt.imread(r'data\\Otsu_data\\NIH3T3\\gt\\31.png')\n",
    "gt9 = plt.imread(r'data\\Otsu_data\\NIH3T3\\gt\\32.png')\n",
    "gt10 = plt.imread(r'data\\Otsu_data\\NIH3T3\\gt\\33.png')\n",
    "gt11 = plt.imread(r'data\\Otsu_data\\NIH3T3\\gt\\37.png')\n",
    "gt12 = plt.imread(r'data\\Otsu_data\\NIH3T3\\gt\\40.png')\n",
    "gt13 = plt.imread(r'data\\Otsu_data\\NIH3T3\\gt\\42.png')\n",
    "gt14 = plt.imread(r'data\\Otsu_data\\NIH3T3\\gt\\44.png')\n",
    "gt15 = plt.imread(r'data\\Otsu_data\\NIH3T3\\gt\\45.png')\n",
    "gt16 = plt.imread(r'data\\Otsu_data\\NIH3T3\\gt\\46.png')\n",
    "gt17 = plt.imread(r'data\\Otsu_data\\NIH3T3\\gt\\47.png')\n",
    "gt18 = plt.imread(r'data\\Otsu_data\\NIH3T3\\gt\\49.png')\n",
    "\n",
    "pt1 = plt.imread(r\"data\\Otsu_data\\NIH3T3\\imageJ\\dna-0.png\")\n",
    "pt2 = plt.imread(r\"data\\Otsu_data\\NIH3T3\\imageJ\\dna-1.png\") \n",
    "pt3 = plt.imread(r\"data\\Otsu_data\\NIH3T3\\imageJ\\dna-26.png\")\n",
    "pt4 = plt.imread(r\"data\\Otsu_data\\NIH3T3\\imageJ\\dna-27.png\")\n",
    "pt5 = plt.imread(r\"data\\Otsu_data\\NIH3T3\\imageJ\\dna-28.png\")\n",
    "pt6 = plt.imread(r\"data\\Otsu_data\\NIH3T3\\imageJ\\dna-29.png\")\n",
    "pt7 = plt.imread(r\"data\\Otsu_data\\NIH3T3\\imageJ\\dna-30.png\")\n",
    "pt8 = plt.imread(r\"data\\Otsu_data\\NIH3T3\\imageJ\\dna-31.png\")\n",
    "pt9 = plt.imread(r\"data\\Otsu_data\\NIH3T3\\imageJ\\dna-32.png\")\n",
    "pt10 = plt.imread(r\"data\\Otsu_data\\NIH3T3\\imageJ\\dna-33.png\")\n",
    "pt11 = plt.imread(r\"data\\Otsu_data\\NIH3T3\\imageJ\\dna-37.png\")\n",
    "pt12 = plt.imread(r\"data\\Otsu_data\\NIH3T3\\imageJ\\dna-40.png\")\n",
    "pt13 = plt.imread(r\"data\\Otsu_data\\NIH3T3\\imageJ\\dna-42.png\")\n",
    "pt14 = plt.imread(r\"data\\Otsu_data\\NIH3T3\\imageJ\\dna-44.png\")\n",
    "pt15 = plt.imread(r\"data\\Otsu_data\\NIH3T3\\imageJ\\dna-45.png\")\n",
    "pt16 = plt.imread(r\"data\\Otsu_data\\NIH3T3\\imageJ\\dna-46.png\")\n",
    "pt17 = plt.imread(r\"data\\Otsu_data\\NIH3T3\\imageJ\\dna-47.png\")\n",
    "pt18 = plt.imread(r\"data\\Otsu_data\\NIH3T3\\imageJ\\dna-49.png\")"
   ]
  },
  {
   "cell_type": "code",
   "execution_count": 11,
   "metadata": {},
   "outputs": [],
   "source": [
    "tresholded = [pt1, pt2, pt3, pt4, pt5, pt6, pt7, pt8, pt9, pt10, pt11, pt12, pt13, pt14, pt15, pt16, pt17, pt18]\n",
    "ground_truth = [gt1, gt2, gt3, gt4, gt5, gt6, gt7, gt8, gt9, gt10, gt11, gt12, gt13, gt14, gt15, gt16, gt17 ,gt18]"
   ]
  },
  {
   "cell_type": "code",
   "execution_count": 13,
   "metadata": {},
   "outputs": [],
   "source": [
    "#TRIAL VERSION, BACKGROUND DICE WORKS, FOREGROUND DICE IM NOT 100% SURE (about accuracy, because I used the \"not\" operator)\n",
    "\n",
    "\n",
    "\n",
    "\n",
    "\n",
    "def b_dice(x): # POSITIVE PIXELS = BACKGROUND x=picture number, same number for gt and post tresholding image):\n",
    "    gt = ground_truth[x] #gt picture x\n",
    "    pt = tresholded[x] #post tresholding picture x\n",
    "    tp=0\n",
    "    tn=0\n",
    "    fp=0\n",
    "    fn=0\n",
    "    h = gt.shape[0]\n",
    "    w = gt.shape[1]\n",
    "    for x, y in np.ndindex((h,w)):\n",
    "        if gt[x,y]==0:\n",
    "            if pt[x,y]==0:\n",
    "                tp+=1\n",
    "            else:\n",
    "                fn+=1\n",
    "        else:\n",
    "            if pt[x,y]==0:\n",
    "                fp+=1\n",
    "            else:\n",
    "                tn+=1 #not really needed, but does not influence the runtime\n",
    "    b_dsc= 2*tp/(2*tp+fn+fp)\n",
    "    return b_dsc\n",
    "    print(b_dsc)\n",
    "\n",
    "def f_dice(x): # POSITIVE PIXELS = FOREGROUND\n",
    "    gt = ground_truth[x] \n",
    "    pt = tresholded[x] \n",
    "    tp=0\n",
    "    tn=0\n",
    "    fp=0\n",
    "    fn=0\n",
    "    h = gt.shape[0]\n",
    "    w = gt.shape[1]\n",
    "    for x, y in np.ndindex((h,w)):\n",
    "        if gt[x,y]!=0:\n",
    "            if pt[x,y]!=0:\n",
    "                tp+=1\n",
    "            else:\n",
    "                fn+=1\n",
    "        else:\n",
    "            if pt[x,y]!=0:\n",
    "                fp+=1\n",
    "            else:\n",
    "                tn+=1 \n",
    "    f_dsc= 2*tp/(2*tp+fn+fp)\n",
    "    return f_dsc\n",
    "    print(f_dsc)\n",
    "    \n"
   ]
  },
  {
   "cell_type": "code",
   "execution_count": 14,
   "metadata": {},
   "outputs": [
    {
     "name": "stdout",
     "output_type": "stream",
     "text": [
      "[0.9827235249209292, 0.983320598433564, 0.9442811805412341, 0.9336538230015392, 0.9461313423643385, 0.9405846882248661, 0.8918284415590736, 0.8373874096666941, 0.8619639603091207, 0.9218823984956511, 0.9143248942768537, 0.824746930399835, 0.9233078409908774, 0.8494599091801474, 0.8299601471097043, 0.9115695748577369, 0.929668214478138, 0.9194673696090415]\n",
      "0.9081256804677413\n"
     ]
    }
   ],
   "source": [
    "bice = []\n",
    "for i in range(0,18):\n",
    "    bice.append(b_dice(i))\n",
    "\n",
    "print(bice)\n",
    "print(mean(bice))\n",
    "\n"
   ]
  },
  {
   "cell_type": "code",
   "execution_count": 16,
   "metadata": {},
   "outputs": [
    {
     "name": "stdout",
     "output_type": "stream",
     "text": [
      "[0.9139577023521386, 0.9126401044239686, 0.8225479821936802, 0.758336987687637, 0.7713626482081649, 0.6945362299116257, 0.6814227277548294, 0.68280624572552, 0.042206968158744806, 0.6201720440183929, 0.6454109779570866, 0.5739674767967412, 0.4384363501129289, 0.5963293672023797, 0.5861522205325186, 0.5493184848525119, 0.4674796494790142, 0.7835781306097516]\n",
      "0.6411479054432019\n"
     ]
    }
   ],
   "source": [
    "fice = []\n",
    "for i in range(0,18):\n",
    "    fice.append(f_dice(i))\n",
    "\n",
    "print(fice)\n",
    "print(mean(fice))"
   ]
  },
  {
   "cell_type": "code",
   "execution_count": null,
   "metadata": {},
   "outputs": [
    {
     "ename": "NameError",
     "evalue": "name 'pic1' is not defined",
     "output_type": "error",
     "traceback": [
      "\u001b[1;31m---------------------------------------------------------------------------\u001b[0m",
      "\u001b[1;31mNameError\u001b[0m                                 Traceback (most recent call last)",
      "\u001b[1;32mc:\\Users\\ievas\\Desktop\\2022-topic-01-team-04\\code\\dice_score.ipynb Cell 2'\u001b[0m in \u001b[0;36m<cell line: 3>\u001b[1;34m()\u001b[0m\n\u001b[0;32m      <a href='vscode-notebook-cell:/c%3A/Users/ievas/Desktop/2022-topic-01-team-04/code/dice_score.ipynb#ch0000003?line=0'>1</a>\u001b[0m \u001b[39m# lists of tresholded pictures and gt pictures!\u001b[39;00m\n\u001b[0;32m      <a href='vscode-notebook-cell:/c%3A/Users/ievas/Desktop/2022-topic-01-team-04/code/dice_score.ipynb#ch0000003?line=1'>2</a>\u001b[0m \u001b[39m# could we automatize this assigning process????\u001b[39;00m\n\u001b[1;32m----> <a href='vscode-notebook-cell:/c%3A/Users/ievas/Desktop/2022-topic-01-team-04/code/dice_score.ipynb#ch0000003?line=2'>3</a>\u001b[0m tresholded \u001b[39m=\u001b[39m [pic1, pic2, pic3, \u001b[39m.\u001b[39m\u001b[39m.\u001b[39m\u001b[39m.\u001b[39m]\n\u001b[0;32m      <a href='vscode-notebook-cell:/c%3A/Users/ievas/Desktop/2022-topic-01-team-04/code/dice_score.ipynb#ch0000003?line=3'>4</a>\u001b[0m ground_truth \u001b[39m=\u001b[39m [pic1, pic2, pic3, \u001b[39m.\u001b[39m\u001b[39m.\u001b[39m\u001b[39m.\u001b[39m]\n",
      "\u001b[1;31mNameError\u001b[0m: name 'pic1' is not defined"
     ]
    }
   ],
   "source": [
    "# lists of tresholded pictures and gt pictures!\n",
    "# could we automatize this assigning process????\n",
    "#tresholded = [pic1, pic2, pic3, ...]\n",
    "#ground_truth = [pic1, pic2, pic3, ...]"
   ]
  },
  {
   "cell_type": "code",
   "execution_count": null,
   "metadata": {},
   "outputs": [],
   "source": [
    "def dice(x): #x=picture number, same number for gt and post tresholding image):\n",
    "    gt = ground_truth[x] #somehow define that we are taking gt picture x\n",
    "    pt = tresholded[x] #somehow define that we are taking post tresholding picture x\n",
    "    tp=0\n",
    "    tn=0\n",
    "    fp=0\n",
    "    fn=0\n",
    "    for i in shape(gt): # shape(gt) should be equalt to shape(pt)\n",
    "        if gt[i]==256:\n",
    "            if pt[i]==256:\n",
    "                tp+=1\n",
    "            else:\n",
    "                fn+=1\n",
    "        else:\n",
    "            if pt[i]==256:\n",
    "                fp+=1\n",
    "            else:\n",
    "                tn+=1 #this part not rly needed tbh\n",
    "    dsc= 2*tp/(2*tp+fn+fp)\n",
    "    return dsc\n",
    "\n",
    "\n",
    "\n",
    "    "
   ]
  },
  {
   "cell_type": "code",
   "execution_count": null,
   "metadata": {},
   "outputs": [],
   "source": [
    "# we can then make it run trough a whole dataset like\n",
    "def dice_avg(y):\n",
    "    sum = 0\n",
    "    for x in range(0,len(tresholded)+1):\n",
    "        dice(x)\n",
    "        sum += dsc\n",
    "    dsc_avg = sum/len(tresholded)\n",
    "    return dsc_avg\n",
    "\n",
    "    \n",
    "    #whatever we want to do, we can store them in a vector and then make a graph or smth to visualize them especially for the report as time goes on, or calculate the average :)"
   ]
  }
 ],
 "metadata": {
  "interpreter": {
   "hash": "21db8ca179e1c46f3f1871b3fc2646379981f9fac7908d31737eb0066b24c468"
  },
  "kernelspec": {
   "display_name": "Python 3.10.4 ('dataanalysis0104_env')",
   "language": "python",
   "name": "python3"
  },
  "language_info": {
   "codemirror_mode": {
    "name": "ipython",
    "version": 3
   },
   "file_extension": ".py",
   "mimetype": "text/x-python",
   "name": "python",
   "nbconvert_exporter": "python",
   "pygments_lexer": "ipython3",
   "version": "3.10.4"
  },
  "orig_nbformat": 4
 },
 "nbformat": 4,
 "nbformat_minor": 2
}
