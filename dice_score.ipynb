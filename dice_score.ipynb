{
 "cells": [
  {
   "cell_type": "code",
   "execution_count": null,
   "metadata": {},
   "outputs": [],
   "source": [
    "#this is basically a sketch of the code \n",
    "\n"
   ]
  },
  {
   "cell_type": "code",
   "execution_count": null,
   "metadata": {},
   "outputs": [],
   "source": [
    "def function dice(x) #x=picture number, same number for gt and post tresholding image):\n",
    "    gt = gt.img#somehow define that we are taking gt picture x\n",
    "    pt = pt.img#somehow define that we are taking post tresholding picture x\n",
    "    tp=0\n",
    "    tn=0\n",
    "    fp=0\n",
    "    fn=0\n",
    "    for i in #image shape:\n",
    "        if gt(i)==256:\n",
    "            if pt(i)==256:\n",
    "                tp+=1\n",
    "            else:\n",
    "                fn+=1\n",
    "        else:\n",
    "            if pt(i)=256:\n",
    "                fp+=1\n",
    "            else:\n",
    "                tn+=1 #this part not rly needed tbh\n",
    "    dsc= 2*tp/(2*tp+fn+fp)\n",
    "    print(dsc)\n",
    "\n",
    "    "
   ]
  }
 ],
 "metadata": {
  "language_info": {
   "name": "python"
  },
  "orig_nbformat": 4
 },
 "nbformat": 4,
 "nbformat_minor": 2
}
