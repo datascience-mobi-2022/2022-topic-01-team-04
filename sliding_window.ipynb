{
 "cells": [
  {
   "cell_type": "code",
   "execution_count": null,
   "metadata": {},
   "outputs": [],
   "source": [
    "#Packages\n",
    "%pylab\n",
    "%matplotlib inline\n",
    "import numpy as np\n",
    "import scipy.ndimage\n",
    "import matplotlib.pyplot as plt\n",
    "from images_segmentation import otsu as ot"
   ]
  },
  {
   "cell_type": "code",
   "execution_count": null,
   "metadata": {},
   "outputs": [],
   "source": [
    "# functions that still have to be defined: otsu_t(); otsu_i() and crop(image, first pixel coordinates, last pixel coordinates)"
   ]
  },
  {
   "cell_type": "code",
   "execution_count": null,
   "metadata": {},
   "outputs": [],
   "source": [
    "#sliding window average treshold method\n",
    "def t_sw(image, stepsize, framesize):\n",
    "    img = copy(image)\n",
    "    array = np.empty([img.shape[0],img.shape[1]], dtype = list)\n",
    "    x=0\n",
    "    y=0\n",
    "    while y+framesize<=img.shape[1]:\n",
    "        while x+framesize<=img.shape[0]:\n",
    "            window=crop(img, (x,y), (x+framesize, y+framesize))\n",
    "            otsu_t(window)\n",
    "            for a in window.shape[0]:\n",
    "                for b in window.shape[1]:\n",
    "                    a+=x\n",
    "                    b+=y\n",
    "                    array[a,b].append(treshold)\n",
    "                x+=stepsize\n",
    "            y+=stepsize\n",
    "            for i in img.shape[0]:\n",
    "                for j in img.shape[1]:\n",
    "                    t=sum(array[x,y])/len(array[x,y])\n",
    "                    if img[x,y]<=t:\n",
    "                        img[x,y]=0\n",
    "                    else:\n",
    "                        img[x,y]=255\n",
    "                    return img\n",
    "\n"
   ]
  },
  {
   "cell_type": "code",
   "execution_count": null,
   "metadata": {},
   "outputs": [],
   "source": [
    "#sliding window foreground background assignment\n",
    "def i_sw(image,stepsize,framesize):\n",
    "    img=copy(image)\n",
    "    array=np.empty([img.shape[0],img.shape[1]], dtype=list)\n",
    "    x=0\n",
    "    y=0\n",
    "    while y+framesize<=img.shape[1]:\n",
    "        while x+framesize<=img.shape[0]:\n",
    "            window=crop(img, (x,y), (x+framesize, y+framesize))\n",
    "            otsu_i(window)\n",
    "            for a in window.shape[0]:\n",
    "                for b in window.shape[1]:\n",
    "                    c=a+x\n",
    "                    d=b+y\n",
    "                    array[c,d].append(intensity[a,b])\n",
    "            x+=stepsize\n",
    "        y+=stepsize\n",
    "    for i in img.shape[0]:\n",
    "        for j in img.shape[1]:\n",
    "            a=mode(array[x,y])\n",
    "            if a=='f':\n",
    "                img[x,y]=255\n",
    "            else:\n",
    "                img[x,y]=0\n",
    "    return img\n",
    "                \n"
   ]
  }
 ],
 "metadata": {
  "language_info": {
   "name": "python"
  },
  "orig_nbformat": 4
 },
 "nbformat": 4,
 "nbformat_minor": 2
}
