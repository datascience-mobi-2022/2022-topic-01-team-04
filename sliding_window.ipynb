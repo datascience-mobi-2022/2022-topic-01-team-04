{
 "cells": [
  {
   "cell_type": "code",
   "execution_count": 3,
   "metadata": {},
   "outputs": [
    {
     "name": "stdout",
     "output_type": "stream",
     "text": [
      "Using matplotlib backend: <object object at 0x0000014B9078EC00>\n",
      "%pylab is deprecated, use %matplotlib inline and import the required libraries.\n",
      "Populating the interactive namespace from numpy and matplotlib\n"
     ]
    }
   ],
   "source": [
    "#Packages\n",
    "%pylab\n",
    "%matplotlib inline\n",
    "import numpy as np\n",
    "from scipy import stats\n",
    "import scipy.ndimage\n",
    "import matplotlib.pyplot as plt\n",
    "from images_segmentation import otsu as ot"
   ]
  },
  {
   "cell_type": "code",
   "execution_count": 4,
   "metadata": {},
   "outputs": [],
   "source": [
    "# functions that still have to be defined: otsu_t(); otsu_i() and crop(image, first pixel coordinates, last pixel coordinates)\n",
    "def crop(image,x,y,w,z):\n",
    "    h = w-x\n",
    "    w = z-y\n",
    "    cropped = np.zeros([h,w])\n",
    "    for a in range(x,w):\n",
    "        for b in range(y,z):\n",
    "            cropped[a-x,b-y]=image[a,b]\n",
    "    return cropped\n",
    "\n",
    "def otsu_t(img,x):\n",
    "    import matplotlib.pyplot\n",
    "    import numpy\n",
    "#bins optimieren.... alles zu 0-255 machen\n",
    "\n",
    "\n",
    "   # load histogram, Mathematische werte aus Histogramm rausgreifen\n",
    "    n, bins, patches = matplotlib.pyplot.hist(img.flatten(),log = 'False',bins = x)\n",
    "\n",
    "   # initialize threshold value (T = 0) \n",
    "    thres = 0\n",
    "    copy = img.copy()\n",
    "\n",
    "    # create list to store values of within class variance for each threshold value\n",
    "    bcv = list()\n",
    "    \n",
    "    # set up initial values\n",
    "    for i in range(0,len(n)):\n",
    "        bclv = 0\n",
    "        w0_sum = 0\n",
    "        mean_sum0 = 0\n",
    "        v0_sum = 0\n",
    "        mean_sum1 = 0\n",
    "        v1_sum = 0\n",
    "        w0 = 0\n",
    "        w1 = 0\n",
    "        w1_sum = 0\n",
    "\n",
    "        #sum up the probabilites of each intensity value;  and the mean value (sind noch nicht happy mit der definition :()\n",
    "        for j in range(0,i+1):\n",
    "            w0_sum += n[j]\n",
    "            mean_sum0 += bins[j]*n[j]\n",
    "            \n",
    "        # background class probabilites and class mean levels\n",
    "        w0 = w0_sum / sum(n)  \n",
    "        if(sum(n[0:i+1]) != 0):  \n",
    "             mean_0 = mean_sum0 / sum(n[0:i+1])\n",
    "        else: mean_0 = 0\n",
    "        \n",
    "        # compute background class variance\n",
    "        for m in range(0,i+1):\n",
    "            v0_sum += ((bins[m]-mean_0)** 2) * n[m]\n",
    "        \n",
    "        v0 = v0_sum / sum(n[0:i+1])\n",
    "        \n",
    "        # sum up the probabilites of each intensity value;  and the mean value\n",
    "        for k in range(i+1, len(n)): \n",
    "            w1_sum += n[k]\n",
    "          \n",
    "            mean_sum1 += bins[k]*n[k]\n",
    "\n",
    "        # compute foreground class probabilities and class mean levels    \n",
    "        w1 = w1_sum / sum(n)\n",
    "     \n",
    "        if(sum(n[i+1:len(n)]) != 0):\n",
    "            mean_1 = mean_sum1 / sum(n[i+1:len(n)])\n",
    "        else: mean_1 = 0\n",
    "        # compute foreground class variance \n",
    "        for s in range(i+1,len(n)):\n",
    "            v1_sum += ((bins[s]-mean_1) ** 2) * n[s]\n",
    "        if( sum(n[i+1:len(n)]) != 0):\n",
    "            v1 = v1_sum / sum(n[i+1:len(n)])\n",
    "        else: v1 = 0\n",
    "\n",
    "        # compute within class variance and append to list\n",
    "        bclv = (w0 * v0) + (w1 * v1)\n",
    "        bcv.append(bclv)\n",
    "\n",
    "    # select optimal threshold value, minimum value of within class variance\n",
    "    optimal_thres = min(bcv)\n",
    "    return optimal_thres\n",
    "\n",
    "def otsu_i(image):\n",
    "    img=ot.otsu_thresholding(image, 256)\n",
    "    i = img.shape[0]\n",
    "    j = img.shape[1]\n",
    "    it = np.empty([i,j,1], dtype=str)\n",
    "    for x, y in np.ndindex((i-1,j-1)):\n",
    "            if img[x,y] != 0:\n",
    "                it[x,y,0]='f'\n",
    "            else:\n",
    "                it[x,y,0]='b'\n",
    "    return it\n"
   ]
  },
  {
   "cell_type": "code",
   "execution_count": 5,
   "metadata": {},
   "outputs": [],
   "source": [
    "#sliding window average treshold method\n",
    "#does not work yet\n",
    "def t_sw(image, stepsize, framesize):\n",
    "    img = copy(image)\n",
    "    array = np.zeros([img.shape[0],img.shape[1],2])\n",
    "    x=0\n",
    "    y=0\n",
    "    while y+framesize<=img.shape[1]:\n",
    "        while x+framesize<=img.shape[0]:\n",
    "            window=crop(img,x,y,x+framesize, y+framesize)\n",
    "            otsu_t(window, 256)\n",
    "            for a, b in np.ndindex(window.shape[0], window.shape[1]):\n",
    "                a+=x\n",
    "                b+=y\n",
    "                threshold = otsu_t(window, 256)\n",
    "                array[a,b,0]+=threshold\n",
    "                array[a,b,1]+=1\n",
    "            x+=stepsize\n",
    "        y+=stepsize\n",
    "        for i, j in np.ndindex(img.shape[0], img.shape[1]):\n",
    "            t=array[i,j,0]/array[i,j,1]\n",
    "            if img[i,j]<=t:\n",
    "                img[i,j]=0\n",
    "            else:\n",
    "                img[i,j]=255\n",
    "            return img\n",
    "\n"
   ]
  },
  {
   "cell_type": "code",
   "execution_count": 14,
   "metadata": {},
   "outputs": [],
   "source": [
    "#sliding window foreground background assignment\n",
    "#also does not work yet\n",
    "def i_sw(image,stepsize,framesize):\n",
    "    img=copy(image)\n",
    "    intensity=np.max(img)\n",
    "    array=np.empty([img.shape[0],img.shape[1],1], dtype=str)\n",
    "    x=0\n",
    "    y=0\n",
    "    while y+framesize<=img.shape[1]:\n",
    "        while x+framesize<=img.shape[0]:\n",
    "            window=crop(img,x,y,x+framesize, y+framesize)\n",
    "            it = otsu_i(window)\n",
    "            for a, b in np.ndindex(window.shape[0], window.shape[1]):\n",
    "                c=a+x\n",
    "                d=b+y\n",
    "                array[c,d,0]+=it[a,b,0]\n",
    "            x+=stepsize\n",
    "        y+=stepsize\n",
    "    for i, j in np.ndindex(img.shape[0], img.shape[1]):\n",
    "        a=scipy.stats.mode(array[i,j])\n",
    "        if a=='b':\n",
    "            img[i,j]=0\n",
    "        else:\n",
    "            img[i,j]=intensity\n",
    "    print(img)\n",
    "    figure()\n",
    "    imshow(img,'gray')\n",
    "    return img\n",
    "                \n"
   ]
  },
  {
   "cell_type": "code",
   "execution_count": 11,
   "metadata": {},
   "outputs": [
    {
     "data": {
      "text/plain": [
       "array([[['f'],\n",
       "        ['f'],\n",
       "        ['f'],\n",
       "        ...,\n",
       "        ['b'],\n",
       "        ['b'],\n",
       "        ['']],\n",
       "\n",
       "       [['f'],\n",
       "        ['f'],\n",
       "        ['f'],\n",
       "        ...,\n",
       "        ['b'],\n",
       "        ['b'],\n",
       "        ['']],\n",
       "\n",
       "       [['f'],\n",
       "        ['f'],\n",
       "        ['f'],\n",
       "        ...,\n",
       "        ['b'],\n",
       "        ['b'],\n",
       "        ['']],\n",
       "\n",
       "       ...,\n",
       "\n",
       "       [['b'],\n",
       "        ['b'],\n",
       "        ['b'],\n",
       "        ...,\n",
       "        ['b'],\n",
       "        ['b'],\n",
       "        ['']],\n",
       "\n",
       "       [['b'],\n",
       "        ['b'],\n",
       "        ['b'],\n",
       "        ...,\n",
       "        ['b'],\n",
       "        ['b'],\n",
       "        ['']],\n",
       "\n",
       "       [[''],\n",
       "        [''],\n",
       "        [''],\n",
       "        ...,\n",
       "        [''],\n",
       "        [''],\n",
       "        ['']]], dtype='<U1')"
      ]
     },
     "execution_count": 11,
     "metadata": {},
     "output_type": "execute_result"
    },
    {
     "data": {
      "image/png": "[encoded data removed]",
      "text/plain": [
       "<Figure size 432x288 with 1 Axes>"
      ]
     },
     "metadata": {
      "needs_background": "light"
     },
     "output_type": "display_data"
    }
   ],
   "source": [
    "imgdna44 = imread (r\"data\\Otsu_data\\NIH3T3\\img\\dna-44.png\")\n",
    "otsu_i(imgdna44)"
   ]
  },
  {
   "cell_type": "code",
   "execution_count": 15,
   "metadata": {},
   "outputs": [
    {
     "name": "stderr",
     "output_type": "stream",
     "text": [
      "c:\\Users\\ievas\\Desktop\\2022-topic-01-team-04\\images_segmentation\\otsu.py:61: RuntimeWarning: invalid value encountered in double_scalars\n",
      "  v0 = v0_sum / sum(n[0:i+1])\n"
     ]
    },
    {
     "name": "stdout",
     "output_type": "stream",
     "text": [
      "[[1. 1. 1. ... 1. 1. 1.]\n",
      " [1. 1. 1. ... 1. 1. 1.]\n",
      " [1. 1. 1. ... 1. 1. 1.]\n",
      " ...\n",
      " [1. 1. 1. ... 1. 1. 1.]\n",
      " [1. 1. 1. ... 1. 1. 1.]\n",
      " [1. 1. 1. ... 1. 1. 1.]]\n"
     ]
    },
    {
     "data": {
      "text/plain": [
       "<matplotlib.image.AxesImage at 0x14b96bef010>"
      ]
     },
     "execution_count": 15,
     "metadata": {},
     "output_type": "execute_result"
    },
    {
     "data": {
      "image/png": "[encoded data removed]",
      "text/plain": [
       "<Figure size 432x288 with 1 Axes>"
      ]
     },
     "metadata": {
      "needs_background": "light"
     },
     "output_type": "display_data"
    },
    {
     "data": {
      "image/png": "[encoded data removed]",
      "text/plain": [
       "<Figure size 432x288 with 1 Axes>"
      ]
     },
     "metadata": {
      "needs_background": "light"
     },
     "output_type": "display_data"
    },
    {
     "data": {
      "image/png": "[encoded data removed]",
      "text/plain": [
       "<Figure size 432x288 with 1 Axes>"
      ]
     },
     "metadata": {
      "needs_background": "light"
     },
     "output_type": "display_data"
    }
   ],
   "source": [
    "img_3 = imread(r\"data\\Otsu_data\\N2DL-HeLa\\img\\t13.tif\")\n",
    "newimg44 = i_sw(imgdna44, 50, 100)\n",
    "figure()\n",
    "imshow(newimg44,'gray')"
   ]
  }
 ],
 "metadata": {
  "interpreter": {
   "hash": "21db8ca179e1c46f3f1871b3fc2646379981f9fac7908d31737eb0066b24c468"
  },
  "kernelspec": {
   "display_name": "Python 3.10.4 ('dataanalysis0104_env')",
   "language": "python",
   "name": "python3"
  },
  "language_info": {
   "codemirror_mode": {
    "name": "ipython",
    "version": 3
   },
   "file_extension": ".py",
   "mimetype": "text/x-python",
   "name": "python",
   "nbconvert_exporter": "python",
   "pygments_lexer": "ipython3",
   "version": "3.10.4"
  },
  "orig_nbformat": 4
 },
 "nbformat": 4,
 "nbformat_minor": 2
}
