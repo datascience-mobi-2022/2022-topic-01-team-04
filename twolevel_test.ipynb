{
 "cells": [
  {
   "cell_type": "code",
   "execution_count": 4,
   "metadata": {},
   "outputs": [
    {
     "name": "stdout",
     "output_type": "stream",
     "text": [
      "Using matplotlib backend: QtAgg\n",
      "%pylab is deprecated, use %matplotlib inline and import the required libraries.\n",
      "Populating the interactive namespace from numpy and matplotlib\n"
     ]
    },
    {
     "name": "stderr",
     "output_type": "stream",
     "text": [
      "d:\\Anaconda\\envs\\dataanalysis0104_env\\lib\\site-packages\\IPython\\core\\magics\\pylab.py:162: UserWarning: pylab import has clobbered these variables: ['f']\n",
      "`%matplotlib` prevents importing * from pylab and numpy\n",
      "  warn(\"pylab import has clobbered these variables: %s\"  % clobbered +\n"
     ]
    }
   ],
   "source": [
    "#Packages\n",
    "%pylab\n",
    "%matplotlib inline\n",
    "import numpy as np\n",
    "import scipy.ndimage\n",
    "import matplotlib.pyplot as plt\n",
    "from images_segmentation import two_level_otsu as tlot\n",
    "from images_segmentation import dicescore as dsc\n",
    "import os\n"
   ]
  },
  {
   "cell_type": "code",
   "execution_count": 3,
   "metadata": {},
   "outputs": [],
   "source": [
    "from PIL import Image\n",
    "import os, os.path\n",
    "\n",
    "imgs = []\n",
    "path = r\"data\\Otsu_data\\NIH3T3\\img\"\n",
    "for f in os.listdir(path):\n",
    "    imgs.append(imread(os.path.join(path,f)))\n",
    "\n",
    "imgs_gt = []\n",
    "path = r\"data\\Otsu_data\\NIH3T3\\gt\"\n",
    "for f in os.listdir(path):\n",
    "    imgs_gt.append(imread(os.path.join(path,f)))\n",
    "\n",
    "imgs_1 = []\n",
    "path = r\"data\\Otsu_data\\N2DH-GOWT1\\img\"\n",
    "for f in os.listdir(path):\n",
    "    imgs_1.append(imread(os.path.join(path,f)))\n",
    "\n",
    "imgs_gt_1 = []\n",
    "path = r\"data\\Otsu_data\\N2DH-GOWT1\\gt\"\n",
    "for f in os.listdir(path):\n",
    "    imgs_gt_1.append(imread(os.path.join(path,f)))\n",
    "\n",
    "imgs_2 = []\n",
    "path = r\"data\\Otsu_data\\N2DL-HeLa\\img\"\n",
    "for f in os.listdir(path):\n",
    "    imgs_2.append(imread(os.path.join(path,f)))\n",
    "\n",
    "imgs_gt_2 = []\n",
    "path = r\"data\\Otsu_data\\N2DL-HeLa\\gt\"\n",
    "for f in os.listdir(path):\n",
    "    imgs_gt_2.append(imread(os.path.join(path,f)))\n"
   ]
  },
  {
   "cell_type": "code",
   "execution_count": 5,
   "metadata": {},
   "outputs": [],
   "source": [
    "\n",
    "tlot_within_otsu_3 = []\n",
    "for i in range(0,len(imgs_2)):\n",
    "    tlot_within_otsu_3.append(tlot.two_level_otsu_thresholding_within(imgs_2[i],256)) \n"
   ]
  },
  {
   "cell_type": "code",
   "execution_count": 6,
   "metadata": {},
   "outputs": [],
   "source": [
    "tlot_between_otsu_3 = []\n",
    "for i in range(0,len(imgs_2)):\n",
    "    tlot_between_otsu_3.append(tlot.two_level_otsu_thresholding(imgs_2[i],256)) \n"
   ]
  },
  {
   "cell_type": "code",
   "execution_count": 7,
   "metadata": {},
   "outputs": [],
   "source": [
    "tlot_within_otsu_3_clip = []\n",
    "for i in range(0,len(imgs_2)):\n",
    "    tlot_within_otsu_3_clip.append(tlot.two_level_otsu_thresholding_clip_within(imgs_2[i],256)) \n"
   ]
  },
  {
   "cell_type": "code",
   "execution_count": 8,
   "metadata": {},
   "outputs": [],
   "source": [
    "tlot_between_otsu_3_clip = []\n",
    "for i in range(0,len(imgs_2)):\n",
    "    tlot_between_otsu_3_clip.append(tlot.two_level_otsu_thresholding_clip(imgs_2[i],256)) \n"
   ]
  },
  {
   "cell_type": "code",
   "execution_count": 9,
   "metadata": {},
   "outputs": [],
   "source": [
    "def binarize(x):\n",
    "    img = x.copy()\n",
    "\n",
    "    for o in np.ndindex(img.shape):\n",
    "        if img[o] > 0: \n",
    "           img[o] = 1\n",
    "        else:\n",
    "            img[o] = 0\n",
    "    \n",
    "    return img"
   ]
  },
  {
   "cell_type": "code",
   "execution_count": 10,
   "metadata": {},
   "outputs": [],
   "source": [
    "gt = []\n",
    "for i in range(0, len(imgs_gt_2)):\n",
    "    gt.append(binarize(imgs_gt_2[i]))"
   ]
  },
  {
   "cell_type": "code",
   "execution_count": 12,
   "metadata": {},
   "outputs": [
    {
     "name": "stdout",
     "output_type": "stream",
     "text": [
      "[0.7526071842410197, 0.8466689021817907, 0.855040499229567, 0.8471211954730249]\n"
     ]
    }
   ],
   "source": [
    "\n",
    "dice_within = []\n",
    "for j in range(0,len(tlot_within_otsu_3)):\n",
    "        dice_within.append(dsc.dice(tlot_within_otsu_3[j],gt[j]))\n",
    "print(dice_within)\n"
   ]
  },
  {
   "cell_type": "code",
   "execution_count": 13,
   "metadata": {},
   "outputs": [
    {
     "name": "stdout",
     "output_type": "stream",
     "text": [
      "[0.6386585007570793, 0.7194137074805332, 0.7514776092343023, 0.7549080037757311]\n"
     ]
    }
   ],
   "source": [
    "dice_within_clip = []\n",
    "for j in range(0,len(tlot_within_otsu_3_clip)):\n",
    "        dice_within_clip.append(dsc.dice(tlot_within_otsu_3_clip[j],gt[j]))\n",
    "print(dice_within_clip)"
   ]
  },
  {
   "cell_type": "code",
   "execution_count": 14,
   "metadata": {},
   "outputs": [
    {
     "name": "stdout",
     "output_type": "stream",
     "text": [
      "[0.002485389937529388, 3.9439952672056795e-05, 0.003357117191109286, 0.004734426688954172]\n"
     ]
    }
   ],
   "source": [
    "dice_between = []\n",
    "for j in range(0,len(tlot_between_otsu_3)):\n",
    "        dice_between.append(dsc.dice(tlot_between_otsu_3[j],gt[j]))\n",
    "print(dice_between)"
   ]
  },
  {
   "cell_type": "code",
   "execution_count": 15,
   "metadata": {},
   "outputs": [
    {
     "name": "stdout",
     "output_type": "stream",
     "text": [
      "[0.0, 0.0, 0.0, 0.0]\n"
     ]
    }
   ],
   "source": [
    "dice_between_clip = []\n",
    "for j in range(0,len(tlot_between_otsu_3_clip)):\n",
    "        dice_between_clip.append(dsc.dice(tlot_between_otsu_3_clip[j],gt[j]))\n",
    "print(dice_between_clip)"
   ]
  }
 ],
 "metadata": {
  "kernelspec": {
   "display_name": "Python 3.9.12 ('dataanalysis0104_env')",
   "language": "python",
   "name": "python3"
  },
  "language_info": {
   "codemirror_mode": {
    "name": "ipython",
    "version": 3
   },
   "file_extension": ".py",
   "mimetype": "text/x-python",
   "name": "python",
   "nbconvert_exporter": "python",
   "pygments_lexer": "ipython3",
   "version": "3.9.12"
  },
  "orig_nbformat": 4,
  "vscode": {
   "interpreter": {
    "hash": "73a5aaef6c11b1ea6e162ad69f2e79f73d9b6fd099813d04ec92d64c4323e461"
   }
  }
 },
 "nbformat": 4,
 "nbformat_minor": 2
}
