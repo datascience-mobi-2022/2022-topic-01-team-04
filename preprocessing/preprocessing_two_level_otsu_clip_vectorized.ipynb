{
 "cells": [
  {
   "cell_type": "code",
   "execution_count": 14,
   "metadata": {},
   "outputs": [
    {
     "name": "stdout",
     "output_type": "stream",
     "text": [
      "Using matplotlib backend: MacOSX\n",
      "%pylab is deprecated, use %matplotlib inline and import the required libraries.\n",
      "Populating the interactive namespace from numpy and matplotlib\n"
     ]
    }
   ],
   "source": [
    "%pylab\n",
    "%matplotlib inline\n",
    "import matplotlib.pyplot as plt\n",
    "import numpy as np\n",
    "import scipy.ndimage\n",
    "import pandas as pd\n",
    "import seaborn as sns\n",
    "path =  (os.path.abspath(os.path.join(r'.', os.pardir)))\n",
    "import sys\n",
    "sys.path.append(path)\n",
    "from nuclei_segmentation import two_level_otsu as tlot\n",
    "from nuclei_segmentation import dicescore as dsc\n",
    "from nuclei_segmentation import preprocessing as pp"
   ]
  },
  {
   "cell_type": "code",
   "execution_count": 15,
   "metadata": {},
   "outputs": [],
   "source": [
    "def stretch(x):\n",
    "    intensities = []\n",
    "   \n",
    "    img = x.copy()\n",
    "    lower_quantile, upper_quantile = np.percentile(x, (2,  98))\n",
    "\n",
    "    img[img < lower_quantile] = lower_quantile\n",
    "    img[img > upper_quantile] = upper_quantile\n",
    "    \n",
    "    for i in np.ndindex(img.shape):\n",
    "        intensities.append(img[i])\n",
    "   \n",
    "    img_max = max(intensities)\n",
    "    img_min = min(intensities)\n",
    "    img_stretch = (img-img_min)*(256 / (img_max-img_min))\n",
    "    return img_stretch"
   ]
  },
  {
   "cell_type": "code",
   "execution_count": 16,
   "metadata": {},
   "outputs": [],
   "source": [
    "# Load raw images of NIH3T3-dataset\n",
    "\n",
    "img_NIH3T3_1 = imread(os.path.join(os.path.abspath(os.path.join(r'.', os.pardir)), r\"data/Otsu_data/NIH3T3/img/dna-0.png\"))\n",
    "img_NIH3T3_2 = imread(os.path.join(os.path.abspath(os.path.join(r'.', os.pardir)), r\"data/Otsu_data/NIH3T3/img/dna-1.png\"))\n",
    "img_NIH3T3_3 = imread(os.path.join(os.path.abspath(os.path.join(r'.', os.pardir)), r\"data/Otsu_data/NIH3T3/img/dna-26.png\"))\n",
    "img_NIH3T3_4 = imread(os.path.join(os.path.abspath(os.path.join(r'.', os.pardir)), r\"data/Otsu_data/NIH3T3/img/dna-27.png\"))\n",
    "img_NIH3T3_5 = imread(os.path.join(os.path.abspath(os.path.join(r'.', os.pardir)), r\"data/Otsu_data/NIH3T3/img/dna-28.png\"))\n",
    "img_NIH3T3_6 = imread(os.path.join(os.path.abspath(os.path.join(r'.', os.pardir)), r\"data/Otsu_data/NIH3T3/img/dna-29.png\"))\n",
    "img_NIH3T3_7 = imread(os.path.join(os.path.abspath(os.path.join(r'.', os.pardir)), r\"data/Otsu_data/NIH3T3/img/dna-30.png\"))\n",
    "img_NIH3T3_8 = imread(os.path.join(os.path.abspath(os.path.join(r'.', os.pardir)), r\"data/Otsu_data/NIH3T3/img/dna-31.png\"))\n",
    "img_NIH3T3_9 = imread(os.path.join(os.path.abspath(os.path.join(r'.', os.pardir)), r\"data/Otsu_data/NIH3T3/img/dna-32.png\"))\n",
    "img_NIH3T3_10 = imread(os.path.join(os.path.abspath(os.path.join(r'.', os.pardir)), r\"data/Otsu_data/NIH3T3/img/dna-33.png\"))\n",
    "img_NIH3T3_11 = imread(os.path.join(os.path.abspath(os.path.join(r'.', os.pardir)), r\"data/Otsu_data/NIH3T3/img/dna-37.png\"))\n",
    "img_NIH3T3_12 = imread(os.path.join(os.path.abspath(os.path.join(r'.', os.pardir)), r\"data/Otsu_data/NIH3T3/img/dna-40.png\"))\n",
    "img_NIH3T3_13 = imread(os.path.join(os.path.abspath(os.path.join(r'.', os.pardir)), r\"data/Otsu_data/NIH3T3/img/dna-42.png\"))\n",
    "img_NIH3T3_14 = imread(os.path.join(os.path.abspath(os.path.join(r'.', os.pardir)), r\"data/Otsu_data/NIH3T3/img/dna-44.png\"))\n",
    "img_NIH3T3_15 = imread(os.path.join(os.path.abspath(os.path.join(r'.', os.pardir)), r\"data/Otsu_data/NIH3T3/img/dna-45.png\"))\n",
    "img_NIH3T3_16 = imread(os.path.join(os.path.abspath(os.path.join(r'.', os.pardir)), r\"data/Otsu_data/NIH3T3/img/dna-46.png\"))\n",
    "img_NIH3T3_17 = imread(os.path.join(os.path.abspath(os.path.join(r'.', os.pardir)), r\"data/Otsu_data/NIH3T3/img/dna-47.png\"))\n",
    "img_NIH3T3_18 = imread(os.path.join(os.path.abspath(os.path.join(r'.', os.pardir)), r\"data/Otsu_data/NIH3T3/img/dna-49.png\"))\n",
    "\n",
    "# Load ground truth images of NIH3T3-dataset\n",
    " \n",
    "gt_NIH3T3_1 = imread(os.path.join(os.path.abspath(os.path.join(r'.', os.pardir)), r\"data/Otsu_data/NIH3T3/gt/0.png\"))\n",
    "gt_NIH3T3_2 = imread(os.path.join(os.path.abspath(os.path.join(r'.', os.pardir)), r\"data/Otsu_data/NIH3T3/gt/1.png\"))\n",
    "gt_NIH3T3_3 = imread(os.path.join(os.path.abspath(os.path.join(r'.', os.pardir)), r\"data/Otsu_data/NIH3T3/gt/26.png\"))\n",
    "gt_NIH3T3_4 = imread(os.path.join(os.path.abspath(os.path.join(r'.', os.pardir)), r\"data/Otsu_data/NIH3T3/gt/27.png\"))\n",
    "gt_NIH3T3_5 = imread(os.path.join(os.path.abspath(os.path.join(r'.', os.pardir)), r\"data/Otsu_data/NIH3T3/gt/28.png\"))\n",
    "gt_NIH3T3_6 = imread(os.path.join(os.path.abspath(os.path.join(r'.', os.pardir)), r\"data/Otsu_data/NIH3T3/gt/29.png\"))\n",
    "gt_NIH3T3_7 = imread(os.path.join(os.path.abspath(os.path.join(r'.', os.pardir)), r\"data/Otsu_data/NIH3T3/gt/30.png\"))\n",
    "gt_NIH3T3_8 = imread(os.path.join(os.path.abspath(os.path.join(r'.', os.pardir)), r\"data/Otsu_data/NIH3T3/gt/31.png\"))\n",
    "gt_NIH3T3_9 = imread(os.path.join(os.path.abspath(os.path.join(r'.', os.pardir)), r\"data/Otsu_data/NIH3T3/gt/32.png\"))\n",
    "gt_NIH3T3_10 = imread(os.path.join(os.path.abspath(os.path.join(r'.', os.pardir)), r\"data/Otsu_data/NIH3T3/gt/33.png\"))\n",
    "gt_NIH3T3_11 = imread(os.path.join(os.path.abspath(os.path.join(r'.', os.pardir)), r\"data/Otsu_data/NIH3T3/gt/37.png\"))\n",
    "gt_NIH3T3_12 = imread(os.path.join(os.path.abspath(os.path.join(r'.', os.pardir)), r\"data/Otsu_data/NIH3T3/gt/40.png\"))\n",
    "gt_NIH3T3_13 = imread(os.path.join(os.path.abspath(os.path.join(r'.', os.pardir)), r\"data/Otsu_data/NIH3T3/gt/42.png\"))\n",
    "gt_NIH3T3_14 = imread(os.path.join(os.path.abspath(os.path.join(r'.', os.pardir)), r\"data/Otsu_data/NIH3T3/gt/44.png\"))\n",
    "gt_NIH3T3_15 = imread(os.path.join(os.path.abspath(os.path.join(r'.', os.pardir)), r\"data/Otsu_data/NIH3T3/gt/45.png\"))\n",
    "gt_NIH3T3_16 = imread(os.path.join(os.path.abspath(os.path.join(r'.', os.pardir)), r\"data/Otsu_data/NIH3T3/gt/46.png\"))\n",
    "gt_NIH3T3_17 = imread(os.path.join(os.path.abspath(os.path.join(r'.', os.pardir)), r\"data/Otsu_data/NIH3T3/gt/47.png\"))\n",
    "gt_NIH3T3_18 = imread(os.path.join(os.path.abspath(os.path.join(r'.', os.pardir)), r\"data/Otsu_data/NIH3T3/gt/49.png\"))"
   ]
  },
  {
   "cell_type": "code",
   "execution_count": 17,
   "metadata": {},
   "outputs": [],
   "source": [
    "copy_img_NIH3T3_1 = img_NIH3T3_1.copy()\n",
    "copy_img_NIH3T3_2 = img_NIH3T3_2.copy()\n",
    "copy_img_NIH3T3_3 = img_NIH3T3_3.copy()\n",
    "copy_img_NIH3T3_4 = img_NIH3T3_4.copy()\n",
    "copy_img_NIH3T3_5 = img_NIH3T3_5.copy()\n",
    "copy_img_NIH3T3_6 = img_NIH3T3_6.copy()\n",
    "copy_img_NIH3T3_7 = img_NIH3T3_7.copy()\n",
    "copy_img_NIH3T3_8 = img_NIH3T3_8.copy()\n",
    "copy_img_NIH3T3_9 = img_NIH3T3_9.copy()\n",
    "copy_img_NIH3T3_10 = img_NIH3T3_10.copy()\n",
    "copy_img_NIH3T3_11 = img_NIH3T3_11.copy()\n",
    "copy_img_NIH3T3_12 = img_NIH3T3_12.copy()\n",
    "copy_img_NIH3T3_13 = img_NIH3T3_13.copy()\n",
    "copy_img_NIH3T3_14 = img_NIH3T3_14.copy()\n",
    "copy_img_NIH3T3_15 = img_NIH3T3_15.copy()\n",
    "copy_img_NIH3T3_16 = img_NIH3T3_16.copy()\n",
    "copy_img_NIH3T3_17 = img_NIH3T3_17.copy()\n",
    "copy_img_NIH3T3_18 = img_NIH3T3_18.copy()"
   ]
  },
  {
   "cell_type": "code",
   "execution_count": 18,
   "metadata": {},
   "outputs": [],
   "source": [
    "median_img_NIH3T3_1 = scipy.ndimage.median_filter(copy_img_NIH3T3_1, 5)\n",
    "median_img_NIH3T3_2 = scipy.ndimage.median_filter(copy_img_NIH3T3_2, 5)\n",
    "median_img_NIH3T3_3 = scipy.ndimage.median_filter(copy_img_NIH3T3_3, 5)\n",
    "median_img_NIH3T3_4 = scipy.ndimage.median_filter(copy_img_NIH3T3_4, 5)\n",
    "median_img_NIH3T3_5 = scipy.ndimage.median_filter(copy_img_NIH3T3_5, 5)\n",
    "median_img_NIH3T3_6 = scipy.ndimage.median_filter(copy_img_NIH3T3_6, 5)\n",
    "median_img_NIH3T3_7 = scipy.ndimage.median_filter(copy_img_NIH3T3_7, 5)\n",
    "median_img_NIH3T3_8 = scipy.ndimage.median_filter(copy_img_NIH3T3_8, 5)\n",
    "median_img_NIH3T3_9 = scipy.ndimage.median_filter(copy_img_NIH3T3_9, 5)\n",
    "median_img_NIH3T3_10 = scipy.ndimage.median_filter(copy_img_NIH3T3_10, 5)\n",
    "median_img_NIH3T3_11 = scipy.ndimage.median_filter(copy_img_NIH3T3_11, 5)\n",
    "median_img_NIH3T3_12 = scipy.ndimage.median_filter(copy_img_NIH3T3_12, 5)\n",
    "median_img_NIH3T3_13 = scipy.ndimage.median_filter(copy_img_NIH3T3_13, 5)\n",
    "median_img_NIH3T3_14 = scipy.ndimage.median_filter(copy_img_NIH3T3_14, 5)\n",
    "median_img_NIH3T3_15 = scipy.ndimage.median_filter(copy_img_NIH3T3_15, 5)\n",
    "median_img_NIH3T3_16 = scipy.ndimage.median_filter(copy_img_NIH3T3_16, 5)\n",
    "median_img_NIH3T3_17 = scipy.ndimage.median_filter(copy_img_NIH3T3_17, 5)\n",
    "median_img_NIH3T3_18 = scipy.ndimage.median_filter(copy_img_NIH3T3_18, 5)"
   ]
  },
  {
   "cell_type": "code",
   "execution_count": 19,
   "metadata": {},
   "outputs": [],
   "source": [
    "gauss_img_NIH3T3_1 = scipy.ndimage.gaussian_filter(copy_img_NIH3T3_1, 5)\n",
    "gauss_img_NIH3T3_2 = scipy.ndimage.gaussian_filter(copy_img_NIH3T3_2, 5)\n",
    "gauss_img_NIH3T3_3 = scipy.ndimage.gaussian_filter(copy_img_NIH3T3_3, 5)\n",
    "gauss_img_NIH3T3_4 = scipy.ndimage.gaussian_filter(copy_img_NIH3T3_4, 5)\n",
    "gauss_img_NIH3T3_5 = scipy.ndimage.gaussian_filter(copy_img_NIH3T3_5, 5)\n",
    "gauss_img_NIH3T3_6 = scipy.ndimage.gaussian_filter(copy_img_NIH3T3_6, 5)\n",
    "gauss_img_NIH3T3_7 = scipy.ndimage.gaussian_filter(copy_img_NIH3T3_7, 5)\n",
    "gauss_img_NIH3T3_8 = scipy.ndimage.gaussian_filter(copy_img_NIH3T3_8, 5)\n",
    "gauss_img_NIH3T3_9 = scipy.ndimage.gaussian_filter(copy_img_NIH3T3_9, 5)\n",
    "gauss_img_NIH3T3_10 = scipy.ndimage.gaussian_filter(copy_img_NIH3T3_10, 5)\n",
    "gauss_img_NIH3T3_11 = scipy.ndimage.gaussian_filter(copy_img_NIH3T3_11, 5)\n",
    "gauss_img_NIH3T3_12 = scipy.ndimage.gaussian_filter(copy_img_NIH3T3_12, 5)\n",
    "gauss_img_NIH3T3_13 = scipy.ndimage.gaussian_filter(copy_img_NIH3T3_13, 5)\n",
    "gauss_img_NIH3T3_14 = scipy.ndimage.gaussian_filter(copy_img_NIH3T3_14, 5)\n",
    "gauss_img_NIH3T3_15 = scipy.ndimage.gaussian_filter(copy_img_NIH3T3_15, 5)\n",
    "gauss_img_NIH3T3_16 = scipy.ndimage.gaussian_filter(copy_img_NIH3T3_16, 5)\n",
    "gauss_img_NIH3T3_17 = scipy.ndimage.gaussian_filter(copy_img_NIH3T3_17, 5)\n",
    "gauss_img_NIH3T3_18 = scipy.ndimage.gaussian_filter(copy_img_NIH3T3_18, 5)"
   ]
  },
  {
   "cell_type": "code",
   "execution_count": 20,
   "metadata": {},
   "outputs": [],
   "source": [
    "stretch_img_NIH3T3_1 = stretch(copy_img_NIH3T3_1)\n",
    "stretch_img_NIH3T3_2 = stretch(copy_img_NIH3T3_2)\n",
    "stretch_img_NIH3T3_3 = stretch(copy_img_NIH3T3_3)\n",
    "stretch_img_NIH3T3_4 = stretch(copy_img_NIH3T3_4)\n",
    "stretch_img_NIH3T3_5 = stretch(copy_img_NIH3T3_5)\n",
    "stretch_img_NIH3T3_6 = stretch(copy_img_NIH3T3_6)\n",
    "stretch_img_NIH3T3_7 = stretch(copy_img_NIH3T3_7)\n",
    "stretch_img_NIH3T3_8 = stretch(copy_img_NIH3T3_8)\n",
    "stretch_img_NIH3T3_9 = stretch(copy_img_NIH3T3_9)\n",
    "stretch_img_NIH3T3_10 = stretch(copy_img_NIH3T3_10)\n",
    "stretch_img_NIH3T3_11 = stretch(copy_img_NIH3T3_11)\n",
    "stretch_img_NIH3T3_12 = stretch(copy_img_NIH3T3_12)\n",
    "stretch_img_NIH3T3_13 = stretch(copy_img_NIH3T3_13)\n",
    "stretch_img_NIH3T3_14 = stretch(copy_img_NIH3T3_14)\n",
    "stretch_img_NIH3T3_15 = stretch(copy_img_NIH3T3_15)\n",
    "stretch_img_NIH3T3_16 = stretch(copy_img_NIH3T3_16)\n",
    "stretch_img_NIH3T3_17 = stretch(copy_img_NIH3T3_17)\n",
    "stretch_img_NIH3T3_18 = stretch(copy_img_NIH3T3_18)"
   ]
  },
  {
   "cell_type": "code",
   "execution_count": 21,
   "metadata": {},
   "outputs": [],
   "source": [
    "median_stretch_img_NIH3T3_1 = stretch(median_img_NIH3T3_1)\n",
    "median_stretch_img_NIH3T3_2 = stretch(median_img_NIH3T3_2)\n",
    "median_stretch_img_NIH3T3_3 = stretch(median_img_NIH3T3_3)\n",
    "median_stretch_img_NIH3T3_4 = stretch(median_img_NIH3T3_4)\n",
    "median_stretch_img_NIH3T3_5 = stretch(median_img_NIH3T3_5)\n",
    "median_stretch_img_NIH3T3_6 = stretch(median_img_NIH3T3_6)\n",
    "median_stretch_img_NIH3T3_7 = stretch(median_img_NIH3T3_7)\n",
    "median_stretch_img_NIH3T3_8 = stretch(median_img_NIH3T3_8)\n",
    "median_stretch_img_NIH3T3_9 = stretch(median_img_NIH3T3_9)\n",
    "median_stretch_img_NIH3T3_10 = stretch(median_img_NIH3T3_10)\n",
    "median_stretch_img_NIH3T3_11 = stretch(median_img_NIH3T3_11)\n",
    "median_stretch_img_NIH3T3_12 = stretch(median_img_NIH3T3_12)\n",
    "median_stretch_img_NIH3T3_13 = stretch(median_img_NIH3T3_13)\n",
    "median_stretch_img_NIH3T3_14 = stretch(median_img_NIH3T3_14)\n",
    "median_stretch_img_NIH3T3_15 = stretch(median_img_NIH3T3_15)\n",
    "median_stretch_img_NIH3T3_16 = stretch(median_img_NIH3T3_16)\n",
    "median_stretch_img_NIH3T3_17 = stretch(median_img_NIH3T3_17)\n",
    "median_stretch_img_NIH3T3_18 = stretch(median_img_NIH3T3_18)"
   ]
  },
  {
   "cell_type": "code",
   "execution_count": 22,
   "metadata": {},
   "outputs": [],
   "source": [
    "stretch_median_img_NIH3T3_1 = scipy.ndimage.median_filter(stretch_img_NIH3T3_1, 5)\n",
    "stretch_median_img_NIH3T3_2 = scipy.ndimage.median_filter(stretch_img_NIH3T3_2, 5)\n",
    "stretch_median_img_NIH3T3_3 = scipy.ndimage.median_filter(stretch_img_NIH3T3_3, 5)\n",
    "stretch_median_img_NIH3T3_4 = scipy.ndimage.median_filter(stretch_img_NIH3T3_4, 5)\n",
    "stretch_median_img_NIH3T3_5 = scipy.ndimage.median_filter(stretch_img_NIH3T3_5, 5)\n",
    "stretch_median_img_NIH3T3_6 = scipy.ndimage.median_filter(stretch_img_NIH3T3_6, 5)\n",
    "stretch_median_img_NIH3T3_7 = scipy.ndimage.median_filter(stretch_img_NIH3T3_7, 5)\n",
    "stretch_median_img_NIH3T3_8 = scipy.ndimage.median_filter(stretch_img_NIH3T3_8, 5)\n",
    "stretch_median_img_NIH3T3_9 = scipy.ndimage.median_filter(stretch_img_NIH3T3_9, 5)\n",
    "stretch_median_img_NIH3T3_10 = scipy.ndimage.median_filter(stretch_img_NIH3T3_10, 5)\n",
    "stretch_median_img_NIH3T3_11 = scipy.ndimage.median_filter(stretch_img_NIH3T3_11, 5)\n",
    "stretch_median_img_NIH3T3_12 = scipy.ndimage.median_filter(stretch_img_NIH3T3_12, 5)\n",
    "stretch_median_img_NIH3T3_13 = scipy.ndimage.median_filter(stretch_img_NIH3T3_13, 5)\n",
    "stretch_median_img_NIH3T3_14 = scipy.ndimage.median_filter(stretch_img_NIH3T3_14, 5)\n",
    "stretch_median_img_NIH3T3_15 = scipy.ndimage.median_filter(stretch_img_NIH3T3_15, 5)\n",
    "stretch_median_img_NIH3T3_16 = scipy.ndimage.median_filter(stretch_img_NIH3T3_16, 5)\n",
    "stretch_median_img_NIH3T3_17 = scipy.ndimage.median_filter(stretch_img_NIH3T3_17, 5)\n",
    "stretch_median_img_NIH3T3_18 = scipy.ndimage.median_filter(stretch_img_NIH3T3_18, 5)"
   ]
  },
  {
   "cell_type": "code",
   "execution_count": 23,
   "metadata": {},
   "outputs": [],
   "source": [
    "gauss_stretch_img_NIH3T3_1 = stretch(gauss_img_NIH3T3_1)\n",
    "gauss_stretch_img_NIH3T3_2 = stretch(gauss_img_NIH3T3_2)\n",
    "gauss_stretch_img_NIH3T3_3 = stretch(gauss_img_NIH3T3_3)\n",
    "gauss_stretch_img_NIH3T3_4 = stretch(gauss_img_NIH3T3_4)\n",
    "gauss_stretch_img_NIH3T3_5 = stretch(gauss_img_NIH3T3_5)\n",
    "gauss_stretch_img_NIH3T3_6 = stretch(gauss_img_NIH3T3_6)\n",
    "gauss_stretch_img_NIH3T3_7 = stretch(gauss_img_NIH3T3_7)\n",
    "gauss_stretch_img_NIH3T3_8 = stretch(gauss_img_NIH3T3_8)\n",
    "gauss_stretch_img_NIH3T3_9 = stretch(gauss_img_NIH3T3_9)\n",
    "gauss_stretch_img_NIH3T3_10 = stretch(gauss_img_NIH3T3_10)\n",
    "gauss_stretch_img_NIH3T3_11 = stretch(gauss_img_NIH3T3_11)\n",
    "gauss_stretch_img_NIH3T3_12 = stretch(gauss_img_NIH3T3_12)\n",
    "gauss_stretch_img_NIH3T3_13 = stretch(gauss_img_NIH3T3_13)\n",
    "gauss_stretch_img_NIH3T3_14 = stretch(gauss_img_NIH3T3_14)\n",
    "gauss_stretch_img_NIH3T3_15 = stretch(gauss_img_NIH3T3_15)\n",
    "gauss_stretch_img_NIH3T3_16 = stretch(gauss_img_NIH3T3_16)\n",
    "gauss_stretch_img_NIH3T3_17 = stretch(gauss_img_NIH3T3_17)\n",
    "gauss_stretch_img_NIH3T3_18 = stretch(gauss_img_NIH3T3_18)"
   ]
  },
  {
   "cell_type": "code",
   "execution_count": 24,
   "metadata": {},
   "outputs": [],
   "source": [
    "stretch_gauss_img_NIH3T3_1 = scipy.ndimage.gaussian_filter(stretch_img_NIH3T3_1, 5)\n",
    "stretch_gauss_img_NIH3T3_2 = scipy.ndimage.gaussian_filter(stretch_img_NIH3T3_2, 5)\n",
    "stretch_gauss_img_NIH3T3_3 = scipy.ndimage.gaussian_filter(stretch_img_NIH3T3_3, 5)\n",
    "stretch_gauss_img_NIH3T3_4 = scipy.ndimage.gaussian_filter(stretch_img_NIH3T3_4, 5)\n",
    "stretch_gauss_img_NIH3T3_5 = scipy.ndimage.gaussian_filter(stretch_img_NIH3T3_5, 5)\n",
    "stretch_gauss_img_NIH3T3_6 = scipy.ndimage.gaussian_filter(stretch_img_NIH3T3_6, 5)\n",
    "stretch_gauss_img_NIH3T3_7 = scipy.ndimage.gaussian_filter(stretch_img_NIH3T3_7, 5)\n",
    "stretch_gauss_img_NIH3T3_8 = scipy.ndimage.gaussian_filter(stretch_img_NIH3T3_8, 5)\n",
    "stretch_gauss_img_NIH3T3_9 = scipy.ndimage.gaussian_filter(stretch_img_NIH3T3_9, 5)\n",
    "stretch_gauss_img_NIH3T3_10 = scipy.ndimage.gaussian_filter(stretch_img_NIH3T3_10, 5)\n",
    "stretch_gauss_img_NIH3T3_11 = scipy.ndimage.gaussian_filter(stretch_img_NIH3T3_11, 5)\n",
    "stretch_gauss_img_NIH3T3_12 = scipy.ndimage.gaussian_filter(stretch_img_NIH3T3_12, 5)\n",
    "stretch_gauss_img_NIH3T3_13 = scipy.ndimage.gaussian_filter(stretch_img_NIH3T3_13, 5)\n",
    "stretch_gauss_img_NIH3T3_14 = scipy.ndimage.gaussian_filter(stretch_img_NIH3T3_14, 5)\n",
    "stretch_gauss_img_NIH3T3_15 = scipy.ndimage.gaussian_filter(stretch_img_NIH3T3_15, 5)\n",
    "stretch_gauss_img_NIH3T3_16 = scipy.ndimage.gaussian_filter(stretch_img_NIH3T3_16, 5)\n",
    "stretch_gauss_img_NIH3T3_17 = scipy.ndimage.gaussian_filter(stretch_img_NIH3T3_17, 5)\n",
    "stretch_gauss_img_NIH3T3_18 = scipy.ndimage.gaussian_filter(stretch_img_NIH3T3_18, 5)"
   ]
  },
  {
   "cell_type": "code",
   "execution_count": 25,
   "metadata": {},
   "outputs": [],
   "source": [
    "otsu_img_NIH3T3_1 = tlot.two_level_otsu_thresholding_clip(copy_img_NIH3T3_1 , 256)\n",
    "otsu_img_NIH3T3_2 = tlot.two_level_otsu_thresholding_clip(copy_img_NIH3T3_2 , 256)\n",
    "otsu_img_NIH3T3_3 = tlot.two_level_otsu_thresholding_clip(copy_img_NIH3T3_3 , 256)\n",
    "otsu_img_NIH3T3_4 = tlot.two_level_otsu_thresholding_clip(copy_img_NIH3T3_4 , 256)\n",
    "otsu_img_NIH3T3_5 = tlot.two_level_otsu_thresholding_clip(copy_img_NIH3T3_5 , 256)\n",
    "otsu_img_NIH3T3_6 = tlot.two_level_otsu_thresholding_clip(copy_img_NIH3T3_6 , 256)\n",
    "otsu_img_NIH3T3_7 = tlot.two_level_otsu_thresholding_clip(copy_img_NIH3T3_7 , 256)\n",
    "otsu_img_NIH3T3_8 = tlot.two_level_otsu_thresholding_clip(copy_img_NIH3T3_8 , 256)\n",
    "otsu_img_NIH3T3_9 = tlot.two_level_otsu_thresholding_clip(copy_img_NIH3T3_9 , 256)\n",
    "otsu_img_NIH3T3_10 = tlot.two_level_otsu_thresholding_clip(copy_img_NIH3T3_10 , 256)\n",
    "otsu_img_NIH3T3_11 = tlot.two_level_otsu_thresholding_clip(copy_img_NIH3T3_11 , 256)\n",
    "otsu_img_NIH3T3_12 = tlot.two_level_otsu_thresholding_clip(copy_img_NIH3T3_12 , 256)\n",
    "otsu_img_NIH3T3_13 = tlot.two_level_otsu_thresholding_clip(copy_img_NIH3T3_13 , 256)\n",
    "otsu_img_NIH3T3_14 = tlot.two_level_otsu_thresholding_clip(copy_img_NIH3T3_14 , 256)\n",
    "otsu_img_NIH3T3_15 = tlot.two_level_otsu_thresholding_clip(copy_img_NIH3T3_15 , 256)\n",
    "otsu_img_NIH3T3_16 = tlot.two_level_otsu_thresholding_clip(copy_img_NIH3T3_16 , 256)\n",
    "otsu_img_NIH3T3_17 = tlot.two_level_otsu_thresholding_clip(copy_img_NIH3T3_17 , 256)\n",
    "otsu_img_NIH3T3_18 = tlot.two_level_otsu_thresholding_clip(copy_img_NIH3T3_18 , 256)"
   ]
  },
  {
   "cell_type": "code",
   "execution_count": 26,
   "metadata": {},
   "outputs": [],
   "source": [
    "otsu_median_img_NIH3T3_1 = tlot.two_level_otsu_thresholding_clip(median_img_NIH3T3_1 , 256)\n",
    "otsu_median_img_NIH3T3_2 = tlot.two_level_otsu_thresholding_clip(median_img_NIH3T3_2 , 256)\n",
    "otsu_median_img_NIH3T3_3 = tlot.two_level_otsu_thresholding_clip(median_img_NIH3T3_3 , 256)\n",
    "otsu_median_img_NIH3T3_4 = tlot.two_level_otsu_thresholding_clip(median_img_NIH3T3_4 , 256)\n",
    "otsu_median_img_NIH3T3_5 = tlot.two_level_otsu_thresholding_clip(median_img_NIH3T3_5 , 256)\n",
    "otsu_median_img_NIH3T3_6 = tlot.two_level_otsu_thresholding_clip(median_img_NIH3T3_6 , 256)\n",
    "otsu_median_img_NIH3T3_7 = tlot.two_level_otsu_thresholding_clip(median_img_NIH3T3_7 , 256)\n",
    "otsu_median_img_NIH3T3_8 = tlot.two_level_otsu_thresholding_clip(median_img_NIH3T3_8 , 256)\n",
    "otsu_median_img_NIH3T3_9 = tlot.two_level_otsu_thresholding_clip(median_img_NIH3T3_9 , 256)\n",
    "otsu_median_img_NIH3T3_10 = tlot.two_level_otsu_thresholding_clip(median_img_NIH3T3_10 , 256)\n",
    "otsu_median_img_NIH3T3_11 = tlot.two_level_otsu_thresholding_clip(median_img_NIH3T3_11 , 256)\n",
    "otsu_median_img_NIH3T3_12 = tlot.two_level_otsu_thresholding_clip(median_img_NIH3T3_12 , 256)\n",
    "otsu_median_img_NIH3T3_13 = tlot.two_level_otsu_thresholding_clip(median_img_NIH3T3_13 , 256)\n",
    "otsu_median_img_NIH3T3_14 = tlot.two_level_otsu_thresholding_clip(median_img_NIH3T3_14 , 256)\n",
    "otsu_median_img_NIH3T3_15 = tlot.two_level_otsu_thresholding_clip(median_img_NIH3T3_15 , 256)\n",
    "otsu_median_img_NIH3T3_16 = tlot.two_level_otsu_thresholding_clip(median_img_NIH3T3_16 , 256)\n",
    "otsu_median_img_NIH3T3_17 = tlot.two_level_otsu_thresholding_clip(median_img_NIH3T3_17 , 256)\n",
    "otsu_median_img_NIH3T3_18 = tlot.two_level_otsu_thresholding_clip(median_img_NIH3T3_18 , 256)"
   ]
  },
  {
   "cell_type": "code",
   "execution_count": 27,
   "metadata": {},
   "outputs": [],
   "source": [
    "otsu_gauss_img_NIH3T3_1 = tlot.two_level_otsu_thresholding_clip(gauss_img_NIH3T3_1 , 256)\n",
    "otsu_gauss_img_NIH3T3_2 = tlot.two_level_otsu_thresholding_clip(gauss_img_NIH3T3_2 , 256)\n",
    "otsu_gauss_img_NIH3T3_3 = tlot.two_level_otsu_thresholding_clip(gauss_img_NIH3T3_3 , 256)\n",
    "otsu_gauss_img_NIH3T3_4 = tlot.two_level_otsu_thresholding_clip(gauss_img_NIH3T3_4 , 256)\n",
    "otsu_gauss_img_NIH3T3_5 = tlot.two_level_otsu_thresholding_clip(gauss_img_NIH3T3_5 , 256)\n",
    "otsu_gauss_img_NIH3T3_6 = tlot.two_level_otsu_thresholding_clip(gauss_img_NIH3T3_6 , 256)\n",
    "otsu_gauss_img_NIH3T3_7 = tlot.two_level_otsu_thresholding_clip(gauss_img_NIH3T3_7 , 256)\n",
    "otsu_gauss_img_NIH3T3_8 = tlot.two_level_otsu_thresholding_clip(gauss_img_NIH3T3_8 , 256)\n",
    "otsu_gauss_img_NIH3T3_9 = tlot.two_level_otsu_thresholding_clip(gauss_img_NIH3T3_9 , 256)\n",
    "otsu_gauss_img_NIH3T3_10 = tlot.two_level_otsu_thresholding_clip(gauss_img_NIH3T3_10 , 256)\n",
    "otsu_gauss_img_NIH3T3_11 = tlot.two_level_otsu_thresholding_clip(gauss_img_NIH3T3_11 , 256)\n",
    "otsu_gauss_img_NIH3T3_12 = tlot.two_level_otsu_thresholding_clip(gauss_img_NIH3T3_12 , 256)\n",
    "otsu_gauss_img_NIH3T3_13 = tlot.two_level_otsu_thresholding_clip(gauss_img_NIH3T3_13 , 256)\n",
    "otsu_gauss_img_NIH3T3_14 = tlot.two_level_otsu_thresholding_clip(gauss_img_NIH3T3_14 , 256)\n",
    "otsu_gauss_img_NIH3T3_15 = tlot.two_level_otsu_thresholding_clip(gauss_img_NIH3T3_15 , 256)\n",
    "otsu_gauss_img_NIH3T3_16 = tlot.two_level_otsu_thresholding_clip(gauss_img_NIH3T3_16 , 256)\n",
    "otsu_gauss_img_NIH3T3_17 = tlot.two_level_otsu_thresholding_clip(gauss_img_NIH3T3_17 , 256)\n",
    "otsu_gauss_img_NIH3T3_18 = tlot.two_level_otsu_thresholding_clip(gauss_img_NIH3T3_18 , 256)"
   ]
  },
  {
   "cell_type": "code",
   "execution_count": 28,
   "metadata": {},
   "outputs": [],
   "source": [
    "otsu_stretch_img_NIH3T3_1 = tlot.two_level_otsu_thresholding_clip(stretch_img_NIH3T3_1 , 256)\n",
    "otsu_stretch_img_NIH3T3_2 = tlot.two_level_otsu_thresholding_clip(stretch_img_NIH3T3_2 , 256)\n",
    "otsu_stretch_img_NIH3T3_3 = tlot.two_level_otsu_thresholding_clip(stretch_img_NIH3T3_3 , 256)\n",
    "otsu_stretch_img_NIH3T3_4 = tlot.two_level_otsu_thresholding_clip(stretch_img_NIH3T3_4 , 256)\n",
    "otsu_stretch_img_NIH3T3_5 = tlot.two_level_otsu_thresholding_clip(stretch_img_NIH3T3_5 , 256)\n",
    "otsu_stretch_img_NIH3T3_6 = tlot.two_level_otsu_thresholding_clip(stretch_img_NIH3T3_6 , 256)\n",
    "otsu_stretch_img_NIH3T3_7 = tlot.two_level_otsu_thresholding_clip(stretch_img_NIH3T3_7 , 256)\n",
    "otsu_stretch_img_NIH3T3_8 = tlot.two_level_otsu_thresholding_clip(stretch_img_NIH3T3_8 , 256)\n",
    "otsu_stretch_img_NIH3T3_9 = tlot.two_level_otsu_thresholding_clip(stretch_img_NIH3T3_9 , 256)\n",
    "otsu_stretch_img_NIH3T3_10 = tlot.two_level_otsu_thresholding_clip(stretch_img_NIH3T3_10 , 256)\n",
    "otsu_stretch_img_NIH3T3_11 = tlot.two_level_otsu_thresholding_clip(stretch_img_NIH3T3_11 , 256)\n",
    "otsu_stretch_img_NIH3T3_12 = tlot.two_level_otsu_thresholding_clip(stretch_img_NIH3T3_12 , 256)\n",
    "otsu_stretch_img_NIH3T3_13 = tlot.two_level_otsu_thresholding_clip(stretch_img_NIH3T3_13 , 256)\n",
    "otsu_stretch_img_NIH3T3_14 = tlot.two_level_otsu_thresholding_clip(stretch_img_NIH3T3_14 , 256)\n",
    "otsu_stretch_img_NIH3T3_15 = tlot.two_level_otsu_thresholding_clip(stretch_img_NIH3T3_15 , 256)\n",
    "otsu_stretch_img_NIH3T3_16 = tlot.two_level_otsu_thresholding_clip(stretch_img_NIH3T3_16 , 256)\n",
    "otsu_stretch_img_NIH3T3_17 = tlot.two_level_otsu_thresholding_clip(stretch_img_NIH3T3_17 , 256)\n",
    "otsu_stretch_img_NIH3T3_18 = tlot.two_level_otsu_thresholding_clip(stretch_img_NIH3T3_18 , 256)\n"
   ]
  },
  {
   "cell_type": "code",
   "execution_count": 29,
   "metadata": {},
   "outputs": [],
   "source": [
    "otsu_median_stretch_img_NIH3T3_1 = tlot.two_level_otsu_thresholding_clip(median_stretch_img_NIH3T3_1 , 256)\n",
    "otsu_median_stretch_img_NIH3T3_2 = tlot.two_level_otsu_thresholding_clip(median_stretch_img_NIH3T3_2 , 256)\n",
    "otsu_median_stretch_img_NIH3T3_3 = tlot.two_level_otsu_thresholding_clip(median_stretch_img_NIH3T3_3 , 256)\n",
    "otsu_median_stretch_img_NIH3T3_4 = tlot.two_level_otsu_thresholding_clip(median_stretch_img_NIH3T3_4 , 256)\n",
    "otsu_median_stretch_img_NIH3T3_5 = tlot.two_level_otsu_thresholding_clip(median_stretch_img_NIH3T3_5 , 256)\n",
    "otsu_median_stretch_img_NIH3T3_6 = tlot.two_level_otsu_thresholding_clip(median_stretch_img_NIH3T3_6 , 256)\n",
    "otsu_median_stretch_img_NIH3T3_7 = tlot.two_level_otsu_thresholding_clip(median_stretch_img_NIH3T3_7 , 256)\n",
    "otsu_median_stretch_img_NIH3T3_8 = tlot.two_level_otsu_thresholding_clip(median_stretch_img_NIH3T3_8 , 256)\n",
    "otsu_median_stretch_img_NIH3T3_9 = tlot.two_level_otsu_thresholding_clip(median_stretch_img_NIH3T3_9 , 256)\n",
    "otsu_median_stretch_img_NIH3T3_10 = tlot.two_level_otsu_thresholding_clip(median_stretch_img_NIH3T3_10 , 256)\n",
    "otsu_median_stretch_img_NIH3T3_11 = tlot.two_level_otsu_thresholding_clip(median_stretch_img_NIH3T3_11 , 256)\n",
    "otsu_median_stretch_img_NIH3T3_12 = tlot.two_level_otsu_thresholding_clip(median_stretch_img_NIH3T3_12 , 256)\n",
    "otsu_median_stretch_img_NIH3T3_13 = tlot.two_level_otsu_thresholding_clip(median_stretch_img_NIH3T3_13 , 256)\n",
    "otsu_median_stretch_img_NIH3T3_14 = tlot.two_level_otsu_thresholding_clip(median_stretch_img_NIH3T3_14 , 256)\n",
    "otsu_median_stretch_img_NIH3T3_15 = tlot.two_level_otsu_thresholding_clip(median_stretch_img_NIH3T3_15 , 256)\n",
    "otsu_median_stretch_img_NIH3T3_16 = tlot.two_level_otsu_thresholding_clip(median_stretch_img_NIH3T3_16 , 256)\n",
    "otsu_median_stretch_img_NIH3T3_17 = tlot.two_level_otsu_thresholding_clip(median_stretch_img_NIH3T3_17 , 256)\n",
    "otsu_median_stretch_img_NIH3T3_18 = tlot.two_level_otsu_thresholding_clip(median_stretch_img_NIH3T3_18 , 256)\n"
   ]
  },
  {
   "cell_type": "code",
   "execution_count": 30,
   "metadata": {},
   "outputs": [],
   "source": [
    "otsu_stretch_median_img_NIH3T3_1 = tlot.two_level_otsu_thresholding_clip(stretch_median_img_NIH3T3_1 , 256)\n",
    "otsu_stretch_median_img_NIH3T3_2 = tlot.two_level_otsu_thresholding_clip(stretch_median_img_NIH3T3_2 , 256)\n",
    "otsu_stretch_median_img_NIH3T3_3 = tlot.two_level_otsu_thresholding_clip(stretch_median_img_NIH3T3_3 , 256)\n",
    "otsu_stretch_median_img_NIH3T3_4 = tlot.two_level_otsu_thresholding_clip(stretch_median_img_NIH3T3_4 , 256)\n",
    "otsu_stretch_median_img_NIH3T3_5 = tlot.two_level_otsu_thresholding_clip(stretch_median_img_NIH3T3_5 , 256)\n",
    "otsu_stretch_median_img_NIH3T3_6 = tlot.two_level_otsu_thresholding_clip(stretch_median_img_NIH3T3_6 , 256)\n",
    "otsu_stretch_median_img_NIH3T3_7 = tlot.two_level_otsu_thresholding_clip(stretch_median_img_NIH3T3_7 , 256)\n",
    "otsu_stretch_median_img_NIH3T3_8 = tlot.two_level_otsu_thresholding_clip(stretch_median_img_NIH3T3_8 , 256)\n",
    "otsu_stretch_median_img_NIH3T3_9 = tlot.two_level_otsu_thresholding_clip(stretch_median_img_NIH3T3_9 , 256)\n",
    "otsu_stretch_median_img_NIH3T3_10 = tlot.two_level_otsu_thresholding_clip(stretch_median_img_NIH3T3_10 , 256)\n",
    "otsu_stretch_median_img_NIH3T3_11 = tlot.two_level_otsu_thresholding_clip(stretch_median_img_NIH3T3_11 , 256)\n",
    "otsu_stretch_median_img_NIH3T3_12 = tlot.two_level_otsu_thresholding_clip(stretch_median_img_NIH3T3_12 , 256)\n",
    "otsu_stretch_median_img_NIH3T3_13 = tlot.two_level_otsu_thresholding_clip(stretch_median_img_NIH3T3_13 , 256)\n",
    "otsu_stretch_median_img_NIH3T3_14 = tlot.two_level_otsu_thresholding_clip(stretch_median_img_NIH3T3_14 , 256)\n",
    "otsu_stretch_median_img_NIH3T3_15 = tlot.two_level_otsu_thresholding_clip(stretch_median_img_NIH3T3_15 , 256)\n",
    "otsu_stretch_median_img_NIH3T3_16 = tlot.two_level_otsu_thresholding_clip(stretch_median_img_NIH3T3_16 , 256)\n",
    "otsu_stretch_median_img_NIH3T3_17 = tlot.two_level_otsu_thresholding_clip(stretch_median_img_NIH3T3_17 , 256)\n",
    "otsu_stretch_median_img_NIH3T3_18 = tlot.two_level_otsu_thresholding_clip(stretch_median_img_NIH3T3_18 , 256)"
   ]
  },
  {
   "cell_type": "code",
   "execution_count": 31,
   "metadata": {},
   "outputs": [],
   "source": [
    "otsu_gauss_stretch_img_NIH3T3_1 = tlot.two_level_otsu_thresholding_clip(gauss_stretch_img_NIH3T3_1 , 256)\n",
    "otsu_gauss_stretch_img_NIH3T3_2 = tlot.two_level_otsu_thresholding_clip(gauss_stretch_img_NIH3T3_2 , 256)\n",
    "otsu_gauss_stretch_img_NIH3T3_3 = tlot.two_level_otsu_thresholding_clip(gauss_stretch_img_NIH3T3_3 , 256)\n",
    "otsu_gauss_stretch_img_NIH3T3_4 = tlot.two_level_otsu_thresholding_clip(gauss_stretch_img_NIH3T3_4 , 256)\n",
    "otsu_gauss_stretch_img_NIH3T3_5 = tlot.two_level_otsu_thresholding_clip(gauss_stretch_img_NIH3T3_5 , 256)\n",
    "otsu_gauss_stretch_img_NIH3T3_6 = tlot.two_level_otsu_thresholding_clip(gauss_stretch_img_NIH3T3_6 , 256)\n",
    "otsu_gauss_stretch_img_NIH3T3_7 = tlot.two_level_otsu_thresholding_clip(gauss_stretch_img_NIH3T3_7 , 256)\n",
    "otsu_gauss_stretch_img_NIH3T3_8 = tlot.two_level_otsu_thresholding_clip(gauss_stretch_img_NIH3T3_8 , 256)\n",
    "otsu_gauss_stretch_img_NIH3T3_9 = tlot.two_level_otsu_thresholding_clip(gauss_stretch_img_NIH3T3_9 , 256)\n",
    "otsu_gauss_stretch_img_NIH3T3_10 = tlot.two_level_otsu_thresholding_clip(gauss_stretch_img_NIH3T3_10 , 256)\n",
    "otsu_gauss_stretch_img_NIH3T3_11 = tlot.two_level_otsu_thresholding_clip(gauss_stretch_img_NIH3T3_11 , 256)\n",
    "otsu_gauss_stretch_img_NIH3T3_12 = tlot.two_level_otsu_thresholding_clip(gauss_stretch_img_NIH3T3_12 , 256)\n",
    "otsu_gauss_stretch_img_NIH3T3_13 = tlot.two_level_otsu_thresholding_clip(gauss_stretch_img_NIH3T3_13 , 256)\n",
    "otsu_gauss_stretch_img_NIH3T3_14 = tlot.two_level_otsu_thresholding_clip(gauss_stretch_img_NIH3T3_14 , 256)\n",
    "otsu_gauss_stretch_img_NIH3T3_15 = tlot.two_level_otsu_thresholding_clip(gauss_stretch_img_NIH3T3_15 , 256)\n",
    "otsu_gauss_stretch_img_NIH3T3_16 = tlot.two_level_otsu_thresholding_clip(gauss_stretch_img_NIH3T3_16 , 256)\n",
    "otsu_gauss_stretch_img_NIH3T3_17 = tlot.two_level_otsu_thresholding_clip(gauss_stretch_img_NIH3T3_17 , 256)\n",
    "otsu_gauss_stretch_img_NIH3T3_18 = tlot.two_level_otsu_thresholding_clip(gauss_stretch_img_NIH3T3_18 , 256)"
   ]
  },
  {
   "cell_type": "code",
   "execution_count": 32,
   "metadata": {},
   "outputs": [],
   "source": [
    "otsu_stretch_gauss_img_NIH3T3_1 = tlot.two_level_otsu_thresholding_clip(stretch_gauss_img_NIH3T3_1 , 256)\n",
    "otsu_stretch_gauss_img_NIH3T3_2 = tlot.two_level_otsu_thresholding_clip(stretch_gauss_img_NIH3T3_2 , 256)\n",
    "otsu_stretch_gauss_img_NIH3T3_3 = tlot.two_level_otsu_thresholding_clip(stretch_gauss_img_NIH3T3_3 , 256)\n",
    "otsu_stretch_gauss_img_NIH3T3_4 = tlot.two_level_otsu_thresholding_clip(stretch_gauss_img_NIH3T3_4 , 256)\n",
    "otsu_stretch_gauss_img_NIH3T3_5 = tlot.two_level_otsu_thresholding_clip(stretch_gauss_img_NIH3T3_5 , 256)\n",
    "otsu_stretch_gauss_img_NIH3T3_6 = tlot.two_level_otsu_thresholding_clip(stretch_gauss_img_NIH3T3_6 , 256)\n",
    "otsu_stretch_gauss_img_NIH3T3_7 = tlot.two_level_otsu_thresholding_clip(stretch_gauss_img_NIH3T3_7 , 256)\n",
    "otsu_stretch_gauss_img_NIH3T3_8 = tlot.two_level_otsu_thresholding_clip(stretch_gauss_img_NIH3T3_8 , 256)\n",
    "otsu_stretch_gauss_img_NIH3T3_9 = tlot.two_level_otsu_thresholding_clip(stretch_gauss_img_NIH3T3_9 , 256)\n",
    "otsu_stretch_gauss_img_NIH3T3_10 = tlot.two_level_otsu_thresholding_clip(stretch_gauss_img_NIH3T3_10 , 256)\n",
    "otsu_stretch_gauss_img_NIH3T3_11 = tlot.two_level_otsu_thresholding_clip(stretch_gauss_img_NIH3T3_11 , 256)\n",
    "otsu_stretch_gauss_img_NIH3T3_12 = tlot.two_level_otsu_thresholding_clip(stretch_gauss_img_NIH3T3_12 , 256)\n",
    "otsu_stretch_gauss_img_NIH3T3_13 = tlot.two_level_otsu_thresholding_clip(stretch_gauss_img_NIH3T3_13 , 256)\n",
    "otsu_stretch_gauss_img_NIH3T3_14 = tlot.two_level_otsu_thresholding_clip(stretch_gauss_img_NIH3T3_14 , 256)\n",
    "otsu_stretch_gauss_img_NIH3T3_15 = tlot.two_level_otsu_thresholding_clip(stretch_gauss_img_NIH3T3_15 , 256)\n",
    "otsu_stretch_gauss_img_NIH3T3_16 = tlot.two_level_otsu_thresholding_clip(stretch_gauss_img_NIH3T3_16 , 256)\n",
    "otsu_stretch_gauss_img_NIH3T3_17 = tlot.two_level_otsu_thresholding_clip(stretch_gauss_img_NIH3T3_17 , 256)\n",
    "otsu_stretch_gauss_img_NIH3T3_18 = tlot.two_level_otsu_thresholding_clip(stretch_gauss_img_NIH3T3_18 , 256)"
   ]
  },
  {
   "cell_type": "code",
   "execution_count": 33,
   "metadata": {},
   "outputs": [
    {
     "name": "stdout",
     "output_type": "stream",
     "text": [
      "[0.8210687087673151, 0.7775918295118437, 0.6264363706934415, 0.7335930139355673, 0.7621616264857733, 0.7414070180949042, 0.6822777924124505, 0.7333667248548507, 0.20228712834164447, 0.5869229784959995, 0.5847200358501189, 0.5790958589409466, 0.5015365740894627, 0.47334669338677354, 0.40358636432539435, 0.5842044134727061, 0.5217537891900841, 0.5114136664060073]\n"
     ]
    }
   ],
   "source": [
    "# Dice score - NIH3T3-dataset\n",
    "## no preprocessing\n",
    "\n",
    "NIH3T3_no_preprocessing = []\n",
    "\n",
    "dice_otsu_img_NIH3T3_1 = dsc.dice(otsu_img_NIH3T3_1 , gt_NIH3T3_1)\n",
    "dice_otsu_img_NIH3T3_2 = dsc.dice(otsu_img_NIH3T3_2 , gt_NIH3T3_2)\n",
    "dice_otsu_img_NIH3T3_3 = dsc.dice(otsu_img_NIH3T3_3 , gt_NIH3T3_3)\n",
    "dice_otsu_img_NIH3T3_4 = dsc.dice(otsu_img_NIH3T3_4 , gt_NIH3T3_4)\n",
    "dice_otsu_img_NIH3T3_5 = dsc.dice(otsu_img_NIH3T3_5 , gt_NIH3T3_5)\n",
    "dice_otsu_img_NIH3T3_6 = dsc.dice(otsu_img_NIH3T3_6 , gt_NIH3T3_6)\n",
    "dice_otsu_img_NIH3T3_7 = dsc.dice(otsu_img_NIH3T3_7 , gt_NIH3T3_7)\n",
    "dice_otsu_img_NIH3T3_8 = dsc.dice(otsu_img_NIH3T3_8 , gt_NIH3T3_8)\n",
    "dice_otsu_img_NIH3T3_9 = dsc.dice(otsu_img_NIH3T3_9 , gt_NIH3T3_9)\n",
    "dice_otsu_img_NIH3T3_10 = dsc.dice(otsu_img_NIH3T3_10 , gt_NIH3T3_10)\n",
    "dice_otsu_img_NIH3T3_11 = dsc.dice(otsu_img_NIH3T3_11 , gt_NIH3T3_11)\n",
    "dice_otsu_img_NIH3T3_12 = dsc.dice(otsu_img_NIH3T3_12 , gt_NIH3T3_12)\n",
    "dice_otsu_img_NIH3T3_13 = dsc.dice(otsu_img_NIH3T3_13 , gt_NIH3T3_13)\n",
    "dice_otsu_img_NIH3T3_14 = dsc.dice(otsu_img_NIH3T3_14 , gt_NIH3T3_14)\n",
    "dice_otsu_img_NIH3T3_15 = dsc.dice(otsu_img_NIH3T3_15 , gt_NIH3T3_15)\n",
    "dice_otsu_img_NIH3T3_16 = dsc.dice(otsu_img_NIH3T3_16 , gt_NIH3T3_16)\n",
    "dice_otsu_img_NIH3T3_17 = dsc.dice(otsu_img_NIH3T3_17 , gt_NIH3T3_17)\n",
    "dice_otsu_img_NIH3T3_18 = dsc.dice(otsu_img_NIH3T3_18 , gt_NIH3T3_18)\n",
    "\n",
    "\n",
    "\n",
    "NIH3T3_no_preprocessing.extend([dice_otsu_img_NIH3T3_1 , dice_otsu_img_NIH3T3_2 , dice_otsu_img_NIH3T3_3 , dice_otsu_img_NIH3T3_4 , dice_otsu_img_NIH3T3_5 , dice_otsu_img_NIH3T3_6 , dice_otsu_img_NIH3T3_7 , dice_otsu_img_NIH3T3_8 , dice_otsu_img_NIH3T3_9 , dice_otsu_img_NIH3T3_10 , dice_otsu_img_NIH3T3_11 , dice_otsu_img_NIH3T3_12 , dice_otsu_img_NIH3T3_13 , dice_otsu_img_NIH3T3_14 , dice_otsu_img_NIH3T3_15 , dice_otsu_img_NIH3T3_16 , dice_otsu_img_NIH3T3_17 , dice_otsu_img_NIH3T3_18])\n",
    "\n",
    "print(NIH3T3_no_preprocessing)"
   ]
  },
  {
   "cell_type": "code",
   "execution_count": 34,
   "metadata": {},
   "outputs": [
    {
     "name": "stdout",
     "output_type": "stream",
     "text": [
      "[0.8257821585324681, 0.7720095711724686, 0.571529113382134, 0.7348624644001189, 0.7583447079030312, 0.7443272742193591, 0.6618151110228007, 0.7358138940903415, 0.19763428777815678, 0.5862898921439289, 0.6064081494177413, 0.6094514458922015, 0.49944706520388904, 0.4770919673873501, 0.4280677483283278, 0.582648217804048, 0.5165242079192969, 0.4815515117872569]\n"
     ]
    }
   ],
   "source": [
    "# Dice score - N2DLHeLa-dataset\n",
    "## median filter\n",
    "\n",
    "NIH3T3_median_filter = []\n",
    "\n",
    "dice_otsu_median_img_NIH3T3_1 = dsc.dice(otsu_median_img_NIH3T3_1 , gt_NIH3T3_1)\n",
    "dice_otsu_median_img_NIH3T3_2 = dsc.dice(otsu_median_img_NIH3T3_2 , gt_NIH3T3_2)\n",
    "dice_otsu_median_img_NIH3T3_3 = dsc.dice(otsu_median_img_NIH3T3_3 , gt_NIH3T3_3)\n",
    "dice_otsu_median_img_NIH3T3_4 = dsc.dice(otsu_median_img_NIH3T3_4 , gt_NIH3T3_4)\n",
    "dice_otsu_median_img_NIH3T3_5 = dsc.dice(otsu_median_img_NIH3T3_5 , gt_NIH3T3_5)\n",
    "dice_otsu_median_img_NIH3T3_6 = dsc.dice(otsu_median_img_NIH3T3_6 , gt_NIH3T3_6)\n",
    "dice_otsu_median_img_NIH3T3_7 = dsc.dice(otsu_median_img_NIH3T3_7 , gt_NIH3T3_7)\n",
    "dice_otsu_median_img_NIH3T3_8 = dsc.dice(otsu_median_img_NIH3T3_8 , gt_NIH3T3_8)\n",
    "dice_otsu_median_img_NIH3T3_9 = dsc.dice(otsu_median_img_NIH3T3_9 , gt_NIH3T3_9)\n",
    "dice_otsu_median_img_NIH3T3_10 = dsc.dice(otsu_median_img_NIH3T3_10 , gt_NIH3T3_10)\n",
    "dice_otsu_median_img_NIH3T3_11 = dsc.dice(otsu_median_img_NIH3T3_11 , gt_NIH3T3_11)\n",
    "dice_otsu_median_img_NIH3T3_12 = dsc.dice(otsu_median_img_NIH3T3_12 , gt_NIH3T3_12)\n",
    "dice_otsu_median_img_NIH3T3_13 = dsc.dice(otsu_median_img_NIH3T3_13 , gt_NIH3T3_13)\n",
    "dice_otsu_median_img_NIH3T3_14 = dsc.dice(otsu_median_img_NIH3T3_14 , gt_NIH3T3_14)\n",
    "dice_otsu_median_img_NIH3T3_15 = dsc.dice(otsu_median_img_NIH3T3_15 , gt_NIH3T3_15)\n",
    "dice_otsu_median_img_NIH3T3_16 = dsc.dice(otsu_median_img_NIH3T3_16 , gt_NIH3T3_16)\n",
    "dice_otsu_median_img_NIH3T3_17 = dsc.dice(otsu_median_img_NIH3T3_17 , gt_NIH3T3_17)\n",
    "dice_otsu_median_img_NIH3T3_18 = dsc.dice(otsu_median_img_NIH3T3_18 , gt_NIH3T3_18)\n",
    "\n",
    "\n",
    "\n",
    "NIH3T3_median_filter.extend([dice_otsu_median_img_NIH3T3_1 , dice_otsu_median_img_NIH3T3_2 , dice_otsu_median_img_NIH3T3_3 , dice_otsu_median_img_NIH3T3_4 , dice_otsu_median_img_NIH3T3_5 , dice_otsu_median_img_NIH3T3_6 , dice_otsu_median_img_NIH3T3_7 , dice_otsu_median_img_NIH3T3_8 , dice_otsu_median_img_NIH3T3_9 , dice_otsu_median_img_NIH3T3_10 , dice_otsu_median_img_NIH3T3_11 , dice_otsu_median_img_NIH3T3_12 , dice_otsu_median_img_NIH3T3_13 , dice_otsu_median_img_NIH3T3_14 , dice_otsu_median_img_NIH3T3_15 , dice_otsu_median_img_NIH3T3_16 , dice_otsu_median_img_NIH3T3_17 , dice_otsu_median_img_NIH3T3_18])\n",
    "\n",
    "print(NIH3T3_median_filter)"
   ]
  },
  {
   "cell_type": "code",
   "execution_count": 35,
   "metadata": {},
   "outputs": [
    {
     "name": "stdout",
     "output_type": "stream",
     "text": [
      "[0.7486639554901324, 0.7484665404897338, 0.5594125380283164, 0.7118405509337221, 0.7525788150665196, 0.7249418447450219, 0.6663494033627767, 0.7236204396839956, 0.18846889388504987, 0.5915682022687377, 0.5701333479568241, 0.5839274258075212, 0.47404213379327337, 0.4618718923157795, 0.4250115388824652, 0.5543528061496027, 0.5430850201235423, 0.44529525953373084]\n"
     ]
    }
   ],
   "source": [
    "# Dice score - NIH3T3-dataset\n",
    "## gaussian filter\n",
    "\n",
    "NIH3T3_gaussian_filter = []\n",
    "\n",
    "dice_otsu_gauss_img_NIH3T3_1 = dsc.dice(otsu_gauss_img_NIH3T3_1 , gt_NIH3T3_1)\n",
    "dice_otsu_gauss_img_NIH3T3_2 = dsc.dice(otsu_gauss_img_NIH3T3_2 , gt_NIH3T3_2)\n",
    "dice_otsu_gauss_img_NIH3T3_3 = dsc.dice(otsu_gauss_img_NIH3T3_3 , gt_NIH3T3_3)\n",
    "dice_otsu_gauss_img_NIH3T3_4 = dsc.dice(otsu_gauss_img_NIH3T3_4 , gt_NIH3T3_4)\n",
    "dice_otsu_gauss_img_NIH3T3_5 = dsc.dice(otsu_gauss_img_NIH3T3_5 , gt_NIH3T3_5)\n",
    "dice_otsu_gauss_img_NIH3T3_6 = dsc.dice(otsu_gauss_img_NIH3T3_6 , gt_NIH3T3_6)\n",
    "dice_otsu_gauss_img_NIH3T3_7 = dsc.dice(otsu_gauss_img_NIH3T3_7 , gt_NIH3T3_7)\n",
    "dice_otsu_gauss_img_NIH3T3_8 = dsc.dice(otsu_gauss_img_NIH3T3_8 , gt_NIH3T3_8)\n",
    "dice_otsu_gauss_img_NIH3T3_9 = dsc.dice(otsu_gauss_img_NIH3T3_9 , gt_NIH3T3_9)\n",
    "dice_otsu_gauss_img_NIH3T3_10 = dsc.dice(otsu_gauss_img_NIH3T3_10 , gt_NIH3T3_10)\n",
    "dice_otsu_gauss_img_NIH3T3_11 = dsc.dice(otsu_gauss_img_NIH3T3_11 , gt_NIH3T3_11)\n",
    "dice_otsu_gauss_img_NIH3T3_12 = dsc.dice(otsu_gauss_img_NIH3T3_12 , gt_NIH3T3_12)\n",
    "dice_otsu_gauss_img_NIH3T3_13 = dsc.dice(otsu_gauss_img_NIH3T3_13 , gt_NIH3T3_13)\n",
    "dice_otsu_gauss_img_NIH3T3_14 = dsc.dice(otsu_gauss_img_NIH3T3_14 , gt_NIH3T3_14)\n",
    "dice_otsu_gauss_img_NIH3T3_15 = dsc.dice(otsu_gauss_img_NIH3T3_15 , gt_NIH3T3_15)\n",
    "dice_otsu_gauss_img_NIH3T3_16 = dsc.dice(otsu_gauss_img_NIH3T3_16 , gt_NIH3T3_16)\n",
    "dice_otsu_gauss_img_NIH3T3_17 = dsc.dice(otsu_gauss_img_NIH3T3_17 , gt_NIH3T3_17)\n",
    "dice_otsu_gauss_img_NIH3T3_18 = dsc.dice(otsu_gauss_img_NIH3T3_18 , gt_NIH3T3_18)\n",
    "\n",
    "\n",
    "\n",
    "NIH3T3_gaussian_filter.extend([dice_otsu_gauss_img_NIH3T3_1 , dice_otsu_gauss_img_NIH3T3_2 , dice_otsu_gauss_img_NIH3T3_3 , dice_otsu_gauss_img_NIH3T3_4 , dice_otsu_gauss_img_NIH3T3_5 , dice_otsu_gauss_img_NIH3T3_6 , dice_otsu_gauss_img_NIH3T3_7 , dice_otsu_gauss_img_NIH3T3_8 , dice_otsu_gauss_img_NIH3T3_9 , dice_otsu_gauss_img_NIH3T3_10 , dice_otsu_gauss_img_NIH3T3_11 , dice_otsu_gauss_img_NIH3T3_12 , dice_otsu_gauss_img_NIH3T3_13 , dice_otsu_gauss_img_NIH3T3_14 , dice_otsu_gauss_img_NIH3T3_15 , dice_otsu_gauss_img_NIH3T3_16 , dice_otsu_gauss_img_NIH3T3_17 , dice_otsu_gauss_img_NIH3T3_18])\n",
    "\n",
    "print(NIH3T3_gaussian_filter)"
   ]
  },
  {
   "cell_type": "code",
   "execution_count": 36,
   "metadata": {},
   "outputs": [
    {
     "name": "stdout",
     "output_type": "stream",
     "text": [
      "[0.7176071737672008, 0.6810505461554937, 0.5215880768359307, 0.7016115472092179, 0.6694995378878821, 0.5520789424443124, 0.5649943332727729, 0.4856327867741629, 0.42338284536420345, 0.40115113183260115, 0.4846801478198607, 0.4427260251814515, 0.4017880638772316, 0.40617500090172326, 0.38354991805725636, 0.5995848315907074, 0.7030394876746148, 0.4239411096824645]\n"
     ]
    }
   ],
   "source": [
    "# Dice score - NIH3T3-dataset\n",
    "## histogram stretching\n",
    "\n",
    "NIH3T3_histogram_stretching = []\n",
    "\n",
    "dice_otsu_stretch_img_NIH3T3_1 = dsc.dice(otsu_stretch_img_NIH3T3_1 , gt_NIH3T3_1)\n",
    "dice_otsu_stretch_img_NIH3T3_2 = dsc.dice(otsu_stretch_img_NIH3T3_2 , gt_NIH3T3_2)\n",
    "dice_otsu_stretch_img_NIH3T3_3 = dsc.dice(otsu_stretch_img_NIH3T3_3 , gt_NIH3T3_3)\n",
    "dice_otsu_stretch_img_NIH3T3_4 = dsc.dice(otsu_stretch_img_NIH3T3_4 , gt_NIH3T3_4)\n",
    "dice_otsu_stretch_img_NIH3T3_5 = dsc.dice(otsu_stretch_img_NIH3T3_5 , gt_NIH3T3_5)\n",
    "dice_otsu_stretch_img_NIH3T3_6 = dsc.dice(otsu_stretch_img_NIH3T3_6 , gt_NIH3T3_6)\n",
    "dice_otsu_stretch_img_NIH3T3_7 = dsc.dice(otsu_stretch_img_NIH3T3_7 , gt_NIH3T3_7)\n",
    "dice_otsu_stretch_img_NIH3T3_8 = dsc.dice(otsu_stretch_img_NIH3T3_8 , gt_NIH3T3_8)\n",
    "dice_otsu_stretch_img_NIH3T3_9 = dsc.dice(otsu_stretch_img_NIH3T3_9 , gt_NIH3T3_9)\n",
    "dice_otsu_stretch_img_NIH3T3_10 = dsc.dice(otsu_stretch_img_NIH3T3_10 , gt_NIH3T3_10)\n",
    "dice_otsu_stretch_img_NIH3T3_11 = dsc.dice(otsu_stretch_img_NIH3T3_11 , gt_NIH3T3_11)\n",
    "dice_otsu_stretch_img_NIH3T3_12 = dsc.dice(otsu_stretch_img_NIH3T3_12 , gt_NIH3T3_12)\n",
    "dice_otsu_stretch_img_NIH3T3_13 = dsc.dice(otsu_stretch_img_NIH3T3_13 , gt_NIH3T3_13)\n",
    "dice_otsu_stretch_img_NIH3T3_14 = dsc.dice(otsu_stretch_img_NIH3T3_14 , gt_NIH3T3_14)\n",
    "dice_otsu_stretch_img_NIH3T3_15 = dsc.dice(otsu_stretch_img_NIH3T3_15 , gt_NIH3T3_15)\n",
    "dice_otsu_stretch_img_NIH3T3_16 = dsc.dice(otsu_stretch_img_NIH3T3_16 , gt_NIH3T3_16)\n",
    "dice_otsu_stretch_img_NIH3T3_17 = dsc.dice(otsu_stretch_img_NIH3T3_17 , gt_NIH3T3_17)\n",
    "dice_otsu_stretch_img_NIH3T3_18 = dsc.dice(otsu_stretch_img_NIH3T3_18 , gt_NIH3T3_18)\n",
    "\n",
    "\n",
    "\n",
    "NIH3T3_histogram_stretching.extend([dice_otsu_stretch_img_NIH3T3_1 , dice_otsu_stretch_img_NIH3T3_2 , dice_otsu_stretch_img_NIH3T3_3 , dice_otsu_stretch_img_NIH3T3_4 , dice_otsu_stretch_img_NIH3T3_5 , dice_otsu_stretch_img_NIH3T3_6 , dice_otsu_stretch_img_NIH3T3_7 , dice_otsu_stretch_img_NIH3T3_8 , dice_otsu_stretch_img_NIH3T3_9 , dice_otsu_stretch_img_NIH3T3_10 , dice_otsu_stretch_img_NIH3T3_11 , dice_otsu_stretch_img_NIH3T3_12 , dice_otsu_stretch_img_NIH3T3_13 , dice_otsu_stretch_img_NIH3T3_14 , dice_otsu_stretch_img_NIH3T3_15 , dice_otsu_stretch_img_NIH3T3_16 , dice_otsu_stretch_img_NIH3T3_17 , dice_otsu_stretch_img_NIH3T3_18])\n",
    "\n",
    "print(NIH3T3_histogram_stretching)"
   ]
  },
  {
   "cell_type": "code",
   "execution_count": 37,
   "metadata": {},
   "outputs": [
    {
     "name": "stdout",
     "output_type": "stream",
     "text": [
      "[0.6719168180793358, 0.6893816881488005, 0.4816014078618448, 0.7117632412176993, 0.6755607172603216, 0.5577287195810658, 0.5770937162096633, 0.4881457877227291, 0.4188288394056797, 0.40227867149152663, 0.4874323959241305, 0.4465936180000836, 0.4028045586172102, 0.403679425397392, 0.3890253113847716, 0.5964431730533819, 0.7121286400627512, 0.39035365975021147]\n"
     ]
    }
   ],
   "source": [
    "# Dice score - NIH3T3-dataset\n",
    "## median filter and histogram stretching\n",
    "\n",
    "NIH3T3_median_filter_histogram_stretching = []\n",
    "\n",
    "dice_otsu_median_stretch_img_NIH3T3_1 = dsc.dice(otsu_median_stretch_img_NIH3T3_1 , gt_NIH3T3_1)\n",
    "dice_otsu_median_stretch_img_NIH3T3_2 = dsc.dice(otsu_median_stretch_img_NIH3T3_2 , gt_NIH3T3_2)\n",
    "dice_otsu_median_stretch_img_NIH3T3_3 = dsc.dice(otsu_median_stretch_img_NIH3T3_3 , gt_NIH3T3_3)\n",
    "dice_otsu_median_stretch_img_NIH3T3_4 = dsc.dice(otsu_median_stretch_img_NIH3T3_4 , gt_NIH3T3_4)\n",
    "dice_otsu_median_stretch_img_NIH3T3_5 = dsc.dice(otsu_median_stretch_img_NIH3T3_5 , gt_NIH3T3_5)\n",
    "dice_otsu_median_stretch_img_NIH3T3_6 = dsc.dice(otsu_median_stretch_img_NIH3T3_6 , gt_NIH3T3_6)\n",
    "dice_otsu_median_stretch_img_NIH3T3_7 = dsc.dice(otsu_median_stretch_img_NIH3T3_7 , gt_NIH3T3_7)\n",
    "dice_otsu_median_stretch_img_NIH3T3_8 = dsc.dice(otsu_median_stretch_img_NIH3T3_8 , gt_NIH3T3_8)\n",
    "dice_otsu_median_stretch_img_NIH3T3_9 = dsc.dice(otsu_median_stretch_img_NIH3T3_9 , gt_NIH3T3_9)\n",
    "dice_otsu_median_stretch_img_NIH3T3_10 = dsc.dice(otsu_median_stretch_img_NIH3T3_10 , gt_NIH3T3_10)\n",
    "dice_otsu_median_stretch_img_NIH3T3_11 = dsc.dice(otsu_median_stretch_img_NIH3T3_11 , gt_NIH3T3_11)\n",
    "dice_otsu_median_stretch_img_NIH3T3_12 = dsc.dice(otsu_median_stretch_img_NIH3T3_12 , gt_NIH3T3_12)\n",
    "dice_otsu_median_stretch_img_NIH3T3_13 = dsc.dice(otsu_median_stretch_img_NIH3T3_13 , gt_NIH3T3_13)\n",
    "dice_otsu_median_stretch_img_NIH3T3_14 = dsc.dice(otsu_median_stretch_img_NIH3T3_14 , gt_NIH3T3_14)\n",
    "dice_otsu_median_stretch_img_NIH3T3_15 = dsc.dice(otsu_median_stretch_img_NIH3T3_15 , gt_NIH3T3_15)\n",
    "dice_otsu_median_stretch_img_NIH3T3_16 = dsc.dice(otsu_median_stretch_img_NIH3T3_16 , gt_NIH3T3_16)\n",
    "dice_otsu_median_stretch_img_NIH3T3_17 = dsc.dice(otsu_median_stretch_img_NIH3T3_17 , gt_NIH3T3_17)\n",
    "dice_otsu_median_stretch_img_NIH3T3_18 = dsc.dice(otsu_median_stretch_img_NIH3T3_18 , gt_NIH3T3_18)\n",
    "\n",
    "\n",
    "\n",
    "NIH3T3_median_filter_histogram_stretching.extend([dice_otsu_median_stretch_img_NIH3T3_1 , dice_otsu_median_stretch_img_NIH3T3_2 , dice_otsu_median_stretch_img_NIH3T3_3 , dice_otsu_median_stretch_img_NIH3T3_4 , dice_otsu_median_stretch_img_NIH3T3_5 , dice_otsu_median_stretch_img_NIH3T3_6 , dice_otsu_median_stretch_img_NIH3T3_7 , dice_otsu_median_stretch_img_NIH3T3_8 , dice_otsu_median_stretch_img_NIH3T3_9 , dice_otsu_median_stretch_img_NIH3T3_10 , dice_otsu_median_stretch_img_NIH3T3_11 , dice_otsu_median_stretch_img_NIH3T3_12 , dice_otsu_median_stretch_img_NIH3T3_13 , dice_otsu_median_stretch_img_NIH3T3_14 , dice_otsu_median_stretch_img_NIH3T3_15 , dice_otsu_median_stretch_img_NIH3T3_16 , dice_otsu_median_stretch_img_NIH3T3_17 , dice_otsu_median_stretch_img_NIH3T3_18])\n",
    "\n",
    "print(NIH3T3_median_filter_histogram_stretching)"
   ]
  },
  {
   "cell_type": "code",
   "execution_count": 38,
   "metadata": {},
   "outputs": [
    {
     "name": "stdout",
     "output_type": "stream",
     "text": [
      "[0.6719168180793358, 0.6893816881488005, 0.5287193458656358, 0.7117632412176993, 0.6755607172603216, 0.5577287195810658, 0.5770937162096633, 0.4881457877227291, 0.41875639575008494, 0.40227867149152663, 0.4874323959241305, 0.4465936180000836, 0.4028045586172102, 0.40597403676969757, 0.3890253113847716, 0.604761288511628, 0.7121286400627512, 0.39035365975021147]\n"
     ]
    }
   ],
   "source": [
    "# Dice score - NIH3T3-dataset\n",
    "## histogram stretching and median filter\n",
    "\n",
    "NIH3T3_histogram_stretching_median_filter = []\n",
    "\n",
    "dice_otsu_stretch_median_img_NIH3T3_1 = dsc.dice(otsu_stretch_median_img_NIH3T3_1 , gt_NIH3T3_1)\n",
    "dice_otsu_stretch_median_img_NIH3T3_2 = dsc.dice(otsu_stretch_median_img_NIH3T3_2 , gt_NIH3T3_2)\n",
    "dice_otsu_stretch_median_img_NIH3T3_3 = dsc.dice(otsu_stretch_median_img_NIH3T3_3 , gt_NIH3T3_3)\n",
    "dice_otsu_stretch_median_img_NIH3T3_4 = dsc.dice(otsu_stretch_median_img_NIH3T3_4 , gt_NIH3T3_4)\n",
    "dice_otsu_stretch_median_img_NIH3T3_5 = dsc.dice(otsu_stretch_median_img_NIH3T3_5 , gt_NIH3T3_5)\n",
    "dice_otsu_stretch_median_img_NIH3T3_6 = dsc.dice(otsu_stretch_median_img_NIH3T3_6 , gt_NIH3T3_6)\n",
    "dice_otsu_stretch_median_img_NIH3T3_7 = dsc.dice(otsu_stretch_median_img_NIH3T3_7 , gt_NIH3T3_7)\n",
    "dice_otsu_stretch_median_img_NIH3T3_8 = dsc.dice(otsu_stretch_median_img_NIH3T3_8 , gt_NIH3T3_8)\n",
    "dice_otsu_stretch_median_img_NIH3T3_9 = dsc.dice(otsu_stretch_median_img_NIH3T3_9 , gt_NIH3T3_9)\n",
    "dice_otsu_stretch_median_img_NIH3T3_10 = dsc.dice(otsu_stretch_median_img_NIH3T3_10 , gt_NIH3T3_10)\n",
    "dice_otsu_stretch_median_img_NIH3T3_11 = dsc.dice(otsu_stretch_median_img_NIH3T3_11 , gt_NIH3T3_11)\n",
    "dice_otsu_stretch_median_img_NIH3T3_12 = dsc.dice(otsu_stretch_median_img_NIH3T3_12 , gt_NIH3T3_12)\n",
    "dice_otsu_stretch_median_img_NIH3T3_13 = dsc.dice(otsu_stretch_median_img_NIH3T3_13 , gt_NIH3T3_13)\n",
    "dice_otsu_stretch_median_img_NIH3T3_14 = dsc.dice(otsu_stretch_median_img_NIH3T3_14 , gt_NIH3T3_14)\n",
    "dice_otsu_stretch_median_img_NIH3T3_15 = dsc.dice(otsu_stretch_median_img_NIH3T3_15 , gt_NIH3T3_15)\n",
    "dice_otsu_stretch_median_img_NIH3T3_16 = dsc.dice(otsu_stretch_median_img_NIH3T3_16 , gt_NIH3T3_16)\n",
    "dice_otsu_stretch_median_img_NIH3T3_17 = dsc.dice(otsu_stretch_median_img_NIH3T3_17 , gt_NIH3T3_17)\n",
    "dice_otsu_stretch_median_img_NIH3T3_18 = dsc.dice(otsu_stretch_median_img_NIH3T3_18 , gt_NIH3T3_18)\n",
    "\n",
    "\n",
    "\n",
    "NIH3T3_histogram_stretching_median_filter.extend([dice_otsu_stretch_median_img_NIH3T3_1 , dice_otsu_stretch_median_img_NIH3T3_2 ,dice_otsu_stretch_median_img_NIH3T3_3 , dice_otsu_stretch_median_img_NIH3T3_4 , dice_otsu_stretch_median_img_NIH3T3_5 , dice_otsu_stretch_median_img_NIH3T3_6 , dice_otsu_stretch_median_img_NIH3T3_7 , dice_otsu_stretch_median_img_NIH3T3_8 , dice_otsu_stretch_median_img_NIH3T3_9 , dice_otsu_stretch_median_img_NIH3T3_10 , dice_otsu_stretch_median_img_NIH3T3_11 , dice_otsu_stretch_median_img_NIH3T3_12 , dice_otsu_stretch_median_img_NIH3T3_13 , dice_otsu_stretch_median_img_NIH3T3_14 , dice_otsu_stretch_median_img_NIH3T3_15 , dice_otsu_stretch_median_img_NIH3T3_16 , dice_otsu_stretch_median_img_NIH3T3_17 , dice_otsu_stretch_median_img_NIH3T3_18])\n",
    "\n",
    "print(NIH3T3_histogram_stretching_median_filter)"
   ]
  },
  {
   "cell_type": "code",
   "execution_count": 39,
   "metadata": {},
   "outputs": [
    {
     "name": "stdout",
     "output_type": "stream",
     "text": [
      "[0.6044936289945139, 0.6777749419018578, 0.5123057137607937, 0.7112926123535638, 0.6669801234074895, 0.5411286308811538, 0.5817165818101679, 0.5229438540645726, 0.3923479627908209, 0.39582276309401704, 0.48357279798222785, 0.42231960137972463, 0.4165517743800825, 0.39394484948017233, 0.39268642408519266, 0.590536755642173, 0.7003473757970013, 0.3857884799979658]\n"
     ]
    }
   ],
   "source": [
    "# Dice score - NIH3T3-dataset\n",
    "## gaussian filter and histogram stretching\n",
    "\n",
    "thresholded = [otsu_gauss_stretch_img_NIH3T3_1 , otsu_gauss_stretch_img_NIH3T3_2 , otsu_gauss_stretch_img_NIH3T3_3, otsu_gauss_stretch_img_NIH3T3_4 , otsu_gauss_stretch_img_NIH3T3_5 , otsu_gauss_stretch_img_NIH3T3_6 , otsu_gauss_stretch_img_NIH3T3_7 , otsu_gauss_stretch_img_NIH3T3_8 , otsu_gauss_stretch_img_NIH3T3_9 , otsu_gauss_stretch_img_NIH3T3_10 , otsu_gauss_stretch_img_NIH3T3_11 , otsu_gauss_stretch_img_NIH3T3_12 , otsu_gauss_stretch_img_NIH3T3_13 , otsu_gauss_stretch_img_NIH3T3_14 , otsu_gauss_stretch_img_NIH3T3_15 , otsu_gauss_stretch_img_NIH3T3_16 , otsu_gauss_stretch_img_NIH3T3_17 , otsu_gauss_stretch_img_NIH3T3_18]\n",
    "ground_truth = [gt_NIH3T3_1 , gt_NIH3T3_2 , gt_NIH3T3_3, gt_NIH3T3_4 , gt_NIH3T3_5 , gt_NIH3T3_6 , gt_NIH3T3_7 , gt_NIH3T3_8 , gt_NIH3T3_9 , gt_NIH3T3_10 , gt_NIH3T3_11 , gt_NIH3T3_12 , gt_NIH3T3_13 , gt_NIH3T3_14 , gt_NIH3T3_15 , gt_NIH3T3_16 , gt_NIH3T3_17 , gt_NIH3T3_18]\n",
    "\n",
    "NIH3T3_gaussian_filter_histogram_stretching = []\n",
    "\n",
    "dice_otsu_gauss_stretch_img_NIH3T3_1 = dsc.dice(otsu_gauss_stretch_img_NIH3T3_1 , gt_NIH3T3_1)\n",
    "dice_otsu_gauss_stretch_img_NIH3T3_2 = dsc.dice(otsu_gauss_stretch_img_NIH3T3_2 , gt_NIH3T3_2)\n",
    "dice_otsu_gauss_stretch_img_NIH3T3_3 = dsc.dice(otsu_gauss_stretch_img_NIH3T3_3 , gt_NIH3T3_3)\n",
    "dice_otsu_gauss_stretch_img_NIH3T3_4 = dsc.dice(otsu_gauss_stretch_img_NIH3T3_4 , gt_NIH3T3_4)\n",
    "dice_otsu_gauss_stretch_img_NIH3T3_5 = dsc.dice(otsu_gauss_stretch_img_NIH3T3_5 , gt_NIH3T3_5)\n",
    "dice_otsu_gauss_stretch_img_NIH3T3_6 = dsc.dice(otsu_gauss_stretch_img_NIH3T3_6 , gt_NIH3T3_6)\n",
    "dice_otsu_gauss_stretch_img_NIH3T3_7 = dsc.dice(otsu_gauss_stretch_img_NIH3T3_7 , gt_NIH3T3_7)\n",
    "dice_otsu_gauss_stretch_img_NIH3T3_8 = dsc.dice(otsu_gauss_stretch_img_NIH3T3_8 , gt_NIH3T3_8)\n",
    "dice_otsu_gauss_stretch_img_NIH3T3_9 = dsc.dice(otsu_gauss_stretch_img_NIH3T3_9 , gt_NIH3T3_9)\n",
    "dice_otsu_gauss_stretch_img_NIH3T3_10 = dsc.dice(otsu_gauss_stretch_img_NIH3T3_10 , gt_NIH3T3_10)\n",
    "dice_otsu_gauss_stretch_img_NIH3T3_11 = dsc.dice(otsu_gauss_stretch_img_NIH3T3_11 , gt_NIH3T3_11)\n",
    "dice_otsu_gauss_stretch_img_NIH3T3_12 = dsc.dice(otsu_gauss_stretch_img_NIH3T3_12 , gt_NIH3T3_12)\n",
    "dice_otsu_gauss_stretch_img_NIH3T3_13 = dsc.dice(otsu_gauss_stretch_img_NIH3T3_13 , gt_NIH3T3_13)\n",
    "dice_otsu_gauss_stretch_img_NIH3T3_14 = dsc.dice(otsu_gauss_stretch_img_NIH3T3_14 , gt_NIH3T3_14)\n",
    "dice_otsu_gauss_stretch_img_NIH3T3_15 = dsc.dice(otsu_gauss_stretch_img_NIH3T3_15 , gt_NIH3T3_15)\n",
    "dice_otsu_gauss_stretch_img_NIH3T3_16 = dsc.dice(otsu_gauss_stretch_img_NIH3T3_16 , gt_NIH3T3_16)\n",
    "dice_otsu_gauss_stretch_img_NIH3T3_17 = dsc.dice(otsu_gauss_stretch_img_NIH3T3_17 , gt_NIH3T3_17)\n",
    "dice_otsu_gauss_stretch_img_NIH3T3_18 = dsc.dice(otsu_gauss_stretch_img_NIH3T3_18 , gt_NIH3T3_18)\n",
    "\n",
    "NIH3T3_gaussian_filter_histogram_stretching.extend([dice_otsu_gauss_stretch_img_NIH3T3_1 , dice_otsu_gauss_stretch_img_NIH3T3_2 , dice_otsu_gauss_stretch_img_NIH3T3_3 , dice_otsu_gauss_stretch_img_NIH3T3_4 , dice_otsu_gauss_stretch_img_NIH3T3_5 , dice_otsu_gauss_stretch_img_NIH3T3_6 , dice_otsu_gauss_stretch_img_NIH3T3_7 , dice_otsu_gauss_stretch_img_NIH3T3_8 , dice_otsu_gauss_stretch_img_NIH3T3_9 , dice_otsu_gauss_stretch_img_NIH3T3_10 , dice_otsu_gauss_stretch_img_NIH3T3_11 , dice_otsu_gauss_stretch_img_NIH3T3_12 , dice_otsu_gauss_stretch_img_NIH3T3_13 , dice_otsu_gauss_stretch_img_NIH3T3_14 , dice_otsu_gauss_stretch_img_NIH3T3_15 , dice_otsu_gauss_stretch_img_NIH3T3_16 , dice_otsu_gauss_stretch_img_NIH3T3_17 , dice_otsu_gauss_stretch_img_NIH3T3_18])\n",
    "\n",
    "print(NIH3T3_gaussian_filter_histogram_stretching)"
   ]
  },
  {
   "cell_type": "code",
   "execution_count": 40,
   "metadata": {},
   "outputs": [
    {
     "name": "stdout",
     "output_type": "stream",
     "text": [
      "[0.602498981619267, 0.6650062131643281, 0.5086807345123622, 0.7150253087633058, 0.663558857901841, 0.5483354823335164, 0.5803714215518554, 0.5129545139934439, 0.38881281877439966, 0.39832433602824335, 0.47366633915154316, 0.41732267218855446, 0.40613748326761795, 0.39107450785636444, 0.3902054428596869, 0.5903033482871665, 0.6970695067878597, 0.3886689023296709]\n"
     ]
    }
   ],
   "source": [
    "# Dice score - NIH3T3-dataset\n",
    "## histogram stretching and gaussian filter\n",
    "\n",
    "NIH3T3_histogram_stretching_gaussian_filter = []\n",
    "\n",
    "dice_otsu_stretch_gauss_img_NIH3T3_1 = dsc.dice(otsu_stretch_gauss_img_NIH3T3_1 , gt_NIH3T3_1)\n",
    "dice_otsu_stretch_gauss_img_NIH3T3_2 = dsc.dice(otsu_stretch_gauss_img_NIH3T3_2 , gt_NIH3T3_2)\n",
    "dice_otsu_stretch_gauss_img_NIH3T3_3 = dsc.dice(otsu_stretch_gauss_img_NIH3T3_3 , gt_NIH3T3_3)\n",
    "dice_otsu_stretch_gauss_img_NIH3T3_4 = dsc.dice(otsu_stretch_gauss_img_NIH3T3_4 , gt_NIH3T3_4)\n",
    "dice_otsu_stretch_gauss_img_NIH3T3_5 = dsc.dice(otsu_stretch_gauss_img_NIH3T3_5 , gt_NIH3T3_5)\n",
    "dice_otsu_stretch_gauss_img_NIH3T3_6 = dsc.dice(otsu_stretch_gauss_img_NIH3T3_6 , gt_NIH3T3_6)\n",
    "dice_otsu_stretch_gauss_img_NIH3T3_7 = dsc.dice(otsu_stretch_gauss_img_NIH3T3_7 , gt_NIH3T3_7)\n",
    "dice_otsu_stretch_gauss_img_NIH3T3_8 = dsc.dice(otsu_stretch_gauss_img_NIH3T3_8 , gt_NIH3T3_8)\n",
    "dice_otsu_stretch_gauss_img_NIH3T3_9 = dsc.dice(otsu_stretch_gauss_img_NIH3T3_9 , gt_NIH3T3_9)\n",
    "dice_otsu_stretch_gauss_img_NIH3T3_10 = dsc.dice(otsu_stretch_gauss_img_NIH3T3_10 , gt_NIH3T3_10)\n",
    "dice_otsu_stretch_gauss_img_NIH3T3_11 = dsc.dice(otsu_stretch_gauss_img_NIH3T3_11 , gt_NIH3T3_11)\n",
    "dice_otsu_stretch_gauss_img_NIH3T3_12 = dsc.dice(otsu_stretch_gauss_img_NIH3T3_12 , gt_NIH3T3_12)\n",
    "dice_otsu_stretch_gauss_img_NIH3T3_13 = dsc.dice(otsu_stretch_gauss_img_NIH3T3_13 , gt_NIH3T3_13)\n",
    "dice_otsu_stretch_gauss_img_NIH3T3_14 = dsc.dice(otsu_stretch_gauss_img_NIH3T3_14 , gt_NIH3T3_14)\n",
    "dice_otsu_stretch_gauss_img_NIH3T3_15 = dsc.dice(otsu_stretch_gauss_img_NIH3T3_15 , gt_NIH3T3_15)\n",
    "dice_otsu_stretch_gauss_img_NIH3T3_16 = dsc.dice(otsu_stretch_gauss_img_NIH3T3_16 , gt_NIH3T3_16)\n",
    "dice_otsu_stretch_gauss_img_NIH3T3_17 = dsc.dice(otsu_stretch_gauss_img_NIH3T3_17 , gt_NIH3T3_17)\n",
    "dice_otsu_stretch_gauss_img_NIH3T3_18 = dsc.dice(otsu_stretch_gauss_img_NIH3T3_18 , gt_NIH3T3_18)\n",
    "\n",
    "\n",
    "\n",
    "NIH3T3_histogram_stretching_gaussian_filter.extend([dice_otsu_stretch_gauss_img_NIH3T3_1 , dice_otsu_stretch_gauss_img_NIH3T3_2 ,dice_otsu_stretch_gauss_img_NIH3T3_3 , dice_otsu_stretch_gauss_img_NIH3T3_4 , dice_otsu_stretch_gauss_img_NIH3T3_5 , dice_otsu_stretch_gauss_img_NIH3T3_6 , dice_otsu_stretch_gauss_img_NIH3T3_7 , dice_otsu_stretch_gauss_img_NIH3T3_8 , dice_otsu_stretch_gauss_img_NIH3T3_9 , dice_otsu_stretch_gauss_img_NIH3T3_10 , dice_otsu_stretch_gauss_img_NIH3T3_11 , dice_otsu_stretch_gauss_img_NIH3T3_12 , dice_otsu_stretch_gauss_img_NIH3T3_13 , dice_otsu_stretch_gauss_img_NIH3T3_14 , dice_otsu_stretch_gauss_img_NIH3T3_15 , dice_otsu_stretch_gauss_img_NIH3T3_16 , dice_otsu_stretch_gauss_img_NIH3T3_17 , dice_otsu_stretch_gauss_img_NIH3T3_18])\n",
    "\n",
    "print(NIH3T3_histogram_stretching_gaussian_filter)"
   ]
  },
  {
   "cell_type": "code",
   "execution_count": 41,
   "metadata": {},
   "outputs": [
    {
     "name": "stderr",
     "output_type": "stream",
     "text": [
      "/var/folders/wz/vphjb68d65xdm9445dkwz9k40000gn/T/ipykernel_1638/3156945178.py:7: UserWarning: FixedFormatter should only be used together with FixedLocator\n",
      "  ax.set_xticklabels(['no preprocessing' , 'median filter' , 'gaussian filter' , 'histogram \\n stretching' , 'median filter and \\n histogram stretching' , 'histogram stretching and \\n median filter' , 'gaussian filter and \\n histogram stretching' , 'histogram stretching and \\n gaussian filter'])\n"
     ]
    },
    {
     "data": {
      "image/png": "[encoded data removed]",
      "text/plain": [
       "<Figure size 1008x720 with 1 Axes>"
      ]
     },
     "metadata": {
      "needs_background": "light"
     },
     "output_type": "display_data"
    }
   ],
   "source": [
    "# Dice score - preprocessing - NIH3T3-dataset - boxplot\n",
    "\n",
    "data_NIH3T3 = [NIH3T3_no_preprocessing , NIH3T3_median_filter , NIH3T3_gaussian_filter , NIH3T3_histogram_stretching , NIH3T3_median_filter_histogram_stretching , NIH3T3_histogram_stretching_median_filter , NIH3T3_gaussian_filter_histogram_stretching , NIH3T3_histogram_stretching_gaussian_filter]\n",
    "\n",
    "fig_1 = plt.figure(figsize = (14 , 10))\n",
    "ax = fig_1.add_axes([0 , 0 , 1 , 1])\n",
    "ax.set_xticklabels(['no preprocessing' , 'median filter' , 'gaussian filter' , 'histogram \\n stretching' , 'median filter and \\n histogram stretching' , 'histogram stretching and \\n median filter' , 'gaussian filter and \\n histogram stretching' , 'histogram stretching and \\n gaussian filter'])\n",
    "plt.title('Preprocessing methods - NIH3T3' , size = 18)\n",
    "plt.ylabel('Dice score' , size = 12)\n",
    "plt.xlabel('Preprocessing method' , size = 12)\n",
    "bp = ax.boxplot(data_NIH3T3, patch_artist = True)\n",
    "\n",
    "colors = ['#FF3030', '#FF7F24','#FFB90F', '#BCEE68' , '#00B2EE' , '#BF3EFF' , '#8B4513' , '#808A87']\n",
    "\n",
    "for patch, color in zip(bp['boxes'], colors):\n",
    "    patch.set_facecolor(color)\n",
    "\n",
    "for median in bp['medians']:\n",
    "    median.set(color ='black',linewidth = 1)"
   ]
  },
  {
   "cell_type": "code",
   "execution_count": 42,
   "metadata": {},
   "outputs": [
    {
     "name": "stderr",
     "output_type": "stream",
     "text": [
      "/Users/maribelschneider/Documents/Uni/Bachelor - Molekulare Biotechnologie/Vorlesungsunterlagen/weitere Dateien/FS4/Data Analysis/2022-topic-01-team-04/images_segmentation/preprocessing.py:44: UserWarning: FixedFormatter should only be used together with FixedLocator\n",
      "  ax.set_xticklabels(['No preprocessing' , 'Median filter' , 'Gaussian filter' , 'Histogram \\n stretching' , 'Median filter and \\n histogram stretching' , 'Histogram stretching and \\n median filter' , 'Gaussian filter and \\n histogram stretching' , 'Histogram stretching and \\n gaussian filter'])\n"
     ]
    },
    {
     "data": {
      "image/png": "[encoded data removed]",
      "text/plain": [
       "<Figure size 1008x720 with 1 Axes>"
      ]
     },
     "metadata": {
      "needs_background": "light"
     },
     "output_type": "display_data"
    }
   ],
   "source": [
    "pp.dataset_boxplot(data_NIH3T3 , 'Preprocessing methods - NIH3T3')"
   ]
  }
 ],
 "metadata": {
  "kernelspec": {
   "display_name": "Python 3.10.4 ('dataanalysis0104_env')",
   "language": "python",
   "name": "python3"
  },
  "language_info": {
   "codemirror_mode": {
    "name": "ipython",
    "version": 3
   },
   "file_extension": ".py",
   "mimetype": "text/x-python",
   "name": "python",
   "nbconvert_exporter": "python",
   "pygments_lexer": "ipython3",
   "version": "3.10.4"
  },
  "orig_nbformat": 4,
  "vscode": {
   "interpreter": {
    "hash": "c2780eabf9c709791df5bb09a5e724a87501d2f5f75f641a7e33d45f5519c21d"
   }
  }
 },
 "nbformat": 4,
 "nbformat_minor": 2
}
