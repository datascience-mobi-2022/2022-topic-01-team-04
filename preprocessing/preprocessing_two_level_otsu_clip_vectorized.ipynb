{
 "cells": [
  {
   "cell_type": "code",
   "execution_count": 1,
   "metadata": {},
   "outputs": [
    {
     "name": "stdout",
     "output_type": "stream",
     "text": [
      "Using matplotlib backend: <object object at 0x10810ae30>\n",
      "%pylab is deprecated, use %matplotlib inline and import the required libraries.\n",
      "Populating the interactive namespace from numpy and matplotlib\n"
     ]
    },
    {
     "ename": "ModuleNotFoundError",
     "evalue": "No module named 'images_segmentation'",
     "output_type": "error",
     "traceback": [
      "\u001b[0;31m---------------------------------------------------------------------------\u001b[0m",
      "\u001b[0;31mModuleNotFoundError\u001b[0m                       Traceback (most recent call last)",
      "\u001b[1;32m/Users/maribelschneider/Documents/Uni/Bachelor - Molekulare Biotechnologie/Vorlesungsunterlagen/weitere Dateien/FS4/Data Analysis/2022-topic-01-team-04/preprocessing/preprocessing_two_level_otsu_clip_vectorized.ipynb Cell 1'\u001b[0m in \u001b[0;36m<cell line: 8>\u001b[0;34m()\u001b[0m\n\u001b[1;32m      <a href='vscode-notebook-cell:/Users/maribelschneider/Documents/Uni/Bachelor%20-%20Molekulare%20Biotechnologie/Vorlesungsunterlagen/weitere%20Dateien/FS4/Data%20Analysis/2022-topic-01-team-04/preprocessing/preprocessing_two_level_otsu_clip_vectorized.ipynb#ch0000000?line=5'>6</a>\u001b[0m \u001b[39mimport\u001b[39;00m \u001b[39mpandas\u001b[39;00m \u001b[39mas\u001b[39;00m \u001b[39mpd\u001b[39;00m\n\u001b[1;32m      <a href='vscode-notebook-cell:/Users/maribelschneider/Documents/Uni/Bachelor%20-%20Molekulare%20Biotechnologie/Vorlesungsunterlagen/weitere%20Dateien/FS4/Data%20Analysis/2022-topic-01-team-04/preprocessing/preprocessing_two_level_otsu_clip_vectorized.ipynb#ch0000000?line=6'>7</a>\u001b[0m \u001b[39mimport\u001b[39;00m \u001b[39mseaborn\u001b[39;00m \u001b[39mas\u001b[39;00m \u001b[39msns\u001b[39;00m\n\u001b[0;32m----> <a href='vscode-notebook-cell:/Users/maribelschneider/Documents/Uni/Bachelor%20-%20Molekulare%20Biotechnologie/Vorlesungsunterlagen/weitere%20Dateien/FS4/Data%20Analysis/2022-topic-01-team-04/preprocessing/preprocessing_two_level_otsu_clip_vectorized.ipynb#ch0000000?line=7'>8</a>\u001b[0m \u001b[39mfrom\u001b[39;00m \u001b[39mimages_segmentation\u001b[39;00m \u001b[39mimport\u001b[39;00m two_level_otsu \u001b[39mas\u001b[39;00m tlot\n\u001b[1;32m      <a href='vscode-notebook-cell:/Users/maribelschneider/Documents/Uni/Bachelor%20-%20Molekulare%20Biotechnologie/Vorlesungsunterlagen/weitere%20Dateien/FS4/Data%20Analysis/2022-topic-01-team-04/preprocessing/preprocessing_two_level_otsu_clip_vectorized.ipynb#ch0000000?line=8'>9</a>\u001b[0m \u001b[39mfrom\u001b[39;00m \u001b[39mimages_segmentation\u001b[39;00m \u001b[39mimport\u001b[39;00m dicescore \u001b[39mas\u001b[39;00m dsc\n",
      "\u001b[0;31mModuleNotFoundError\u001b[0m: No module named 'images_segmentation'"
     ]
    }
   ],
   "source": [
    "%pylab\n",
    "%matplotlib inline\n",
    "import matplotlib.pyplot as plt\n",
    "import numpy as np\n",
    "import scipy.ndimage\n",
    "import pandas as pd\n",
    "import seaborn as sns\n",
    "from images_segmentation import two_level_otsu as tlot\n",
    "from images_segmentation import dicescore as dsc"
   ]
  },
  {
   "cell_type": "code",
   "execution_count": 2,
   "metadata": {},
   "outputs": [],
   "source": [
    "def stretch(x):\n",
    "    intensities = []\n",
    "   \n",
    "    img = x.copy()\n",
    "    lower_quantile, upper_quantile = np.percentile(x, (2,  98))\n",
    "\n",
    "    img[img < lower_quantile] = lower_quantile\n",
    "    img[img > upper_quantile] = upper_quantile\n",
    "    \n",
    "    for i in np.ndindex(img.shape):\n",
    "        intensities.append(img[i])\n",
    "   \n",
    "    img_max = max(intensities)\n",
    "    img_min = min(intensities)\n",
    "    img_stretch = (img-img_min)*(256 / (img_max-img_min))\n",
    "    return img_stretch"
   ]
  },
  {
   "cell_type": "code",
   "execution_count": 3,
   "metadata": {},
   "outputs": [],
   "source": [
    "# Load raw images of NIH3T3-dataset\n",
    "\n",
    "img_NIH3T3_1 = imread(r\"data/Otsu_data/NIH3T3/img/dna-0.png\")\n",
    "img_NIH3T3_2 = imread(r\"data/Otsu_data/NIH3T3/img/dna-1.png\")\n",
    "img_NIH3T3_3 = imread(r\"data/Otsu_data/NIH3T3/img/dna-26.png\")\n",
    "img_NIH3T3_4 = imread(r\"data/Otsu_data/NIH3T3/img/dna-27.png\")\n",
    "img_NIH3T3_5 = imread(r\"data/Otsu_data/NIH3T3/img/dna-28.png\")\n",
    "img_NIH3T3_6 = imread(r\"data/Otsu_data/NIH3T3/img/dna-29.png\")\n",
    "img_NIH3T3_7 = imread(r\"data/Otsu_data/NIH3T3/img/dna-30.png\")\n",
    "img_NIH3T3_8 = imread(r\"data/Otsu_data/NIH3T3/img/dna-31.png\")\n",
    "img_NIH3T3_9 = imread(r\"data/Otsu_data/NIH3T3/img/dna-32.png\")\n",
    "img_NIH3T3_10 = imread(r\"data/Otsu_data/NIH3T3/img/dna-33.png\")\n",
    "img_NIH3T3_11 = imread(r\"data/Otsu_data/NIH3T3/img/dna-37.png\")\n",
    "img_NIH3T3_12 = imread(r\"data/Otsu_data/NIH3T3/img/dna-40.png\")\n",
    "img_NIH3T3_13 = imread(r\"data/Otsu_data/NIH3T3/img/dna-42.png\")\n",
    "img_NIH3T3_14 = imread(r\"data/Otsu_data/NIH3T3/img/dna-44.png\")\n",
    "img_NIH3T3_15 = imread(r\"data/Otsu_data/NIH3T3/img/dna-45.png\")\n",
    "img_NIH3T3_16 = imread(r\"data/Otsu_data/NIH3T3/img/dna-46.png\")\n",
    "img_NIH3T3_17 = imread(r\"data/Otsu_data/NIH3T3/img/dna-47.png\")\n",
    "img_NIH3T3_18 = imread(r\"data/Otsu_data/NIH3T3/img/dna-49.png\")\n",
    "\n",
    "# Load ground truth images of NIH3T3-dataset\n",
    " \n",
    "gt_NIH3T3_1 = imread(r\"data/Otsu_data/NIH3T3/gt/0.png\")\n",
    "gt_NIH3T3_2 = imread(r\"data/Otsu_data/NIH3T3/gt/1.png\")\n",
    "gt_NIH3T3_3 = imread(r\"data/Otsu_data/NIH3T3/gt/26.png\")\n",
    "gt_NIH3T3_4 = imread(r\"data/Otsu_data/NIH3T3/gt/27.png\")\n",
    "gt_NIH3T3_5 = imread(r\"data/Otsu_data/NIH3T3/gt/28.png\")\n",
    "gt_NIH3T3_6 = imread(r\"data/Otsu_data/NIH3T3/gt/29.png\")\n",
    "gt_NIH3T3_7 = imread(r\"data/Otsu_data/NIH3T3/gt/30.png\")\n",
    "gt_NIH3T3_8 = imread(r\"data/Otsu_data/NIH3T3/gt/31.png\")\n",
    "gt_NIH3T3_9 = imread(r\"data/Otsu_data/NIH3T3/gt/32.png\")\n",
    "gt_NIH3T3_10 = imread(r\"data/Otsu_data/NIH3T3/gt/33.png\")\n",
    "gt_NIH3T3_11 = imread(r\"data/Otsu_data/NIH3T3/gt/37.png\")\n",
    "gt_NIH3T3_12 = imread(r\"data/Otsu_data/NIH3T3/gt/40.png\")\n",
    "gt_NIH3T3_13 = imread(r\"data/Otsu_data/NIH3T3/gt/42.png\")\n",
    "gt_NIH3T3_14 = imread(r\"data/Otsu_data/NIH3T3/gt/44.png\")\n",
    "gt_NIH3T3_15 = imread(r\"data/Otsu_data/NIH3T3/gt/45.png\")\n",
    "gt_NIH3T3_16 = imread(r\"data/Otsu_data/NIH3T3/gt/46.png\")\n",
    "gt_NIH3T3_17 = imread(r\"data/Otsu_data/NIH3T3/gt/47.png\")\n",
    "gt_NIH3T3_18 = imread(r\"data/Otsu_data/NIH3T3/gt/49.png\")"
   ]
  },
  {
   "cell_type": "code",
   "execution_count": 4,
   "metadata": {},
   "outputs": [],
   "source": [
    "copy_img_NIH3T3_1 = img_NIH3T3_1.copy()\n",
    "copy_img_NIH3T3_2 = img_NIH3T3_2.copy()\n",
    "copy_img_NIH3T3_3 = img_NIH3T3_3.copy()\n",
    "copy_img_NIH3T3_4 = img_NIH3T3_4.copy()\n",
    "copy_img_NIH3T3_5 = img_NIH3T3_5.copy()\n",
    "copy_img_NIH3T3_6 = img_NIH3T3_6.copy()\n",
    "copy_img_NIH3T3_7 = img_NIH3T3_7.copy()\n",
    "copy_img_NIH3T3_8 = img_NIH3T3_8.copy()\n",
    "copy_img_NIH3T3_9 = img_NIH3T3_9.copy()\n",
    "copy_img_NIH3T3_10 = img_NIH3T3_10.copy()\n",
    "copy_img_NIH3T3_11 = img_NIH3T3_11.copy()\n",
    "copy_img_NIH3T3_12 = img_NIH3T3_12.copy()\n",
    "copy_img_NIH3T3_13 = img_NIH3T3_13.copy()\n",
    "copy_img_NIH3T3_14 = img_NIH3T3_14.copy()\n",
    "copy_img_NIH3T3_15 = img_NIH3T3_15.copy()\n",
    "copy_img_NIH3T3_16 = img_NIH3T3_16.copy()\n",
    "copy_img_NIH3T3_17 = img_NIH3T3_17.copy()\n",
    "copy_img_NIH3T3_18 = img_NIH3T3_18.copy()"
   ]
  },
  {
   "cell_type": "code",
   "execution_count": 5,
   "metadata": {},
   "outputs": [],
   "source": [
    "median_img_NIH3T3_1 = scipy.ndimage.median_filter(copy_img_NIH3T3_1, 5)\n",
    "median_img_NIH3T3_2 = scipy.ndimage.median_filter(copy_img_NIH3T3_2, 5)\n",
    "median_img_NIH3T3_3 = scipy.ndimage.median_filter(copy_img_NIH3T3_3, 5)\n",
    "median_img_NIH3T3_4 = scipy.ndimage.median_filter(copy_img_NIH3T3_4, 5)\n",
    "median_img_NIH3T3_5 = scipy.ndimage.median_filter(copy_img_NIH3T3_5, 5)\n",
    "median_img_NIH3T3_6 = scipy.ndimage.median_filter(copy_img_NIH3T3_6, 5)\n",
    "median_img_NIH3T3_7 = scipy.ndimage.median_filter(copy_img_NIH3T3_7, 5)\n",
    "median_img_NIH3T3_8 = scipy.ndimage.median_filter(copy_img_NIH3T3_8, 5)\n",
    "median_img_NIH3T3_9 = scipy.ndimage.median_filter(copy_img_NIH3T3_9, 5)\n",
    "median_img_NIH3T3_10 = scipy.ndimage.median_filter(copy_img_NIH3T3_10, 5)\n",
    "median_img_NIH3T3_11 = scipy.ndimage.median_filter(copy_img_NIH3T3_11, 5)\n",
    "median_img_NIH3T3_12 = scipy.ndimage.median_filter(copy_img_NIH3T3_12, 5)\n",
    "median_img_NIH3T3_13 = scipy.ndimage.median_filter(copy_img_NIH3T3_13, 5)\n",
    "median_img_NIH3T3_14 = scipy.ndimage.median_filter(copy_img_NIH3T3_14, 5)\n",
    "median_img_NIH3T3_15 = scipy.ndimage.median_filter(copy_img_NIH3T3_15, 5)\n",
    "median_img_NIH3T3_16 = scipy.ndimage.median_filter(copy_img_NIH3T3_16, 5)\n",
    "median_img_NIH3T3_17 = scipy.ndimage.median_filter(copy_img_NIH3T3_17, 5)\n",
    "median_img_NIH3T3_18 = scipy.ndimage.median_filter(copy_img_NIH3T3_18, 5)"
   ]
  },
  {
   "cell_type": "code",
   "execution_count": 6,
   "metadata": {},
   "outputs": [],
   "source": [
    "gauss_img_NIH3T3_1 = scipy.ndimage.gaussian_filter(copy_img_NIH3T3_1, 5)\n",
    "gauss_img_NIH3T3_2 = scipy.ndimage.gaussian_filter(copy_img_NIH3T3_2, 5)\n",
    "gauss_img_NIH3T3_3 = scipy.ndimage.gaussian_filter(copy_img_NIH3T3_3, 5)\n",
    "gauss_img_NIH3T3_4 = scipy.ndimage.gaussian_filter(copy_img_NIH3T3_4, 5)\n",
    "gauss_img_NIH3T3_5 = scipy.ndimage.gaussian_filter(copy_img_NIH3T3_5, 5)\n",
    "gauss_img_NIH3T3_6 = scipy.ndimage.gaussian_filter(copy_img_NIH3T3_6, 5)\n",
    "gauss_img_NIH3T3_7 = scipy.ndimage.gaussian_filter(copy_img_NIH3T3_7, 5)\n",
    "gauss_img_NIH3T3_8 = scipy.ndimage.gaussian_filter(copy_img_NIH3T3_8, 5)\n",
    "gauss_img_NIH3T3_9 = scipy.ndimage.gaussian_filter(copy_img_NIH3T3_9, 5)\n",
    "gauss_img_NIH3T3_10 = scipy.ndimage.gaussian_filter(copy_img_NIH3T3_10, 5)\n",
    "gauss_img_NIH3T3_11 = scipy.ndimage.gaussian_filter(copy_img_NIH3T3_11, 5)\n",
    "gauss_img_NIH3T3_12 = scipy.ndimage.gaussian_filter(copy_img_NIH3T3_12, 5)\n",
    "gauss_img_NIH3T3_13 = scipy.ndimage.gaussian_filter(copy_img_NIH3T3_13, 5)\n",
    "gauss_img_NIH3T3_14 = scipy.ndimage.gaussian_filter(copy_img_NIH3T3_14, 5)\n",
    "gauss_img_NIH3T3_15 = scipy.ndimage.gaussian_filter(copy_img_NIH3T3_15, 5)\n",
    "gauss_img_NIH3T3_16 = scipy.ndimage.gaussian_filter(copy_img_NIH3T3_16, 5)\n",
    "gauss_img_NIH3T3_17 = scipy.ndimage.gaussian_filter(copy_img_NIH3T3_17, 5)\n",
    "gauss_img_NIH3T3_18 = scipy.ndimage.gaussian_filter(copy_img_NIH3T3_18, 5)"
   ]
  },
  {
   "cell_type": "code",
   "execution_count": 7,
   "metadata": {},
   "outputs": [],
   "source": [
    "stretch_img_NIH3T3_1 = stretch(copy_img_NIH3T3_1)\n",
    "stretch_img_NIH3T3_2 = stretch(copy_img_NIH3T3_2)\n",
    "stretch_img_NIH3T3_3 = stretch(copy_img_NIH3T3_3)\n",
    "stretch_img_NIH3T3_4 = stretch(copy_img_NIH3T3_4)\n",
    "stretch_img_NIH3T3_5 = stretch(copy_img_NIH3T3_5)\n",
    "stretch_img_NIH3T3_6 = stretch(copy_img_NIH3T3_6)\n",
    "stretch_img_NIH3T3_7 = stretch(copy_img_NIH3T3_7)\n",
    "stretch_img_NIH3T3_8 = stretch(copy_img_NIH3T3_8)\n",
    "stretch_img_NIH3T3_9 = stretch(copy_img_NIH3T3_9)\n",
    "stretch_img_NIH3T3_10 = stretch(copy_img_NIH3T3_10)\n",
    "stretch_img_NIH3T3_11 = stretch(copy_img_NIH3T3_11)\n",
    "stretch_img_NIH3T3_12 = stretch(copy_img_NIH3T3_12)\n",
    "stretch_img_NIH3T3_13 = stretch(copy_img_NIH3T3_13)\n",
    "stretch_img_NIH3T3_14 = stretch(copy_img_NIH3T3_14)\n",
    "stretch_img_NIH3T3_15 = stretch(copy_img_NIH3T3_15)\n",
    "stretch_img_NIH3T3_16 = stretch(copy_img_NIH3T3_16)\n",
    "stretch_img_NIH3T3_17 = stretch(copy_img_NIH3T3_17)\n",
    "stretch_img_NIH3T3_18 = stretch(copy_img_NIH3T3_18)"
   ]
  },
  {
   "cell_type": "code",
   "execution_count": 8,
   "metadata": {},
   "outputs": [],
   "source": [
    "median_stretch_img_NIH3T3_1 = stretch(median_img_NIH3T3_1)\n",
    "median_stretch_img_NIH3T3_2 = stretch(median_img_NIH3T3_2)\n",
    "median_stretch_img_NIH3T3_3 = stretch(median_img_NIH3T3_3)\n",
    "median_stretch_img_NIH3T3_4 = stretch(median_img_NIH3T3_4)\n",
    "median_stretch_img_NIH3T3_5 = stretch(median_img_NIH3T3_5)\n",
    "median_stretch_img_NIH3T3_6 = stretch(median_img_NIH3T3_6)\n",
    "median_stretch_img_NIH3T3_7 = stretch(median_img_NIH3T3_7)\n",
    "median_stretch_img_NIH3T3_8 = stretch(median_img_NIH3T3_8)\n",
    "median_stretch_img_NIH3T3_9 = stretch(median_img_NIH3T3_9)\n",
    "median_stretch_img_NIH3T3_10 = stretch(median_img_NIH3T3_10)\n",
    "median_stretch_img_NIH3T3_11 = stretch(median_img_NIH3T3_11)\n",
    "median_stretch_img_NIH3T3_12 = stretch(median_img_NIH3T3_12)\n",
    "median_stretch_img_NIH3T3_13 = stretch(median_img_NIH3T3_13)\n",
    "median_stretch_img_NIH3T3_14 = stretch(median_img_NIH3T3_14)\n",
    "median_stretch_img_NIH3T3_15 = stretch(median_img_NIH3T3_15)\n",
    "median_stretch_img_NIH3T3_16 = stretch(median_img_NIH3T3_16)\n",
    "median_stretch_img_NIH3T3_17 = stretch(median_img_NIH3T3_17)\n",
    "median_stretch_img_NIH3T3_18 = stretch(median_img_NIH3T3_18)"
   ]
  },
  {
   "cell_type": "code",
   "execution_count": 9,
   "metadata": {},
   "outputs": [],
   "source": [
    "stretch_median_img_NIH3T3_1 = scipy.ndimage.median_filter(stretch_img_NIH3T3_1, 5)\n",
    "stretch_median_img_NIH3T3_2 = scipy.ndimage.median_filter(stretch_img_NIH3T3_2, 5)\n",
    "stretch_median_img_NIH3T3_3 = scipy.ndimage.median_filter(stretch_img_NIH3T3_3, 5)\n",
    "stretch_median_img_NIH3T3_4 = scipy.ndimage.median_filter(stretch_img_NIH3T3_4, 5)\n",
    "stretch_median_img_NIH3T3_5 = scipy.ndimage.median_filter(stretch_img_NIH3T3_5, 5)\n",
    "stretch_median_img_NIH3T3_6 = scipy.ndimage.median_filter(stretch_img_NIH3T3_6, 5)\n",
    "stretch_median_img_NIH3T3_7 = scipy.ndimage.median_filter(stretch_img_NIH3T3_7, 5)\n",
    "stretch_median_img_NIH3T3_8 = scipy.ndimage.median_filter(stretch_img_NIH3T3_8, 5)\n",
    "stretch_median_img_NIH3T3_9 = scipy.ndimage.median_filter(stretch_img_NIH3T3_9, 5)\n",
    "stretch_median_img_NIH3T3_10 = scipy.ndimage.median_filter(stretch_img_NIH3T3_10, 5)\n",
    "stretch_median_img_NIH3T3_11 = scipy.ndimage.median_filter(stretch_img_NIH3T3_11, 5)\n",
    "stretch_median_img_NIH3T3_12 = scipy.ndimage.median_filter(stretch_img_NIH3T3_12, 5)\n",
    "stretch_median_img_NIH3T3_13 = scipy.ndimage.median_filter(stretch_img_NIH3T3_13, 5)\n",
    "stretch_median_img_NIH3T3_14 = scipy.ndimage.median_filter(stretch_img_NIH3T3_14, 5)\n",
    "stretch_median_img_NIH3T3_15 = scipy.ndimage.median_filter(stretch_img_NIH3T3_15, 5)\n",
    "stretch_median_img_NIH3T3_16 = scipy.ndimage.median_filter(stretch_img_NIH3T3_16, 5)\n",
    "stretch_median_img_NIH3T3_17 = scipy.ndimage.median_filter(stretch_img_NIH3T3_17, 5)\n",
    "stretch_median_img_NIH3T3_18 = scipy.ndimage.median_filter(stretch_img_NIH3T3_18, 5)"
   ]
  },
  {
   "cell_type": "code",
   "execution_count": 10,
   "metadata": {},
   "outputs": [],
   "source": [
    "gauss_stretch_img_NIH3T3_1 = stretch(gauss_img_NIH3T3_1)\n",
    "gauss_stretch_img_NIH3T3_2 = stretch(gauss_img_NIH3T3_2)\n",
    "gauss_stretch_img_NIH3T3_3 = stretch(gauss_img_NIH3T3_3)\n",
    "gauss_stretch_img_NIH3T3_4 = stretch(gauss_img_NIH3T3_4)\n",
    "gauss_stretch_img_NIH3T3_5 = stretch(gauss_img_NIH3T3_5)\n",
    "gauss_stretch_img_NIH3T3_6 = stretch(gauss_img_NIH3T3_6)\n",
    "gauss_stretch_img_NIH3T3_7 = stretch(gauss_img_NIH3T3_7)\n",
    "gauss_stretch_img_NIH3T3_8 = stretch(gauss_img_NIH3T3_8)\n",
    "gauss_stretch_img_NIH3T3_9 = stretch(gauss_img_NIH3T3_9)\n",
    "gauss_stretch_img_NIH3T3_10 = stretch(gauss_img_NIH3T3_10)\n",
    "gauss_stretch_img_NIH3T3_11 = stretch(gauss_img_NIH3T3_11)\n",
    "gauss_stretch_img_NIH3T3_12 = stretch(gauss_img_NIH3T3_12)\n",
    "gauss_stretch_img_NIH3T3_13 = stretch(gauss_img_NIH3T3_13)\n",
    "gauss_stretch_img_NIH3T3_14 = stretch(gauss_img_NIH3T3_14)\n",
    "gauss_stretch_img_NIH3T3_15 = stretch(gauss_img_NIH3T3_15)\n",
    "gauss_stretch_img_NIH3T3_16 = stretch(gauss_img_NIH3T3_16)\n",
    "gauss_stretch_img_NIH3T3_17 = stretch(gauss_img_NIH3T3_17)\n",
    "gauss_stretch_img_NIH3T3_18 = stretch(gauss_img_NIH3T3_18)"
   ]
  },
  {
   "cell_type": "code",
   "execution_count": 11,
   "metadata": {},
   "outputs": [],
   "source": [
    "stretch_gauss_img_NIH3T3_1 = scipy.ndimage.gaussian_filter(stretch_img_NIH3T3_1, 5)\n",
    "stretch_gauss_img_NIH3T3_2 = scipy.ndimage.gaussian_filter(stretch_img_NIH3T3_2, 5)\n",
    "stretch_gauss_img_NIH3T3_3 = scipy.ndimage.gaussian_filter(stretch_img_NIH3T3_3, 5)\n",
    "stretch_gauss_img_NIH3T3_4 = scipy.ndimage.gaussian_filter(stretch_img_NIH3T3_4, 5)\n",
    "stretch_gauss_img_NIH3T3_5 = scipy.ndimage.gaussian_filter(stretch_img_NIH3T3_5, 5)\n",
    "stretch_gauss_img_NIH3T3_6 = scipy.ndimage.gaussian_filter(stretch_img_NIH3T3_6, 5)\n",
    "stretch_gauss_img_NIH3T3_7 = scipy.ndimage.gaussian_filter(stretch_img_NIH3T3_7, 5)\n",
    "stretch_gauss_img_NIH3T3_8 = scipy.ndimage.gaussian_filter(stretch_img_NIH3T3_8, 5)\n",
    "stretch_gauss_img_NIH3T3_9 = scipy.ndimage.gaussian_filter(stretch_img_NIH3T3_9, 5)\n",
    "stretch_gauss_img_NIH3T3_10 = scipy.ndimage.gaussian_filter(stretch_img_NIH3T3_10, 5)\n",
    "stretch_gauss_img_NIH3T3_11 = scipy.ndimage.gaussian_filter(stretch_img_NIH3T3_11, 5)\n",
    "stretch_gauss_img_NIH3T3_12 = scipy.ndimage.gaussian_filter(stretch_img_NIH3T3_12, 5)\n",
    "stretch_gauss_img_NIH3T3_13 = scipy.ndimage.gaussian_filter(stretch_img_NIH3T3_13, 5)\n",
    "stretch_gauss_img_NIH3T3_14 = scipy.ndimage.gaussian_filter(stretch_img_NIH3T3_14, 5)\n",
    "stretch_gauss_img_NIH3T3_15 = scipy.ndimage.gaussian_filter(stretch_img_NIH3T3_15, 5)\n",
    "stretch_gauss_img_NIH3T3_16 = scipy.ndimage.gaussian_filter(stretch_img_NIH3T3_16, 5)\n",
    "stretch_gauss_img_NIH3T3_17 = scipy.ndimage.gaussian_filter(stretch_img_NIH3T3_17, 5)\n",
    "stretch_gauss_img_NIH3T3_18 = scipy.ndimage.gaussian_filter(stretch_img_NIH3T3_18, 5)"
   ]
  },
  {
   "cell_type": "code",
   "execution_count": 12,
   "metadata": {},
   "outputs": [],
   "source": [
    "otsu_img_NIH3T3_1 = tlot.two_level_otsu_thresholding_clip(copy_img_NIH3T3_1 , 256)\n",
    "otsu_img_NIH3T3_2 = tlot.two_level_otsu_thresholding_clip(copy_img_NIH3T3_2 , 256)\n",
    "otsu_img_NIH3T3_3 = tlot.two_level_otsu_thresholding_clip(copy_img_NIH3T3_3 , 256)\n",
    "otsu_img_NIH3T3_4 = tlot.two_level_otsu_thresholding_clip(copy_img_NIH3T3_4 , 256)\n",
    "otsu_img_NIH3T3_5 = tlot.two_level_otsu_thresholding_clip(copy_img_NIH3T3_5 , 256)\n",
    "otsu_img_NIH3T3_6 = tlot.two_level_otsu_thresholding_clip(copy_img_NIH3T3_6 , 256)\n",
    "otsu_img_NIH3T3_7 = tlot.two_level_otsu_thresholding_clip(copy_img_NIH3T3_7 , 256)\n",
    "otsu_img_NIH3T3_8 = tlot.two_level_otsu_thresholding_clip(copy_img_NIH3T3_8 , 256)\n",
    "otsu_img_NIH3T3_9 = tlot.two_level_otsu_thresholding_clip(copy_img_NIH3T3_9 , 256)\n",
    "otsu_img_NIH3T3_10 = tlot.two_level_otsu_thresholding_clip(copy_img_NIH3T3_10 , 256)\n",
    "otsu_img_NIH3T3_11 = tlot.two_level_otsu_thresholding_clip(copy_img_NIH3T3_11 , 256)\n",
    "otsu_img_NIH3T3_12 = tlot.two_level_otsu_thresholding_clip(copy_img_NIH3T3_12 , 256)\n",
    "otsu_img_NIH3T3_13 = tlot.two_level_otsu_thresholding_clip(copy_img_NIH3T3_13 , 256)\n",
    "otsu_img_NIH3T3_14 = tlot.two_level_otsu_thresholding_clip(copy_img_NIH3T3_14 , 256)\n",
    "otsu_img_NIH3T3_15 = tlot.two_level_otsu_thresholding_clip(copy_img_NIH3T3_15 , 256)\n",
    "otsu_img_NIH3T3_16 = tlot.two_level_otsu_thresholding_clip(copy_img_NIH3T3_16 , 256)\n",
    "otsu_img_NIH3T3_17 = tlot.two_level_otsu_thresholding_clip(copy_img_NIH3T3_17 , 256)\n",
    "otsu_img_NIH3T3_18 = tlot.two_level_otsu_thresholding_clip(copy_img_NIH3T3_18 , 256)"
   ]
  },
  {
   "cell_type": "code",
   "execution_count": 13,
   "metadata": {},
   "outputs": [],
   "source": [
    "otsu_median_img_NIH3T3_1 = tlot.two_level_otsu_thresholding_clip(median_img_NIH3T3_1 , 256)\n",
    "otsu_median_img_NIH3T3_2 = tlot.two_level_otsu_thresholding_clip(median_img_NIH3T3_2 , 256)\n",
    "otsu_median_img_NIH3T3_3 = tlot.two_level_otsu_thresholding_clip(median_img_NIH3T3_3 , 256)\n",
    "otsu_median_img_NIH3T3_4 = tlot.two_level_otsu_thresholding_clip(median_img_NIH3T3_4 , 256)\n",
    "otsu_median_img_NIH3T3_5 = tlot.two_level_otsu_thresholding_clip(median_img_NIH3T3_5 , 256)\n",
    "otsu_median_img_NIH3T3_6 = tlot.two_level_otsu_thresholding_clip(median_img_NIH3T3_6 , 256)\n",
    "otsu_median_img_NIH3T3_7 = tlot.two_level_otsu_thresholding_clip(median_img_NIH3T3_7 , 256)\n",
    "otsu_median_img_NIH3T3_8 = tlot.two_level_otsu_thresholding_clip(median_img_NIH3T3_8 , 256)\n",
    "otsu_median_img_NIH3T3_9 = tlot.two_level_otsu_thresholding_clip(median_img_NIH3T3_9 , 256)\n",
    "otsu_median_img_NIH3T3_10 = tlot.two_level_otsu_thresholding_clip(median_img_NIH3T3_10 , 256)\n",
    "otsu_median_img_NIH3T3_11 = tlot.two_level_otsu_thresholding_clip(median_img_NIH3T3_11 , 256)\n",
    "otsu_median_img_NIH3T3_12 = tlot.two_level_otsu_thresholding_clip(median_img_NIH3T3_12 , 256)\n",
    "otsu_median_img_NIH3T3_13 = tlot.two_level_otsu_thresholding_clip(median_img_NIH3T3_13 , 256)\n",
    "otsu_median_img_NIH3T3_14 = tlot.two_level_otsu_thresholding_clip(median_img_NIH3T3_14 , 256)\n",
    "otsu_median_img_NIH3T3_15 = tlot.two_level_otsu_thresholding_clip(median_img_NIH3T3_15 , 256)\n",
    "otsu_median_img_NIH3T3_16 = tlot.two_level_otsu_thresholding_clip(median_img_NIH3T3_16 , 256)\n",
    "otsu_median_img_NIH3T3_17 = tlot.two_level_otsu_thresholding_clip(median_img_NIH3T3_17 , 256)\n",
    "otsu_median_img_NIH3T3_18 = tlot.two_level_otsu_thresholding_clip(median_img_NIH3T3_18 , 256)"
   ]
  },
  {
   "cell_type": "code",
   "execution_count": 14,
   "metadata": {},
   "outputs": [],
   "source": [
    "otsu_gauss_img_NIH3T3_1 = tlot.two_level_otsu_thresholding_clip(gauss_img_NIH3T3_1 , 256)\n",
    "otsu_gauss_img_NIH3T3_2 = tlot.two_level_otsu_thresholding_clip(gauss_img_NIH3T3_2 , 256)\n",
    "otsu_gauss_img_NIH3T3_3 = tlot.two_level_otsu_thresholding_clip(gauss_img_NIH3T3_3 , 256)\n",
    "otsu_gauss_img_NIH3T3_4 = tlot.two_level_otsu_thresholding_clip(gauss_img_NIH3T3_4 , 256)\n",
    "otsu_gauss_img_NIH3T3_5 = tlot.two_level_otsu_thresholding_clip(gauss_img_NIH3T3_5 , 256)\n",
    "otsu_gauss_img_NIH3T3_6 = tlot.two_level_otsu_thresholding_clip(gauss_img_NIH3T3_6 , 256)\n",
    "otsu_gauss_img_NIH3T3_7 = tlot.two_level_otsu_thresholding_clip(gauss_img_NIH3T3_7 , 256)\n",
    "otsu_gauss_img_NIH3T3_8 = tlot.two_level_otsu_thresholding_clip(gauss_img_NIH3T3_8 , 256)\n",
    "otsu_gauss_img_NIH3T3_9 = tlot.two_level_otsu_thresholding_clip(gauss_img_NIH3T3_9 , 256)\n",
    "otsu_gauss_img_NIH3T3_10 = tlot.two_level_otsu_thresholding_clip(gauss_img_NIH3T3_10 , 256)\n",
    "otsu_gauss_img_NIH3T3_11 = tlot.two_level_otsu_thresholding_clip(gauss_img_NIH3T3_11 , 256)\n",
    "otsu_gauss_img_NIH3T3_12 = tlot.two_level_otsu_thresholding_clip(gauss_img_NIH3T3_12 , 256)\n",
    "otsu_gauss_img_NIH3T3_13 = tlot.two_level_otsu_thresholding_clip(gauss_img_NIH3T3_13 , 256)\n",
    "otsu_gauss_img_NIH3T3_14 = tlot.two_level_otsu_thresholding_clip(gauss_img_NIH3T3_14 , 256)\n",
    "otsu_gauss_img_NIH3T3_15 = tlot.two_level_otsu_thresholding_clip(gauss_img_NIH3T3_15 , 256)\n",
    "otsu_gauss_img_NIH3T3_16 = tlot.two_level_otsu_thresholding_clip(gauss_img_NIH3T3_16 , 256)\n",
    "otsu_gauss_img_NIH3T3_17 = tlot.two_level_otsu_thresholding_clip(gauss_img_NIH3T3_17 , 256)\n",
    "otsu_gauss_img_NIH3T3_18 = tlot.two_level_otsu_thresholding_clip(gauss_img_NIH3T3_18 , 256)"
   ]
  },
  {
   "cell_type": "code",
   "execution_count": 15,
   "metadata": {},
   "outputs": [],
   "source": [
    "otsu_stretch_img_NIH3T3_1 = tlot.two_level_otsu_thresholding_clip(stretch_img_NIH3T3_1 , 256)\n",
    "otsu_stretch_img_NIH3T3_2 = tlot.two_level_otsu_thresholding_clip(stretch_img_NIH3T3_2 , 256)\n",
    "otsu_stretch_img_NIH3T3_3 = tlot.two_level_otsu_thresholding_clip(stretch_img_NIH3T3_3 , 256)\n",
    "otsu_stretch_img_NIH3T3_4 = tlot.two_level_otsu_thresholding_clip(stretch_img_NIH3T3_4 , 256)\n",
    "otsu_stretch_img_NIH3T3_5 = tlot.two_level_otsu_thresholding_clip(stretch_img_NIH3T3_5 , 256)\n",
    "otsu_stretch_img_NIH3T3_6 = tlot.two_level_otsu_thresholding_clip(stretch_img_NIH3T3_6 , 256)\n",
    "otsu_stretch_img_NIH3T3_7 = tlot.two_level_otsu_thresholding_clip(stretch_img_NIH3T3_7 , 256)\n",
    "otsu_stretch_img_NIH3T3_8 = tlot.two_level_otsu_thresholding_clip(stretch_img_NIH3T3_8 , 256)\n",
    "otsu_stretch_img_NIH3T3_9 = tlot.two_level_otsu_thresholding_clip(stretch_img_NIH3T3_9 , 256)\n",
    "otsu_stretch_img_NIH3T3_10 = tlot.two_level_otsu_thresholding_clip(stretch_img_NIH3T3_10 , 256)\n",
    "otsu_stretch_img_NIH3T3_11 = tlot.two_level_otsu_thresholding_clip(stretch_img_NIH3T3_11 , 256)\n",
    "otsu_stretch_img_NIH3T3_12 = tlot.two_level_otsu_thresholding_clip(stretch_img_NIH3T3_12 , 256)\n",
    "otsu_stretch_img_NIH3T3_13 = tlot.two_level_otsu_thresholding_clip(stretch_img_NIH3T3_13 , 256)\n",
    "otsu_stretch_img_NIH3T3_14 = tlot.two_level_otsu_thresholding_clip(stretch_img_NIH3T3_14 , 256)\n",
    "otsu_stretch_img_NIH3T3_15 = tlot.two_level_otsu_thresholding_clip(stretch_img_NIH3T3_15 , 256)\n",
    "otsu_stretch_img_NIH3T3_16 = tlot.two_level_otsu_thresholding_clip(stretch_img_NIH3T3_16 , 256)\n",
    "otsu_stretch_img_NIH3T3_17 = tlot.two_level_otsu_thresholding_clip(stretch_img_NIH3T3_17 , 256)\n",
    "otsu_stretch_img_NIH3T3_18 = tlot.two_level_otsu_thresholding_clip(stretch_img_NIH3T3_18 , 256)\n"
   ]
  },
  {
   "cell_type": "code",
   "execution_count": 16,
   "metadata": {},
   "outputs": [],
   "source": [
    "otsu_median_stretch_img_NIH3T3_1 = tlot.two_level_otsu_thresholding_clip(median_stretch_img_NIH3T3_1 , 256)\n",
    "otsu_median_stretch_img_NIH3T3_2 = tlot.two_level_otsu_thresholding_clip(median_stretch_img_NIH3T3_2 , 256)\n",
    "otsu_median_stretch_img_NIH3T3_3 = tlot.two_level_otsu_thresholding_clip(median_stretch_img_NIH3T3_3 , 256)\n",
    "otsu_median_stretch_img_NIH3T3_4 = tlot.two_level_otsu_thresholding_clip(median_stretch_img_NIH3T3_4 , 256)\n",
    "otsu_median_stretch_img_NIH3T3_5 = tlot.two_level_otsu_thresholding_clip(median_stretch_img_NIH3T3_5 , 256)\n",
    "otsu_median_stretch_img_NIH3T3_6 = tlot.two_level_otsu_thresholding_clip(median_stretch_img_NIH3T3_6 , 256)\n",
    "otsu_median_stretch_img_NIH3T3_7 = tlot.two_level_otsu_thresholding_clip(median_stretch_img_NIH3T3_7 , 256)\n",
    "otsu_median_stretch_img_NIH3T3_8 = tlot.two_level_otsu_thresholding_clip(median_stretch_img_NIH3T3_8 , 256)\n",
    "otsu_median_stretch_img_NIH3T3_9 = tlot.two_level_otsu_thresholding_clip(median_stretch_img_NIH3T3_9 , 256)\n",
    "otsu_median_stretch_img_NIH3T3_10 = tlot.two_level_otsu_thresholding_clip(median_stretch_img_NIH3T3_10 , 256)\n",
    "otsu_median_stretch_img_NIH3T3_11 = tlot.two_level_otsu_thresholding_clip(median_stretch_img_NIH3T3_11 , 256)\n",
    "otsu_median_stretch_img_NIH3T3_12 = tlot.two_level_otsu_thresholding_clip(median_stretch_img_NIH3T3_12 , 256)\n",
    "otsu_median_stretch_img_NIH3T3_13 = tlot.two_level_otsu_thresholding_clip(median_stretch_img_NIH3T3_13 , 256)\n",
    "otsu_median_stretch_img_NIH3T3_14 = tlot.two_level_otsu_thresholding_clip(median_stretch_img_NIH3T3_14 , 256)\n",
    "otsu_median_stretch_img_NIH3T3_15 = tlot.two_level_otsu_thresholding_clip(median_stretch_img_NIH3T3_15 , 256)\n",
    "otsu_median_stretch_img_NIH3T3_16 = tlot.two_level_otsu_thresholding_clip(median_stretch_img_NIH3T3_16 , 256)\n",
    "otsu_median_stretch_img_NIH3T3_17 = tlot.two_level_otsu_thresholding_clip(median_stretch_img_NIH3T3_17 , 256)\n",
    "otsu_median_stretch_img_NIH3T3_18 = tlot.two_level_otsu_thresholding_clip(median_stretch_img_NIH3T3_18 , 256)\n"
   ]
  },
  {
   "cell_type": "code",
   "execution_count": 17,
   "metadata": {},
   "outputs": [],
   "source": [
    "otsu_stretch_median_img_NIH3T3_1 = tlot.two_level_otsu_thresholding_clip(stretch_median_img_NIH3T3_1 , 256)\n",
    "otsu_stretch_median_img_NIH3T3_2 = tlot.two_level_otsu_thresholding_clip(stretch_median_img_NIH3T3_2 , 256)\n",
    "otsu_stretch_median_img_NIH3T3_3 = tlot.two_level_otsu_thresholding_clip(stretch_median_img_NIH3T3_3 , 256)\n",
    "otsu_stretch_median_img_NIH3T3_4 = tlot.two_level_otsu_thresholding_clip(stretch_median_img_NIH3T3_4 , 256)\n",
    "otsu_stretch_median_img_NIH3T3_5 = tlot.two_level_otsu_thresholding_clip(stretch_median_img_NIH3T3_5 , 256)\n",
    "otsu_stretch_median_img_NIH3T3_6 = tlot.two_level_otsu_thresholding_clip(stretch_median_img_NIH3T3_6 , 256)\n",
    "otsu_stretch_median_img_NIH3T3_7 = tlot.two_level_otsu_thresholding_clip(stretch_median_img_NIH3T3_7 , 256)\n",
    "otsu_stretch_median_img_NIH3T3_8 = tlot.two_level_otsu_thresholding_clip(stretch_median_img_NIH3T3_8 , 256)\n",
    "otsu_stretch_median_img_NIH3T3_9 = tlot.two_level_otsu_thresholding_clip(stretch_median_img_NIH3T3_9 , 256)\n",
    "otsu_stretch_median_img_NIH3T3_10 = tlot.two_level_otsu_thresholding_clip(stretch_median_img_NIH3T3_10 , 256)\n",
    "otsu_stretch_median_img_NIH3T3_11 = tlot.two_level_otsu_thresholding_clip(stretch_median_img_NIH3T3_11 , 256)\n",
    "otsu_stretch_median_img_NIH3T3_12 = tlot.two_level_otsu_thresholding_clip(stretch_median_img_NIH3T3_12 , 256)\n",
    "otsu_stretch_median_img_NIH3T3_13 = tlot.two_level_otsu_thresholding_clip(stretch_median_img_NIH3T3_13 , 256)\n",
    "otsu_stretch_median_img_NIH3T3_14 = tlot.two_level_otsu_thresholding_clip(stretch_median_img_NIH3T3_14 , 256)\n",
    "otsu_stretch_median_img_NIH3T3_15 = tlot.two_level_otsu_thresholding_clip(stretch_median_img_NIH3T3_15 , 256)\n",
    "otsu_stretch_median_img_NIH3T3_16 = tlot.two_level_otsu_thresholding_clip(stretch_median_img_NIH3T3_16 , 256)\n",
    "otsu_stretch_median_img_NIH3T3_17 = tlot.two_level_otsu_thresholding_clip(stretch_median_img_NIH3T3_17 , 256)\n",
    "otsu_stretch_median_img_NIH3T3_18 = tlot.two_level_otsu_thresholding_clip(stretch_median_img_NIH3T3_18 , 256)"
   ]
  },
  {
   "cell_type": "code",
   "execution_count": 18,
   "metadata": {},
   "outputs": [],
   "source": [
    "otsu_gauss_stretch_img_NIH3T3_1 = tlot.two_level_otsu_thresholding_clip(gauss_stretch_img_NIH3T3_1 , 256)\n",
    "otsu_gauss_stretch_img_NIH3T3_2 = tlot.two_level_otsu_thresholding_clip(gauss_stretch_img_NIH3T3_2 , 256)\n",
    "otsu_gauss_stretch_img_NIH3T3_3 = tlot.two_level_otsu_thresholding_clip(gauss_stretch_img_NIH3T3_3 , 256)\n",
    "otsu_gauss_stretch_img_NIH3T3_4 = tlot.two_level_otsu_thresholding_clip(gauss_stretch_img_NIH3T3_4 , 256)\n",
    "otsu_gauss_stretch_img_NIH3T3_5 = tlot.two_level_otsu_thresholding_clip(gauss_stretch_img_NIH3T3_5 , 256)\n",
    "otsu_gauss_stretch_img_NIH3T3_6 = tlot.two_level_otsu_thresholding_clip(gauss_stretch_img_NIH3T3_6 , 256)\n",
    "otsu_gauss_stretch_img_NIH3T3_7 = tlot.two_level_otsu_thresholding_clip(gauss_stretch_img_NIH3T3_7 , 256)\n",
    "otsu_gauss_stretch_img_NIH3T3_8 = tlot.two_level_otsu_thresholding_clip(gauss_stretch_img_NIH3T3_8 , 256)\n",
    "otsu_gauss_stretch_img_NIH3T3_9 = tlot.two_level_otsu_thresholding_clip(gauss_stretch_img_NIH3T3_9 , 256)\n",
    "otsu_gauss_stretch_img_NIH3T3_10 = tlot.two_level_otsu_thresholding_clip(gauss_stretch_img_NIH3T3_10 , 256)\n",
    "otsu_gauss_stretch_img_NIH3T3_11 = tlot.two_level_otsu_thresholding_clip(gauss_stretch_img_NIH3T3_11 , 256)\n",
    "otsu_gauss_stretch_img_NIH3T3_12 = tlot.two_level_otsu_thresholding_clip(gauss_stretch_img_NIH3T3_12 , 256)\n",
    "otsu_gauss_stretch_img_NIH3T3_13 = tlot.two_level_otsu_thresholding_clip(gauss_stretch_img_NIH3T3_13 , 256)\n",
    "otsu_gauss_stretch_img_NIH3T3_14 = tlot.two_level_otsu_thresholding_clip(gauss_stretch_img_NIH3T3_14 , 256)\n",
    "otsu_gauss_stretch_img_NIH3T3_15 = tlot.two_level_otsu_thresholding_clip(gauss_stretch_img_NIH3T3_15 , 256)\n",
    "otsu_gauss_stretch_img_NIH3T3_16 = tlot.two_level_otsu_thresholding_clip(gauss_stretch_img_NIH3T3_16 , 256)\n",
    "otsu_gauss_stretch_img_NIH3T3_17 = tlot.two_level_otsu_thresholding_clip(gauss_stretch_img_NIH3T3_17 , 256)\n",
    "otsu_gauss_stretch_img_NIH3T3_18 = tlot.two_level_otsu_thresholding_clip(gauss_stretch_img_NIH3T3_18 , 256)"
   ]
  },
  {
   "cell_type": "code",
   "execution_count": 19,
   "metadata": {},
   "outputs": [],
   "source": [
    "otsu_stretch_gauss_img_NIH3T3_1 = tlot.two_level_otsu_thresholding_clip(stretch_gauss_img_NIH3T3_1 , 256)\n",
    "otsu_stretch_gauss_img_NIH3T3_2 = tlot.two_level_otsu_thresholding_clip(stretch_gauss_img_NIH3T3_2 , 256)\n",
    "otsu_stretch_gauss_img_NIH3T3_3 = tlot.two_level_otsu_thresholding_clip(stretch_gauss_img_NIH3T3_3 , 256)\n",
    "otsu_stretch_gauss_img_NIH3T3_4 = tlot.two_level_otsu_thresholding_clip(stretch_gauss_img_NIH3T3_4 , 256)\n",
    "otsu_stretch_gauss_img_NIH3T3_5 = tlot.two_level_otsu_thresholding_clip(stretch_gauss_img_NIH3T3_5 , 256)\n",
    "otsu_stretch_gauss_img_NIH3T3_6 = tlot.two_level_otsu_thresholding_clip(stretch_gauss_img_NIH3T3_6 , 256)\n",
    "otsu_stretch_gauss_img_NIH3T3_7 = tlot.two_level_otsu_thresholding_clip(stretch_gauss_img_NIH3T3_7 , 256)\n",
    "otsu_stretch_gauss_img_NIH3T3_8 = tlot.two_level_otsu_thresholding_clip(stretch_gauss_img_NIH3T3_8 , 256)\n",
    "otsu_stretch_gauss_img_NIH3T3_9 = tlot.two_level_otsu_thresholding_clip(stretch_gauss_img_NIH3T3_9 , 256)\n",
    "otsu_stretch_gauss_img_NIH3T3_10 = tlot.two_level_otsu_thresholding_clip(stretch_gauss_img_NIH3T3_10 , 256)\n",
    "otsu_stretch_gauss_img_NIH3T3_11 = tlot.two_level_otsu_thresholding_clip(stretch_gauss_img_NIH3T3_11 , 256)\n",
    "otsu_stretch_gauss_img_NIH3T3_12 = tlot.two_level_otsu_thresholding_clip(stretch_gauss_img_NIH3T3_12 , 256)\n",
    "otsu_stretch_gauss_img_NIH3T3_13 = tlot.two_level_otsu_thresholding_clip(stretch_gauss_img_NIH3T3_13 , 256)\n",
    "otsu_stretch_gauss_img_NIH3T3_14 = tlot.two_level_otsu_thresholding_clip(stretch_gauss_img_NIH3T3_14 , 256)\n",
    "otsu_stretch_gauss_img_NIH3T3_15 = tlot.two_level_otsu_thresholding_clip(stretch_gauss_img_NIH3T3_15 , 256)\n",
    "otsu_stretch_gauss_img_NIH3T3_16 = tlot.two_level_otsu_thresholding_clip(stretch_gauss_img_NIH3T3_16 , 256)\n",
    "otsu_stretch_gauss_img_NIH3T3_17 = tlot.two_level_otsu_thresholding_clip(stretch_gauss_img_NIH3T3_17 , 256)\n",
    "otsu_stretch_gauss_img_NIH3T3_18 = tlot.two_level_otsu_thresholding_clip(stretch_gauss_img_NIH3T3_18 , 256)"
   ]
  },
  {
   "cell_type": "code",
   "execution_count": 20,
   "metadata": {},
   "outputs": [
    {
     "name": "stdout",
     "output_type": "stream",
     "text": [
      "[0.8175567059223432, 0.7641330523780855, 0.3169086905969374, 0.7575338566025459, 0.7559234810310762, 0.7445915361959387, 0.6921118996297072, 0.7097600154594973, 0.4124606744520657, 0.6165896391376976, 0.6524872222683588, 0.20382743562653202, 0.5091473215831288, 0.47106917681277655, 0.3218088876557375, 0.6462982808860389, 0.7373557667869669, 0.15138678296573033]\n"
     ]
    }
   ],
   "source": [
    "# Dice score - NIH3T3-dataset\n",
    "## no preprocessing\n",
    "\n",
    "NIH3T3_no_preprocessing = []\n",
    "\n",
    "dice_otsu_img_NIH3T3_1 = dsc.dice(otsu_img_NIH3T3_1 , gt_NIH3T3_1)\n",
    "dice_otsu_img_NIH3T3_2 = dsc.dice(otsu_img_NIH3T3_2 , gt_NIH3T3_2)\n",
    "dice_otsu_img_NIH3T3_3 = dsc.dice(otsu_img_NIH3T3_3 , gt_NIH3T3_3)\n",
    "dice_otsu_img_NIH3T3_4 = dsc.dice(otsu_img_NIH3T3_4 , gt_NIH3T3_4)\n",
    "dice_otsu_img_NIH3T3_5 = dsc.dice(otsu_img_NIH3T3_5 , gt_NIH3T3_5)\n",
    "dice_otsu_img_NIH3T3_6 = dsc.dice(otsu_img_NIH3T3_6 , gt_NIH3T3_6)\n",
    "dice_otsu_img_NIH3T3_7 = dsc.dice(otsu_img_NIH3T3_7 , gt_NIH3T3_7)\n",
    "dice_otsu_img_NIH3T3_8 = dsc.dice(otsu_img_NIH3T3_8 , gt_NIH3T3_8)\n",
    "dice_otsu_img_NIH3T3_9 = dsc.dice(otsu_img_NIH3T3_9 , gt_NIH3T3_9)\n",
    "dice_otsu_img_NIH3T3_10 = dsc.dice(otsu_img_NIH3T3_10 , gt_NIH3T3_10)\n",
    "dice_otsu_img_NIH3T3_11 = dsc.dice(otsu_img_NIH3T3_11 , gt_NIH3T3_11)\n",
    "dice_otsu_img_NIH3T3_12 = dsc.dice(otsu_img_NIH3T3_12 , gt_NIH3T3_12)\n",
    "dice_otsu_img_NIH3T3_13 = dsc.dice(otsu_img_NIH3T3_13 , gt_NIH3T3_13)\n",
    "dice_otsu_img_NIH3T3_14 = dsc.dice(otsu_img_NIH3T3_14 , gt_NIH3T3_14)\n",
    "dice_otsu_img_NIH3T3_15 = dsc.dice(otsu_img_NIH3T3_15 , gt_NIH3T3_15)\n",
    "dice_otsu_img_NIH3T3_16 = dsc.dice(otsu_img_NIH3T3_16 , gt_NIH3T3_16)\n",
    "dice_otsu_img_NIH3T3_17 = dsc.dice(otsu_img_NIH3T3_17 , gt_NIH3T3_17)\n",
    "dice_otsu_img_NIH3T3_18 = dsc.dice(otsu_img_NIH3T3_18 , gt_NIH3T3_18)\n",
    "\n",
    "\n",
    "\n",
    "NIH3T3_no_preprocessing.extend([dice_otsu_img_NIH3T3_1 , dice_otsu_img_NIH3T3_2 , dice_otsu_img_NIH3T3_3 , dice_otsu_img_NIH3T3_4 , dice_otsu_img_NIH3T3_5 , dice_otsu_img_NIH3T3_6 , dice_otsu_img_NIH3T3_7 , dice_otsu_img_NIH3T3_8 , dice_otsu_img_NIH3T3_9 , dice_otsu_img_NIH3T3_10 , dice_otsu_img_NIH3T3_11 , dice_otsu_img_NIH3T3_12 , dice_otsu_img_NIH3T3_13 , dice_otsu_img_NIH3T3_14 , dice_otsu_img_NIH3T3_15 , dice_otsu_img_NIH3T3_16 , dice_otsu_img_NIH3T3_17 , dice_otsu_img_NIH3T3_18])\n",
    "\n",
    "print(NIH3T3_no_preprocessing)"
   ]
  },
  {
   "cell_type": "code",
   "execution_count": 21,
   "metadata": {},
   "outputs": [
    {
     "name": "stdout",
     "output_type": "stream",
     "text": [
      "[0.8257821585324681, 0.7720095711724686, 0.41214619307708833, 0.7585816180274618, 0.7665580602386816, 0.7492257101640871, 0.672486566764614, 0.7421575863972177, 0.3772601366723491, 0.611437775623182, 0.6528608705517528, 0.16859808617204536, 0.5098418588652799, 0.46023367746783805, 0.32423814226501807, 0.6487674272243379, 0.7393355750352838, 0.1514717936866123]\n"
     ]
    }
   ],
   "source": [
    "# Dice score - N2DLHeLa-dataset\n",
    "## median filter\n",
    "\n",
    "NIH3T3_median_filter = []\n",
    "\n",
    "dice_otsu_median_img_NIH3T3_1 = dsc.dice(otsu_median_img_NIH3T3_1 , gt_NIH3T3_1)\n",
    "dice_otsu_median_img_NIH3T3_2 = dsc.dice(otsu_median_img_NIH3T3_2 , gt_NIH3T3_2)\n",
    "dice_otsu_median_img_NIH3T3_3 = dsc.dice(otsu_median_img_NIH3T3_3 , gt_NIH3T3_3)\n",
    "dice_otsu_median_img_NIH3T3_4 = dsc.dice(otsu_median_img_NIH3T3_4 , gt_NIH3T3_4)\n",
    "dice_otsu_median_img_NIH3T3_5 = dsc.dice(otsu_median_img_NIH3T3_5 , gt_NIH3T3_5)\n",
    "dice_otsu_median_img_NIH3T3_6 = dsc.dice(otsu_median_img_NIH3T3_6 , gt_NIH3T3_6)\n",
    "dice_otsu_median_img_NIH3T3_7 = dsc.dice(otsu_median_img_NIH3T3_7 , gt_NIH3T3_7)\n",
    "dice_otsu_median_img_NIH3T3_8 = dsc.dice(otsu_median_img_NIH3T3_8 , gt_NIH3T3_8)\n",
    "dice_otsu_median_img_NIH3T3_9 = dsc.dice(otsu_median_img_NIH3T3_9 , gt_NIH3T3_9)\n",
    "dice_otsu_median_img_NIH3T3_10 = dsc.dice(otsu_median_img_NIH3T3_10 , gt_NIH3T3_10)\n",
    "dice_otsu_median_img_NIH3T3_11 = dsc.dice(otsu_median_img_NIH3T3_11 , gt_NIH3T3_11)\n",
    "dice_otsu_median_img_NIH3T3_12 = dsc.dice(otsu_median_img_NIH3T3_12 , gt_NIH3T3_12)\n",
    "dice_otsu_median_img_NIH3T3_13 = dsc.dice(otsu_median_img_NIH3T3_13 , gt_NIH3T3_13)\n",
    "dice_otsu_median_img_NIH3T3_14 = dsc.dice(otsu_median_img_NIH3T3_14 , gt_NIH3T3_14)\n",
    "dice_otsu_median_img_NIH3T3_15 = dsc.dice(otsu_median_img_NIH3T3_15 , gt_NIH3T3_15)\n",
    "dice_otsu_median_img_NIH3T3_16 = dsc.dice(otsu_median_img_NIH3T3_16 , gt_NIH3T3_16)\n",
    "dice_otsu_median_img_NIH3T3_17 = dsc.dice(otsu_median_img_NIH3T3_17 , gt_NIH3T3_17)\n",
    "dice_otsu_median_img_NIH3T3_18 = dsc.dice(otsu_median_img_NIH3T3_18 , gt_NIH3T3_18)\n",
    "\n",
    "\n",
    "\n",
    "NIH3T3_median_filter.extend([dice_otsu_median_img_NIH3T3_1 , dice_otsu_median_img_NIH3T3_2 , dice_otsu_median_img_NIH3T3_3 , dice_otsu_median_img_NIH3T3_4 , dice_otsu_median_img_NIH3T3_5 , dice_otsu_median_img_NIH3T3_6 , dice_otsu_median_img_NIH3T3_7 , dice_otsu_median_img_NIH3T3_8 , dice_otsu_median_img_NIH3T3_9 , dice_otsu_median_img_NIH3T3_10 , dice_otsu_median_img_NIH3T3_11 , dice_otsu_median_img_NIH3T3_12 , dice_otsu_median_img_NIH3T3_13 , dice_otsu_median_img_NIH3T3_14 , dice_otsu_median_img_NIH3T3_15 , dice_otsu_median_img_NIH3T3_16 , dice_otsu_median_img_NIH3T3_17 , dice_otsu_median_img_NIH3T3_18])\n",
    "\n",
    "print(NIH3T3_median_filter)"
   ]
  },
  {
   "cell_type": "code",
   "execution_count": 22,
   "metadata": {},
   "outputs": [
    {
     "name": "stdout",
     "output_type": "stream",
     "text": [
      "[0.7254039365823354, 0.7523547792041562, 0.3822716605707693, 0.7577197387576295, 0.7631370376355257, 0.7400655970915988, 0.6749869277055668, 0.7288791865935891, 0.3587086875056643, 0.5870042144308306, 0.6409798390367439, 0.19490616681015596, 0.510325645129128, 0.4631125339135514, 0.3283149254936801, 0.6297040953848079, 0.7325216185839196, 0.16979710214270663]\n"
     ]
    }
   ],
   "source": [
    "# Dice score - NIH3T3-dataset\n",
    "## gaussian filter\n",
    "\n",
    "NIH3T3_gaussian_filter = []\n",
    "\n",
    "dice_otsu_gauss_img_NIH3T3_1 = dsc.dice(otsu_gauss_img_NIH3T3_1 , gt_NIH3T3_1)\n",
    "dice_otsu_gauss_img_NIH3T3_2 = dsc.dice(otsu_gauss_img_NIH3T3_2 , gt_NIH3T3_2)\n",
    "dice_otsu_gauss_img_NIH3T3_3 = dsc.dice(otsu_gauss_img_NIH3T3_3 , gt_NIH3T3_3)\n",
    "dice_otsu_gauss_img_NIH3T3_4 = dsc.dice(otsu_gauss_img_NIH3T3_4 , gt_NIH3T3_4)\n",
    "dice_otsu_gauss_img_NIH3T3_5 = dsc.dice(otsu_gauss_img_NIH3T3_5 , gt_NIH3T3_5)\n",
    "dice_otsu_gauss_img_NIH3T3_6 = dsc.dice(otsu_gauss_img_NIH3T3_6 , gt_NIH3T3_6)\n",
    "dice_otsu_gauss_img_NIH3T3_7 = dsc.dice(otsu_gauss_img_NIH3T3_7 , gt_NIH3T3_7)\n",
    "dice_otsu_gauss_img_NIH3T3_8 = dsc.dice(otsu_gauss_img_NIH3T3_8 , gt_NIH3T3_8)\n",
    "dice_otsu_gauss_img_NIH3T3_9 = dsc.dice(otsu_gauss_img_NIH3T3_9 , gt_NIH3T3_9)\n",
    "dice_otsu_gauss_img_NIH3T3_10 = dsc.dice(otsu_gauss_img_NIH3T3_10 , gt_NIH3T3_10)\n",
    "dice_otsu_gauss_img_NIH3T3_11 = dsc.dice(otsu_gauss_img_NIH3T3_11 , gt_NIH3T3_11)\n",
    "dice_otsu_gauss_img_NIH3T3_12 = dsc.dice(otsu_gauss_img_NIH3T3_12 , gt_NIH3T3_12)\n",
    "dice_otsu_gauss_img_NIH3T3_13 = dsc.dice(otsu_gauss_img_NIH3T3_13 , gt_NIH3T3_13)\n",
    "dice_otsu_gauss_img_NIH3T3_14 = dsc.dice(otsu_gauss_img_NIH3T3_14 , gt_NIH3T3_14)\n",
    "dice_otsu_gauss_img_NIH3T3_15 = dsc.dice(otsu_gauss_img_NIH3T3_15 , gt_NIH3T3_15)\n",
    "dice_otsu_gauss_img_NIH3T3_16 = dsc.dice(otsu_gauss_img_NIH3T3_16 , gt_NIH3T3_16)\n",
    "dice_otsu_gauss_img_NIH3T3_17 = dsc.dice(otsu_gauss_img_NIH3T3_17 , gt_NIH3T3_17)\n",
    "dice_otsu_gauss_img_NIH3T3_18 = dsc.dice(otsu_gauss_img_NIH3T3_18 , gt_NIH3T3_18)\n",
    "\n",
    "\n",
    "\n",
    "NIH3T3_gaussian_filter.extend([dice_otsu_gauss_img_NIH3T3_1 , dice_otsu_gauss_img_NIH3T3_2 , dice_otsu_gauss_img_NIH3T3_3 , dice_otsu_gauss_img_NIH3T3_4 , dice_otsu_gauss_img_NIH3T3_5 , dice_otsu_gauss_img_NIH3T3_6 , dice_otsu_gauss_img_NIH3T3_7 , dice_otsu_gauss_img_NIH3T3_8 , dice_otsu_gauss_img_NIH3T3_9 , dice_otsu_gauss_img_NIH3T3_10 , dice_otsu_gauss_img_NIH3T3_11 , dice_otsu_gauss_img_NIH3T3_12 , dice_otsu_gauss_img_NIH3T3_13 , dice_otsu_gauss_img_NIH3T3_14 , dice_otsu_gauss_img_NIH3T3_15 , dice_otsu_gauss_img_NIH3T3_16 , dice_otsu_gauss_img_NIH3T3_17 , dice_otsu_gauss_img_NIH3T3_18])\n",
    "\n",
    "print(NIH3T3_gaussian_filter)"
   ]
  },
  {
   "cell_type": "code",
   "execution_count": 23,
   "metadata": {},
   "outputs": [
    {
     "name": "stdout",
     "output_type": "stream",
     "text": [
      "[0.6874887399442807, 0.6880755234697546, 0.2789833540967043, 0.6180210188168769, 0.6389614715130272, 0.3711390023999481, 0.35447423511650417, 0.3092193846551547, 0.608386743091658, 0.23904123971107005, 0.3560595383113026, 0.17775525398161526, 0.2381144048969436, 0.4154696965999765, 0.30095600629458924, 0.4829369909842541, 0.5811102587018246, 0.15430873807203174]\n"
     ]
    }
   ],
   "source": [
    "# Dice score - NIH3T3-dataset\n",
    "## histogram stretching\n",
    "\n",
    "NIH3T3_histogram_stretching = []\n",
    "\n",
    "dice_otsu_stretch_img_NIH3T3_1 = dsc.dice(otsu_stretch_img_NIH3T3_1 , gt_NIH3T3_1)\n",
    "dice_otsu_stretch_img_NIH3T3_2 = dsc.dice(otsu_stretch_img_NIH3T3_2 , gt_NIH3T3_2)\n",
    "dice_otsu_stretch_img_NIH3T3_3 = dsc.dice(otsu_stretch_img_NIH3T3_3 , gt_NIH3T3_3)\n",
    "dice_otsu_stretch_img_NIH3T3_4 = dsc.dice(otsu_stretch_img_NIH3T3_4 , gt_NIH3T3_4)\n",
    "dice_otsu_stretch_img_NIH3T3_5 = dsc.dice(otsu_stretch_img_NIH3T3_5 , gt_NIH3T3_5)\n",
    "dice_otsu_stretch_img_NIH3T3_6 = dsc.dice(otsu_stretch_img_NIH3T3_6 , gt_NIH3T3_6)\n",
    "dice_otsu_stretch_img_NIH3T3_7 = dsc.dice(otsu_stretch_img_NIH3T3_7 , gt_NIH3T3_7)\n",
    "dice_otsu_stretch_img_NIH3T3_8 = dsc.dice(otsu_stretch_img_NIH3T3_8 , gt_NIH3T3_8)\n",
    "dice_otsu_stretch_img_NIH3T3_9 = dsc.dice(otsu_stretch_img_NIH3T3_9 , gt_NIH3T3_9)\n",
    "dice_otsu_stretch_img_NIH3T3_10 = dsc.dice(otsu_stretch_img_NIH3T3_10 , gt_NIH3T3_10)\n",
    "dice_otsu_stretch_img_NIH3T3_11 = dsc.dice(otsu_stretch_img_NIH3T3_11 , gt_NIH3T3_11)\n",
    "dice_otsu_stretch_img_NIH3T3_12 = dsc.dice(otsu_stretch_img_NIH3T3_12 , gt_NIH3T3_12)\n",
    "dice_otsu_stretch_img_NIH3T3_13 = dsc.dice(otsu_stretch_img_NIH3T3_13 , gt_NIH3T3_13)\n",
    "dice_otsu_stretch_img_NIH3T3_14 = dsc.dice(otsu_stretch_img_NIH3T3_14 , gt_NIH3T3_14)\n",
    "dice_otsu_stretch_img_NIH3T3_15 = dsc.dice(otsu_stretch_img_NIH3T3_15 , gt_NIH3T3_15)\n",
    "dice_otsu_stretch_img_NIH3T3_16 = dsc.dice(otsu_stretch_img_NIH3T3_16 , gt_NIH3T3_16)\n",
    "dice_otsu_stretch_img_NIH3T3_17 = dsc.dice(otsu_stretch_img_NIH3T3_17 , gt_NIH3T3_17)\n",
    "dice_otsu_stretch_img_NIH3T3_18 = dsc.dice(otsu_stretch_img_NIH3T3_18 , gt_NIH3T3_18)\n",
    "\n",
    "\n",
    "\n",
    "NIH3T3_histogram_stretching.extend([dice_otsu_stretch_img_NIH3T3_1 , dice_otsu_stretch_img_NIH3T3_2 , dice_otsu_stretch_img_NIH3T3_3 , dice_otsu_stretch_img_NIH3T3_4 , dice_otsu_stretch_img_NIH3T3_5 , dice_otsu_stretch_img_NIH3T3_6 , dice_otsu_stretch_img_NIH3T3_7 , dice_otsu_stretch_img_NIH3T3_8 , dice_otsu_stretch_img_NIH3T3_9 , dice_otsu_stretch_img_NIH3T3_10 , dice_otsu_stretch_img_NIH3T3_11 , dice_otsu_stretch_img_NIH3T3_12 , dice_otsu_stretch_img_NIH3T3_13 , dice_otsu_stretch_img_NIH3T3_14 , dice_otsu_stretch_img_NIH3T3_15 , dice_otsu_stretch_img_NIH3T3_16 , dice_otsu_stretch_img_NIH3T3_17 , dice_otsu_stretch_img_NIH3T3_18])\n",
    "\n",
    "print(NIH3T3_histogram_stretching)"
   ]
  },
  {
   "cell_type": "code",
   "execution_count": 24,
   "metadata": {},
   "outputs": [
    {
     "name": "stdout",
     "output_type": "stream",
     "text": [
      "[0.6927414716911411, 0.6981637181653468, 0.28264606020428146, 0.6244919307369812, 0.6468418900626025, 0.3743458426649239, 0.358402831535939, 0.3082469983893177, 0.608677185181939, 0.2500342969979595, 0.3598212300664955, 0.1459286400707124, 0.2387679614070251, 0.41681489584060627, 0.3036259719627908, 0.4510855742929364, 0.5925775219311368, 0.15462222306041934]\n"
     ]
    }
   ],
   "source": [
    "# Dice score - NIH3T3-dataset\n",
    "## median filter and histogram stretching\n",
    "\n",
    "NIH3T3_median_filter_histogram_stretching = []\n",
    "\n",
    "dice_otsu_median_stretch_img_NIH3T3_1 = dsc.dice(otsu_median_stretch_img_NIH3T3_1 , gt_NIH3T3_1)\n",
    "dice_otsu_median_stretch_img_NIH3T3_2 = dsc.dice(otsu_median_stretch_img_NIH3T3_2 , gt_NIH3T3_2)\n",
    "dice_otsu_median_stretch_img_NIH3T3_3 = dsc.dice(otsu_median_stretch_img_NIH3T3_3 , gt_NIH3T3_3)\n",
    "dice_otsu_median_stretch_img_NIH3T3_4 = dsc.dice(otsu_median_stretch_img_NIH3T3_4 , gt_NIH3T3_4)\n",
    "dice_otsu_median_stretch_img_NIH3T3_5 = dsc.dice(otsu_median_stretch_img_NIH3T3_5 , gt_NIH3T3_5)\n",
    "dice_otsu_median_stretch_img_NIH3T3_6 = dsc.dice(otsu_median_stretch_img_NIH3T3_6 , gt_NIH3T3_6)\n",
    "dice_otsu_median_stretch_img_NIH3T3_7 = dsc.dice(otsu_median_stretch_img_NIH3T3_7 , gt_NIH3T3_7)\n",
    "dice_otsu_median_stretch_img_NIH3T3_8 = dsc.dice(otsu_median_stretch_img_NIH3T3_8 , gt_NIH3T3_8)\n",
    "dice_otsu_median_stretch_img_NIH3T3_9 = dsc.dice(otsu_median_stretch_img_NIH3T3_9 , gt_NIH3T3_9)\n",
    "dice_otsu_median_stretch_img_NIH3T3_10 = dsc.dice(otsu_median_stretch_img_NIH3T3_10 , gt_NIH3T3_10)\n",
    "dice_otsu_median_stretch_img_NIH3T3_11 = dsc.dice(otsu_median_stretch_img_NIH3T3_11 , gt_NIH3T3_11)\n",
    "dice_otsu_median_stretch_img_NIH3T3_12 = dsc.dice(otsu_median_stretch_img_NIH3T3_12 , gt_NIH3T3_12)\n",
    "dice_otsu_median_stretch_img_NIH3T3_13 = dsc.dice(otsu_median_stretch_img_NIH3T3_13 , gt_NIH3T3_13)\n",
    "dice_otsu_median_stretch_img_NIH3T3_14 = dsc.dice(otsu_median_stretch_img_NIH3T3_14 , gt_NIH3T3_14)\n",
    "dice_otsu_median_stretch_img_NIH3T3_15 = dsc.dice(otsu_median_stretch_img_NIH3T3_15 , gt_NIH3T3_15)\n",
    "dice_otsu_median_stretch_img_NIH3T3_16 = dsc.dice(otsu_median_stretch_img_NIH3T3_16 , gt_NIH3T3_16)\n",
    "dice_otsu_median_stretch_img_NIH3T3_17 = dsc.dice(otsu_median_stretch_img_NIH3T3_17 , gt_NIH3T3_17)\n",
    "dice_otsu_median_stretch_img_NIH3T3_18 = dsc.dice(otsu_median_stretch_img_NIH3T3_18 , gt_NIH3T3_18)\n",
    "\n",
    "\n",
    "\n",
    "NIH3T3_median_filter_histogram_stretching.extend([dice_otsu_median_stretch_img_NIH3T3_1 , dice_otsu_median_stretch_img_NIH3T3_2 , dice_otsu_median_stretch_img_NIH3T3_3 , dice_otsu_median_stretch_img_NIH3T3_4 , dice_otsu_median_stretch_img_NIH3T3_5 , dice_otsu_median_stretch_img_NIH3T3_6 , dice_otsu_median_stretch_img_NIH3T3_7 , dice_otsu_median_stretch_img_NIH3T3_8 , dice_otsu_median_stretch_img_NIH3T3_9 , dice_otsu_median_stretch_img_NIH3T3_10 , dice_otsu_median_stretch_img_NIH3T3_11 , dice_otsu_median_stretch_img_NIH3T3_12 , dice_otsu_median_stretch_img_NIH3T3_13 , dice_otsu_median_stretch_img_NIH3T3_14 , dice_otsu_median_stretch_img_NIH3T3_15 , dice_otsu_median_stretch_img_NIH3T3_16 , dice_otsu_median_stretch_img_NIH3T3_17 , dice_otsu_median_stretch_img_NIH3T3_18])\n",
    "\n",
    "print(NIH3T3_median_filter_histogram_stretching)"
   ]
  },
  {
   "cell_type": "code",
   "execution_count": 25,
   "metadata": {},
   "outputs": [
    {
     "name": "stdout",
     "output_type": "stream",
     "text": [
      "[0.6927414716911411, 0.6981637181653468, 0.28264606020428146, 0.6244919307369812, 0.6468418900626025, 0.3743458426649239, 0.358402831535939, 0.3082469983893177, 0.6086282380224424, 0.2405135814076479, 0.3598212300664955, 0.1459286400707124, 0.2387679614070251, 0.41681489584060627, 0.3036259719627908, 0.4866323936247662, 0.5925775219311368, 0.15462222306041934]\n"
     ]
    }
   ],
   "source": [
    "# Dice score - NIH3T3-dataset\n",
    "## histogram stretching and median filter\n",
    "\n",
    "NIH3T3_histogram_stretching_median_filter = []\n",
    "\n",
    "dice_otsu_stretch_median_img_NIH3T3_1 = dsc.dice(otsu_stretch_median_img_NIH3T3_1 , gt_NIH3T3_1)\n",
    "dice_otsu_stretch_median_img_NIH3T3_2 = dsc.dice(otsu_stretch_median_img_NIH3T3_2 , gt_NIH3T3_2)\n",
    "dice_otsu_stretch_median_img_NIH3T3_3 = dsc.dice(otsu_stretch_median_img_NIH3T3_3 , gt_NIH3T3_3)\n",
    "dice_otsu_stretch_median_img_NIH3T3_4 = dsc.dice(otsu_stretch_median_img_NIH3T3_4 , gt_NIH3T3_4)\n",
    "dice_otsu_stretch_median_img_NIH3T3_5 = dsc.dice(otsu_stretch_median_img_NIH3T3_5 , gt_NIH3T3_5)\n",
    "dice_otsu_stretch_median_img_NIH3T3_6 = dsc.dice(otsu_stretch_median_img_NIH3T3_6 , gt_NIH3T3_6)\n",
    "dice_otsu_stretch_median_img_NIH3T3_7 = dsc.dice(otsu_stretch_median_img_NIH3T3_7 , gt_NIH3T3_7)\n",
    "dice_otsu_stretch_median_img_NIH3T3_8 = dsc.dice(otsu_stretch_median_img_NIH3T3_8 , gt_NIH3T3_8)\n",
    "dice_otsu_stretch_median_img_NIH3T3_9 = dsc.dice(otsu_stretch_median_img_NIH3T3_9 , gt_NIH3T3_9)\n",
    "dice_otsu_stretch_median_img_NIH3T3_10 = dsc.dice(otsu_stretch_median_img_NIH3T3_10 , gt_NIH3T3_10)\n",
    "dice_otsu_stretch_median_img_NIH3T3_11 = dsc.dice(otsu_stretch_median_img_NIH3T3_11 , gt_NIH3T3_11)\n",
    "dice_otsu_stretch_median_img_NIH3T3_12 = dsc.dice(otsu_stretch_median_img_NIH3T3_12 , gt_NIH3T3_12)\n",
    "dice_otsu_stretch_median_img_NIH3T3_13 = dsc.dice(otsu_stretch_median_img_NIH3T3_13 , gt_NIH3T3_13)\n",
    "dice_otsu_stretch_median_img_NIH3T3_14 = dsc.dice(otsu_stretch_median_img_NIH3T3_14 , gt_NIH3T3_14)\n",
    "dice_otsu_stretch_median_img_NIH3T3_15 = dsc.dice(otsu_stretch_median_img_NIH3T3_15 , gt_NIH3T3_15)\n",
    "dice_otsu_stretch_median_img_NIH3T3_16 = dsc.dice(otsu_stretch_median_img_NIH3T3_16 , gt_NIH3T3_16)\n",
    "dice_otsu_stretch_median_img_NIH3T3_17 = dsc.dice(otsu_stretch_median_img_NIH3T3_17 , gt_NIH3T3_17)\n",
    "dice_otsu_stretch_median_img_NIH3T3_18 = dsc.dice(otsu_stretch_median_img_NIH3T3_18 , gt_NIH3T3_18)\n",
    "\n",
    "\n",
    "\n",
    "NIH3T3_histogram_stretching_median_filter.extend([dice_otsu_stretch_median_img_NIH3T3_1 , dice_otsu_stretch_median_img_NIH3T3_2 ,dice_otsu_stretch_median_img_NIH3T3_3 , dice_otsu_stretch_median_img_NIH3T3_4 , dice_otsu_stretch_median_img_NIH3T3_5 , dice_otsu_stretch_median_img_NIH3T3_6 , dice_otsu_stretch_median_img_NIH3T3_7 , dice_otsu_stretch_median_img_NIH3T3_8 , dice_otsu_stretch_median_img_NIH3T3_9 , dice_otsu_stretch_median_img_NIH3T3_10 , dice_otsu_stretch_median_img_NIH3T3_11 , dice_otsu_stretch_median_img_NIH3T3_12 , dice_otsu_stretch_median_img_NIH3T3_13 , dice_otsu_stretch_median_img_NIH3T3_14 , dice_otsu_stretch_median_img_NIH3T3_15 , dice_otsu_stretch_median_img_NIH3T3_16 , dice_otsu_stretch_median_img_NIH3T3_17 , dice_otsu_stretch_median_img_NIH3T3_18])\n",
    "\n",
    "print(NIH3T3_histogram_stretching_median_filter)"
   ]
  },
  {
   "cell_type": "code",
   "execution_count": 26,
   "metadata": {},
   "outputs": [
    {
     "name": "stdout",
     "output_type": "stream",
     "text": [
      "[0.5836509020419851, 0.6680683242102486, 0.3491277975765129, 0.6342825652589905, 0.64460363313263, 0.36059218013399086, 0.3648037205591797, 0.3206513996629454, 0.5987335795062727, 0.24695189827001401, 0.3964419429017342, 0.1712124960563975, 0.2547161394353907, 0.4085225834551421, 0.30640045553743367, 0.4768960584957448, 0.6396434733822393, 0.16097303424302226]\n"
     ]
    }
   ],
   "source": [
    "# Dice score - NIH3T3-dataset\n",
    "## gaussian filter and histogram stretching\n",
    "\n",
    "thresholded = [otsu_gauss_stretch_img_NIH3T3_1 , otsu_gauss_stretch_img_NIH3T3_2 , otsu_gauss_stretch_img_NIH3T3_3, otsu_gauss_stretch_img_NIH3T3_4 , otsu_gauss_stretch_img_NIH3T3_5 , otsu_gauss_stretch_img_NIH3T3_6 , otsu_gauss_stretch_img_NIH3T3_7 , otsu_gauss_stretch_img_NIH3T3_8 , otsu_gauss_stretch_img_NIH3T3_9 , otsu_gauss_stretch_img_NIH3T3_10 , otsu_gauss_stretch_img_NIH3T3_11 , otsu_gauss_stretch_img_NIH3T3_12 , otsu_gauss_stretch_img_NIH3T3_13 , otsu_gauss_stretch_img_NIH3T3_14 , otsu_gauss_stretch_img_NIH3T3_15 , otsu_gauss_stretch_img_NIH3T3_16 , otsu_gauss_stretch_img_NIH3T3_17 , otsu_gauss_stretch_img_NIH3T3_18]\n",
    "ground_truth = [gt_NIH3T3_1 , gt_NIH3T3_2 , gt_NIH3T3_3, gt_NIH3T3_4 , gt_NIH3T3_5 , gt_NIH3T3_6 , gt_NIH3T3_7 , gt_NIH3T3_8 , gt_NIH3T3_9 , gt_NIH3T3_10 , gt_NIH3T3_11 , gt_NIH3T3_12 , gt_NIH3T3_13 , gt_NIH3T3_14 , gt_NIH3T3_15 , gt_NIH3T3_16 , gt_NIH3T3_17 , gt_NIH3T3_18]\n",
    "\n",
    "NIH3T3_gaussian_filter_histogram_stretching = []\n",
    "\n",
    "dice_otsu_gauss_stretch_img_NIH3T3_1 = dsc.dice(otsu_gauss_stretch_img_NIH3T3_1 , gt_NIH3T3_1)\n",
    "dice_otsu_gauss_stretch_img_NIH3T3_2 = dsc.dice(otsu_gauss_stretch_img_NIH3T3_2 , gt_NIH3T3_2)\n",
    "dice_otsu_gauss_stretch_img_NIH3T3_3 = dsc.dice(otsu_gauss_stretch_img_NIH3T3_3 , gt_NIH3T3_3)\n",
    "dice_otsu_gauss_stretch_img_NIH3T3_4 = dsc.dice(otsu_gauss_stretch_img_NIH3T3_4 , gt_NIH3T3_4)\n",
    "dice_otsu_gauss_stretch_img_NIH3T3_5 = dsc.dice(otsu_gauss_stretch_img_NIH3T3_5 , gt_NIH3T3_5)\n",
    "dice_otsu_gauss_stretch_img_NIH3T3_6 = dsc.dice(otsu_gauss_stretch_img_NIH3T3_6 , gt_NIH3T3_6)\n",
    "dice_otsu_gauss_stretch_img_NIH3T3_7 = dsc.dice(otsu_gauss_stretch_img_NIH3T3_7 , gt_NIH3T3_7)\n",
    "dice_otsu_gauss_stretch_img_NIH3T3_8 = dsc.dice(otsu_gauss_stretch_img_NIH3T3_8 , gt_NIH3T3_8)\n",
    "dice_otsu_gauss_stretch_img_NIH3T3_9 = dsc.dice(otsu_gauss_stretch_img_NIH3T3_9 , gt_NIH3T3_9)\n",
    "dice_otsu_gauss_stretch_img_NIH3T3_10 = dsc.dice(otsu_gauss_stretch_img_NIH3T3_10 , gt_NIH3T3_10)\n",
    "dice_otsu_gauss_stretch_img_NIH3T3_11 = dsc.dice(otsu_gauss_stretch_img_NIH3T3_11 , gt_NIH3T3_11)\n",
    "dice_otsu_gauss_stretch_img_NIH3T3_12 = dsc.dice(otsu_gauss_stretch_img_NIH3T3_12 , gt_NIH3T3_12)\n",
    "dice_otsu_gauss_stretch_img_NIH3T3_13 = dsc.dice(otsu_gauss_stretch_img_NIH3T3_13 , gt_NIH3T3_13)\n",
    "dice_otsu_gauss_stretch_img_NIH3T3_14 = dsc.dice(otsu_gauss_stretch_img_NIH3T3_14 , gt_NIH3T3_14)\n",
    "dice_otsu_gauss_stretch_img_NIH3T3_15 = dsc.dice(otsu_gauss_stretch_img_NIH3T3_15 , gt_NIH3T3_15)\n",
    "dice_otsu_gauss_stretch_img_NIH3T3_16 = dsc.dice(otsu_gauss_stretch_img_NIH3T3_16 , gt_NIH3T3_16)\n",
    "dice_otsu_gauss_stretch_img_NIH3T3_17 = dsc.dice(otsu_gauss_stretch_img_NIH3T3_17 , gt_NIH3T3_17)\n",
    "dice_otsu_gauss_stretch_img_NIH3T3_18 = dsc.dice(otsu_gauss_stretch_img_NIH3T3_18 , gt_NIH3T3_18)\n",
    "\n",
    "NIH3T3_gaussian_filter_histogram_stretching.extend([dice_otsu_gauss_stretch_img_NIH3T3_1 , dice_otsu_gauss_stretch_img_NIH3T3_2 , dice_otsu_gauss_stretch_img_NIH3T3_3 , dice_otsu_gauss_stretch_img_NIH3T3_4 , dice_otsu_gauss_stretch_img_NIH3T3_5 , dice_otsu_gauss_stretch_img_NIH3T3_6 , dice_otsu_gauss_stretch_img_NIH3T3_7 , dice_otsu_gauss_stretch_img_NIH3T3_8 , dice_otsu_gauss_stretch_img_NIH3T3_9 , dice_otsu_gauss_stretch_img_NIH3T3_10 , dice_otsu_gauss_stretch_img_NIH3T3_11 , dice_otsu_gauss_stretch_img_NIH3T3_12 , dice_otsu_gauss_stretch_img_NIH3T3_13 , dice_otsu_gauss_stretch_img_NIH3T3_14 , dice_otsu_gauss_stretch_img_NIH3T3_15 , dice_otsu_gauss_stretch_img_NIH3T3_16 , dice_otsu_gauss_stretch_img_NIH3T3_17 , dice_otsu_gauss_stretch_img_NIH3T3_18])\n",
    "\n",
    "print(NIH3T3_gaussian_filter_histogram_stretching)"
   ]
  },
  {
   "cell_type": "code",
   "execution_count": 27,
   "metadata": {},
   "outputs": [
    {
     "name": "stdout",
     "output_type": "stream",
     "text": [
      "[0.5746783227996837, 0.6463796967067829, 0.3466490540596195, 0.6394146019205426, 0.6412146008429251, 0.36295840483206343, 0.36195432332265576, 0.31731974266856044, 0.5989554956982514, 0.24606910213275238, 0.37710920524763153, 0.1699166730407205, 0.2504668666176221, 0.4063619684132411, 0.3018722970926223, 0.47119556308398447, 0.6231068837551402, 0.16256911952360698]\n"
     ]
    }
   ],
   "source": [
    "# Dice score - NIH3T3-dataset\n",
    "## histogram stretching and gaussian filter\n",
    "\n",
    "NIH3T3_histogram_stretching_gaussian_filter = []\n",
    "\n",
    "dice_otsu_stretch_gauss_img_NIH3T3_1 = dsc.dice(otsu_stretch_gauss_img_NIH3T3_1 , gt_NIH3T3_1)\n",
    "dice_otsu_stretch_gauss_img_NIH3T3_2 = dsc.dice(otsu_stretch_gauss_img_NIH3T3_2 , gt_NIH3T3_2)\n",
    "dice_otsu_stretch_gauss_img_NIH3T3_3 = dsc.dice(otsu_stretch_gauss_img_NIH3T3_3 , gt_NIH3T3_3)\n",
    "dice_otsu_stretch_gauss_img_NIH3T3_4 = dsc.dice(otsu_stretch_gauss_img_NIH3T3_4 , gt_NIH3T3_4)\n",
    "dice_otsu_stretch_gauss_img_NIH3T3_5 = dsc.dice(otsu_stretch_gauss_img_NIH3T3_5 , gt_NIH3T3_5)\n",
    "dice_otsu_stretch_gauss_img_NIH3T3_6 = dsc.dice(otsu_stretch_gauss_img_NIH3T3_6 , gt_NIH3T3_6)\n",
    "dice_otsu_stretch_gauss_img_NIH3T3_7 = dsc.dice(otsu_stretch_gauss_img_NIH3T3_7 , gt_NIH3T3_7)\n",
    "dice_otsu_stretch_gauss_img_NIH3T3_8 = dsc.dice(otsu_stretch_gauss_img_NIH3T3_8 , gt_NIH3T3_8)\n",
    "dice_otsu_stretch_gauss_img_NIH3T3_9 = dsc.dice(otsu_stretch_gauss_img_NIH3T3_9 , gt_NIH3T3_9)\n",
    "dice_otsu_stretch_gauss_img_NIH3T3_10 = dsc.dice(otsu_stretch_gauss_img_NIH3T3_10 , gt_NIH3T3_10)\n",
    "dice_otsu_stretch_gauss_img_NIH3T3_11 = dsc.dice(otsu_stretch_gauss_img_NIH3T3_11 , gt_NIH3T3_11)\n",
    "dice_otsu_stretch_gauss_img_NIH3T3_12 = dsc.dice(otsu_stretch_gauss_img_NIH3T3_12 , gt_NIH3T3_12)\n",
    "dice_otsu_stretch_gauss_img_NIH3T3_13 = dsc.dice(otsu_stretch_gauss_img_NIH3T3_13 , gt_NIH3T3_13)\n",
    "dice_otsu_stretch_gauss_img_NIH3T3_14 = dsc.dice(otsu_stretch_gauss_img_NIH3T3_14 , gt_NIH3T3_14)\n",
    "dice_otsu_stretch_gauss_img_NIH3T3_15 = dsc.dice(otsu_stretch_gauss_img_NIH3T3_15 , gt_NIH3T3_15)\n",
    "dice_otsu_stretch_gauss_img_NIH3T3_16 = dsc.dice(otsu_stretch_gauss_img_NIH3T3_16 , gt_NIH3T3_16)\n",
    "dice_otsu_stretch_gauss_img_NIH3T3_17 = dsc.dice(otsu_stretch_gauss_img_NIH3T3_17 , gt_NIH3T3_17)\n",
    "dice_otsu_stretch_gauss_img_NIH3T3_18 = dsc.dice(otsu_stretch_gauss_img_NIH3T3_18 , gt_NIH3T3_18)\n",
    "\n",
    "\n",
    "\n",
    "NIH3T3_histogram_stretching_gaussian_filter.extend([dice_otsu_stretch_gauss_img_NIH3T3_1 , dice_otsu_stretch_gauss_img_NIH3T3_2 ,dice_otsu_stretch_gauss_img_NIH3T3_3 , dice_otsu_stretch_gauss_img_NIH3T3_4 , dice_otsu_stretch_gauss_img_NIH3T3_5 , dice_otsu_stretch_gauss_img_NIH3T3_6 , dice_otsu_stretch_gauss_img_NIH3T3_7 , dice_otsu_stretch_gauss_img_NIH3T3_8 , dice_otsu_stretch_gauss_img_NIH3T3_9 , dice_otsu_stretch_gauss_img_NIH3T3_10 , dice_otsu_stretch_gauss_img_NIH3T3_11 , dice_otsu_stretch_gauss_img_NIH3T3_12 , dice_otsu_stretch_gauss_img_NIH3T3_13 , dice_otsu_stretch_gauss_img_NIH3T3_14 , dice_otsu_stretch_gauss_img_NIH3T3_15 , dice_otsu_stretch_gauss_img_NIH3T3_16 , dice_otsu_stretch_gauss_img_NIH3T3_17 , dice_otsu_stretch_gauss_img_NIH3T3_18])\n",
    "\n",
    "print(NIH3T3_histogram_stretching_gaussian_filter)"
   ]
  },
  {
   "cell_type": "code",
   "execution_count": 28,
   "metadata": {},
   "outputs": [
    {
     "name": "stderr",
     "output_type": "stream",
     "text": [
      "/var/folders/wz/vphjb68d65xdm9445dkwz9k40000gn/T/ipykernel_8820/3156945178.py:7: UserWarning: FixedFormatter should only be used together with FixedLocator\n",
      "  ax.set_xticklabels(['no preprocessing' , 'median filter' , 'gaussian filter' , 'histogram \\n stretching' , 'median filter and \\n histogram stretching' , 'histogram stretching and \\n median filter' , 'gaussian filter and \\n histogram stretching' , 'histogram stretching and \\n gaussian filter'])\n"
     ]
    },
    {
     "data": {
      "image/png": "[encoded data removed]",
      "text/plain": [
       "<Figure size 1008x720 with 1 Axes>"
      ]
     },
     "metadata": {
      "needs_background": "light"
     },
     "output_type": "display_data"
    }
   ],
   "source": [
    "# Dice score - preprocessing - NIH3T3-dataset - boxplot\n",
    "\n",
    "data_NIH3T3 = [NIH3T3_no_preprocessing , NIH3T3_median_filter , NIH3T3_gaussian_filter , NIH3T3_histogram_stretching , NIH3T3_median_filter_histogram_stretching , NIH3T3_histogram_stretching_median_filter , NIH3T3_gaussian_filter_histogram_stretching , NIH3T3_histogram_stretching_gaussian_filter]\n",
    "\n",
    "fig_1 = plt.figure(figsize = (14 , 10))\n",
    "ax = fig_1.add_axes([0 , 0 , 1 , 1])\n",
    "ax.set_xticklabels(['no preprocessing' , 'median filter' , 'gaussian filter' , 'histogram \\n stretching' , 'median filter and \\n histogram stretching' , 'histogram stretching and \\n median filter' , 'gaussian filter and \\n histogram stretching' , 'histogram stretching and \\n gaussian filter'])\n",
    "plt.title('Preprocessing methods - NIH3T3' , size = 18)\n",
    "plt.ylabel('Dice score' , size = 12)\n",
    "plt.xlabel('Preprocessing method' , size = 12)\n",
    "bp = ax.boxplot(data_NIH3T3, patch_artist = True)\n",
    "\n",
    "colors = ['#FF3030', '#FF7F24','#FFB90F', '#BCEE68' , '#00B2EE' , '#BF3EFF' , '#8B4513' , '#808A87']\n",
    "\n",
    "for patch, color in zip(bp['boxes'], colors):\n",
    "    patch.set_facecolor(color)\n",
    "\n",
    "for median in bp['medians']:\n",
    "    median.set(color ='black',linewidth = 1)"
   ]
  }
 ],
 "metadata": {
  "kernelspec": {
   "display_name": "Python 3.10.4 ('dataanalysis0104_env')",
   "language": "python",
   "name": "python3"
  },
  "language_info": {
   "codemirror_mode": {
    "name": "ipython",
    "version": 3
   },
   "file_extension": ".py",
   "mimetype": "text/x-python",
   "name": "python",
   "nbconvert_exporter": "python",
   "pygments_lexer": "ipython3",
   "version": "3.10.4"
  },
  "orig_nbformat": 4,
  "vscode": {
   "interpreter": {
    "hash": "c2780eabf9c709791df5bb09a5e724a87501d2f5f75f641a7e33d45f5519c21d"
   }
  }
 },
 "nbformat": 4,
 "nbformat_minor": 2
}
