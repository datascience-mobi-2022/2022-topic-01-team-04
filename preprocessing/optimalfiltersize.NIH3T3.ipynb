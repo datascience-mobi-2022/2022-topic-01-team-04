{
 "cells": [
  {
   "cell_type": "code",
   "execution_count": 1,
   "metadata": {},
   "outputs": [
    {
     "name": "stdout",
     "output_type": "stream",
     "text": [
      "Using matplotlib backend: <object object at 0x0000020F7A6526F0>\n",
      "%pylab is deprecated, use %matplotlib inline and import the required libraries.\n",
      "Populating the interactive namespace from numpy and matplotlib\n"
     ]
    }
   ],
   "source": [
    "%pylab\n",
    "%matplotlib inline\n",
    "import matplotlib.pyplot as plt\n",
    "import numpy as np\n",
    "import scipy.ndimage\n",
    "import pandas as pd\n",
    "import seaborn as sns\n",
    "path =  (os.path.abspath(os.path.join(r'.', os.pardir)))\n",
    "import sys\n",
    "sys.path.append(path)\n",
    "from images_segmentation import otsu as ot\n",
    "from images_segmentation import dicescore as dsc\n",
    "from PIL import Image\n",
    "import os\n",
    "import os.path"
   ]
  },
  {
   "cell_type": "code",
   "execution_count": 2,
   "metadata": {},
   "outputs": [],
   "source": [
    "# Set ground truth images from N2DH-GOWT1 dataset and N2DL-HeLa dataset to 0 and 1\n",
    "\n",
    "def binarize(x):\n",
    "    img = x.copy()\n",
    "\n",
    "    for o in np.ndindex(img.shape):\n",
    "        if img[o] > 0: \n",
    "           img[o] = 1\n",
    "        else:\n",
    "            img[o] = 0\n",
    "    \n",
    "    return img"
   ]
  },
  {
   "cell_type": "markdown",
   "metadata": {},
   "source": [
    "## NIH3T3 Dataset"
   ]
  },
  {
   "cell_type": "code",
   "execution_count": 4,
   "metadata": {},
   "outputs": [],
   "source": [
    "# Load raw images of NIH3T3-dataset\n",
    "\n",
    "img_NIH3T3 = []\n",
    "path = os.path.join(os.path.abspath(os.path.join(r'.', os.pardir)),r\"data/Otsu_data/NIH3T3/img\")\n",
    "for f in os.listdir(path):\n",
    "    img_NIH3T3.append(imread(os.path.join(path , f)))\n",
    "\n",
    "# Load ground truth images of NIH3T3-dataset\n",
    " \n",
    "gt_NIH3T3 = []\n",
    "path = os.path.join(os.path.abspath(os.path.join(r'.', os.pardir)),r\"data/Otsu_data/NIH3T3/gt\")\n",
    "for f in os.listdir(path):\n",
    "    gt_NIH3T3.append(imread(os.path.join(path , f)))"
   ]
  },
  {
   "cell_type": "code",
   "execution_count": 5,
   "metadata": {},
   "outputs": [],
   "source": [
    "# Make a copy of all images of each dataset / use as \"no preprocessed images\"\n",
    "copy_img_NIH3T3 = img_NIH3T3.copy()"
   ]
  },
  {
   "cell_type": "markdown",
   "metadata": {},
   "source": [
    "#### Median filter"
   ]
  },
  {
   "cell_type": "code",
   "execution_count": 6,
   "metadata": {},
   "outputs": [
    {
     "name": "stdout",
     "output_type": "stream",
     "text": [
      "filtersize done\n",
      "filtersize done\n",
      "filtersize done\n",
      "filtersize done\n",
      "filtersize done\n",
      "filtersize done\n"
     ]
    }
   ],
   "source": [
    "# Apply median filter to all images of each dataset\n",
    "# mit kleinerern Filtern läuft es schneller durch\n",
    "# filter größen die man möchte\n",
    "filter = [3, 4, 5, 10, 15, 20]\n",
    "median_img_NIH3T3 = []\n",
    "for j in range (0, len(filter)):\n",
    "    \n",
    "    for i in range(0, len(copy_img_NIH3T3)):\n",
    "        median_img_NIH3T3.append(scipy.ndimage.median_filter(copy_img_NIH3T3[i] , size= filter[j]))\n",
    "    print(\"filtersize done\")    "
   ]
  },
  {
   "cell_type": "markdown",
   "metadata": {},
   "source": [
    "#### gaussian filter"
   ]
  },
  {
   "cell_type": "code",
   "execution_count": null,
   "metadata": {},
   "outputs": [],
   "source": [
    "# Apply gaussian filter to all images of each dataset\n",
    "#filter größen die mach möchte \n",
    "filter_g = [3, 4, 5, 10, 15, 20]\n",
    "gauss_img_NIH3T3 = []\n",
    "for j in range (0, len(filter_g)):\n",
    "\n",
    "    for i in range(0,len(copy_img_NIH3T3)):\n",
    "        gauss_img_NIH3T3.append(scipy.ndimage.gaussian_filter(copy_img_NIH3T3[i] , size= filter_g[j]))\n",
    "    print(\"filtersize done\")"
   ]
  },
  {
   "cell_type": "markdown",
   "metadata": {},
   "source": [
    "## Otsu thresholding"
   ]
  },
  {
   "cell_type": "code",
   "execution_count": 8,
   "metadata": {},
   "outputs": [],
   "source": [
    "# Apply otsu thresholding to all images of each dataset - median filter\n",
    "otsu_median_img_NIH3T3 = []\n",
    "for i in range(0,len(median_img_NIH3T3)):\n",
    "    otsu_median_img_NIH3T3.append(ot.otsu_thresholding(median_img_NIH3T3 [i] , 256))\n",
    "\n",
    "\n"
   ]
  },
  {
   "cell_type": "code",
   "execution_count": null,
   "metadata": {},
   "outputs": [],
   "source": [
    "# Apply otsu thresholding to all images of each dataset - gaussian filter\n",
    "otsu_gauss_img_NIH3T3 = []\n",
    "for i in range(0,len(gauss_img_NIH3T3)):\n",
    "    otsu_gauss_img_NIH3T3.append(ot.otsu_thresholding(gauss_img_NIH3T3[i] , 256))\n"
   ]
  },
  {
   "cell_type": "markdown",
   "metadata": {},
   "source": [
    "## Dice score"
   ]
  },
  {
   "cell_type": "code",
   "execution_count": 21,
   "metadata": {},
   "outputs": [
    {
     "ename": "TypeError",
     "evalue": "unsupported operand type(s) for -: 'list' and 'int'",
     "output_type": "error",
     "traceback": [
      "\u001b[1;31m---------------------------------------------------------------------------\u001b[0m",
      "\u001b[1;31mTypeError\u001b[0m                                 Traceback (most recent call last)",
      "\u001b[1;32mc:\\Users\\Helen Jade\\OneDrive\\Desktop\\2022-topic-01-team-04\\preprocessing\\optimalfiltersize.NIH3T3.ipynb Cell 14'\u001b[0m in \u001b[0;36m<cell line: 6>\u001b[1;34m()\u001b[0m\n\u001b[0;32m      <a href='vscode-notebook-cell:/c%3A/Users/Helen%20Jade/OneDrive/Desktop/2022-topic-01-team-04/preprocessing/optimalfiltersize.NIH3T3.ipynb#ch0000011?line=4'>5</a>\u001b[0m dice_otsu_median_img_NIH3T3 \u001b[39m=\u001b[39m []\n\u001b[0;32m      <a href='vscode-notebook-cell:/c%3A/Users/Helen%20Jade/OneDrive/Desktop/2022-topic-01-team-04/preprocessing/optimalfiltersize.NIH3T3.ipynb#ch0000011?line=5'>6</a>\u001b[0m \u001b[39mfor\u001b[39;00m j \u001b[39min\u001b[39;00m \u001b[39mrange\u001b[39m( \u001b[39m0\u001b[39m, \u001b[39mlen\u001b[39m(otsu_median_img_NIH3T3)):\n\u001b[1;32m----> <a href='vscode-notebook-cell:/c%3A/Users/Helen%20Jade/OneDrive/Desktop/2022-topic-01-team-04/preprocessing/optimalfiltersize.NIH3T3.ipynb#ch0000011?line=6'>7</a>\u001b[0m     dice_otsu_median_img_NIH3T3\u001b[39m.\u001b[39mappend(dsc\u001b[39m.\u001b[39;49mdice(otsu_median_img_NIH3T3[j] , gt_NIH3T3_6[j]))\n\u001b[0;32m      <a href='vscode-notebook-cell:/c%3A/Users/Helen%20Jade/OneDrive/Desktop/2022-topic-01-team-04/preprocessing/optimalfiltersize.NIH3T3.ipynb#ch0000011?line=7'>8</a>\u001b[0m \u001b[39mprint\u001b[39m(dice_otsu_median_img_NIH3T3)\n",
      "File \u001b[1;32mc:\\Users\\Helen Jade\\OneDrive\\Desktop\\2022-topic-01-team-04\\images_segmentation\\dicescore.py:27\u001b[0m, in \u001b[0;36mdice\u001b[1;34m(picture1, picture2)\u001b[0m\n\u001b[0;32m     26\u001b[0m \u001b[39mdef\u001b[39;00m \u001b[39mdice\u001b[39m(picture1,picture2):\n\u001b[1;32m---> 27\u001b[0m     dice \u001b[39m=\u001b[39m \u001b[39mmin\u001b[39m(foreground_dice(picture1,picture2),background_dice(picture1,picture2))\n\u001b[0;32m     28\u001b[0m     \u001b[39mreturn\u001b[39;00m dice\n",
      "File \u001b[1;32mc:\\Users\\Helen Jade\\OneDrive\\Desktop\\2022-topic-01-team-04\\images_segmentation\\dicescore.py:7\u001b[0m, in \u001b[0;36mforeground_dice\u001b[1;34m(gt, pt)\u001b[0m\n\u001b[0;32m      5\u001b[0m product1 \u001b[39m=\u001b[39m np\u001b[39m.\u001b[39mmultiply(gt,pt)\n\u001b[0;32m      6\u001b[0m gt2 \u001b[39m=\u001b[39m gt\u001b[39m-\u001b[39m\u001b[39m1\u001b[39m\n\u001b[1;32m----> 7\u001b[0m pt2 \u001b[39m=\u001b[39m pt\u001b[39m-\u001b[39;49m\u001b[39m1\u001b[39;49m\n\u001b[0;32m      8\u001b[0m product2 \u001b[39m=\u001b[39m np\u001b[39m.\u001b[39mmultiply(gt2,pt2)\n\u001b[0;32m      9\u001b[0m tp \u001b[39m=\u001b[39m np\u001b[39m.\u001b[39mcount_nonzero(product1)\n",
      "\u001b[1;31mTypeError\u001b[0m: unsupported operand type(s) for -: 'list' and 'int'"
     ]
    }
   ],
   "source": [
    "# Dice score - NIH3T3-dataset\n",
    "## median filter\n",
    "\n",
    "gt_NIH3T3_6 = [gt_NIH3T3, gt_NIH3T3, gt_NIH3T3, gt_NIH3T3, gt_NIH3T3, gt_NIH3T3]\n",
    "dice_otsu_median_img_NIH3T3 = []\n",
    "for j in range( 0, len(otsu_median_img_NIH3T3)):\n",
    "    dice_otsu_median_img_NIH3T3.append(dsc.dice(otsu_median_img_NIH3T3[j] , gt_NIH3T3_6[j]))\n",
    "print(dice_otsu_median_img_NIH3T3)"
   ]
  },
  {
   "cell_type": "code",
   "execution_count": null,
   "metadata": {},
   "outputs": [
    {
     "ename": "NameError",
     "evalue": "name 'otsu_gauss_img_N2DH_GOWT1' is not defined",
     "output_type": "error",
     "traceback": [
      "\u001b[1;31m---------------------------------------------------------------------------\u001b[0m",
      "\u001b[1;31mNameError\u001b[0m                                 Traceback (most recent call last)",
      "\u001b[1;32mc:\\Users\\Helen Jade\\OneDrive\\Desktop\\2022-topic-01-team-04\\preprocessing\\optimalfiltersize.NIH3T3.ipynb Cell 19'\u001b[0m in \u001b[0;36m<cell line: 5>\u001b[1;34m()\u001b[0m\n\u001b[0;32m      <a href='vscode-notebook-cell:/c%3A/Users/Helen%20Jade/OneDrive/Desktop/2022-topic-01-team-04/preprocessing/optimalfiltersize.NIH3T3.ipynb#ch0000018?line=0'>1</a>\u001b[0m \u001b[39m# Dice score - N2DH-GOWT1-dataset\u001b[39;00m\n\u001b[0;32m      <a href='vscode-notebook-cell:/c%3A/Users/Helen%20Jade/OneDrive/Desktop/2022-topic-01-team-04/preprocessing/optimalfiltersize.NIH3T3.ipynb#ch0000018?line=1'>2</a>\u001b[0m \u001b[39m## gaussian filter\u001b[39;00m\n\u001b[0;32m      <a href='vscode-notebook-cell:/c%3A/Users/Helen%20Jade/OneDrive/Desktop/2022-topic-01-team-04/preprocessing/optimalfiltersize.NIH3T3.ipynb#ch0000018?line=3'>4</a>\u001b[0m dice_otsu_gauss_img_N2DH_GOWT1 \u001b[39m=\u001b[39m []\n\u001b[1;32m----> <a href='vscode-notebook-cell:/c%3A/Users/Helen%20Jade/OneDrive/Desktop/2022-topic-01-team-04/preprocessing/optimalfiltersize.NIH3T3.ipynb#ch0000018?line=4'>5</a>\u001b[0m \u001b[39mfor\u001b[39;00m j \u001b[39min\u001b[39;00m \u001b[39mrange\u001b[39m(\u001b[39m0\u001b[39m,\u001b[39mlen\u001b[39m(otsu_gauss_img_N2DH_GOWT1)):\n\u001b[0;32m      <a href='vscode-notebook-cell:/c%3A/Users/Helen%20Jade/OneDrive/Desktop/2022-topic-01-team-04/preprocessing/optimalfiltersize.NIH3T3.ipynb#ch0000018?line=5'>6</a>\u001b[0m     dice_otsu_gauss_img_N2DH_GOWT1\u001b[39m.\u001b[39mappend(dsc\u001b[39m.\u001b[39mdice(otsu_gauss_img_N2DH_GOWT1[j] , binary_gt_N2DH_GOWT1[j]))\n\u001b[0;32m      <a href='vscode-notebook-cell:/c%3A/Users/Helen%20Jade/OneDrive/Desktop/2022-topic-01-team-04/preprocessing/optimalfiltersize.NIH3T3.ipynb#ch0000018?line=7'>8</a>\u001b[0m \u001b[39mprint\u001b[39m(dice_otsu_gauss_img_N2DH_GOWT1)\n",
      "\u001b[1;31mNameError\u001b[0m: name 'otsu_gauss_img_N2DH_GOWT1' is not defined"
     ]
    }
   ],
   "source": [
    "# Dice score - N2DH-GOWT1-dataset\n",
    "## gaussian filter\n",
    "\n",
    "dice_otsu_gauss_img_N2DH_GOWT1 = []\n",
    "for j in range(0,len(otsu_gauss_img_N2DH_GOWT1)):\n",
    "    dice_otsu_gauss_img_N2DH_GOWT1.append(dsc.dice(otsu_gauss_img_N2DH_GOWT1[j] , binary_gt_N2DH_GOWT1[j]))\n",
    "\n",
    "print(dice_otsu_gauss_img_N2DH_GOWT1)"
   ]
  }
 ],
 "metadata": {
  "kernelspec": {
   "display_name": "Python 3.10.4 ('dataanalysis0104_Env')",
   "language": "python",
   "name": "python3"
  },
  "language_info": {
   "codemirror_mode": {
    "name": "ipython",
    "version": 3
   },
   "file_extension": ".py",
   "mimetype": "text/x-python",
   "name": "python",
   "nbconvert_exporter": "python",
   "pygments_lexer": "ipython3",
   "version": "3.10.4"
  },
  "orig_nbformat": 4,
  "vscode": {
   "interpreter": {
    "hash": "e0d3775933bd25a838655a686af1b37679a29cb0ec998f5190cb449f12779b79"
   }
  }
 },
 "nbformat": 4,
 "nbformat_minor": 2
}
