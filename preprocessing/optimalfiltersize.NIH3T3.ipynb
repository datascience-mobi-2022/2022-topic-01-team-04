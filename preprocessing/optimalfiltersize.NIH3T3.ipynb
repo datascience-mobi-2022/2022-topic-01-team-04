{
 "cells": [
  {
   "cell_type": "code",
   "execution_count": 2,
   "metadata": {},
   "outputs": [
    {
     "name": "stdout",
     "output_type": "stream",
     "text": [
      "Using matplotlib backend: <object object at 0x0000023E3D58FF80>\n",
      "%pylab is deprecated, use %matplotlib inline and import the required libraries.\n",
      "Populating the interactive namespace from numpy and matplotlib\n"
     ]
    }
   ],
   "source": [
    "%pylab\n",
    "%matplotlib inline\n",
    "import matplotlib.pyplot as plt\n",
    "import numpy as np\n",
    "import scipy.ndimage\n",
    "import pandas as pd\n",
    "import seaborn as sns\n",
    "path =  (os.path.abspath(os.path.join(r'.', os.pardir)))\n",
    "import sys\n",
    "sys.path.append(path)\n",
    "from images_segmentation import otsu as ot\n",
    "from images_segmentation import dicescore as dsc\n",
    "from PIL import Image\n",
    "import os\n",
    "import os.path"
   ]
  },
  {
   "cell_type": "code",
   "execution_count": 3,
   "metadata": {},
   "outputs": [],
   "source": [
    "# Set ground truth images from N2DH-GOWT1 dataset and N2DL-HeLa dataset to 0 and 1\n",
    "\n",
    "def binarize(x):\n",
    "    img = x.copy()\n",
    "\n",
    "    for o in np.ndindex(img.shape):\n",
    "        if img[o] > 0: \n",
    "           img[o] = 1\n",
    "        else:\n",
    "            img[o] = 0\n",
    "    \n",
    "    return img"
   ]
  },
  {
   "cell_type": "code",
   "execution_count": 4,
   "metadata": {},
   "outputs": [],
   "source": [
    "# Preprocessing - Histogram stretching\n",
    "\n",
    "def stretch(x):\n",
    "    intensities = []\n",
    "   \n",
    "    img = x.copy()\n",
    "    lower_quantile, upper_quantile = np.percentile(x, (2,  98))\n",
    "\n",
    "    img[img < lower_quantile] = lower_quantile\n",
    "    img[img > upper_quantile] = upper_quantile\n",
    "    \n",
    "    for i in np.ndindex(img.shape):\n",
    "        intensities.append(img[i])\n",
    "   \n",
    "    img_max = max(intensities)\n",
    "    img_min = min(intensities)\n",
    "    img_stretch = (img-img_min)*(256 / (img_max-img_min))\n",
    "    return img_stretch"
   ]
  },
  {
   "cell_type": "code",
   "execution_count": 5,
   "metadata": {},
   "outputs": [],
   "source": [
    "# Load raw images of NIH3T3-dataset\n",
    "\n",
    "img_NIH3T3 = []\n",
    "path = os.path.join(os.path.abspath(os.path.join(r'.', os.pardir)),r\"data/Otsu_data/NIH3T3/img\")\n",
    "for f in os.listdir(path):\n",
    "    img_NIH3T3.append(imread(os.path.join(path , f)))\n",
    "\n",
    "# Load ground truth images of NIH3T3-dataset\n",
    " \n",
    "gt_NIH3T3 = []\n",
    "path = os.path.join(os.path.abspath(os.path.join(r'.', os.pardir)),r\"data/Otsu_data/NIH3T3/gt\")\n",
    "for f in os.listdir(path):\n",
    "    gt_NIH3T3.append(imread(os.path.join(path , f)))"
   ]
  },
  {
   "cell_type": "code",
   "execution_count": 6,
   "metadata": {},
   "outputs": [],
   "source": [
    "# Make a copy of all images of each dataset / use as \"no preprocessed images\"\n",
    "copy_img_NIH3T3 = img_NIH3T3.copy()"
   ]
  },
  {
   "cell_type": "code",
   "execution_count": 7,
   "metadata": {},
   "outputs": [
    {
     "name": "stdout",
     "output_type": "stream",
     "text": [
      "filtersize done\n",
      "filtersize done\n",
      "filtersize done\n",
      "filtersize done\n",
      "filtersize done\n"
     ]
    },
    {
     "ename": "KeyboardInterrupt",
     "evalue": "",
     "output_type": "error",
     "traceback": [
      "\u001b[1;31m---------------------------------------------------------------------------\u001b[0m",
      "\u001b[1;31mKeyboardInterrupt\u001b[0m                         Traceback (most recent call last)",
      "\u001b[1;32mc:\\Users\\Helen Jade\\OneDrive\\Desktop\\2022-topic-01-team-04\\preprocessing\\optimalfiltersize.NIH3T3.ipynb Cell 6'\u001b[0m in \u001b[0;36m<cell line: 6>\u001b[1;34m()\u001b[0m\n\u001b[0;32m      <a href='vscode-notebook-cell:/c%3A/Users/Helen%20Jade/OneDrive/Desktop/2022-topic-01-team-04/preprocessing/optimalfiltersize.NIH3T3.ipynb#ch0000005?line=5'>6</a>\u001b[0m \u001b[39mfor\u001b[39;00m j \u001b[39min\u001b[39;00m \u001b[39mrange\u001b[39m (\u001b[39m0\u001b[39m, \u001b[39mlen\u001b[39m(\u001b[39mfilter\u001b[39m)):\n\u001b[0;32m      <a href='vscode-notebook-cell:/c%3A/Users/Helen%20Jade/OneDrive/Desktop/2022-topic-01-team-04/preprocessing/optimalfiltersize.NIH3T3.ipynb#ch0000005?line=7'>8</a>\u001b[0m     \u001b[39mfor\u001b[39;00m i \u001b[39min\u001b[39;00m \u001b[39mrange\u001b[39m(\u001b[39m0\u001b[39m, \u001b[39mlen\u001b[39m(copy_img_NIH3T3)):\n\u001b[1;32m----> <a href='vscode-notebook-cell:/c%3A/Users/Helen%20Jade/OneDrive/Desktop/2022-topic-01-team-04/preprocessing/optimalfiltersize.NIH3T3.ipynb#ch0000005?line=8'>9</a>\u001b[0m         median_img_NIH3T3\u001b[39m.\u001b[39mappend(scipy\u001b[39m.\u001b[39;49mndimage\u001b[39m.\u001b[39;49mmedian_filter(copy_img_NIH3T3[i] , size\u001b[39m=\u001b[39;49m \u001b[39mfilter\u001b[39;49m[j]))\n\u001b[0;32m     <a href='vscode-notebook-cell:/c%3A/Users/Helen%20Jade/OneDrive/Desktop/2022-topic-01-team-04/preprocessing/optimalfiltersize.NIH3T3.ipynb#ch0000005?line=9'>10</a>\u001b[0m     \u001b[39mprint\u001b[39m(\u001b[39m\"\u001b[39m\u001b[39mfiltersize done\u001b[39m\u001b[39m\"\u001b[39m)\n",
      "File \u001b[1;32mc:\\Users\\Helen Jade\\anaconda3\\envs\\dataanalysis0104_Env\\lib\\site-packages\\scipy\\ndimage\\filters.py:1395\u001b[0m, in \u001b[0;36mmedian_filter\u001b[1;34m(input, size, footprint, output, mode, cval, origin)\u001b[0m\n\u001b[0;32m   1351\u001b[0m \u001b[39m@_ni_docstrings\u001b[39m\u001b[39m.\u001b[39mdocfiller\n\u001b[0;32m   1352\u001b[0m \u001b[39mdef\u001b[39;00m \u001b[39mmedian_filter\u001b[39m(\u001b[39minput\u001b[39m, size\u001b[39m=\u001b[39m\u001b[39mNone\u001b[39;00m, footprint\u001b[39m=\u001b[39m\u001b[39mNone\u001b[39;00m, output\u001b[39m=\u001b[39m\u001b[39mNone\u001b[39;00m,\n\u001b[0;32m   1353\u001b[0m                   mode\u001b[39m=\u001b[39m\u001b[39m\"\u001b[39m\u001b[39mreflect\u001b[39m\u001b[39m\"\u001b[39m, cval\u001b[39m=\u001b[39m\u001b[39m0.0\u001b[39m, origin\u001b[39m=\u001b[39m\u001b[39m0\u001b[39m):\n\u001b[0;32m   1354\u001b[0m     \u001b[39m\"\"\"\u001b[39;00m\n\u001b[0;32m   1355\u001b[0m \u001b[39m    Calculate a multidimensional median filter.\u001b[39;00m\n\u001b[0;32m   1356\u001b[0m \n\u001b[1;32m   (...)\u001b[0m\n\u001b[0;32m   1393\u001b[0m \u001b[39m    >>> plt.show()\u001b[39;00m\n\u001b[0;32m   1394\u001b[0m \u001b[39m    \"\"\"\u001b[39;00m\n\u001b[1;32m-> 1395\u001b[0m     \u001b[39mreturn\u001b[39;00m _rank_filter(\u001b[39minput\u001b[39;49m, \u001b[39m0\u001b[39;49m, size, footprint, output, mode, cval,\n\u001b[0;32m   1396\u001b[0m                         origin, \u001b[39m'\u001b[39;49m\u001b[39mmedian\u001b[39;49m\u001b[39m'\u001b[39;49m)\n",
      "File \u001b[1;32mc:\\Users\\Helen Jade\\anaconda3\\envs\\dataanalysis0104_Env\\lib\\site-packages\\scipy\\ndimage\\filters.py:1302\u001b[0m, in \u001b[0;36m_rank_filter\u001b[1;34m(input, rank, size, footprint, output, mode, cval, origin, operation)\u001b[0m\n\u001b[0;32m   1298\u001b[0m     \u001b[39mraise\u001b[39;00m \u001b[39mRuntimeError\u001b[39;00m(\n\u001b[0;32m   1299\u001b[0m         \u001b[39m\"\u001b[39m\u001b[39mA sequence of modes is not supported by non-separable rank \u001b[39m\u001b[39m\"\u001b[39m\n\u001b[0;32m   1300\u001b[0m         \u001b[39m\"\u001b[39m\u001b[39mfilters\u001b[39m\u001b[39m\"\u001b[39m)\n\u001b[0;32m   1301\u001b[0m mode \u001b[39m=\u001b[39m _ni_support\u001b[39m.\u001b[39m_extend_mode_to_code(mode)\n\u001b[1;32m-> 1302\u001b[0m _nd_image\u001b[39m.\u001b[39;49mrank_filter(\u001b[39minput\u001b[39;49m, rank, footprint, output, mode, cval,\n\u001b[0;32m   1303\u001b[0m                       origins)\n\u001b[0;32m   1304\u001b[0m \u001b[39mif\u001b[39;00m temp_needed:\n\u001b[0;32m   1305\u001b[0m     temp[\u001b[39m.\u001b[39m\u001b[39m.\u001b[39m\u001b[39m.\u001b[39m] \u001b[39m=\u001b[39m output\n",
      "\u001b[1;31mKeyboardInterrupt\u001b[0m: "
     ]
    }
   ],
   "source": [
    "# Apply median filter to all images of each dataset\n",
    "# mit kleinerern Filtern läuft es schneller durch\n",
    "# filter größen die man möchte\n",
    "filter = [3, 4, 5, 10, 15, 20]\n",
    "median_img_NIH3T3 = []\n",
    "for j in range (0, len(filter)):\n",
    "    \n",
    "    for i in range(0, len(copy_img_NIH3T3)):\n",
    "        median_img_NIH3T3.append(scipy.ndimage.median_filter(copy_img_NIH3T3[i] , size= filter[j]))\n",
    "    print(\"filtersize done\")    "
   ]
  },
  {
   "cell_type": "code",
   "execution_count": null,
   "metadata": {},
   "outputs": [],
   "source": [
    "# Apply gaussian filter to all images of each dataset\n",
    "\n",
    "gauss_img_NIH3T3 = []\n",
    "for i in range(0,len(copy_img_NIH3T3)):\n",
    "    gauss_img_NIH3T3.append(scipy.ndimage.gaussian_filter(copy_img_NIH3T3[i] , 5))"
   ]
  },
  {
   "cell_type": "markdown",
   "metadata": {},
   "source": [
    "## Otsu thresholding"
   ]
  },
  {
   "cell_type": "code",
   "execution_count": 1,
   "metadata": {},
   "outputs": [
    {
     "ename": "NameError",
     "evalue": "name 'median_img_NIH3T3' is not defined",
     "output_type": "error",
     "traceback": [
      "\u001b[1;31m---------------------------------------------------------------------------\u001b[0m",
      "\u001b[1;31mNameError\u001b[0m                                 Traceback (most recent call last)",
      "\u001b[1;32mc:\\Users\\Helen Jade\\OneDrive\\Desktop\\2022-topic-01-team-04\\preprocessing\\optimalfiltersize.NIH3T3.ipynb Cell 9'\u001b[0m in \u001b[0;36m<cell line: 3>\u001b[1;34m()\u001b[0m\n\u001b[0;32m      <a href='vscode-notebook-cell:/c%3A/Users/Helen%20Jade/OneDrive/Desktop/2022-topic-01-team-04/preprocessing/optimalfiltersize.NIH3T3.ipynb#ch0000014?line=0'>1</a>\u001b[0m \u001b[39m# Apply otsu thresholding to all images of each dataset - median filter\u001b[39;00m\n\u001b[0;32m      <a href='vscode-notebook-cell:/c%3A/Users/Helen%20Jade/OneDrive/Desktop/2022-topic-01-team-04/preprocessing/optimalfiltersize.NIH3T3.ipynb#ch0000014?line=1'>2</a>\u001b[0m otsu_median_img_NIH3T3 \u001b[39m=\u001b[39m []\n\u001b[1;32m----> <a href='vscode-notebook-cell:/c%3A/Users/Helen%20Jade/OneDrive/Desktop/2022-topic-01-team-04/preprocessing/optimalfiltersize.NIH3T3.ipynb#ch0000014?line=2'>3</a>\u001b[0m \u001b[39mfor\u001b[39;00m i \u001b[39min\u001b[39;00m \u001b[39mrange\u001b[39m(\u001b[39m0\u001b[39m,\u001b[39mlen\u001b[39m(median_img_NIH3T3)):\n\u001b[0;32m      <a href='vscode-notebook-cell:/c%3A/Users/Helen%20Jade/OneDrive/Desktop/2022-topic-01-team-04/preprocessing/optimalfiltersize.NIH3T3.ipynb#ch0000014?line=3'>4</a>\u001b[0m     otsu_median_img_NIH3T3\u001b[39m.\u001b[39mappend(ot\u001b[39m.\u001b[39motsu_thresholding(median_img_NIH3T3[i] , \u001b[39m256\u001b[39m))\n",
      "\u001b[1;31mNameError\u001b[0m: name 'median_img_NIH3T3' is not defined"
     ]
    }
   ],
   "source": [
    "# Apply otsu thresholding to all images of each dataset - median filter\n",
    "otsu_median_img_NIH3T3 = []\n",
    "for i in range(0,len(median_img_NIH3T3)):\n",
    "    otsu_median_img_NIH3T3.append(ot.otsu_thresholding(median_img_NIH3T3[i] , 256))\n"
   ]
  },
  {
   "cell_type": "code",
   "execution_count": null,
   "metadata": {},
   "outputs": [],
   "source": [
    "# Apply otsu thresholding to all images of each dataset - gaussian filter\n",
    "otsu_gauss_img_NIH3T3 = []\n",
    "for i in range(0,len(gauss_img_NIH3T3)):\n",
    "    otsu_gauss_img_NIH3T3.append(ot.otsu_thresholding(gauss_img_NIH3T3[i] , 256))\n"
   ]
  },
  {
   "cell_type": "markdown",
   "metadata": {},
   "source": [
    "## Dice score"
   ]
  },
  {
   "cell_type": "code",
   "execution_count": null,
   "metadata": {},
   "outputs": [
    {
     "ename": "NameError",
     "evalue": "name 'otsu_median_img_N2DH_GOWT1' is not defined",
     "output_type": "error",
     "traceback": [
      "\u001b[1;31m---------------------------------------------------------------------------\u001b[0m",
      "\u001b[1;31mNameError\u001b[0m                                 Traceback (most recent call last)",
      "\u001b[1;32mc:\\Users\\Helen Jade\\OneDrive\\Desktop\\2022-topic-01-team-04\\preprocessing\\optimalfiltersize.NIH3T3.ipynb Cell 18'\u001b[0m in \u001b[0;36m<cell line: 5>\u001b[1;34m()\u001b[0m\n\u001b[0;32m      <a href='vscode-notebook-cell:/c%3A/Users/Helen%20Jade/OneDrive/Desktop/2022-topic-01-team-04/preprocessing/optimalfiltersize.NIH3T3.ipynb#ch0000016?line=0'>1</a>\u001b[0m \u001b[39m# Dice score - N2DH-GOWT1-dataset\u001b[39;00m\n\u001b[0;32m      <a href='vscode-notebook-cell:/c%3A/Users/Helen%20Jade/OneDrive/Desktop/2022-topic-01-team-04/preprocessing/optimalfiltersize.NIH3T3.ipynb#ch0000016?line=1'>2</a>\u001b[0m \u001b[39m## median filter\u001b[39;00m\n\u001b[0;32m      <a href='vscode-notebook-cell:/c%3A/Users/Helen%20Jade/OneDrive/Desktop/2022-topic-01-team-04/preprocessing/optimalfiltersize.NIH3T3.ipynb#ch0000016?line=3'>4</a>\u001b[0m dice_otsu_median_img_N2DH_GOWT1 \u001b[39m=\u001b[39m []\n\u001b[1;32m----> <a href='vscode-notebook-cell:/c%3A/Users/Helen%20Jade/OneDrive/Desktop/2022-topic-01-team-04/preprocessing/optimalfiltersize.NIH3T3.ipynb#ch0000016?line=4'>5</a>\u001b[0m \u001b[39mfor\u001b[39;00m j \u001b[39min\u001b[39;00m \u001b[39mrange\u001b[39m(\u001b[39m0\u001b[39m,\u001b[39mlen\u001b[39m(otsu_median_img_N2DH_GOWT1)):\n\u001b[0;32m      <a href='vscode-notebook-cell:/c%3A/Users/Helen%20Jade/OneDrive/Desktop/2022-topic-01-team-04/preprocessing/optimalfiltersize.NIH3T3.ipynb#ch0000016?line=5'>6</a>\u001b[0m     dice_otsu_median_img_N2DH_GOWT1\u001b[39m.\u001b[39mappend(dsc\u001b[39m.\u001b[39mdice(otsu_median_img_N2DH_GOWT1[j] , binary_gt_N2DH_GOWT1[j]))\n\u001b[0;32m      <a href='vscode-notebook-cell:/c%3A/Users/Helen%20Jade/OneDrive/Desktop/2022-topic-01-team-04/preprocessing/optimalfiltersize.NIH3T3.ipynb#ch0000016?line=7'>8</a>\u001b[0m \u001b[39mprint\u001b[39m(dice_otsu_median_img_N2DH_GOWT1)\n",
      "\u001b[1;31mNameError\u001b[0m: name 'otsu_median_img_N2DH_GOWT1' is not defined"
     ]
    }
   ],
   "source": [
    "# Dice score - N2DH-GOWT1-dataset\n",
    "## median filter\n",
    "\n",
    "dice_otsu_median_img_N2DH_GOWT1 = []\n",
    "for j in range(0,len(otsu_median_img_N2DH_GOWT1)):\n",
    "    dice_otsu_median_img_N2DH_GOWT1.append(dsc.dice(otsu_median_img_N2DH_GOWT1[j] , binary_gt_N2DH_GOWT1[j]))\n",
    "\n",
    "print(dice_otsu_median_img_N2DH_GOWT1)\n"
   ]
  },
  {
   "cell_type": "code",
   "execution_count": null,
   "metadata": {},
   "outputs": [
    {
     "ename": "NameError",
     "evalue": "name 'otsu_gauss_img_N2DH_GOWT1' is not defined",
     "output_type": "error",
     "traceback": [
      "\u001b[1;31m---------------------------------------------------------------------------\u001b[0m",
      "\u001b[1;31mNameError\u001b[0m                                 Traceback (most recent call last)",
      "\u001b[1;32mc:\\Users\\Helen Jade\\OneDrive\\Desktop\\2022-topic-01-team-04\\preprocessing\\optimalfiltersize.NIH3T3.ipynb Cell 19'\u001b[0m in \u001b[0;36m<cell line: 5>\u001b[1;34m()\u001b[0m\n\u001b[0;32m      <a href='vscode-notebook-cell:/c%3A/Users/Helen%20Jade/OneDrive/Desktop/2022-topic-01-team-04/preprocessing/optimalfiltersize.NIH3T3.ipynb#ch0000018?line=0'>1</a>\u001b[0m \u001b[39m# Dice score - N2DH-GOWT1-dataset\u001b[39;00m\n\u001b[0;32m      <a href='vscode-notebook-cell:/c%3A/Users/Helen%20Jade/OneDrive/Desktop/2022-topic-01-team-04/preprocessing/optimalfiltersize.NIH3T3.ipynb#ch0000018?line=1'>2</a>\u001b[0m \u001b[39m## gaussian filter\u001b[39;00m\n\u001b[0;32m      <a href='vscode-notebook-cell:/c%3A/Users/Helen%20Jade/OneDrive/Desktop/2022-topic-01-team-04/preprocessing/optimalfiltersize.NIH3T3.ipynb#ch0000018?line=3'>4</a>\u001b[0m dice_otsu_gauss_img_N2DH_GOWT1 \u001b[39m=\u001b[39m []\n\u001b[1;32m----> <a href='vscode-notebook-cell:/c%3A/Users/Helen%20Jade/OneDrive/Desktop/2022-topic-01-team-04/preprocessing/optimalfiltersize.NIH3T3.ipynb#ch0000018?line=4'>5</a>\u001b[0m \u001b[39mfor\u001b[39;00m j \u001b[39min\u001b[39;00m \u001b[39mrange\u001b[39m(\u001b[39m0\u001b[39m,\u001b[39mlen\u001b[39m(otsu_gauss_img_N2DH_GOWT1)):\n\u001b[0;32m      <a href='vscode-notebook-cell:/c%3A/Users/Helen%20Jade/OneDrive/Desktop/2022-topic-01-team-04/preprocessing/optimalfiltersize.NIH3T3.ipynb#ch0000018?line=5'>6</a>\u001b[0m     dice_otsu_gauss_img_N2DH_GOWT1\u001b[39m.\u001b[39mappend(dsc\u001b[39m.\u001b[39mdice(otsu_gauss_img_N2DH_GOWT1[j] , binary_gt_N2DH_GOWT1[j]))\n\u001b[0;32m      <a href='vscode-notebook-cell:/c%3A/Users/Helen%20Jade/OneDrive/Desktop/2022-topic-01-team-04/preprocessing/optimalfiltersize.NIH3T3.ipynb#ch0000018?line=7'>8</a>\u001b[0m \u001b[39mprint\u001b[39m(dice_otsu_gauss_img_N2DH_GOWT1)\n",
      "\u001b[1;31mNameError\u001b[0m: name 'otsu_gauss_img_N2DH_GOWT1' is not defined"
     ]
    }
   ],
   "source": [
    "# Dice score - N2DH-GOWT1-dataset\n",
    "## gaussian filter\n",
    "\n",
    "dice_otsu_gauss_img_N2DH_GOWT1 = []\n",
    "for j in range(0,len(otsu_gauss_img_N2DH_GOWT1)):\n",
    "    dice_otsu_gauss_img_N2DH_GOWT1.append(dsc.dice(otsu_gauss_img_N2DH_GOWT1[j] , binary_gt_N2DH_GOWT1[j]))\n",
    "\n",
    "print(dice_otsu_gauss_img_N2DH_GOWT1)"
   ]
  }
 ],
 "metadata": {
  "kernelspec": {
   "display_name": "Python 3.10.4 ('dataanalysis0104_Env')",
   "language": "python",
   "name": "python3"
  },
  "language_info": {
   "codemirror_mode": {
    "name": "ipython",
    "version": 3
   },
   "file_extension": ".py",
   "mimetype": "text/x-python",
   "name": "python",
   "nbconvert_exporter": "python",
   "pygments_lexer": "ipython3",
   "version": "3.10.4"
  },
  "orig_nbformat": 4,
  "vscode": {
   "interpreter": {
    "hash": "e0d3775933bd25a838655a686af1b37679a29cb0ec998f5190cb449f12779b79"
   }
  }
 },
 "nbformat": 4,
 "nbformat_minor": 2
}
