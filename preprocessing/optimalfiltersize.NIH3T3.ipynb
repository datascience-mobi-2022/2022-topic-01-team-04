{
 "cells": [
  {
   "cell_type": "code",
   "execution_count": 3,
   "metadata": {},
   "outputs": [
    {
     "name": "stdout",
     "output_type": "stream",
     "text": [
      "Using matplotlib backend: <object object at 0x0000020CB2143800>\n",
      "%pylab is deprecated, use %matplotlib inline and import the required libraries.\n",
      "Populating the interactive namespace from numpy and matplotlib\n"
     ]
    }
   ],
   "source": [
    "%pylab\n",
    "%matplotlib inline\n",
    "import matplotlib.pyplot as plt\n",
    "import numpy as np\n",
    "import scipy.ndimage\n",
    "import pandas as pd\n",
    "import seaborn as sns\n",
    "path =  (os.path.abspath(os.path.join(r'.', os.pardir)))\n",
    "import sys\n",
    "sys.path.append(path)\n",
    "from images_segmentation import otsu as ot\n",
    "from images_segmentation import dicescore as dsc\n",
    "from PIL import Image\n",
    "import os\n",
    "import os.path"
   ]
  },
  {
   "cell_type": "code",
   "execution_count": 4,
   "metadata": {},
   "outputs": [],
   "source": [
    "# Set ground truth images from N2DH-GOWT1 dataset and N2DL-HeLa dataset to 0 and 1\n",
    "\n",
    "def binarize(x):\n",
    "    img = x.copy()\n",
    "\n",
    "    for o in np.ndindex(img.shape):\n",
    "        if img[o] > 0: \n",
    "           img[o] = 1\n",
    "        else:\n",
    "            img[o] = 0\n",
    "    \n",
    "    return img"
   ]
  },
  {
   "cell_type": "code",
   "execution_count": 5,
   "metadata": {},
   "outputs": [],
   "source": [
    "# Preprocessing - Histogram stretching\n",
    "\n",
    "def stretch(x):\n",
    "    intensities = []\n",
    "   \n",
    "    img = x.copy()\n",
    "    lower_quantile, upper_quantile = np.percentile(x, (2,  98))\n",
    "\n",
    "    img[img < lower_quantile] = lower_quantile\n",
    "    img[img > upper_quantile] = upper_quantile\n",
    "    \n",
    "    for i in np.ndindex(img.shape):\n",
    "        intensities.append(img[i])\n",
    "   \n",
    "    img_max = max(intensities)\n",
    "    img_min = min(intensities)\n",
    "    img_stretch = (img-img_min)*(256 / (img_max-img_min))\n",
    "    return img_stretch"
   ]
  },
  {
   "cell_type": "code",
   "execution_count": 6,
   "metadata": {},
   "outputs": [],
   "source": [
    "# Load raw images of NIH3T3-dataset\n",
    "\n",
    "img_NIH3T3 = []\n",
    "path = os.path.join(os.path.abspath(os.path.join(r'.', os.pardir)),r\"data/Otsu_data/NIH3T3/img\")\n",
    "for f in os.listdir(path):\n",
    "    img_NIH3T3.append(imread(os.path.join(path , f)))\n",
    "\n",
    "# Load ground truth images of NIH3T3-dataset\n",
    " \n",
    "gt_NIH3T3 = []\n",
    "path = os.path.join(os.path.abspath(os.path.join(r'.', os.pardir)),r\"data/Otsu_data/NIH3T3/gt\")\n",
    "for f in os.listdir(path):\n",
    "    gt_NIH3T3.append(imread(os.path.join(path , f)))"
   ]
  },
  {
   "cell_type": "code",
   "execution_count": 7,
   "metadata": {},
   "outputs": [],
   "source": [
    "# Make a copy of all images of each dataset / use as \"no preprocessed images\"\n",
    "copy_img_NIH3T3 = img_NIH3T3.copy()"
   ]
  },
  {
   "cell_type": "code",
   "execution_count": 8,
   "metadata": {},
   "outputs": [
    {
     "ename": "SyntaxError",
     "evalue": "incomplete input (299498429.py, line 17)",
     "output_type": "error",
     "traceback": [
      "\u001b[1;36m  Input \u001b[1;32mIn [8]\u001b[1;36m\u001b[0m\n\u001b[1;33m    \u001b[0m\n\u001b[1;37m    ^\u001b[0m\n\u001b[1;31mSyntaxError\u001b[0m\u001b[1;31m:\u001b[0m incomplete input\n"
     ]
    }
   ],
   "source": [
    "# Apply median filter to all images of each dataset\n",
    "# program das auf alle bilder die filter in utnersch. größe anwendet...programmieren\n",
    "\n",
    "\n",
    "#! not filter size : t = (((w - 1)/2)-0.5)/s -> stimmt doch nicht schau nomal inet\n",
    "# set window size w = 5\n",
    "# synthax: filtering: filtered_data = scipy.ndimage.filters.gaussian_filter(data, sigma=s, truncate=t)\n",
    "filter = [3, 4, 5, 10, 15, 20]\n",
    "median_img_NIH3T3 = []\n",
    "for j in range (0, len(filter)):\n",
    "    \n",
    "    for i in range(0, len(copy_img_NIH3T3)):\n",
    "        median_img_NIH3T3.append(scipy.ndimage.median_filter(copy_img_NIH3T3[i] , filter[j])\n",
    "    \n",
    "\n",
    "#oder einfach andere built in function nehmen?!:https://www.geeksforgeeks.org/apply-a-gauss-filter-to-an-image-with-python/\n",
    "    "
   ]
  },
  {
   "cell_type": "code",
   "execution_count": null,
   "metadata": {},
   "outputs": [],
   "source": [
    "# Apply gaussian filter to all images of each dataset\n",
    "\n",
    "gauss_img_NIH3T3 = []\n",
    "for i in range(0,len(copy_img_NIH3T3)):\n",
    "    gauss_img_NIH3T3.append(scipy.ndimage.gaussian_filter(copy_img_NIH3T3[i] , 5))"
   ]
  },
  {
   "cell_type": "code",
   "execution_count": null,
   "metadata": {},
   "outputs": [],
   "source": [
    "# Apply histogram stretching to all images of each dataset\n",
    "stretch_img_NIH3T3 = []\n",
    "for i in range(0,len(copy_img_NIH3T3)):\n",
    "    stretch_img_NIH3T3.append(stretch(copy_img_NIH3T3[i]))\n"
   ]
  },
  {
   "cell_type": "code",
   "execution_count": null,
   "metadata": {},
   "outputs": [],
   "source": [
    "# Apply median filter and histogram strechting to all images of each dataset\n",
    "median_stretch_img_NIH3T3 = []\n",
    "for i in range(0,len(median_img_NIH3T3)):\n",
    "    median_stretch_img_NIH3T3.append(stretch(median_img_NIH3T3[i]))"
   ]
  },
  {
   "cell_type": "code",
   "execution_count": null,
   "metadata": {},
   "outputs": [],
   "source": [
    "# Apply histogram stretching and median filter to all images of each dataset\n",
    "stretch_median_img_NIH3T3 = []\n",
    "for i in range(0,len(stretch_img_NIH3T3)):\n",
    "    stretch_median_img_NIH3T3.append(scipy.ndimage.median_filter(stretch_img_NIH3T3[i] , 5))"
   ]
  },
  {
   "cell_type": "code",
   "execution_count": null,
   "metadata": {},
   "outputs": [],
   "source": [
    "# Apply gaussian filter and histogram strechting to all images of each dataset\n",
    "\n",
    "gauss_stretch_img_NIH3T3 = []\n",
    "for i in range(0,len(gauss_img_NIH3T3)):\n",
    "    gauss_stretch_img_NIH3T3.append(stretch(gauss_img_NIH3T3[i]))\n"
   ]
  },
  {
   "cell_type": "code",
   "execution_count": null,
   "metadata": {},
   "outputs": [],
   "source": [
    "# Apply histogram stretching and gaussian filter to all images of each dataset\n",
    "\n",
    "stretch_gauss_img_NIH3T3 = []\n",
    "for i in range(0,len(stretch_img_NIH3T3)):\n",
    "    stretch_gauss_img_NIH3T3.append(scipy.ndimage.gaussian_filter(stretch_img_NIH3T3[i] , 5))"
   ]
  },
  {
   "cell_type": "markdown",
   "metadata": {},
   "source": [
    "## Otsu thresholding"
   ]
  },
  {
   "cell_type": "code",
   "execution_count": null,
   "metadata": {},
   "outputs": [
    {
     "ename": "MemoryError",
     "evalue": "Unable to allocate 5.25 MiB for an array with shape (1376256,) and data type float32",
     "output_type": "error",
     "traceback": [
      "\u001b[1;31m---------------------------------------------------------------------------\u001b[0m",
      "\u001b[1;31mMemoryError\u001b[0m                               Traceback (most recent call last)",
      "\u001b[1;32mc:\\Users\\Helen Jade\\OneDrive\\Desktop\\2022-topic-01-team-04\\preprocessing\\optimalfiltersize.NIH3T3.ipynb Cell 14'\u001b[0m in \u001b[0;36m<cell line: 3>\u001b[1;34m()\u001b[0m\n\u001b[0;32m      <a href='vscode-notebook-cell:/c%3A/Users/Helen%20Jade/OneDrive/Desktop/2022-topic-01-team-04/preprocessing/optimalfiltersize.NIH3T3.ipynb#ch0000012?line=1'>2</a>\u001b[0m otsu_img_NIH3T3 \u001b[39m=\u001b[39m []\n\u001b[0;32m      <a href='vscode-notebook-cell:/c%3A/Users/Helen%20Jade/OneDrive/Desktop/2022-topic-01-team-04/preprocessing/optimalfiltersize.NIH3T3.ipynb#ch0000012?line=2'>3</a>\u001b[0m \u001b[39mfor\u001b[39;00m i \u001b[39min\u001b[39;00m \u001b[39mrange\u001b[39m(\u001b[39m0\u001b[39m,\u001b[39mlen\u001b[39m(copy_img_NIH3T3)):\n\u001b[1;32m----> <a href='vscode-notebook-cell:/c%3A/Users/Helen%20Jade/OneDrive/Desktop/2022-topic-01-team-04/preprocessing/optimalfiltersize.NIH3T3.ipynb#ch0000012?line=3'>4</a>\u001b[0m     otsu_img_NIH3T3\u001b[39m.\u001b[39mappend(ot\u001b[39m.\u001b[39;49motsu_thresholding(copy_img_NIH3T3[i] , \u001b[39m256\u001b[39;49m))\n",
      "File \u001b[1;32mc:\\Users\\Helen Jade\\OneDrive\\Desktop\\2022-topic-01-team-04\\images_segmentation\\otsu.py:95\u001b[0m, in \u001b[0;36motsu_thresholding\u001b[1;34m(img, x)\u001b[0m\n\u001b[0;32m     92\u001b[0m  \u001b[39mimport\u001b[39;00m \u001b[39mnumpy\u001b[39;00m\n\u001b[0;32m     94\u001b[0m \u001b[39m# load histogram, Mathematische werte aus Histogramm rausgreifen\u001b[39;00m\n\u001b[1;32m---> 95\u001b[0m  n, bins \u001b[39m=\u001b[39m numpy\u001b[39m.\u001b[39mhistogram(img\u001b[39m.\u001b[39;49mflatten(),bins \u001b[39m=\u001b[39m x)\n\u001b[0;32m     97\u001b[0m \u001b[39m# initialize threshold value (T = 0) \u001b[39;00m\n\u001b[0;32m     98\u001b[0m  thres \u001b[39m=\u001b[39m \u001b[39m0\u001b[39m\n",
      "\u001b[1;31mMemoryError\u001b[0m: Unable to allocate 5.25 MiB for an array with shape (1376256,) and data type float32"
     ]
    }
   ],
   "source": [
    "# Apply otsu thresholding to all images of each dataset - no preprocessing\n",
    "otsu_img_NIH3T3 = []\n",
    "for i in range(0,len(copy_img_NIH3T3)):\n",
    "    otsu_img_NIH3T3.append(ot.otsu_thresholding(copy_img_NIH3T3[i] , 256))"
   ]
  },
  {
   "cell_type": "code",
   "execution_count": null,
   "metadata": {},
   "outputs": [],
   "source": [
    "# Apply otsu thresholding to all images of each dataset - median filter\n",
    "\n",
    "otsu_median_img_NIH3T3 = []\n",
    "for i in range(0,len(median_img_NIH3T3)):\n",
    "    otsu_median_img_NIH3T3.append(ot.otsu_thresholding(median_img_NIH3T3[i] , 256))\n"
   ]
  },
  {
   "cell_type": "code",
   "execution_count": null,
   "metadata": {},
   "outputs": [],
   "source": [
    "# Apply otsu thresholding to all images of each dataset - gaussian filter\n",
    "otsu_gauss_img_NIH3T3 = []\n",
    "for i in range(0,len(gauss_img_NIH3T3)):\n",
    "    otsu_gauss_img_NIH3T3.append(ot.otsu_thresholding(gauss_img_NIH3T3[i] , 256))\n"
   ]
  },
  {
   "cell_type": "markdown",
   "metadata": {},
   "source": [
    "## Dice score"
   ]
  },
  {
   "cell_type": "code",
   "execution_count": null,
   "metadata": {},
   "outputs": [
    {
     "ename": "NameError",
     "evalue": "name 'otsu_median_img_N2DH_GOWT1' is not defined",
     "output_type": "error",
     "traceback": [
      "\u001b[1;31m---------------------------------------------------------------------------\u001b[0m",
      "\u001b[1;31mNameError\u001b[0m                                 Traceback (most recent call last)",
      "\u001b[1;32mc:\\Users\\Helen Jade\\OneDrive\\Desktop\\2022-topic-01-team-04\\preprocessing\\optimalfiltersize.NIH3T3.ipynb Cell 18'\u001b[0m in \u001b[0;36m<cell line: 5>\u001b[1;34m()\u001b[0m\n\u001b[0;32m      <a href='vscode-notebook-cell:/c%3A/Users/Helen%20Jade/OneDrive/Desktop/2022-topic-01-team-04/preprocessing/optimalfiltersize.NIH3T3.ipynb#ch0000016?line=0'>1</a>\u001b[0m \u001b[39m# Dice score - N2DH-GOWT1-dataset\u001b[39;00m\n\u001b[0;32m      <a href='vscode-notebook-cell:/c%3A/Users/Helen%20Jade/OneDrive/Desktop/2022-topic-01-team-04/preprocessing/optimalfiltersize.NIH3T3.ipynb#ch0000016?line=1'>2</a>\u001b[0m \u001b[39m## median filter\u001b[39;00m\n\u001b[0;32m      <a href='vscode-notebook-cell:/c%3A/Users/Helen%20Jade/OneDrive/Desktop/2022-topic-01-team-04/preprocessing/optimalfiltersize.NIH3T3.ipynb#ch0000016?line=3'>4</a>\u001b[0m dice_otsu_median_img_N2DH_GOWT1 \u001b[39m=\u001b[39m []\n\u001b[1;32m----> <a href='vscode-notebook-cell:/c%3A/Users/Helen%20Jade/OneDrive/Desktop/2022-topic-01-team-04/preprocessing/optimalfiltersize.NIH3T3.ipynb#ch0000016?line=4'>5</a>\u001b[0m \u001b[39mfor\u001b[39;00m j \u001b[39min\u001b[39;00m \u001b[39mrange\u001b[39m(\u001b[39m0\u001b[39m,\u001b[39mlen\u001b[39m(otsu_median_img_N2DH_GOWT1)):\n\u001b[0;32m      <a href='vscode-notebook-cell:/c%3A/Users/Helen%20Jade/OneDrive/Desktop/2022-topic-01-team-04/preprocessing/optimalfiltersize.NIH3T3.ipynb#ch0000016?line=5'>6</a>\u001b[0m     dice_otsu_median_img_N2DH_GOWT1\u001b[39m.\u001b[39mappend(dsc\u001b[39m.\u001b[39mdice(otsu_median_img_N2DH_GOWT1[j] , binary_gt_N2DH_GOWT1[j]))\n\u001b[0;32m      <a href='vscode-notebook-cell:/c%3A/Users/Helen%20Jade/OneDrive/Desktop/2022-topic-01-team-04/preprocessing/optimalfiltersize.NIH3T3.ipynb#ch0000016?line=7'>8</a>\u001b[0m \u001b[39mprint\u001b[39m(dice_otsu_median_img_N2DH_GOWT1)\n",
      "\u001b[1;31mNameError\u001b[0m: name 'otsu_median_img_N2DH_GOWT1' is not defined"
     ]
    }
   ],
   "source": [
    "# Dice score - N2DH-GOWT1-dataset\n",
    "## median filter\n",
    "\n",
    "dice_otsu_median_img_N2DH_GOWT1 = []\n",
    "for j in range(0,len(otsu_median_img_N2DH_GOWT1)):\n",
    "    dice_otsu_median_img_N2DH_GOWT1.append(dsc.dice(otsu_median_img_N2DH_GOWT1[j] , binary_gt_N2DH_GOWT1[j]))\n",
    "\n",
    "print(dice_otsu_median_img_N2DH_GOWT1)\n"
   ]
  },
  {
   "cell_type": "code",
   "execution_count": null,
   "metadata": {},
   "outputs": [
    {
     "ename": "NameError",
     "evalue": "name 'otsu_gauss_img_N2DH_GOWT1' is not defined",
     "output_type": "error",
     "traceback": [
      "\u001b[1;31m---------------------------------------------------------------------------\u001b[0m",
      "\u001b[1;31mNameError\u001b[0m                                 Traceback (most recent call last)",
      "\u001b[1;32mc:\\Users\\Helen Jade\\OneDrive\\Desktop\\2022-topic-01-team-04\\preprocessing\\optimalfiltersize.NIH3T3.ipynb Cell 19'\u001b[0m in \u001b[0;36m<cell line: 5>\u001b[1;34m()\u001b[0m\n\u001b[0;32m      <a href='vscode-notebook-cell:/c%3A/Users/Helen%20Jade/OneDrive/Desktop/2022-topic-01-team-04/preprocessing/optimalfiltersize.NIH3T3.ipynb#ch0000018?line=0'>1</a>\u001b[0m \u001b[39m# Dice score - N2DH-GOWT1-dataset\u001b[39;00m\n\u001b[0;32m      <a href='vscode-notebook-cell:/c%3A/Users/Helen%20Jade/OneDrive/Desktop/2022-topic-01-team-04/preprocessing/optimalfiltersize.NIH3T3.ipynb#ch0000018?line=1'>2</a>\u001b[0m \u001b[39m## gaussian filter\u001b[39;00m\n\u001b[0;32m      <a href='vscode-notebook-cell:/c%3A/Users/Helen%20Jade/OneDrive/Desktop/2022-topic-01-team-04/preprocessing/optimalfiltersize.NIH3T3.ipynb#ch0000018?line=3'>4</a>\u001b[0m dice_otsu_gauss_img_N2DH_GOWT1 \u001b[39m=\u001b[39m []\n\u001b[1;32m----> <a href='vscode-notebook-cell:/c%3A/Users/Helen%20Jade/OneDrive/Desktop/2022-topic-01-team-04/preprocessing/optimalfiltersize.NIH3T3.ipynb#ch0000018?line=4'>5</a>\u001b[0m \u001b[39mfor\u001b[39;00m j \u001b[39min\u001b[39;00m \u001b[39mrange\u001b[39m(\u001b[39m0\u001b[39m,\u001b[39mlen\u001b[39m(otsu_gauss_img_N2DH_GOWT1)):\n\u001b[0;32m      <a href='vscode-notebook-cell:/c%3A/Users/Helen%20Jade/OneDrive/Desktop/2022-topic-01-team-04/preprocessing/optimalfiltersize.NIH3T3.ipynb#ch0000018?line=5'>6</a>\u001b[0m     dice_otsu_gauss_img_N2DH_GOWT1\u001b[39m.\u001b[39mappend(dsc\u001b[39m.\u001b[39mdice(otsu_gauss_img_N2DH_GOWT1[j] , binary_gt_N2DH_GOWT1[j]))\n\u001b[0;32m      <a href='vscode-notebook-cell:/c%3A/Users/Helen%20Jade/OneDrive/Desktop/2022-topic-01-team-04/preprocessing/optimalfiltersize.NIH3T3.ipynb#ch0000018?line=7'>8</a>\u001b[0m \u001b[39mprint\u001b[39m(dice_otsu_gauss_img_N2DH_GOWT1)\n",
      "\u001b[1;31mNameError\u001b[0m: name 'otsu_gauss_img_N2DH_GOWT1' is not defined"
     ]
    }
   ],
   "source": [
    "# Dice score - N2DH-GOWT1-dataset\n",
    "## gaussian filter\n",
    "\n",
    "dice_otsu_gauss_img_N2DH_GOWT1 = []\n",
    "for j in range(0,len(otsu_gauss_img_N2DH_GOWT1)):\n",
    "    dice_otsu_gauss_img_N2DH_GOWT1.append(dsc.dice(otsu_gauss_img_N2DH_GOWT1[j] , binary_gt_N2DH_GOWT1[j]))\n",
    "\n",
    "print(dice_otsu_gauss_img_N2DH_GOWT1)"
   ]
  }
 ],
 "metadata": {
  "kernelspec": {
   "display_name": "Python 3.10.4 ('dataanalysis0104_Env')",
   "language": "python",
   "name": "python3"
  },
  "language_info": {
   "codemirror_mode": {
    "name": "ipython",
    "version": 3
   },
   "file_extension": ".py",
   "mimetype": "text/x-python",
   "name": "python",
   "nbconvert_exporter": "python",
   "pygments_lexer": "ipython3",
   "version": "3.10.4"
  },
  "orig_nbformat": 4,
  "vscode": {
   "interpreter": {
    "hash": "e0d3775933bd25a838655a686af1b37679a29cb0ec998f5190cb449f12779b79"
   }
  }
 },
 "nbformat": 4,
 "nbformat_minor": 2
}
