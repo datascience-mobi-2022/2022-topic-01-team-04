{
 "cells": [
  {
   "cell_type": "markdown",
   "metadata": {},
   "source": [
    "## Sliding window intensity assignment method, all (working) versions:\n",
    "- i_sw 0.1 works, but leaves white edges, where the window doesn't reach"
   ]
  },
  {
   "cell_type": "code",
   "execution_count": 3,
   "metadata": {},
   "outputs": [
    {
     "name": "stdout",
     "output_type": "stream",
     "text": [
      "Using matplotlib backend: <object object at 0x00000257AFED2600>\n",
      "%pylab is deprecated, use %matplotlib inline and import the required libraries.\n",
      "Populating the interactive namespace from numpy and matplotlib\n"
     ]
    }
   ],
   "source": [
    "#run this for the codes to work :)\n",
    "\n",
    "%pylab\n",
    "%matplotlib inline\n",
    "import numpy as np\n",
    "from scipy import stats\n",
    "import scipy.ndimage\n",
    "import matplotlib.pyplot as plt\n",
    "from images_segmentation import otsu as ot\n",
    "\n",
    "def crop(image, xmin, ymin, xmax, ymax):\n",
    "    cropped=np.empty([xmax-xmin, ymax-ymin], dtype=float)\n",
    "    for a,b in np.ndindex(xmax-xmin, ymax-ymin):\n",
    "        cropped[a,b]=image[a+xmin,b+ymin]\n",
    "    return cropped\n",
    "\n",
    "def otsu_i(image, selectivity):\n",
    "    img=ot.otsu_thresholding(image, 256)\n",
    "    it = np.zeros([img.shape[0],img.shape[1],2])\n",
    "    for x, y in np.ndindex(img.shape[0],img.shape[1]):\n",
    "            if img[x,y] == 0:\n",
    "                it[x,y,0]+=1\n",
    "            else: \n",
    "                it[x,y,0]+=0\n",
    "            it[x,y,1]+=selectivity\n",
    "    return it\n",
    "\n",
    "def edge(image, framesize):\n",
    "    img = np.empty([image.shape[0]+framesize, image.shape[1]+framesize], dtype=int)\n",
    "    for i,j in np.ndindex(image.shape[0],image.shape[1]):\n",
    "        img[i,j]=image[i,j]\n",
    "    figure()\n",
    "    imshow(img,'gray')\n",
    "    return img\n"
   ]
  },
  {
   "cell_type": "markdown",
   "metadata": {},
   "source": [
    "## i_sw 0.1"
   ]
  },
  {
   "cell_type": "code",
   "execution_count": 5,
   "metadata": {},
   "outputs": [],
   "source": [
    "def i_sw(image,stepsize,framesize, sensitivity):\n",
    "    img=copy(image)\n",
    "    for i,j in np.ndindex(image.shape[0], image.shape[1]):\n",
    "        img[i,j]=image[i,j]\n",
    "    \n",
    "    #create a 3 dimensional null array, the size of the image * 2, we can now save 2 separate values for each pixel\n",
    "    array=np.empty([img.shape[0],img.shape[1],2], dtype=float)\n",
    "\n",
    "    #set the first coordinates for iteration over the image\n",
    "    x=0\n",
    "    y=0\n",
    "\n",
    "        #iterate crop function with a given size over the picture, while the \"window\" fits inside the image, \n",
    "        #for each window crop the image to window coordinates and perform otsu_i \n",
    "    \n",
    "    while x+framesize<=img.shape[0]:\n",
    "        while y+framesize<=img.shape[1]:\n",
    "            window=crop(img,x,y,x+framesize, y+framesize)\n",
    "            it = otsu_i(window, sensitivity)\n",
    "\n",
    "            # for each pixel that fits into the current window, add the values from otsu_i \n",
    "            #generated array to according pixels in the big array\n",
    "            for a, b in np.ndindex(window.shape[0], window.shape[1]):\n",
    "                c=a+x\n",
    "                d=b+y\n",
    "                array[c,d,0]+=it[a,b,0]\n",
    "                array[c,d,1]+=it[a,b,1]\n",
    "            y+=stepsize\n",
    "        y=0\n",
    "        x+=stepsize\n",
    "\n",
    "    # because array is 3 dimensional and picture is 2 dimensional the final intensities will\n",
    "    # be determined by 'array', but saved into a final 'img' array (rewriting the copy of image)\n",
    "    for i, j in np.ndindex(img.shape[0], img.shape[1]):\n",
    "        if array[i,j,0]>array[i,j,1]:\n",
    "            img[i,j]=0\n",
    "        else:\n",
    "            img[i,j]=255\n",
    "    img=crop(img,0,0,image.shape[0],image.shape[1])\n",
    "    figure()\n",
    "    imshow(img,'gray')\n",
    "    return img"
   ]
  },
  {
   "cell_type": "code",
   "execution_count": null,
   "metadata": {},
   "outputs": [],
   "source": []
  },
  {
   "cell_type": "code",
   "execution_count": null,
   "metadata": {},
   "outputs": [],
   "source": []
  }
 ],
 "metadata": {
  "interpreter": {
   "hash": "21db8ca179e1c46f3f1871b3fc2646379981f9fac7908d31737eb0066b24c468"
  },
  "kernelspec": {
   "display_name": "Python 3.10.4 ('dataanalysis0104_env')",
   "language": "python",
   "name": "python3"
  },
  "language_info": {
   "codemirror_mode": {
    "name": "ipython",
    "version": 3
   },
   "file_extension": ".py",
   "mimetype": "text/x-python",
   "name": "python",
   "nbconvert_exporter": "python",
   "pygments_lexer": "ipython3",
   "version": "3.10.4"
  },
  "orig_nbformat": 4
 },
 "nbformat": 4,
 "nbformat_minor": 2
}
