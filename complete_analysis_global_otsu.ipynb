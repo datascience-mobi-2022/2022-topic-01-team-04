{
 "cells": [
  {
   "cell_type": "code",
   "execution_count": 1,
   "metadata": {},
   "outputs": [
    {
     "name": "stdout",
     "output_type": "stream",
     "text": [
      "Using matplotlib backend: <object object at 0x0000026D7A4CC630>\n",
      "%pylab is deprecated, use %matplotlib inline and import the required libraries.\n",
      "Populating the interactive namespace from numpy and matplotlib\n"
     ]
    }
   ],
   "source": [
    "%pylab\n",
    "%matplotlib inline\n",
    "import matplotlib.pyplot as plt\n",
    "import numpy as np\n",
    "import scipy.ndimage\n",
    "from nuclei_segmentation import otsu as ot\n",
    "from nuclei_segmentation import dicescore as dsc\n",
    "from nuclei_segmentation import preprocessing as pp"
   ]
  },
  {
   "cell_type": "code",
   "execution_count": 1,
   "metadata": {},
   "outputs": [],
   "source": [
    "def complete_analysis_global_otsu(x):\n",
    "    if x == 'N2DH-GOWT1':\n",
    "        \n",
    "        img_N2DH_GOWT1 = []\n",
    "        path = r\"data/Otsu_data/N2DH-GOWT1/img\"\n",
    "        for f in os.listdir(path):\n",
    "            img_N2DH_GOWT1.append(imread(os.path.join(path , f)))\n",
    "\n",
    "        gt_N2DH_GOWT1 = []\n",
    "        path = r\"data/Otsu_data/N2DH-GOWT1/gt\"\n",
    "        for f in os.listdir(path):\n",
    "            gt_N2DH_GOWT1.append(imread(os.path.join(path , f)))\n",
    "\n",
    "        binary_gt_N2DH_GOWT1 = []\n",
    "        for i in range(0,len(gt_N2DH_GOWT1)):\n",
    "            binary_gt_N2DH_GOWT1.append(pp.binarize(gt_N2DH_GOWT1[i])) \n",
    "\n",
    "        copy_img_N2DH_GOWT1 = img_N2DH_GOWT1.copy()\n",
    "\n",
    "        median_img_N2DH_GOWT1 = []\n",
    "        for i in range(0,len(copy_img_N2DH_GOWT1)):\n",
    "            median_img_N2DH_GOWT1.append(scipy.ndimage.median_filter(copy_img_N2DH_GOWT1[i] , 9))\n",
    "\n",
    "        gauss_img_N2DH_GOWT1 = []\n",
    "        for i in range(0,len(copy_img_N2DH_GOWT1)):\n",
    "            gauss_img_N2DH_GOWT1.append(scipy.ndimage.gaussian_filter(copy_img_N2DH_GOWT1[i] , 9))\n",
    "\n",
    "        stretch_img_N2DH_GOWT1 = []\n",
    "        for i in range(0,len(copy_img_N2DH_GOWT1)):\n",
    "            stretch_img_N2DH_GOWT1.append(pp.stretch(copy_img_N2DH_GOWT1[i]))\n",
    "\n",
    "        stretch_median_img_N2DH_GOWT1 = []\n",
    "        for i in range(0,len(stretch_img_N2DH_GOWT1)):\n",
    "            stretch_median_img_N2DH_GOWT1.append(scipy.ndimage.median_filter(stretch_img_N2DH_GOWT1[i] , 9))\n",
    "\n",
    "        stretch_gauss_img_N2DH_GOWT1 = []\n",
    "        for i in range(0,len(stretch_img_N2DH_GOWT1)):\n",
    "            stretch_gauss_img_N2DH_GOWT1.append(scipy.ndimage.gaussian_filter(stretch_img_N2DH_GOWT1[i] , 9))\n",
    "\n",
    "        otsu_img_N2DH_GOWT1 = []\n",
    "        for i in range(0,len(copy_img_N2DH_GOWT1)):\n",
    "            otsu_img_N2DH_GOWT1.append(ot.otsu_thresholding(copy_img_N2DH_GOWT1[i] , 256))\n",
    "\n",
    "        otsu_median_img_N2DH_GOWT1 = []\n",
    "        for i in range(0,len(median_img_N2DH_GOWT1)):\n",
    "            otsu_median_img_N2DH_GOWT1.append(ot.otsu_thresholding(median_img_N2DH_GOWT1[i] , 256))\n",
    "\n",
    "        otsu_gauss_img_N2DH_GOWT1 = []\n",
    "        for i in range(0,len(gauss_img_N2DH_GOWT1)):\n",
    "            otsu_gauss_img_N2DH_GOWT1.append(ot.otsu_thresholding(gauss_img_N2DH_GOWT1[i] , 256))\n",
    "\n",
    "        otsu_stretch_img_N2DH_GOWT1 = []\n",
    "        for i in range(0,len(stretch_img_N2DH_GOWT1)):\n",
    "            otsu_stretch_img_N2DH_GOWT1.append(ot.otsu_thresholding(stretch_img_N2DH_GOWT1[i] , 256))\n",
    "\n",
    "        otsu_stretch_median_img_N2DH_GOWT1 = []\n",
    "        for i in range(0,len(stretch_median_img_N2DH_GOWT1)):\n",
    "            otsu_stretch_median_img_N2DH_GOWT1.append(ot.otsu_thresholding(stretch_median_img_N2DH_GOWT1[i] , 256))\n",
    "\n",
    "        otsu_stretch_gauss_img_N2DH_GOWT1 = []\n",
    "        for i in range(0,len(stretch_gauss_img_N2DH_GOWT1)):\n",
    "            otsu_stretch_gauss_img_N2DH_GOWT1.append(ot.otsu_thresholding(stretch_gauss_img_N2DH_GOWT1[i] , 256))\n",
    "\n",
    "        dice_otsu_img_N2DH_GOWT1 = []\n",
    "        for j in range(0,len(otsu_img_N2DH_GOWT1)):\n",
    "            dice_otsu_img_N2DH_GOWT1.append(dsc.dice(otsu_img_N2DH_GOWT1[j] , binary_gt_N2DH_GOWT1[j]))\n",
    "\n",
    "        dice_otsu_median_img_N2DH_GOWT1 = []\n",
    "        for j in range(0,len(otsu_median_img_N2DH_GOWT1)):\n",
    "            dice_otsu_median_img_N2DH_GOWT1.append(dsc.dice(otsu_median_img_N2DH_GOWT1[j] , binary_gt_N2DH_GOWT1[j]))\n",
    "\n",
    "        dice_otsu_gauss_img_N2DH_GOWT1 = []\n",
    "        for j in range(0,len(otsu_gauss_img_N2DH_GOWT1)):\n",
    "            dice_otsu_gauss_img_N2DH_GOWT1.append(dsc.dice(otsu_gauss_img_N2DH_GOWT1[j] , binary_gt_N2DH_GOWT1[j]))\n",
    "\n",
    "        dice_otsu_stretch_img_N2DH_GOWT1 = []\n",
    "        for j in range(0,len(otsu_stretch_img_N2DH_GOWT1)):\n",
    "            dice_otsu_stretch_img_N2DH_GOWT1.append(dsc.dice(otsu_stretch_img_N2DH_GOWT1[j] , binary_gt_N2DH_GOWT1[j]))\n",
    "\n",
    "        dice_otsu_stretch_median_img_N2DH_GOWT1 = []\n",
    "        for j in range(0,len(otsu_stretch_median_img_N2DH_GOWT1)):\n",
    "            dice_otsu_stretch_median_img_N2DH_GOWT1.append(dsc.dice(otsu_stretch_median_img_N2DH_GOWT1[j] , binary_gt_N2DH_GOWT1[j]))\n",
    "\n",
    "        dice_otsu_stretch_gauss_img_N2DH_GOWT1 = []\n",
    "        for j in range(0,len(otsu_stretch_gauss_img_N2DH_GOWT1)):\n",
    "            dice_otsu_stretch_gauss_img_N2DH_GOWT1.append(dsc.dice(otsu_stretch_gauss_img_N2DH_GOWT1[j] , binary_gt_N2DH_GOWT1[j]))\n",
    "\n",
    "        data_N2DH_GOWT1 = [dice_otsu_img_N2DH_GOWT1 , dice_otsu_median_img_N2DH_GOWT1 , dice_otsu_gauss_img_N2DH_GOWT1 , dice_otsu_stretch_img_N2DH_GOWT1  , dice_otsu_stretch_median_img_N2DH_GOWT1  , dice_otsu_stretch_gauss_img_N2DH_GOWT1]\n",
    "\n",
    "        pp.dataset_boxplot(data_N2DH_GOWT1 , 'Preprocessing methods - N2DH-GOWT1')\n",
    "\n",
    "\n"
   ]
  },
  {
   "cell_type": "code",
   "execution_count": 3,
   "metadata": {},
   "outputs": [
    {
     "name": "stderr",
     "output_type": "stream",
     "text": [
      "c:\\Users\\marie\\Desktop\\2022-topic-01-team-04\\nuclei_segmentation\\preprocessing.py:57: UserWarning: FixedFormatter should only be used together with FixedLocator\n",
      "  ax.set_xticklabels(['No preprocessing' , 'Median filter' , 'Gaussian filter' , 'Histogram \\n stretching' , 'Median filter and \\n histogram stretching' , 'Histogram stretching and \\n median filter' , 'Gaussian filter and \\n histogram stretching' , 'Histogram stretching and \\n gaussian filter'])\n"
     ]
    },
    {
     "ename": "NameError",
     "evalue": "name 'data_N2DH_GOWT1' is not defined",
     "output_type": "error",
     "traceback": [
      "\u001b[1;31m---------------------------------------------------------------------------\u001b[0m",
      "\u001b[1;31mNameError\u001b[0m                                 Traceback (most recent call last)",
      "\u001b[1;32mc:\\Users\\marie\\Desktop\\2022-topic-01-team-04\\complete_analysis_global_otsu.ipynb Zelle 3\u001b[0m in \u001b[0;36m<cell line: 1>\u001b[1;34m()\u001b[0m\n\u001b[1;32m----> <a href='vscode-notebook-cell:/c%3A/Users/marie/Desktop/2022-topic-01-team-04/complete_analysis_global_otsu.ipynb#ch0000002?line=0'>1</a>\u001b[0m complete_analysis_global_otsu(\u001b[39m'\u001b[39;49m\u001b[39mN2DH-GOWT1\u001b[39;49m\u001b[39m'\u001b[39;49m)\n",
      "\u001b[1;32mc:\\Users\\marie\\Desktop\\2022-topic-01-team-04\\complete_analysis_global_otsu.ipynb Zelle 3\u001b[0m in \u001b[0;36mcomplete_analysis_global_otsu\u001b[1;34m(x)\u001b[0m\n\u001b[0;32m     <a href='vscode-notebook-cell:/c%3A/Users/marie/Desktop/2022-topic-01-team-04/complete_analysis_global_otsu.ipynb#ch0000002?line=85'>86</a>\u001b[0m     dice_otsu_stretch_gauss_img_N2DH_GOWT1\u001b[39m.\u001b[39mappend(dsc\u001b[39m.\u001b[39mdice(otsu_stretch_gauss_img_N2DH_GOWT1[j] , binary_gt_N2DH_GOWT1[j]))\n\u001b[0;32m     <a href='vscode-notebook-cell:/c%3A/Users/marie/Desktop/2022-topic-01-team-04/complete_analysis_global_otsu.ipynb#ch0000002?line=87'>88</a>\u001b[0m data_N2DH_GOWT1 \u001b[39m=\u001b[39m [dice_otsu_img_N2DH_GOWT1 , dice_otsu_median_img_N2DH_GOWT1 , dice_otsu_gauss_img_N2DH_GOWT1 , dice_otsu_stretch_img_N2DH_GOWT1  , dice_otsu_stretch_median_img_N2DH_GOWT1  , dice_otsu_stretch_gauss_img_N2DH_GOWT1]\n\u001b[1;32m---> <a href='vscode-notebook-cell:/c%3A/Users/marie/Desktop/2022-topic-01-team-04/complete_analysis_global_otsu.ipynb#ch0000002?line=89'>90</a>\u001b[0m pp\u001b[39m.\u001b[39;49mdataset_boxplot(data_N2DH_GOWT1 , \u001b[39m'\u001b[39;49m\u001b[39mPreprocessing methods - N2DH-GOWT1\u001b[39;49m\u001b[39m'\u001b[39;49m)\n",
      "File \u001b[1;32mc:\\Users\\marie\\Desktop\\2022-topic-01-team-04\\nuclei_segmentation\\preprocessing.py:58\u001b[0m, in \u001b[0;36mdataset_boxplot\u001b[1;34m(data, title, plot)\u001b[0m\n\u001b[0;32m     56\u001b[0m ax \u001b[39m=\u001b[39m fig_1\u001b[39m.\u001b[39madd_axes([\u001b[39m0\u001b[39m , \u001b[39m0\u001b[39m , \u001b[39m1\u001b[39m , \u001b[39m1\u001b[39m])\n\u001b[0;32m     57\u001b[0m ax\u001b[39m.\u001b[39mset_xticklabels([\u001b[39m'\u001b[39m\u001b[39mNo preprocessing\u001b[39m\u001b[39m'\u001b[39m , \u001b[39m'\u001b[39m\u001b[39mMedian filter\u001b[39m\u001b[39m'\u001b[39m , \u001b[39m'\u001b[39m\u001b[39mGaussian filter\u001b[39m\u001b[39m'\u001b[39m , \u001b[39m'\u001b[39m\u001b[39mHistogram \u001b[39m\u001b[39m\\n\u001b[39;00m\u001b[39m stretching\u001b[39m\u001b[39m'\u001b[39m , \u001b[39m'\u001b[39m\u001b[39mMedian filter and \u001b[39m\u001b[39m\\n\u001b[39;00m\u001b[39m histogram stretching\u001b[39m\u001b[39m'\u001b[39m , \u001b[39m'\u001b[39m\u001b[39mHistogram stretching and \u001b[39m\u001b[39m\\n\u001b[39;00m\u001b[39m median filter\u001b[39m\u001b[39m'\u001b[39m , \u001b[39m'\u001b[39m\u001b[39mGaussian filter and \u001b[39m\u001b[39m\\n\u001b[39;00m\u001b[39m histogram stretching\u001b[39m\u001b[39m'\u001b[39m , \u001b[39m'\u001b[39m\u001b[39mHistogram stretching and \u001b[39m\u001b[39m\\n\u001b[39;00m\u001b[39m gaussian filter\u001b[39m\u001b[39m'\u001b[39m])\n\u001b[1;32m---> 58\u001b[0m \u001b[39mif\u001b[39;00m data \u001b[39m==\u001b[39m data_N2DH_GOWT1:\n\u001b[0;32m     59\u001b[0m     ax\u001b[39m.\u001b[39mset_ylim([\u001b[39m0.5\u001b[39m , \u001b[39m0.85\u001b[39m])\n\u001b[0;32m     60\u001b[0m \u001b[39mif\u001b[39;00m data \u001b[39m==\u001b[39m data_N2DLHeLa:\n",
      "\u001b[1;31mNameError\u001b[0m: name 'data_N2DH_GOWT1' is not defined"
     ]
    },
    {
     "data": {
      "image/png": "[encoded data removed]",
      "text/plain": [
       "<Figure size 1008x720 with 1 Axes>"
      ]
     },
     "metadata": {
      "needs_background": "light"
     },
     "output_type": "display_data"
    }
   ],
   "source": [
    "complete_analysis_global_otsu('N2DH-GOWT1')"
   ]
  }
 ],
 "metadata": {
  "kernelspec": {
   "display_name": "Python 3.10.4 ('dataanalysis0104_env')",
   "language": "python",
   "name": "python3"
  },
  "language_info": {
   "codemirror_mode": {
    "name": "ipython",
    "version": 3
   },
   "file_extension": ".py",
   "mimetype": "text/x-python",
   "name": "python",
   "nbconvert_exporter": "python",
   "pygments_lexer": "ipython3",
   "version": "3.10.4"
  },
  "orig_nbformat": 4,
  "vscode": {
   "interpreter": {
    "hash": "c2780eabf9c709791df5bb09a5e724a87501d2f5f75f641a7e33d45f5519c21d"
   }
  }
 },
 "nbformat": 4,
 "nbformat_minor": 2
}
