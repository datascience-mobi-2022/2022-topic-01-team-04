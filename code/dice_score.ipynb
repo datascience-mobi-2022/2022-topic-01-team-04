{
 "cells": [
  {
   "cell_type": "code",
   "execution_count": 10,
   "metadata": {},
   "outputs": [],
   "source": [
    "#this is basically a sketch of the code \n",
    "# so far there are no bugs but also hasnt been tried on images\n",
    "# sorry for speeding trough it i just was in the mood :')\n"
   ]
  },
  {
   "cell_type": "code",
   "execution_count": 11,
   "metadata": {},
   "outputs": [
    {
     "ename": "NameError",
     "evalue": "name 'pic1' is not defined",
     "output_type": "error",
     "traceback": [
      "\u001b[1;31m---------------------------------------------------------------------------\u001b[0m",
      "\u001b[1;31mNameError\u001b[0m                                 Traceback (most recent call last)",
      "\u001b[1;32mc:\\Users\\ievas\\Desktop\\2022-topic-01-team-04\\code\\dice_score.ipynb Cell 2'\u001b[0m in \u001b[0;36m<cell line: 3>\u001b[1;34m()\u001b[0m\n\u001b[0;32m      <a href='vscode-notebook-cell:/c%3A/Users/ievas/Desktop/2022-topic-01-team-04/code/dice_score.ipynb#ch0000003?line=0'>1</a>\u001b[0m \u001b[39m# lists of tresholded pictures and gt pictures!\u001b[39;00m\n\u001b[0;32m      <a href='vscode-notebook-cell:/c%3A/Users/ievas/Desktop/2022-topic-01-team-04/code/dice_score.ipynb#ch0000003?line=1'>2</a>\u001b[0m \u001b[39m# could we automatize this assigning process????\u001b[39;00m\n\u001b[1;32m----> <a href='vscode-notebook-cell:/c%3A/Users/ievas/Desktop/2022-topic-01-team-04/code/dice_score.ipynb#ch0000003?line=2'>3</a>\u001b[0m tresholded \u001b[39m=\u001b[39m [pic1, pic2, pic3, \u001b[39m.\u001b[39m\u001b[39m.\u001b[39m\u001b[39m.\u001b[39m]\n\u001b[0;32m      <a href='vscode-notebook-cell:/c%3A/Users/ievas/Desktop/2022-topic-01-team-04/code/dice_score.ipynb#ch0000003?line=3'>4</a>\u001b[0m ground_truth \u001b[39m=\u001b[39m [pic1, pic2, pic3, \u001b[39m.\u001b[39m\u001b[39m.\u001b[39m\u001b[39m.\u001b[39m]\n",
      "\u001b[1;31mNameError\u001b[0m: name 'pic1' is not defined"
     ]
    }
   ],
   "source": [
    "# lists of tresholded pictures and gt pictures!\n",
    "# could we automatize this assigning process????\n",
    "tresholded = [pic1, pic2, pic3, ...]\n",
    "ground_truth = [pic1, pic2, pic3, ...]"
   ]
  },
  {
   "cell_type": "code",
   "execution_count": 12,
   "metadata": {},
   "outputs": [],
   "source": [
    "def dice(x): #x=picture number, same number for gt and post tresholding image):\n",
    "    gt = ground_truth[x] #somehow define that we are taking gt picture x\n",
    "    pt = tresholded[x] #somehow define that we are taking post tresholding picture x\n",
    "    tp=0\n",
    "    tn=0\n",
    "    fp=0\n",
    "    fn=0\n",
    "    for i in shape(gt): # shape(gt) should be equalt to shape(pt)\n",
    "        if gt(i)==256:\n",
    "            if pt(i)==256:\n",
    "                tp+=1\n",
    "            else:\n",
    "                fn+=1\n",
    "        else:\n",
    "            if pt(i)==256:\n",
    "                fp+=1\n",
    "            else:\n",
    "                tn+=1 #this part not rly needed tbh\n",
    "    dsc= 2*tp/(2*tp+fn+fp)\n",
    "    return dsc\n",
    "\n",
    "\n",
    "\n",
    "    "
   ]
  },
  {
   "cell_type": "code",
   "execution_count": 13,
   "metadata": {},
   "outputs": [],
   "source": [
    "# we can then make it run trough a whole dataset like\n",
    "def dice_avg(y):\n",
    "    sum = 0\n",
    "    for x in range(0,len(tresholded)+1):\n",
    "        dice(x)\n",
    "        sum += dsc\n",
    "    dsc_avg = sum/len(tresholded)\n",
    "    return dsc_avg\n",
    "\n",
    "    \n",
    "    #whatever we want to do, we can store them in a vector and then make a graph or smth to visualize them especially for the report as time goes on, or calculate the average :)"
   ]
  }
 ],
 "metadata": {
  "interpreter": {
   "hash": "80c7e6a77fa203e93841747288a3609686193fd573b1d3eb73e69ad9154b6208"
  },
  "kernelspec": {
   "display_name": "Python 3.10.2 64-bit",
   "language": "python",
   "name": "python3"
  },
  "language_info": {
   "codemirror_mode": {
    "name": "ipython",
    "version": 3
   },
   "file_extension": ".py",
   "mimetype": "text/x-python",
   "name": "python",
   "nbconvert_exporter": "python",
   "pygments_lexer": "ipython3",
   "version": "3.10.2"
  },
  "orig_nbformat": 4
 },
 "nbformat": 4,
 "nbformat_minor": 2
}
