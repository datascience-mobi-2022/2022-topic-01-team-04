{
 "cells": [
  {
   "cell_type": "code",
   "execution_count": 1,
   "metadata": {},
   "outputs": [
    {
     "name": "stdout",
     "output_type": "stream",
     "text": [
      "Using matplotlib backend: <object object at 0x000002789E902680>\n",
      "%pylab is deprecated, use %matplotlib inline and import the required libraries.\n",
      "Populating the interactive namespace from numpy and matplotlib\n"
     ]
    }
   ],
   "source": [
    "%pylab\n",
    "%matplotlib inline\n",
    "import matplotlib.pyplot as plt\n",
    "import numpy as np\n",
    "import scipy.ndimage\n",
    "import cv2\n",
    "from nuclei_segmentation import otsu as ot\n",
    "from nuclei_segmentation import dicescore as dsc\n",
    "from nuclei_segmentation import preprocessing as pp\n",
    "from nuclei_segmentation import local_thresholding as lt\n",
    "from nuclei_segmentation import two_level_otsu as tlo\n",
    "from nuclei_segmentation import two_level_local_thresholding as tlo_l\n",
    "import statistics as st"
   ]
  },
  {
   "cell_type": "code",
   "execution_count": 2,
   "metadata": {},
   "outputs": [],
   "source": [
    "img_N2DH_GOWT1 = []\n",
    "path = r\"data/Otsu_data/N2DH-GOWT1/img\"\n",
    "for f in os.listdir(path):\n",
    "    img_N2DH_GOWT1.append(imread(os.path.join(path , f)))\n",
    "\n",
    "gt_N2DH_GOWT1 = []\n",
    "path = r\"data/Otsu_data/N2DH-GOWT1/gt\"\n",
    "for f in os.listdir(path):\n",
    "    gt_N2DH_GOWT1.append(imread(os.path.join(path , f)))"
   ]
  },
  {
   "cell_type": "code",
   "execution_count": 5,
   "metadata": {},
   "outputs": [
    {
     "ename": "NameError",
     "evalue": "name 'img' is not defined",
     "output_type": "error",
     "traceback": [
      "\u001b[1;31m---------------------------------------------------------------------------\u001b[0m",
      "\u001b[1;31mNameError\u001b[0m                                 Traceback (most recent call last)",
      "\u001b[1;32mc:\\Users\\marie\\Desktop\\2022-topic-01-team-04\\twolevel_local.ipynb Zelle 3\u001b[0m in \u001b[0;36m<cell line: 2>\u001b[1;34m()\u001b[0m\n\u001b[0;32m      <a href='vscode-notebook-cell:/c%3A/Users/marie/Desktop/2022-topic-01-team-04/twolevel_local.ipynb#ch0000002?line=0'>1</a>\u001b[0m \u001b[39m#tlo_l.two_level_local_thresholding_mean(img_N2DH_GOWT1[0], 100,400)\u001b[39;00m\n\u001b[1;32m----> <a href='vscode-notebook-cell:/c%3A/Users/marie/Desktop/2022-topic-01-team-04/twolevel_local.ipynb#ch0000002?line=1'>2</a>\u001b[0m \u001b[39mprint\u001b[39m(img)\n",
      "\u001b[1;31mNameError\u001b[0m: name 'img' is not defined"
     ]
    }
   ],
   "source": [
    "tlo_l.two_level_local_thresholding_mean(img_N2DH_GOWT1[0], 100,400)\n",
    "print(img)"
   ]
  }
 ],
 "metadata": {
  "kernelspec": {
   "display_name": "Python 3.9.12 ('dataanalysis0104_env')",
   "language": "python",
   "name": "python3"
  },
  "language_info": {
   "codemirror_mode": {
    "name": "ipython",
    "version": 3
   },
   "file_extension": ".py",
   "mimetype": "text/x-python",
   "name": "python",
   "nbconvert_exporter": "python",
   "pygments_lexer": "ipython3",
   "version": "3.9.12"
  },
  "orig_nbformat": 4,
  "vscode": {
   "interpreter": {
    "hash": "73a5aaef6c11b1ea6e162ad69f2e79f73d9b6fd099813d04ec92d64c4323e461"
   }
  }
 },
 "nbformat": 4,
 "nbformat_minor": 2
}
