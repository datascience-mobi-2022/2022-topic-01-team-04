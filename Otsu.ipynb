{
 "cells": [
  {
   "cell_type": "code",
   "execution_count": null,
   "metadata": {},
   "outputs": [],
   "source": [
    "\n",
    "\n"
   ]
  },
  {
   "cell_type": "markdown",
   "metadata": {},
   "source": [
    "Otsu thresholding theory:\n",
    "1. input image\n",
    "2. Histogram \n",
    "3. Set up initial wi (0) and i(0)\n",
    "4. Update values of wi(T) and i(T)\n",
    "5. compute variance\n",
    "6. select threshold intensity T\n",
    "7. Image clipping \n",
    "8. Output image"
   ]
  }
 ],
 "metadata": {
  "language_info": {
   "name": "python"
  },
  "orig_nbformat": 4
 },
 "nbformat": 4,
 "nbformat_minor": 2
}
