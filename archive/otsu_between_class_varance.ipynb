{
 "cells": [
  {
   "cell_type": "code",
   "execution_count": 28,
   "metadata": {},
   "outputs": [],
   "source": [
    "from cmath import nan\n",
    "\n",
    "\n",
    "def otsu_thresholding(img,x):\n",
    "    import matplotlib.pyplot\n",
    "    import numpy\n",
    "\n",
    "   # load histogram, Mathematische werte aus Histogramm rausgreifen\n",
    "    n, bins = numpy.histogram(img.flatten(),bins = x)\n",
    "  \n",
    "   # initialize threshold value (T = 0) \n",
    "    thres = 0\n",
    "    copy = img.copy()\n",
    "\n",
    "    # create list to store values of within class variance for each threshold value\n",
    "    bcv = list()\n",
    "    \n",
    "    # set up initial values\n",
    "    for i in range(0,len(n)):\n",
    "        bclv = 0\n",
    "        w0_sum = 0\n",
    "        mean_sum0 = 0\n",
    "        mean_sum1 = 0\n",
    "        w0 = 0\n",
    "        w1 = 0\n",
    "        w1_sum = 0\n",
    "\n",
    "        #sum up the probabilites of each intensity value;  and the mean value (sind noch nicht happy mit der definition :()\n",
    "        w0_sum = numpy.sum(numpy.array(n[0:i+1]))\n",
    "        mean_sum0 = numpy.sum((numpy.array(bins[0:i+1])*numpy.array(n[0:i+1])))\n",
    "            \n",
    "        # background class probabilites and class mean levels\n",
    "        w0 = w0_sum / sum(n)  \n",
    "        if(sum(n[0:i+1]) != 0):  \n",
    "             mean_0 = mean_sum0 / sum(n[0:i+1])\n",
    "        else: mean_0 = 0\n",
    "        \n",
    "        # compute background class variance\n",
    "\n",
    "        #v0_sum = numpy.sum((numpy.array((bins[0:i+1]-mean_0)** 2)*numpy.array(n[0:i+1])))\n",
    "        #v0 = v0_sum / sum(n[0:i+1])\n",
    "        \n",
    "        # sum up the probabilites of each intensity value;  and the mean value\n",
    "        w1_sum = numpy.sum(numpy.array(n[i+1:len(n)]))\n",
    "        mean_sum1 = numpy.sum((numpy.array(bins[i+1:len(n)])*numpy.array(n[i+1:len(n)])))\n",
    "            \n",
    "        # compute foreground class probabilities and class mean levels    \n",
    "        w1 = w1_sum / sum(n)\n",
    "        if(sum(n[i+1:len(n)]) != 0):\n",
    "            mean_1 = mean_sum1 / sum(n[i+1:len(n)])\n",
    "        else: mean_1 = 0\n",
    "\n",
    "        # compute foreground class variance \n",
    "        #v1_sum = numpy.sum((numpy.array((bins[i+1:len(n)]-mean_1)** 2)*numpy.array(n[i+1:len(n)])))\n",
    "       \n",
    "        #if( sum(n[i+1:len(n)]) != 0):\n",
    "         #   v1 = v1_sum / sum(n[i+1:len(n)])\n",
    "        #else: v1 = 0\n",
    "\n",
    "        # compute within class variance and append to list\n",
    "        bclv = w0*w1*((mean_1-mean_0)**2)\n",
    "        bcv.append(bclv)\n",
    "\n",
    "    # select optimal threshold value, minimum value of within class variance\n",
    "    optimal_thres = max(bcv)\n",
    "\n",
    "    #select optimal threshold in the list\n",
    "    l = 0\n",
    "    while l < len(bcv):\n",
    "        if bcv[l] == optimal_thres: thres = bins[l]\n",
    "        l += 1\n",
    "   # index = numpy.where(numpy.array(wcv) == optimal_thres)\n",
    "    #thres = bins[index]\n",
    "    #perform image clipping \n",
    "    copy[copy < thres] = 0\n",
    "    copy[copy >= thres] = 1\n",
    "\n",
    "    return copy \n"
   ]
  },
  {
   "cell_type": "code",
   "execution_count": 17,
   "metadata": {},
   "outputs": [
    {
     "name": "stdout",
     "output_type": "stream",
     "text": [
      "Using matplotlib backend: QtAgg\n",
      "%pylab is deprecated, use %matplotlib inline and import the required libraries.\n",
      "Populating the interactive namespace from numpy and matplotlib\n"
     ]
    },
    {
     "name": "stderr",
     "output_type": "stream",
     "text": [
      "d:\\Anaconda\\envs\\dataanalysis0104_env\\lib\\site-packages\\IPython\\core\\magics\\pylab.py:162: UserWarning: pylab import has clobbered these variables: ['f', 'nan']\n",
      "`%matplotlib` prevents importing * from pylab and numpy\n",
      "  warn(\"pylab import has clobbered these variables: %s\"  % clobbered +\n"
     ]
    }
   ],
   "source": [
    "#Packages\n",
    "%pylab\n",
    "%matplotlib inline\n",
    "import numpy as np\n",
    "import scipy.ndimage\n",
    "import matplotlib.pyplot as plt\n",
    "from nuclei_segmentation import otsu as ot\n",
    "from nuclei_segmentation import dicescore as dsc\n",
    "import os"
   ]
  },
  {
   "cell_type": "code",
   "execution_count": 3,
   "metadata": {},
   "outputs": [],
   "source": [
    "from PIL import Image\n",
    "import os, os.path\n",
    "\n",
    "imgs = []\n",
    "path = r\"data\\Otsu_data\\NIH3T3\\img\"\n",
    "for f in os.listdir(path):\n",
    "    imgs.append(imread(os.path.join(path,f)))\n",
    "\n",
    "imgs_gt = []\n",
    "path = r\"data\\Otsu_data\\NIH3T3\\gt\"\n",
    "for f in os.listdir(path):\n",
    "    imgs_gt.append(imread(os.path.join(path,f)))\n",
    "\n",
    "imgs_1 = []\n",
    "path = r\"data\\Otsu_data\\N2DH-GOWT1\\img\"\n",
    "for f in os.listdir(path):\n",
    "    imgs_1.append(imread(os.path.join(path,f)))\n",
    "\n",
    "imgs_gt_1 = []\n",
    "path = r\"data\\Otsu_data\\N2DH-GOWT1\\gt\"\n",
    "for f in os.listdir(path):\n",
    "    imgs_gt_1.append(imread(os.path.join(path,f)))\n",
    "\n",
    "imgs_2 = []\n",
    "path = r\"data\\Otsu_data\\N2DL-HeLa\\img\"\n",
    "for f in os.listdir(path):\n",
    "    imgs_2.append(imread(os.path.join(path,f)))\n",
    "\n",
    "imgs_gt_2 = []\n",
    "path = r\"data\\Otsu_data\\N2DL-HeLa\\gt\"\n",
    "for f in os.listdir(path):\n",
    "    imgs_gt_2.append(imread(os.path.join(path,f)))\n"
   ]
  },
  {
   "cell_type": "code",
   "execution_count": 43,
   "metadata": {},
   "outputs": [],
   "source": [
    "otsu_1 = []\n",
    "for i in range(0,len(imgs)):\n",
    "    otsu_1.append(otsu_thresholding(imgs[i],256)) \n",
    "\n",
    "otsu_2 = []\n",
    "for i in range(0,len(imgs_1)):\n",
    "    otsu_2.append(otsu_thresholding(imgs_1[i],220)) \n",
    "\n",
    "otsu_3 = []\n",
    "for i in range(0,len(imgs_2)):\n",
    "    otsu_3.append(otsu_thresholding(imgs_2[i],256)) \n"
   ]
  },
  {
   "cell_type": "code",
   "execution_count": 30,
   "metadata": {},
   "outputs": [
    {
     "data": {
      "text/plain": [
       "<matplotlib.image.AxesImage at 0x28f245a8310>"
      ]
     },
     "execution_count": 30,
     "metadata": {},
     "output_type": "execute_result"
    },
    {
     "data": {
      "image/png": "[encoded data removed]",
      "text/plain": [
       "<Figure size 432x288 with 1 Axes>"
      ]
     },
     "metadata": {
      "needs_background": "light"
     },
     "output_type": "display_data"
    }
   ],
   "source": [
    "figure()\n",
    "imshow(otsu_1[0], 'gray')"
   ]
  },
  {
   "cell_type": "code",
   "execution_count": 31,
   "metadata": {},
   "outputs": [
    {
     "name": "stdout",
     "output_type": "stream",
     "text": [
      "[0.8943783223933183, 0.8845252721173281, 0.8248360803970239, 0.7345417270163801, 0.7304073649082119, 0.6728102311790894, 0.6711519137663287, 0.7237186625334818, 0.03844935467277361, 0.482970126366923, 0.0, 0.680536637820677, 0.00026339009389856846, 0.5757554586315079, 0.6165448260228947, 0.07605520913993832, 0.07186834004262373, 0.7965485556767932]\n"
     ]
    }
   ],
   "source": [
    "\n",
    "dice_sc = []\n",
    "for j in range(0,len(otsu_1)):\n",
    "        dice_sc.append(dsc.dice(otsu_1[j],imgs_gt[j]))\n",
    "print(dice_sc)"
   ]
  },
  {
   "cell_type": "code",
   "execution_count": 41,
   "metadata": {},
   "outputs": [],
   "source": [
    "otsu_1_w = []\n",
    "for i in range(0,len(imgs)):\n",
    "    otsu_1_w.append(ot.otsu_thresholding(imgs[i],256)) \n",
    "\n",
    "otsu_2_w = []\n",
    "for i in range(0,len(imgs_1)):\n",
    "    otsu_2_w.append(ot.otsu_thresholding(imgs_1[i],220)) \n",
    "\n",
    "otsu_3_w = []\n",
    "for i in range(0,len(imgs_2)):\n",
    "    otsu_3_w.append(ot.otsu_thresholding(imgs_2[i],256)) \n"
   ]
  },
  {
   "cell_type": "code",
   "execution_count": 23,
   "metadata": {},
   "outputs": [
    {
     "name": "stdout",
     "output_type": "stream",
     "text": [
      "[0.8943783223933183, 0.8845252721173281, 0.8248360803970239, 0.7345417270163801, 0.7304073649082119, 0.6728102311790894, 0.6711519137663287, 0.7237186625334818, 0.03844935467277361, 0.482970126366923, 0.0, 0.680536637820677, 0.00026339009389856846, 0.5757554586315079, 0.6165448260228947, 0.07605520913993832, 0.07186834004262373, 0.7965485556767932]\n"
     ]
    }
   ],
   "source": [
    "dice_sc_w = []\n",
    "for j in range(0,len(otsu_1_w)):\n",
    "        dice_sc_w.append(dsc.dice(otsu_1_w[j],imgs_gt[j]))\n",
    "print(dice_sc_w)"
   ]
  }
 ],
 "metadata": {
  "kernelspec": {
   "display_name": "Python 3.10.4 ('dataanalysis0104_env')",
   "language": "python",
   "name": "python3"
  },
  "language_info": {
   "codemirror_mode": {
    "name": "ipython",
    "version": 3
   },
   "file_extension": ".py",
   "mimetype": "text/x-python",
   "name": "python",
   "nbconvert_exporter": "python",
   "pygments_lexer": "ipython3",
   "version": "3.10.4"
  },
  "orig_nbformat": 4,
  "vscode": {
   "interpreter": {
    "hash": "c2780eabf9c709791df5bb09a5e724a87501d2f5f75f641a7e33d45f5519c21d"
   }
  }
 },
 "nbformat": 4,
 "nbformat_minor": 2
}
