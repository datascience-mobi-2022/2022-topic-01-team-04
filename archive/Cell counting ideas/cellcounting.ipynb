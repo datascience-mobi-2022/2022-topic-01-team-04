{
 "cells": [
  {
   "cell_type": "code",
   "execution_count": null,
   "metadata": {},
   "outputs": [],
   "source": [
    "def cell_counting(img):\n",
    "\n",
    "    import matplotlib.pyplot\n",
    "    import numpy\n",
    "\n",
    "    img = img.copy()\n",
    "\n",
    "   "
   ]
  },
  {
   "cell_type": "markdown",
   "metadata": {},
   "source": [
    "- cell counting\n",
    "\n",
    "brain storming\n",
    "\n",
    "- unterschied 1 und 0 \n",
    "- edge detection \n",
    "- hole filling \n",
    "- und sliding window verküpfen/ nutzen /ich glaube hier wurde es aber mehr sinn machen mit 1-dimensionales element bzw eine gerade iterrieren oder? -Ieva"
   ]
  }
 ],
 "metadata": {
  "kernelspec": {
   "display_name": "Python 3.10.4 ('dataanalysis0104_env')",
   "language": "python",
   "name": "python3"
  },
  "language_info": {
   "name": "python",
   "version": "3.10.4"
  },
  "orig_nbformat": 4,
  "vscode": {
   "interpreter": {
    "hash": "21db8ca179e1c46f3f1871b3fc2646379981f9fac7908d31737eb0066b24c468"
   }
  }
 },
 "nbformat": 4,
 "nbformat_minor": 2
}
