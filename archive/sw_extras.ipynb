{
 "cells": [
  {
   "cell_type": "code",
   "execution_count": 1,
   "metadata": {},
   "outputs": [
    {
     "name": "stdout",
     "output_type": "stream",
     "text": [
      "Using matplotlib backend: <object object at 0x0000021C0B21A470>\n",
      "%pylab is deprecated, use %matplotlib inline and import the required libraries.\n",
      "Populating the interactive namespace from numpy and matplotlib\n"
     ]
    }
   ],
   "source": [
    "#Packages\n",
    "%pylab\n",
    "%matplotlib inline\n",
    "import numpy as np\n",
    "import scipy.ndimage\n",
    "import matplotlib.pyplot as plt\n",
    "from nuclei_segmentation import otsu as ot"
   ]
  },
  {
   "cell_type": "code",
   "execution_count": null,
   "metadata": {},
   "outputs": [],
   "source": [
    "# otsu_i function\n",
    "#works on gt images, for some reason thresholding of everything else gives me only 'b' ://\n",
    "def otsu_i(image):\n",
    "    img=ot.otsu_thresholding(image, 256)\n",
    "    i = img.shape[0]\n",
    "    j = img.shape[1]\n",
    "    it = [[[] * 1] * j] * i\n",
    "    for x, y in np.ndindex((i-1,j-1)):\n",
    "            if img[x,y] != 0:\n",
    "                it[x][y]='f'\n",
    "            else:\n",
    "                it[x][y]='b'\n",
    "    return it\n"
   ]
  },
  {
   "cell_type": "code",
   "execution_count": 2,
   "metadata": {},
   "outputs": [],
   "source": [
    "img_1 = imread(r\"data\\Otsu_data\\N2DH-GOWT1\\img\\t39.tif\") \n",
    "\n",
    "# crop function, can be useful outside the sliding window, returns an array equivalent to a rectangular \"cut-out\" of the picture :)\n",
    "def crop(image, xmin, ymin, xmax, ymax):\n",
    "    cropped=np.empty([xmax-xmin, ymax-ymin], dtype=float)\n",
    "    for a,b in np.ndindex(xmax-xmin, ymax-ymin):\n",
    "        cropped[a,b]=image[a+xmin,b+ymin]\n",
    "    return cropped\n",
    "\n",
    "    "
   ]
  },
  {
   "cell_type": "code",
   "execution_count": 12,
   "metadata": {},
   "outputs": [
    {
     "data": {
      "text/plain": [
       "array([[ 0.,  3.,  3., ...,  3.,  0.,  0.],\n",
       "       [ 0.,  0.,  3., ..., 13.,  3.,  3.],\n",
       "       [ 0.,  0.,  3., ...,  0.,  3.,  3.],\n",
       "       ...,\n",
       "       [ 0.,  3.,  6., ...,  3.,  0.,  0.],\n",
       "       [ 0.,  3.,  0., ...,  3.,  6.,  3.],\n",
       "       [ 0.,  0.,  0., ...,  3.,  3.,  0.]])"
      ]
     },
     "execution_count": 12,
     "metadata": {},
     "output_type": "execute_result"
    }
   ],
   "source": [
    "crop(img_1, 0,0,600,600)\n",
    "crop(img_1, 0,0,600,600)\n",
    "crop(img_1, 0,0,600,600)\n",
    "crop(img_1, 0,0,600,600)\n",
    "crop(img_1, 0,0,600,600)\n",
    "crop(img_1, 0,0,600,600)\n",
    "crop(img_1, 0,0,600,600)\n",
    "crop(img_1, 0,0,600,600)\n",
    "crop(img_1, 0,0,600,600)\n",
    "crop(img_1, 0,0,600,600)\n",
    "\n"
   ]
  },
  {
   "cell_type": "code",
   "execution_count": null,
   "metadata": {},
   "outputs": [],
   "source": [
    "img_1 = imread(r\"data\\Otsu_data\\N2DH-GOWT1\\img\\t39.tif\") \n",
    "img_3 = imread(r\"data\\Otsu_data\\N2DL-HeLa\\img\\t13.tif\") \n",
    "gt10 = plt.imread(r'data\\Otsu_data\\NIH3T3\\gt\\33.png')\n",
    "otsu_i(gt10)"
   ]
  },
  {
   "cell_type": "code",
   "execution_count": null,
   "metadata": {},
   "outputs": [],
   "source": [
    "#image cropping?????\n",
    "#WORKS???\n",
    "def crop(image,x,y,w,z):\n",
    "    h = w-x\n",
    "    w = z-y\n",
    "    cropped = np.zeros([h,w])\n",
    "    for a in range(x,w):\n",
    "        for b in range(y,z):\n",
    "            cropped[a-x,b-y]=image[a,b]\n",
    "    return cropped\n",
    "    \n"
   ]
  },
  {
   "cell_type": "code",
   "execution_count": null,
   "metadata": {},
   "outputs": [],
   "source": [
    "cropped=np.zeros([3,4])\n",
    "print(cropped)"
   ]
  },
  {
   "cell_type": "code",
   "execution_count": null,
   "metadata": {},
   "outputs": [],
   "source": [
    "\n",
    "crop(gt10,50,50,100,100)\n"
   ]
  },
  {
   "cell_type": "code",
   "execution_count": null,
   "metadata": {},
   "outputs": [],
   "source": [
    "# otsu thresholding\n",
    "def otsu_t(img,x):\n",
    "    import matplotlib.pyplot\n",
    "    import numpy\n",
    "#bins optimieren.... alles zu 0-255 machen\n",
    "\n",
    "\n",
    "   # load histogram, Mathematische werte aus Histogramm rausgreifen\n",
    "    n, bins, patches = matplotlib.pyplot.hist(img.flatten(),log = 'False',bins = x)\n",
    "\n",
    "   # initialize threshold value (T = 0) \n",
    "    thres = 0\n",
    "    copy = img.copy()\n",
    "\n",
    "    # create list to store values of within class variance for each threshold value\n",
    "    bcv = list()\n",
    "    \n",
    "    # set up initial values\n",
    "    for i in range(0,len(n)):\n",
    "        bclv = 0\n",
    "        w0_sum = 0\n",
    "        mean_sum0 = 0\n",
    "        v0_sum = 0\n",
    "        mean_sum1 = 0\n",
    "        v1_sum = 0\n",
    "        w0 = 0\n",
    "        w1 = 0\n",
    "        w1_sum = 0\n",
    "\n",
    "        #sum up the probabilites of each intensity value;  and the mean value (sind noch nicht happy mit der definition :()\n",
    "        for j in range(0,i+1):\n",
    "            w0_sum += n[j]\n",
    "            mean_sum0 += bins[j]*n[j]\n",
    "            \n",
    "        # background class probabilites and class mean levels\n",
    "        w0 = w0_sum / sum(n)  \n",
    "        if(sum(n[0:i+1]) != 0):  \n",
    "             mean_0 = mean_sum0 / sum(n[0:i+1])\n",
    "        else: mean_0 = 0\n",
    "        \n",
    "        # compute background class variance\n",
    "        for m in range(0,i+1):\n",
    "            v0_sum += ((bins[m]-mean_0)** 2) * n[m]\n",
    "        \n",
    "        v0 = v0_sum / sum(n[0:i+1])\n",
    "        \n",
    "        # sum up the probabilites of each intensity value;  and the mean value\n",
    "        for k in range(i+1, len(n)): \n",
    "            w1_sum += n[k]\n",
    "          \n",
    "            mean_sum1 += bins[k]*n[k]\n",
    "\n",
    "        # compute foreground class probabilities and class mean levels    \n",
    "        w1 = w1_sum / sum(n)\n",
    "     \n",
    "        if(sum(n[i+1:len(n)]) != 0):\n",
    "            mean_1 = mean_sum1 / sum(n[i+1:len(n)])\n",
    "        else: mean_1 = 0\n",
    "        # compute foreground class variance \n",
    "        for s in range(i+1,len(n)):\n",
    "            v1_sum += ((bins[s]-mean_1) ** 2) * n[s]\n",
    "        if( sum(n[i+1:len(n)]) != 0):\n",
    "            v1 = v1_sum / sum(n[i+1:len(n)])\n",
    "        else: v1 = 0\n",
    "\n",
    "        # compute within class variance and append to list\n",
    "        bclv = (w0 * v0) + (w1 * v1)\n",
    "        bcv.append(bclv)\n",
    "\n",
    "    # select optimal threshold value, minimum value of within class variance\n",
    "    optimal_thres = min(bcv)\n",
    "    return optimal_thres\n",
    "\n",
    "otsu_t(img_3, 256)"
   ]
  },
  {
   "cell_type": "code",
   "execution_count": null,
   "metadata": {},
   "outputs": [],
   "source": [
    "a = np.zeros(shape=(3,3,1,1))\n",
    "print(a)\n",
    "\n",
    "np.insert(a,[0,0,0], [5])\n",
    "print(a)"
   ]
  },
  {
   "cell_type": "code",
   "execution_count": null,
   "metadata": {},
   "outputs": [],
   "source": [
    "array = [[[0]*1]*3]*3\n",
    "print(array)\n",
    "print(array[0][0][0])\n",
    "add = [5,5,5]\n",
    "array[0][0][0] = 5\n",
    "print(array)"
   ]
  },
  {
   "cell_type": "code",
   "execution_count": null,
   "metadata": {},
   "outputs": [],
   "source": [
    "arr = np.zeros((5,5,1))\n",
    "\n",
    "arr[0,0] = arr[0,0]+5\n",
    "print(arr)"
   ]
  },
  {
   "cell_type": "code",
   "execution_count": 5,
   "metadata": {},
   "outputs": [],
   "source": [
    "def crop(image,x,y,w,z):\n",
    "    h = w-x\n",
    "    w = z-y\n",
    "    cropped = np.zeros([h,w])\n",
    "    for a in range(x,w):\n",
    "        for b in range(y,z):\n",
    "            cropped[a-x,b-y]=image[a,b]\n",
    "    return cropped\n",
    "\n",
    "def i_sw(image,stepsize,framesize):\n",
    "    img=copy(image)\n",
    "    intensity=np.max(img)\n",
    "    array=np.zeros([img.shape[0],img.shape[1],1])\n",
    "    x=0\n",
    "    y=0\n",
    "    while x+framesize<=img.shape[0]:\n",
    "        while y+framesize<=img.shape[1]:\n",
    "            window=crop(img,x,y,x+framesize, y+framesize)\n",
    "            for a,b in ndindex(window.shape[0],window.shape[1]):\n",
    "                c=a+x\n",
    "                d=b+y\n",
    "                array[c,d,0]=0\n",
    "            y+=stepsize\n",
    "        y=0\n",
    "        x+=stepsize\n",
    "    for i, j in np.ndindex(img.shape[0], img.shape[1]):\n",
    "        img[i,j]= array[i,j,0]\n",
    "    print(img)\n",
    "    figure()\n",
    "    imshow(img,'gray')\n",
    "    return img"
   ]
  },
  {
   "cell_type": "code",
   "execution_count": 3,
   "metadata": {},
   "outputs": [],
   "source": [
    "imgdna44 = imread (r\"data\\Otsu_data\\NIH3T3\\img\\dna-44.png\")\n",
    "#i_sw(imgdna44,100,200)"
   ]
  },
  {
   "cell_type": "code",
   "execution_count": 6,
   "metadata": {},
   "outputs": [
    {
     "name": "stdout",
     "output_type": "stream",
     "text": [
      "[[[0.00141935 1.         0.        ]\n",
      "  [0.00141935 1.         0.        ]\n",
      "  [0.00141935 1.         0.        ]\n",
      "  ...\n",
      "  [0.         0.         0.        ]\n",
      "  [0.         0.         0.        ]\n",
      "  [0.         0.         0.        ]]\n",
      "\n",
      " [[0.00141935 1.         0.        ]\n",
      "  [0.00141935 1.         0.        ]\n",
      "  [0.00141935 1.         0.        ]\n",
      "  ...\n",
      "  [0.         0.         0.        ]\n",
      "  [0.         0.         0.        ]\n",
      "  [0.         0.         0.        ]]\n",
      "\n",
      " [[0.00141935 1.         0.        ]\n",
      "  [0.00141935 1.         0.        ]\n",
      "  [0.00141935 1.         0.        ]\n",
      "  ...\n",
      "  [0.         0.         0.        ]\n",
      "  [0.         0.         0.        ]\n",
      "  [0.         0.         0.        ]]\n",
      "\n",
      " ...\n",
      "\n",
      " [[0.         0.         0.        ]\n",
      "  [0.         0.         0.        ]\n",
      "  [0.         0.         0.        ]\n",
      "  ...\n",
      "  [0.         0.         0.        ]\n",
      "  [0.         0.         0.        ]\n",
      "  [0.         0.         0.        ]]\n",
      "\n",
      " [[0.         0.         0.        ]\n",
      "  [0.         0.         0.        ]\n",
      "  [0.         0.         0.        ]\n",
      "  ...\n",
      "  [0.         0.         0.        ]\n",
      "  [0.         0.         0.        ]\n",
      "  [0.         0.         0.        ]]\n",
      "\n",
      " [[0.         0.         0.        ]\n",
      "  [0.         0.         0.        ]\n",
      "  [0.         0.         0.        ]\n",
      "  ...\n",
      "  [0.         0.         0.        ]\n",
      "  [0.         0.         0.        ]\n",
      "  [0.         0.         0.        ]]]\n"
     ]
    },
    {
     "data": {
      "image/png": "[encoded data removed]",
      "text/plain": [
       "<Figure size 432x288 with 1 Axes>"
      ]
     },
     "metadata": {
      "needs_background": "light"
     },
     "output_type": "display_data"
    }
   ],
   "source": [
    "def otsu_t(img,x):\n",
    "    import matplotlib.pyplot\n",
    "    import numpy\n",
    "#bins optimieren.... alles zu 0-255 machen\n",
    "\n",
    "\n",
    "   # load histogram, Mathematische werte aus Histogramm rausgreifen\n",
    "    n, bins, patches = matplotlib.pyplot.hist(img.flatten(),log = 'False',bins = x)\n",
    "\n",
    "   # initialize threshold value (T = 0) \n",
    "    thres = 0\n",
    "    copy = img.copy()\n",
    "\n",
    "    # create list to store values of within class variance for each threshold value\n",
    "    bcv = list()\n",
    "    \n",
    "    # set up initial values\n",
    "    for i in range(0,len(n)):\n",
    "        bclv = 0\n",
    "        w0_sum = 0\n",
    "        mean_sum0 = 0\n",
    "        v0_sum = 0\n",
    "        mean_sum1 = 0\n",
    "        v1_sum = 0\n",
    "        w0 = 0\n",
    "        w1 = 0\n",
    "        w1_sum = 0\n",
    "\n",
    "        #sum up the probabilites of each intensity value;  and the mean value (sind noch nicht happy mit der definition :()\n",
    "        for j in range(0,i+1):\n",
    "            w0_sum += n[j]\n",
    "            mean_sum0 += bins[j]*n[j]\n",
    "            \n",
    "        # background class probabilites and class mean levels\n",
    "        w0 = w0_sum / sum(n)  \n",
    "        if(sum(n[0:i+1]) != 0):  \n",
    "             mean_0 = mean_sum0 / sum(n[0:i+1])\n",
    "        else: mean_0 = 0\n",
    "        \n",
    "        # compute background class variance\n",
    "        for m in range(0,i+1):\n",
    "            v0_sum += ((bins[m]-mean_0)** 2) * n[m]\n",
    "        \n",
    "        v0 = v0_sum / sum(n[0:i+1])\n",
    "        \n",
    "        # sum up the probabilites of each intensity value;  and the mean value\n",
    "        for k in range(i+1, len(n)): \n",
    "            w1_sum += n[k]\n",
    "          \n",
    "            mean_sum1 += bins[k]*n[k]\n",
    "\n",
    "        # compute foreground class probabilities and class mean levels    \n",
    "        w1 = w1_sum / sum(n)\n",
    "     \n",
    "        if(sum(n[i+1:len(n)]) != 0):\n",
    "            mean_1 = mean_sum1 / sum(n[i+1:len(n)])\n",
    "        else: mean_1 = 0\n",
    "        # compute foreground class variance \n",
    "        for s in range(i+1,len(n)):\n",
    "            v1_sum += ((bins[s]-mean_1) ** 2) * n[s]\n",
    "        if( sum(n[i+1:len(n)]) != 0):\n",
    "            v1 = v1_sum / sum(n[i+1:len(n)])\n",
    "        else: v1 = 0\n",
    "\n",
    "        # compute within class variance and append to list\n",
    "        bclv = (w0 * v0) + (w1 * v1)\n",
    "        bcv.append(bclv)\n",
    "\n",
    "    # select optimal threshold value, minimum value of within class variance\n",
    "    optimal_thres = min(bcv)\n",
    "    return optimal_thres\n",
    "\n",
    "img=imgdna44\n",
    "x=0\n",
    "y=0\n",
    "framesize=100\n",
    "window=crop(img,x,y,x+framesize, y+framesize)\n",
    "threshold = otsu_t(window,255)\n",
    "array=np.zeros([img.shape[0],img.shape[1],3])\n",
    "for a, b in np.ndindex(window.shape[0], window.shape[1]):\n",
    "    c=a+x\n",
    "    d=b+y\n",
    "    array[c,d,0]+=threshold\n",
    "    array[c,d,1]+=1\n",
    "print(array)"
   ]
  }
 ],
 "metadata": {
  "interpreter": {
   "hash": "21db8ca179e1c46f3f1871b3fc2646379981f9fac7908d31737eb0066b24c468"
  },
  "kernelspec": {
   "display_name": "Python 3.10.4 ('dataanalysis0104_env')",
   "language": "python",
   "name": "python3"
  },
  "language_info": {
   "codemirror_mode": {
    "name": "ipython",
    "version": 3
   },
   "file_extension": ".py",
   "mimetype": "text/x-python",
   "name": "python",
   "nbconvert_exporter": "python",
   "pygments_lexer": "ipython3",
   "version": "3.10.4"
  },
  "orig_nbformat": 4
 },
 "nbformat": 4,
 "nbformat_minor": 2
}
