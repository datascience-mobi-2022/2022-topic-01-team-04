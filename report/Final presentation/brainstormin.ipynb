{
 "cells": [
  {
   "cell_type": "markdown",
   "metadata": {},
   "source": [
    "- warum manchmal dice score 0 erklärung bzw extra slide\n",
    "\n",
    "\n",
    "\n",
    "Präsentation\n",
    "- Allgemein\n",
    "    - \"Das Perfekte Rezept\" einleitung\n",
    "    - unseren meilstone zeigen und ansprechen ja heute zeigen wir was wir davon geschaffft haben und unsere ergebnisse\n",
    "    - generell wo man schon davor \"wusste\"\n",
    "         - binarize image das alles schwarz ist\n",
    " - Ergebnisse Boxplots\n",
    " - (unsere alten schwierigkeiten nochmal aufgreifen und zeigen was unsere preprocessing und sliding,.... gebracht haben)\n",
    "     - vorher nacher bilder zeigen (ohne und mit preprocessing, jeweils ein bild zeigen wo nicht funktioniert und eins wo es funktioniert)\n",
    "        -dice score\n",
    "    - sliding window\n",
    "        - warum funktioniert bei erstem datensatz nicht gut\n",
    "            - local average\n",
    "            - local coutning\n",
    "    - two level otsu\n",
    "        -DS\n",
    "    - two level clip\n",
    "        -ds  \n",
    "    - (cell counting)\n",
    "- Diskussion\n",
    "     - was funktioniert am besten, ansprechen warum\n",
    "     - sachen die nicht funkioniert haben... überleitung baustellen \n",
    "- krasse Baustellen\n",
    "    - schwarzer hintergrund\n",
    "    - between class variance, within class unterscheidung probleme?\n",
    "    - sliding window problem des randes \n",
    "    - run time (was war das längste warum?, konnten wir was krass optimieren wenn ja wie?)\n",
    "- kurz zusammengefasst was das beste preprocessing und otsu methode ist für die jeweiligen Datensätze \"das perfekte Rezept\"\n",
    "    - boxplots\n",
    "- Ende \n",
    "(- Unsere Meilstones abgleichen (häckchen hinmachen oder als überleitung zwischen den folien))\n",
    "- unser abschiedbild in otsu durchlaufen lassen und als abschiedsfolie machen"
   ]
  },
  {
   "cell_type": "code",
   "execution_count": null,
   "metadata": {},
   "outputs": [],
   "source": []
  },
  {
   "cell_type": "markdown",
   "metadata": {},
   "source": [
    "Was brauchen wir\n",
    "- 3 datensätze Boxplots normal otsu\n",
    "- 2 datensätze otsu local average (HeLa, NIH3T3)\n",
    "- 2 datensätze otsu local counting (HeLa, NIH3T3)\n",
    "- 3 Datensätze normales two level otsu\n",
    "- 1 Datensätze two level clip  (NIH3T3) (reflections drin)\n",
    "- 3 Datensätze normal local two level otsu average\n",
    "- 3 Datensätze normal local two level otsu counting\n",
    "- 1 Datensatz local two level clip average (NIH3T3)\n",
    "- 1 Datensatz local two level clip counting\n",
    "- **einmal zeigen average und couting, der rest nur noch average**\n",
    "\n",
    "stand (5.7.2022)\n",
    "-otsu für alle aktuell: 0.9 sek\n",
    "- dice score: 0,1 sec\n",
    "- two level langsam: 20 sec pro bild\n",
    "\n",
    "\n",
    "- beste preprocessing methode für jeden datensatz wählen, dann alle otsu methoden dafür verwenden und beste sieht man dann in \n",
    " boxplots (für präsi) "
   ]
  }
 ],
 "metadata": {
  "kernelspec": {
   "display_name": "Python 3.9.12 ('dataanalysis0104_env')",
   "language": "python",
   "name": "python3"
  },
  "language_info": {
   "name": "python",
   "version": "3.9.12"
  },
  "orig_nbformat": 4,
  "vscode": {
   "interpreter": {
    "hash": "73a5aaef6c11b1ea6e162ad69f2e79f73d9b6fd099813d04ec92d64c4323e461"
   }
  }
 },
 "nbformat": 4,
 "nbformat_minor": 2
}
