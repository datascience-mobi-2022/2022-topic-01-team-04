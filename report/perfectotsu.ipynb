{
 "cells": [
  {
   "cell_type": "code",
   "execution_count": 13,
   "metadata": {},
   "outputs": [
    {
     "name": "stdout",
     "output_type": "stream",
     "text": [
      "Using matplotlib backend: QtAgg\n",
      "%pylab is deprecated, use %matplotlib inline and import the required libraries.\n",
      "Populating the interactive namespace from numpy and matplotlib\n"
     ]
    },
    {
     "name": "stderr",
     "output_type": "stream",
     "text": [
      "c:\\Users\\Helen Jade\\anaconda3\\envs\\dataanalysis0104_env\\lib\\site-packages\\IPython\\core\\magics\\pylab.py:162: UserWarning: pylab import has clobbered these variables: ['f']\n",
      "`%matplotlib` prevents importing * from pylab and numpy\n",
      "  warn(\"pylab import has clobbered these variables: %s\"  % clobbered +\n"
     ]
    }
   ],
   "source": [
    "%pylab\n",
    "%matplotlib inline\n",
    "import matplotlib.pyplot as plt\n",
    "import numpy as np\n",
    "import scipy.ndimage\n",
    "import scipy\n",
    "import pandas as pd\n",
    "import seaborn as sns\n",
    "path =  (os.path.abspath(os.path.join(r'.', os.pardir)))\n",
    "import sys\n",
    "sys.path.append(path)\n",
    "from nuclei_segmentation import otsu as ot\n",
    "from nuclei_segmentation import dicescore as dsc\n",
    "from nuclei_segmentation import two_level_otsu as tlot\n",
    "from PIL import Image\n",
    "import os\n",
    "import os.path"
   ]
  },
  {
   "cell_type": "markdown",
   "metadata": {},
   "source": [
    "## load all datasets\n",
    "- binarize \n",
    "- copy"
   ]
  },
  {
   "cell_type": "code",
   "execution_count": 2,
   "metadata": {},
   "outputs": [],
   "source": [
    "# Set ground truth images from N2DH-GOWT1 dataset and N2DL-HeLa dataset to 0 and 1\n",
    "\n",
    "def binarize(x):\n",
    "    img = x.copy()\n",
    "\n",
    "    for o in np.ndindex(img.shape):\n",
    "        if img[o] > 0: \n",
    "           img[o] = 1\n",
    "        else:\n",
    "            img[o] = 0\n",
    "    \n",
    "    return img"
   ]
  },
  {
   "cell_type": "code",
   "execution_count": 9,
   "metadata": {},
   "outputs": [],
   "source": [
    "# Preprocessing - Histogram stretching\n",
    "\n",
    "def stretch(x):\n",
    "    intensities = []\n",
    "   \n",
    "    img = x.copy()\n",
    "    lower_quantile, upper_quantile = np.percentile(x, (2,  98))\n",
    "\n",
    "    img[img < lower_quantile] = lower_quantile\n",
    "    img[img > upper_quantile] = upper_quantile\n",
    "    \n",
    "    for i in np.ndindex(img.shape):\n",
    "        intensities.append(img[i])\n",
    "   \n",
    "    img_max = max(intensities)\n",
    "    img_min = min(intensities)\n",
    "    img_stretch = (img-img_min)*(256 / (img_max-img_min))\n",
    "    return img_stretch"
   ]
  },
  {
   "cell_type": "code",
   "execution_count": 1,
   "metadata": {},
   "outputs": [
    {
     "ename": "NameError",
     "evalue": "name 'imread' is not defined",
     "output_type": "error",
     "traceback": [
      "\u001b[1;31m---------------------------------------------------------------------------\u001b[0m",
      "\u001b[1;31mNameError\u001b[0m                                 Traceback (most recent call last)",
      "\u001b[1;32mc:\\Users\\Helen Jade\\OneDrive\\Desktop\\2022-topic-01-team-04\\report\\perfectotsu.ipynb Zelle 5\u001b[0m in \u001b[0;36m<cell line: 5>\u001b[1;34m()\u001b[0m\n\u001b[0;32m      <a href='vscode-notebook-cell:/c%3A/Users/Helen%20Jade/OneDrive/Desktop/2022-topic-01-team-04/report/perfectotsu.ipynb#ch0000007?line=3'>4</a>\u001b[0m path \u001b[39m=\u001b[39m os\u001b[39m.\u001b[39mpath\u001b[39m.\u001b[39mjoin(os\u001b[39m.\u001b[39mpath\u001b[39m.\u001b[39mabspath(os\u001b[39m.\u001b[39mpath\u001b[39m.\u001b[39mjoin(\u001b[39mr\u001b[39m\u001b[39m'\u001b[39m\u001b[39m.\u001b[39m\u001b[39m'\u001b[39m, os\u001b[39m.\u001b[39mpardir)), \u001b[39mr\u001b[39m\u001b[39m\"\u001b[39m\u001b[39mdata/Otsu_data/N2DH-GOWT1/img\u001b[39m\u001b[39m\"\u001b[39m)\n\u001b[0;32m      <a href='vscode-notebook-cell:/c%3A/Users/Helen%20Jade/OneDrive/Desktop/2022-topic-01-team-04/report/perfectotsu.ipynb#ch0000007?line=4'>5</a>\u001b[0m \u001b[39mfor\u001b[39;00m f \u001b[39min\u001b[39;00m os\u001b[39m.\u001b[39mlistdir(path):\n\u001b[1;32m----> <a href='vscode-notebook-cell:/c%3A/Users/Helen%20Jade/OneDrive/Desktop/2022-topic-01-team-04/report/perfectotsu.ipynb#ch0000007?line=5'>6</a>\u001b[0m     img_N2DH_GOWT1\u001b[39m.\u001b[39mappend(imread(os\u001b[39m.\u001b[39mpath\u001b[39m.\u001b[39mjoin(path , f)))\n\u001b[0;32m      <a href='vscode-notebook-cell:/c%3A/Users/Helen%20Jade/OneDrive/Desktop/2022-topic-01-team-04/report/perfectotsu.ipynb#ch0000007?line=8'>9</a>\u001b[0m \u001b[39m# Load ground truth images from N2DH-GOWT1-dataset\u001b[39;00m\n\u001b[0;32m     <a href='vscode-notebook-cell:/c%3A/Users/Helen%20Jade/OneDrive/Desktop/2022-topic-01-team-04/report/perfectotsu.ipynb#ch0000007?line=10'>11</a>\u001b[0m gt_N2DH_GOWT1 \u001b[39m=\u001b[39m []\n",
      "\u001b[1;31mNameError\u001b[0m: name 'imread' is not defined"
     ]
    }
   ],
   "source": [
    "# Load raw images from N2DH-GOWT1-dataset\n",
    "\n",
    "img_N2DH_GOWT1 = []\n",
    "path = os.path.join(os.path.abspath(os.path.join(r'.', os.pardir)), r\"data/Otsu_data/N2DH-GOWT1/img\")\n",
    "for f in os.listdir(path):\n",
    "    img_N2DH_GOWT1.append(imread(os.path.join(path , f)))\n",
    "\n",
    "\n",
    "# Load ground truth images from N2DH-GOWT1-dataset\n",
    "\n",
    "gt_N2DH_GOWT1 = []\n",
    "path = os.path.join(os.path.abspath(os.path.join(r'.', os.pardir)), r\"data/Otsu_data/N2DH-GOWT1/gt\")\n",
    "for f in os.listdir(path):\n",
    "    gt_N2DH_GOWT1.append(imread(os.path.join(path , f)))"
   ]
  },
  {
   "cell_type": "code",
   "execution_count": null,
   "metadata": {},
   "outputs": [],
   "source": [
    "# Load raw images from N2DL-HeLa-dataset\n",
    "\n",
    "img_N2DL_HeLa = []\n",
    "path = os.path.join(os.path.abspath(os.path.join(r'.', os.pardir)), r\"data/Otsu_data/N2DL-HeLa/img\")\n",
    "for f in os.listdir(path):\n",
    "    img_N2DL_HeLa.append(imread(os.path.join(path , f)))\n",
    "\n",
    "\n",
    "# Load ground truth images from N2Dl-HeLa-dataset\n",
    "\n",
    "gt_N2DL_HeLa = []\n",
    "path = os.path.join(os.path.abspath(os.path.join(r'.', os.pardir)),r\"data/Otsu_data/N2DL-HeLa/gt\")\n",
    "for f in os.listdir(path):\n",
    "    gt_N2DL_HeLa.append(imread(os.path.join(path , f)))"
   ]
  },
  {
   "cell_type": "code",
   "execution_count": 5,
   "metadata": {},
   "outputs": [],
   "source": [
    "# Load raw images of NIH3T3-dataset\n",
    "\n",
    "img_NIH3T3 = []\n",
    "path = os.path.join(os.path.abspath(os.path.join(r'.', os.pardir)),r\"data/Otsu_data/NIH3T3/img\")\n",
    "for f in os.listdir(path):\n",
    "    img_NIH3T3.append(imread(os.path.join(path , f)))\n",
    "\n",
    "# Load ground truth images of NIH3T3-dataset\n",
    " \n",
    "gt_NIH3T3 = []\n",
    "path = os.path.join(os.path.abspath(os.path.join(r'.', os.pardir)),r\"data/Otsu_data/NIH3T3/gt\")\n",
    "for f in os.listdir(path):\n",
    "    gt_NIH3T3.append(imread(os.path.join(path , f)))"
   ]
  },
  {
   "cell_type": "code",
   "execution_count": null,
   "metadata": {},
   "outputs": [],
   "source": [
    "# Reassign the ground truth images from N2DH-GOWT1 dataset and N2DLHeLa dataset\n",
    "\n",
    "binary_gt_N2DH_GOWT1 = []\n",
    "for i in range(0,len(gt_N2DH_GOWT1)):\n",
    "    binary_gt_N2DH_GOWT1.append(binarize(gt_N2DH_GOWT1[i])) \n",
    "\n",
    "\n",
    "binary_gt_N2DL_HeLa = []\n",
    "for i in range(0,len(gt_N2DL_HeLa)):\n",
    "    binary_gt_N2DL_HeLa.append(binarize(gt_N2DL_HeLa[i])) "
   ]
  },
  {
   "cell_type": "code",
   "execution_count": 6,
   "metadata": {},
   "outputs": [],
   "source": [
    "# Make a copy of all images of each dataset / use as \"no preprocessed images\"\n",
    "\n",
    "#copy_img_N2DH_GOWT1 = img_N2DH_GOWT1.copy()\n",
    "\n",
    "#copy_img_N2DL_HeLa = img_N2DL_HeLa.copy()\n",
    "\n",
    "copy_img_NIH3T3 = img_NIH3T3.copy()\n"
   ]
  },
  {
   "cell_type": "markdown",
   "metadata": {},
   "source": [
    "### NIH3T3\n",
    "\n",
    "Perfect preprocessing option:\n",
    "- median filter and histogram stretching \n",
    "- filtersize:\n",
    " "
   ]
  },
  {
   "cell_type": "code",
   "execution_count": 10,
   "metadata": {},
   "outputs": [],
   "source": [
    "#apply median filter\n",
    "median_img_NIH3T3 = []\n",
    "for i in range(0,len(copy_img_NIH3T3)):\n",
    "    median_img_NIH3T3.append(scipy.ndimage.median_filter(copy_img_NIH3T3[i] , 5))\n",
    "\n",
    "#apply histogram stretching\n",
    "stretch_img_NIH3T3 = []\n",
    "for i in range(0,len(copy_img_NIH3T3)):\n",
    "    stretch_img_NIH3T3.append(stretch(copy_img_NIH3T3[i]))\n",
    "\n",
    "#apply median filter and histogram stretching\n",
    "median_stretch_img_NIH3T3 = []\n",
    "for i in range(0,len(median_img_NIH3T3)):\n",
    "    median_stretch_img_NIH3T3.append(stretch(median_img_NIH3T3[i]))"
   ]
  },
  {
   "cell_type": "markdown",
   "metadata": {},
   "source": [
    "Find optimal Otsu method\n",
    "- otsu nonvectorized\n",
    "- otsu vectorized\n",
    "- two level otsu clip vectorized\n",
    "- two level otsu vectorized"
   ]
  },
  {
   "cell_type": "markdown",
   "metadata": {},
   "source": [
    "##### apply otsu methods to median filtern and histogram stretching NIH3T3\n",
    "\n",
    "was unterschied two level clip und nomral otsu, bzw normal otsu vectorized und non vectorized"
   ]
  },
  {
   "cell_type": "markdown",
   "metadata": {},
   "source": [
    "### normal otsu"
   ]
  },
  {
   "cell_type": "code",
   "execution_count": 11,
   "metadata": {},
   "outputs": [],
   "source": [
    "otsu_median_stretch_img_NIH3T3 = []\n",
    "for i in range(0,len(median_stretch_img_NIH3T3)):\n",
    "    otsu_median_stretch_img_NIH3T3.append(ot.otsu_thresholding(median_stretch_img_NIH3T3[i] , 256))"
   ]
  },
  {
   "cell_type": "code",
   "execution_count": 12,
   "metadata": {},
   "outputs": [
    {
     "name": "stdout",
     "output_type": "stream",
     "text": [
      "[0.9126064899014071, 0.8849869001333296, 0.8300675280378401, 0.7593498927123763, 0.7715177523362349, 0.7258770509442753, 0.6876649043248704, 0.7542425610642468, 0.1710989927813985, 0.6201253474708661, 0.6457822491803156, 0.6824470203713232, 0.5608004693361966, 0.5962434107588243, 0.6148696080827027, 0.5940741781631523, 0.7154374219483178, 0.7934323834146368]\n"
     ]
    }
   ],
   "source": [
    "dice_otsu_median_stretch_img_NIH3T3 = []\n",
    "for j in range(0,len(otsu_median_stretch_img_NIH3T3)):\n",
    "    dice_otsu_median_stretch_img_NIH3T3.append(dsc.dice(otsu_median_stretch_img_NIH3T3[j] , gt_NIH3T3[j]))\n",
    "\n",
    "print(dice_otsu_median_stretch_img_NIH3T3)"
   ]
  },
  {
   "cell_type": "markdown",
   "metadata": {},
   "source": [
    "### otsu within"
   ]
  },
  {
   "cell_type": "code",
   "execution_count": 17,
   "metadata": {},
   "outputs": [],
   "source": [
    "otsu_w_median_stretch_img_NIH3T3 = []\n",
    "for i in range(0,len(median_stretch_img_NIH3T3)):\n",
    "    otsu_w_median_stretch_img_NIH3T3.append(ot.otsu_thresholding_within(median_stretch_img_NIH3T3[i] , 256))"
   ]
  },
  {
   "cell_type": "code",
   "execution_count": 18,
   "metadata": {},
   "outputs": [
    {
     "name": "stdout",
     "output_type": "stream",
     "text": [
      "[0.9126064899014071, 0.8849869001333296, 0.8300675280378401, 0.7593498927123763, 0.7715177523362349, 0.7258770509442753, 0.6876649043248704, 0.7542425610642468, 0.1710989927813985, 0.6201253474708661, 0.6457822491803156, 0.6824470203713232, 0.5608004693361966, 0.5962434107588243, 0.6148696080827027, 0.5940741781631523, 0.7154374219483178, 0.7934323834146368]\n"
     ]
    }
   ],
   "source": [
    "dice_otsu_w_median_stretch_img_NIH3T3 = []\n",
    "for j in range(0,len(otsu_median_stretch_img_NIH3T3)):\n",
    "    dice_otsu_w_median_stretch_img_NIH3T3.append(dsc.dice(otsu_w_median_stretch_img_NIH3T3[j] , gt_NIH3T3[j]))\n",
    "\n",
    "print(dice_otsu_w_median_stretch_img_NIH3T3)"
   ]
  },
  {
   "cell_type": "markdown",
   "metadata": {},
   "source": [
    "### two level otsu "
   ]
  },
  {
   "cell_type": "code",
   "execution_count": 14,
   "metadata": {},
   "outputs": [],
   "source": [
    "otsu_tlot_median_stretch_img_NIH3T3 = []\n",
    "for i in range(0,len(median_stretch_img_NIH3T3)):\n",
    "    otsu_tlot_median_stretch_img_NIH3T3.append(tlot.two_level_otsu_thresholding(median_stretch_img_NIH3T3[i] , 256))\n"
   ]
  },
  {
   "cell_type": "code",
   "execution_count": 15,
   "metadata": {},
   "outputs": [
    {
     "name": "stdout",
     "output_type": "stream",
     "text": [
      "[0.9542517930375836, 0.9436915173888986, 0.597743423825288, 0.7535842572947709, 0.7863621972196926, 0.5691051388685712, 0.5268406266169837, 0.5742365445576996, 0.5652128909150641, 0.40459945894230437, 0.5154122480586806, 0.39278789083486404, 0.35270584210264927, 0.5889633064063944, 0.5109162624916856, 0.5315650349888865, 0.6978455124809924, 0.4506835064207276]\n"
     ]
    }
   ],
   "source": [
    "dice_otsu_tlot_median_stretch_img_NIH3T3 = []\n",
    "for j in range(0,len(otsu_tlot_median_stretch_img_NIH3T3)):\n",
    "    dice_otsu_tlot_median_stretch_img_NIH3T3.append(dsc.dice(otsu_tlot_median_stretch_img_NIH3T3[j] , gt_NIH3T3[j]))\n",
    "\n",
    "print(dice_otsu_tlot_median_stretch_img_NIH3T3)"
   ]
  },
  {
   "cell_type": "markdown",
   "metadata": {},
   "source": [
    "### two level otsu clip "
   ]
  },
  {
   "cell_type": "code",
   "execution_count": 19,
   "metadata": {},
   "outputs": [],
   "source": [
    "otsu_tlot_c_median_stretch_img_NIH3T3 = []\n",
    "for i in range(0,len(median_stretch_img_NIH3T3)):\n",
    "    otsu_tlot_c_median_stretch_img_NIH3T3.append(tlot.two_level_otsu_thresholding_clip(median_stretch_img_NIH3T3[i] , 256))"
   ]
  },
  {
   "cell_type": "code",
   "execution_count": 25,
   "metadata": {},
   "outputs": [
    {
     "name": "stdout",
     "output_type": "stream",
     "text": [
      "[0.6927414716911411, 0.6981637181653468, 0.28264606020428146, 0.6244919307369812, 0.6468418900626025, 0.3743458426649239, 0.358402831535939, 0.3082469983893177, 0.608677185181939, 0.2500342969979595, 0.3598212300664955, 0.1459286400707124, 0.2387679614070251, 0.41681489584060627, 0.3036259719627908, 0.4510855742929364, 0.5925775219311368, 0.15462222306041934]\n"
     ]
    }
   ],
   "source": [
    "dice_otsu_tlot_c_median_stretch_img_NIH3T3 = []\n",
    "for j in range(0,len(otsu_tlot_c_median_stretch_img_NIH3T3)):\n",
    "    dice_otsu_tlot_c_median_stretch_img_NIH3T3.append(dsc.dice(otsu_tlot_c_median_stretch_img_NIH3T3[j] , gt_NIH3T3[j]))\n",
    "\n",
    "print(dice_otsu_tlot_c_median_stretch_img_NIH3T3)"
   ]
  },
  {
   "cell_type": "markdown",
   "metadata": {},
   "source": [
    "### two level otsu within"
   ]
  },
  {
   "cell_type": "code",
   "execution_count": 22,
   "metadata": {},
   "outputs": [],
   "source": [
    "otsu_tlot_within_median_stretch_img_NIH3T3 = []\n",
    "for i in range(0,len(median_stretch_img_NIH3T3)):\n",
    "    otsu_tlot_within_median_stretch_img_NIH3T3.append(tlot.two_level_otsu_thresholding_within(median_stretch_img_NIH3T3[i] , 256))"
   ]
  },
  {
   "cell_type": "code",
   "execution_count": 24,
   "metadata": {},
   "outputs": [
    {
     "name": "stdout",
     "output_type": "stream",
     "text": [
      "[0.9542517930375836, 0.9436915173888986, 0.597743423825288, 0.7535842572947709, 0.7863621972196926, 0.5691051388685712, 0.5268406266169837, 0.5742365445576996, 0.5652128909150641, 0.40459945894230437, 0.5154122480586806, 0.39278789083486404, 0.35270584210264927, 0.5889633064063944, 0.5109162624916856, 0.5315650349888865, 0.6978455124809924, 0.4506835064207276]\n"
     ]
    }
   ],
   "source": [
    "dice_otsu_tlot_within_median_stretch_img_NIH3T3 = []\n",
    "for j in range(0,len(otsu_tlot_within_median_stretch_img_NIH3T3)):\n",
    "    dice_otsu_tlot_within_median_stretch_img_NIH3T3.append(dsc.dice(otsu_tlot_within_median_stretch_img_NIH3T3[j] , gt_NIH3T3[j]))\n",
    "\n",
    "print(dice_otsu_tlot_within_median_stretch_img_NIH3T3)"
   ]
  },
  {
   "cell_type": "markdown",
   "metadata": {},
   "source": [
    "### two level otsu within clip\n"
   ]
  },
  {
   "cell_type": "code",
   "execution_count": 26,
   "metadata": {},
   "outputs": [],
   "source": [
    "otsu_tlot_within_c_median_stretch_img_NIH3T3 = []\n",
    "for i in range(0,len(median_stretch_img_NIH3T3)):\n",
    "    otsu_tlot_within_c_median_stretch_img_NIH3T3.append(tlot.two_level_otsu_thresholding_clip_within(median_stretch_img_NIH3T3[i] , 256))"
   ]
  },
  {
   "cell_type": "code",
   "execution_count": 27,
   "metadata": {},
   "outputs": [
    {
     "name": "stdout",
     "output_type": "stream",
     "text": [
      "[0.6927414716911411, 0.6981637181653468, 0.28264606020428146, 0.6244919307369812, 0.6468418900626025, 0.3743458426649239, 0.358402831535939, 0.3082469983893177, 0.608677185181939, 0.2500342969979595, 0.3598212300664955, 0.1459286400707124, 0.2387679614070251, 0.41681489584060627, 0.3036259719627908, 0.4510855742929364, 0.5925775219311368, 0.15462222306041934]\n"
     ]
    }
   ],
   "source": [
    "dice_otsu_tlot_within_c_median_stretch_img_NIH3T3 = []\n",
    "for j in range(0,len(otsu_tlot_within_c_median_stretch_img_NIH3T3)):\n",
    "    dice_otsu_tlot_within_c_median_stretch_img_NIH3T3.append(dsc.dice(otsu_tlot_within_c_median_stretch_img_NIH3T3[j] , gt_NIH3T3[j]))\n",
    "\n",
    "print(dice_otsu_tlot_within_c_median_stretch_img_NIH3T3)"
   ]
  },
  {
   "cell_type": "markdown",
   "metadata": {},
   "source": [
    "## Boxplot optimal otsu NIH3T3\n"
   ]
  },
  {
   "cell_type": "code",
   "execution_count": 28,
   "metadata": {},
   "outputs": [
    {
     "name": "stderr",
     "output_type": "stream",
     "text": [
      "C:\\Users\\Helen Jade\\AppData\\Local\\Temp\\ipykernel_28080\\544818651.py:5: UserWarning: FixedFormatter should only be used together with FixedLocator\n",
      "  ax.set_xticklabels(['normal otsu' , 'otsu within', 'two level otsu', 'two level otsu clip', ' two level otsu within', 'two level otsu within clip' ])\n"
     ]
    },
    {
     "data": {
      "image/png": "[encoded data removed]",
      "text/plain": [
       "<Figure size 1008x720 with 1 Axes>"
      ]
     },
     "metadata": {
      "needs_background": "light"
     },
     "output_type": "display_data"
    }
   ],
   "source": [
    "data_NIH3T3 = [dice_otsu_median_stretch_img_NIH3T3, dice_otsu_w_median_stretch_img_NIH3T3, dice_otsu_tlot_median_stretch_img_NIH3T3, dice_otsu_tlot_c_median_stretch_img_NIH3T3, dice_otsu_tlot_within_median_stretch_img_NIH3T3, dice_otsu_tlot_within_c_median_stretch_img_NIH3T3  ]\n",
    "\n",
    "fig_1 = plt.figure(figsize = (14 , 10))\n",
    "ax = fig_1.add_axes([0 , 0 , 1 , 1])\n",
    "ax.set_xticklabels(['normal otsu' , 'otsu within', 'two level otsu', 'two level otsu clip', ' two level otsu within', 'two level otsu within clip' ])\n",
    "plt.title('Perfect Otsu - NIH3T3' , size = 18)\n",
    "plt.ylabel('Dice score' , size = 12)\n",
    "plt.xlabel('Perfect Otsu' , size = 12)\n",
    "bp = ax.boxplot(data_NIH3T3, patch_artist = True)\n",
    "\n",
    "colors = ['#FF3030', '#FF7F24', '#FFB90F', '#BCEE68' , '#00B2EE' , '#BF3EFF' ]\n",
    "\n",
    "for patch, color in zip(bp['boxes'], colors):\n",
    "    patch.set_facecolor(color)\n",
    "\n",
    "for median in bp['medians']:\n",
    "    median.set(color ='black',linewidth = 1)"
   ]
  },
  {
   "cell_type": "markdown",
   "metadata": {},
   "source": [
    "-> normal otsu oder otsu within"
   ]
  },
  {
   "cell_type": "markdown",
   "metadata": {},
   "source": [
    "### N2DH-GOWT1\n",
    "\n",
    "Perfect preprocessing option:\n",
    "\n",
    "- gaussian filter and histogram stretching\n",
    "- filtersize: "
   ]
  },
  {
   "cell_type": "code",
   "execution_count": null,
   "metadata": {},
   "outputs": [],
   "source": []
  },
  {
   "cell_type": "code",
   "execution_count": null,
   "metadata": {},
   "outputs": [],
   "source": []
  },
  {
   "cell_type": "code",
   "execution_count": null,
   "metadata": {},
   "outputs": [],
   "source": []
  }
 ],
 "metadata": {
  "kernelspec": {
   "display_name": "Python 3.10.4 ('dataanalysis0104_env')",
   "language": "python",
   "name": "python3"
  },
  "language_info": {
   "codemirror_mode": {
    "name": "ipython",
    "version": 3
   },
   "file_extension": ".py",
   "mimetype": "text/x-python",
   "name": "python",
   "nbconvert_exporter": "python",
   "pygments_lexer": "ipython3",
   "version": "3.10.4"
  },
  "orig_nbformat": 4,
  "vscode": {
   "interpreter": {
    "hash": "aee1d11477472b15114408d994e46f4d51a3ab54d86022a45b211210f233c8d7"
   }
  }
 },
 "nbformat": 4,
 "nbformat_minor": 2
}
