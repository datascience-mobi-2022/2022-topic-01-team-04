{
 "cells": [
  {
   "cell_type": "code",
   "execution_count": 2,
   "metadata": {},
   "outputs": [
    {
     "name": "stdout",
     "output_type": "stream",
     "text": [
      "Using matplotlib backend: QtAgg\n",
      "%pylab is deprecated, use %matplotlib inline and import the required libraries.\n",
      "Populating the interactive namespace from numpy and matplotlib\n"
     ]
    }
   ],
   "source": [
    "%pylab\n",
    "%matplotlib inline\n",
    "import matplotlib.pyplot as plt\n",
    "import numpy as np\n",
    "import scipy.ndimage\n",
    "import cv2\n",
    "from nuclei_segmentation import otsu as ot\n",
    "from nuclei_segmentation import dicescore as dsc\n",
    "from nuclei_segmentation import preprocessing as pp\n",
    "from nuclei_segmentation import local_thresholding as lt\n",
    "from nuclei_segmentation import two_level_otsu as tlo\n",
    "import statistics as st"
   ]
  },
  {
   "cell_type": "code",
   "execution_count": 3,
   "metadata": {},
   "outputs": [],
   "source": [
    "def complete_analysis_two_level_otsu_clip(x):\n",
    "   \n",
    "    if x == 'NIH3T3' :\n",
    "        \n",
    "        img_NIH3T3 = []\n",
    "        path = r\"data/Otsu_data/NIH3T3/img\"\n",
    "        for f in os.listdir(path):\n",
    "            img_NIH3T3.append(imread(os.path.join(path , f)))\n",
    "\n",
    "        gt_NIH3T3 = []\n",
    "        path = r\"data/Otsu_data/NIH3T3/gt\"\n",
    "        for f in os.listdir(path):\n",
    "            gt_NIH3T3.append(imread(os.path.join(path , f)))\n",
    "\n",
    "        copy_img_NIH3T3 = img_NIH3T3.copy()\n",
    "\n",
    "        median_img_NIH3T3 = []\n",
    "        for i in range(0,len(copy_img_NIH3T3)):\n",
    "            median_img_NIH3T3.append(scipy.ndimage.median_filter(copy_img_NIH3T3[i] , 16))\n",
    "\n",
    "        gauss_img_NIH3T3 = []\n",
    "        for i in range(0,len(copy_img_NIH3T3)):\n",
    "            gauss_img_NIH3T3.append(scipy.ndimage.gaussian_filter(copy_img_NIH3T3[i] , 8))\n",
    "\n",
    "        stretch_img_NIH3T3 = []\n",
    "        for i in range(0,len(copy_img_NIH3T3)):\n",
    "            stretch_img_NIH3T3.append(pp.stretch(copy_img_NIH3T3[i]))\n",
    "\n",
    "        median_stretch_img_NIH3T3 = []\n",
    "        for i in range(0,len(median_img_NIH3T3)):\n",
    "            median_stretch_img_NIH3T3.append(pp.stretch(median_img_NIH3T3[i]))\n",
    "\n",
    "        stretch_median_img_NIH3T3 = []\n",
    "        for i in range(0,len(stretch_img_NIH3T3)):\n",
    "            stretch_median_img_NIH3T3.append(scipy.ndimage.median_filter(stretch_img_NIH3T3[i] , 16))\n",
    "\n",
    "        gauss_stretch_img_NIH3T3 = []\n",
    "        for i in range(0,len(gauss_img_NIH3T3)):\n",
    "            gauss_stretch_img_NIH3T3.append(pp.stretch(gauss_img_NIH3T3[i]))\n",
    "\n",
    "        stretch_gauss_img_NIH3T3 = []\n",
    "        for i in range(0,len(stretch_img_NIH3T3)):\n",
    "            stretch_gauss_img_NIH3T3.append(scipy.ndimage.gaussian_filter(stretch_img_NIH3T3[i] , 8))\n",
    "\n",
    "        otsu_img_NIH3T3 = []\n",
    "        for i in range(0,len(copy_img_NIH3T3)):\n",
    "            otsu_img_NIH3T3.append(tlo.two_level_otsu_thresholding_clip(copy_img_NIH3T3[i] , 256))\n",
    "\n",
    "        otsu_median_img_NIH3T3 = []\n",
    "        for i in range(0,len(median_img_NIH3T3)):\n",
    "            otsu_median_img_NIH3T3.append(tlo.two_level_otsu_thresholding_clip(median_img_NIH3T3[i] , 256))\n",
    "\n",
    "        otsu_gauss_img_NIH3T3 = []\n",
    "        for i in range(0,len(gauss_img_NIH3T3)):\n",
    "            otsu_gauss_img_NIH3T3.append(tlo.two_level_otsu_thresholding_clip(gauss_img_NIH3T3[i] , 256))\n",
    "\n",
    "        otsu_stretch_img_NIH3T3 = []\n",
    "        for i in range(0,len(stretch_img_NIH3T3)):\n",
    "            otsu_stretch_img_NIH3T3.append(tlo.two_level_otsu_thresholding_clip(stretch_img_NIH3T3[i] , 256))\n",
    "        \n",
    "        \n",
    "        otsu_median_stretch_img_NIH3T3 = []\n",
    "        for i in range(0,len(median_stretch_img_NIH3T3)):\n",
    "            otsu_median_stretch_img_NIH3T3.append(tlo.two_level_otsu_thresholding_clip(median_stretch_img_NIH3T3[i] , 256))\n",
    "        \n",
    "        otsu_stretch_median_img_NIH3T3 = []\n",
    "        for i in range(0,len(stretch_median_img_NIH3T3)):\n",
    "            otsu_stretch_median_img_NIH3T3.append(tlo.two_level_otsu_thresholding_clip(stretch_median_img_NIH3T3[i] , 256))\n",
    "        \n",
    "        otsu_gauss_stretch_img_NIH3T3 = []\n",
    "        for i in range(0,len(gauss_stretch_img_NIH3T3)):\n",
    "            otsu_gauss_stretch_img_NIH3T3.append(tlo.two_level_otsu_thresholding_clip(gauss_stretch_img_NIH3T3[i] , 256))\n",
    "\n",
    "        otsu_stretch_gauss_img_NIH3T3 = []\n",
    "        for i in range(0,len(stretch_gauss_img_NIH3T3)):\n",
    "            otsu_stretch_gauss_img_NIH3T3.append(tlo.two_level_otsu_thresholding_clip(stretch_gauss_img_NIH3T3[i] , 256))\n",
    "\n",
    "        dice_otsu_img_NIH3T3 = []\n",
    "        for j in range(0,len(otsu_img_NIH3T3)):\n",
    "            dice_otsu_img_NIH3T3.append(dsc.dice(otsu_img_NIH3T3[j] , gt_NIH3T3[j]))\n",
    "\n",
    "        dice_otsu_median_img_NIH3T3 = []\n",
    "        for j in range(0,len(otsu_median_img_NIH3T3)):\n",
    "            dice_otsu_median_img_NIH3T3.append(dsc.dice(otsu_median_img_NIH3T3[j] , gt_NIH3T3[j]))\n",
    "\n",
    "        dice_otsu_gauss_img_NIH3T3 = []\n",
    "        for j in range(0,len(otsu_gauss_img_NIH3T3)):\n",
    "            dice_otsu_gauss_img_NIH3T3.append(dsc.dice(otsu_gauss_img_NIH3T3[j] , gt_NIH3T3[j]))\n",
    "        \n",
    "        dice_otsu_stretch_img_NIH3T3 = []\n",
    "        for j in range(0,len(otsu_stretch_img_NIH3T3)):\n",
    "            dice_otsu_stretch_img_NIH3T3.append(dsc.dice(otsu_stretch_img_NIH3T3[j] , gt_NIH3T3[j]))\n",
    "        \n",
    "        dice_otsu_median_stretch_img_NIH3T3 = []\n",
    "        for j in range(0,len(otsu_median_stretch_img_NIH3T3)):\n",
    "            dice_otsu_median_stretch_img_NIH3T3.append(dsc.dice(otsu_median_stretch_img_NIH3T3[j] , gt_NIH3T3[j]))\n",
    "\n",
    "        dice_otsu_stretch_median_img_NIH3T3 = []\n",
    "        for j in range(0,len(otsu_stretch_median_img_NIH3T3)):\n",
    "            dice_otsu_stretch_median_img_NIH3T3.append(dsc.dice(otsu_stretch_median_img_NIH3T3[j] , gt_NIH3T3[j]))\n",
    "        \n",
    "        #dice_both_stretch_median = [dice_otsu_median_stretch_img_NIH3T3 , dice_otsu_stretch_median_img_NIH3T3]\n",
    "        #optimal_dice_stretch_median = dice_both_stretch_median[dice_both_stretch_median == max(st.median(dice_both_stretch_median))]\n",
    "        \n",
    "        \n",
    "        median1 = st.median(dice_otsu_median_stretch_img_NIH3T3)\n",
    "        median2 = st.median(dice_otsu_stretch_median_img_NIH3T3)\n",
    "\n",
    "        if(max(median1,median2) == median1):\n",
    "            optimal_dice_stretch_median = dice_otsu_median_stretch_img_NIH3T3\n",
    "        else: optimal_dice_stretch_median = dice_otsu_stretch_median_img_NIH3T3\n",
    "\n",
    "        dice_otsu_gauss_stretch_img_NIH3T3 = []\n",
    "        for j in range(0,len(otsu_gauss_stretch_img_NIH3T3)):\n",
    "            dice_otsu_gauss_stretch_img_NIH3T3.append(dsc.dice(otsu_gauss_stretch_img_NIH3T3[j] , gt_NIH3T3[j]))\n",
    "        \n",
    "        dice_otsu_stretch_gauss_img_NIH3T3 = []\n",
    "        for j in range(0,len(otsu_stretch_gauss_img_NIH3T3)):\n",
    "            dice_otsu_stretch_gauss_img_NIH3T3.append(dsc.dice(otsu_stretch_gauss_img_NIH3T3[j] , gt_NIH3T3[j]))\n",
    "\n",
    "        #dice_both_stretch_gauss = [dice_otsu_gauss_stretch_img_NIH3T3, dice_otsu_stretch_gauss_img_NIH3T3]\n",
    "        #optimal_dice_stretch_gauss = dice_both_stretch_gauss[dice_both_stretch_gauss == max(st.median(dice_both_stretch_gauss))]\n",
    "        \n",
    "        median3 = st.median(dice_otsu_gauss_stretch_img_NIH3T3)\n",
    "        median4 = st.median(dice_otsu_stretch_gauss_img_NIH3T3)\n",
    "\n",
    "        if(max(median3,median4) == median3):\n",
    "            optimal_dice_stretch_gauss = dice_otsu_gauss_stretch_img_NIH3T3\n",
    "        else: optimal_dice_stretch_gauss = dice_otsu_stretch_gauss_img_NIH3T3\n",
    "        \n",
    "\n",
    "        data_NIH3T3 = [dice_otsu_img_NIH3T3 , dice_otsu_median_img_NIH3T3 , dice_otsu_gauss_img_NIH3T3 , dice_otsu_stretch_img_NIH3T3 , optimal_dice_stretch_median , optimal_dice_stretch_gauss]\n",
    "\n",
    "        boxplot = pp.dataset_boxplot_otsu(data_NIH3T3 , 'Preprocessing methods - NIH3T3-two-level-Otsu')        \n",
    "   \n",
    "    return data_NIH3T3"
   ]
  },
  {
   "cell_type": "code",
   "execution_count": 4,
   "metadata": {},
   "outputs": [
    {
     "name": "stderr",
     "output_type": "stream",
     "text": [
      "c:\\Users\\marie\\Desktop\\2022-topic-01-team-04\\nuclei_segmentation\\preprocessing.py:67: UserWarning: FixedFormatter should only be used together with FixedLocator\n",
      "  \"\"\"\n"
     ]
    },
    {
     "name": "stdout",
     "output_type": "stream",
     "text": [
      "Line2D(_child6)\n",
      "[[0.8175567059223432, 0.7641330523780855, 0.3169086905969374, 0.7575338566025459, 0.7559234810310762, 0.7445915361959387, 0.6921118996297072, 0.7097600154594973, 0.4124606744520657, 0.6165896391376976, 0.6524872222683588, 0.20382743562653202, 0.5091473215831288, 0.47106917681277655, 0.3218088876557375, 0.6462982808860389, 0.7373557667869669, 0.15138678296573033], [0.7942850678624123, 0.7855586478750483, 0.29112361334015274, 0.7514915427985649, 0.7667755827518027, 0.7401771017648475, 0.668157667593747, 0.6691394577704456, 0.38737233666087845, 0.6039887269986811, 0.6516691039055179, 0.18451308418965479, 0.4841902251551223, 0.4611246769131873, 0.3146685588911762, 0.6364156352276612, 0.7315155191440537, 0.16009717365772186], [0.6509328817655825, 0.7385788724102299, 0.3735980518063697, 0.7473487747743875, 0.7588159859199952, 0.7267571250031585, 0.6497947634899588, 0.6931540138022567, 0.3280092856789076, 0.563803325489531, 0.6250763003855797, 0.19972225165784527, 0.48402143707820566, 0.4551807575584221, 0.3289720096024534, 0.6041162979103366, 0.7190257559325597, 0.17030989908090557], [0.6874887399442807, 0.6880755234697546, 0.2789833540967043, 0.6180210188168769, 0.6389614715130272, 0.3711390023999481, 0.35447423511650417, 0.3092193846551547, 0.608386743091658, 0.23904123971107005, 0.3560595383113026, 0.17775525398161526, 0.2381144048969436, 0.4154696965999765, 0.30095600629458924, 0.4829369909842541, 0.5811102587018246, 0.15430873807203174], [0.6460979645068631, 0.6627033284184447, 0.29112361334015274, 0.6417755351593274, 0.6371804093903071, 0.35572762769100885, 0.37126630509901165, 0.31446425474768414, 0.6032808101066839, 0.24366637368969354, 0.3661246305728479, 0.15197124392165218, 0.24269643288040538, 0.40622091210693284, 0.3146685588911762, 0.4189508579524908, 0.5308412657486288, 0.14276801941918693], [0.5552368233196094, 0.6256619873031283, 0.34211812161473765, 0.6372083970705799, 0.6310478110416203, 0.3777728417483561, 0.3675185671787358, 0.33871543395273407, 0.5843360641025207, 0.24896122259701953, 0.38028454954442836, 0.1690420052649651, 0.2587389068500879, 0.399138623623715, 0.312602136940621, 0.5073489506382112, 0.62638759531242, 0.16077780632570546]]\n"
     ]
    },
    {
     "data": {
      "image/png": "[encoded data removed]",
      "text/plain": [
       "<Figure size 1008x720 with 1 Axes>"
      ]
     },
     "metadata": {
      "needs_background": "light"
     },
     "output_type": "display_data"
    }
   ],
   "source": [
    "clip_data = complete_analysis_two_level_otsu_clip('NIH3T3')\n",
    "print(clip_data)\n"
   ]
  },
  {
   "cell_type": "markdown",
   "metadata": {},
   "source": [
    "[[0.8175567059223432, 0.7641330523780855, 0.3169086905969374, 0.7575338566025459, 0.7559234810310762, 0.7445915361959387, 0.6921118996297072, 0.7097600154594973, 0.4124606744520657, 0.6165896391376976, 0.6524872222683588, 0.20382743562653202, 0.5091473215831288, 0.47106917681277655, 0.3218088876557375, 0.6462982808860389, 0.7373557667869669, 0.15138678296573033], [0.7942850678624123, 0.7855586478750483, 0.29112361334015274, 0.7514915427985649, 0.7667755827518027, 0.7401771017648475, 0.668157667593747, 0.6691394577704456, 0.38737233666087845, 0.6039887269986811, 0.6516691039055179, 0.18451308418965479, 0.4841902251551223, 0.4611246769131873, 0.3146685588911762, 0.6364156352276612, 0.7315155191440537, 0.16009717365772186], [0.6509328817655825, 0.7385788724102299, 0.3735980518063697, 0.7473487747743875, 0.7588159859199952, 0.7267571250031585, 0.6497947634899588, 0.6931540138022567, 0.3280092856789076, 0.563803325489531, 0.6250763003855797, 0.19972225165784527, 0.48402143707820566, 0.4551807575584221, 0.3289720096024534, 0.6041162979103366, 0.7190257559325597, 0.17030989908090557], [0.6874887399442807, 0.6880755234697546, 0.2789833540967043, 0.6180210188168769, 0.6389614715130272, 0.3711390023999481, 0.35447423511650417, 0.3092193846551547, 0.608386743091658, 0.23904123971107005, 0.3560595383113026, 0.17775525398161526, 0.2381144048969436, 0.4154696965999765, 0.30095600629458924, 0.4829369909842541, 0.5811102587018246, 0.15430873807203174], [0.6460979645068631, 0.6627033284184447, 0.29112361334015274, 0.6417755351593274, 0.6371804093903071, 0.35572762769100885, 0.37126630509901165, 0.31446425474768414, 0.6032808101066839, 0.24366637368969354, 0.3661246305728479, 0.15197124392165218, 0.24269643288040538, 0.40622091210693284, 0.3146685588911762, 0.4189508579524908, 0.5308412657486288, 0.14276801941918693], [0.5552368233196094, 0.6256619873031283, 0.34211812161473765, 0.6372083970705799, 0.6310478110416203, 0.3777728417483561, 0.3675185671787358, 0.33871543395273407, 0.5843360641025207, 0.24896122259701953, 0.38028454954442836, 0.1690420052649651, 0.2587389068500879, 0.399138623623715, 0.312602136940621, 0.5073489506382112, 0.62638759531242, 0.16077780632570546]]"
   ]
  }
 ],
 "metadata": {
  "kernelspec": {
   "display_name": "Python 3.9.12 ('dataanalysis0104_env')",
   "language": "python",
   "name": "python3"
  },
  "language_info": {
   "codemirror_mode": {
    "name": "ipython",
    "version": 3
   },
   "file_extension": ".py",
   "mimetype": "text/x-python",
   "name": "python",
   "nbconvert_exporter": "python",
   "pygments_lexer": "ipython3",
   "version": "3.9.12"
  },
  "orig_nbformat": 4,
  "vscode": {
   "interpreter": {
    "hash": "73a5aaef6c11b1ea6e162ad69f2e79f73d9b6fd099813d04ec92d64c4323e461"
   }
  }
 },
 "nbformat": 4,
 "nbformat_minor": 2
}
