{
 "cells": [
  {
   "cell_type": "code",
   "execution_count": 1,
   "metadata": {},
   "outputs": [
    {
     "name": "stdout",
     "output_type": "stream",
     "text": [
      "Using matplotlib backend: <object object at 0x0000024A64A3E5B0>\n",
      "%pylab is deprecated, use %matplotlib inline and import the required libraries.\n",
      "Populating the interactive namespace from numpy and matplotlib\n"
     ]
    }
   ],
   "source": [
    "%pylab\n",
    "%matplotlib inline\n",
    "import matplotlib.pyplot as plt\n",
    "import numpy as np\n",
    "import scipy.ndimage\n",
    "from nuclei_segmentation import otsu as ot\n",
    "from nuclei_segmentation import dicescore as dsc\n",
    "from nuclei_segmentation import preprocessing as pp\n",
    "from nuclei_segmentation import local_thresholding as lt\n",
    "from nuclei_segmentation import two_level_otsu as tlo"
   ]
  },
  {
   "cell_type": "code",
   "execution_count": 2,
   "metadata": {},
   "outputs": [],
   "source": [
    "img1 = imread(r\"data/Otsu_data/NIH3T3/img/dna-0.png\")\n",
    "img2 = imread(r\"data/Otsu_data/NIH3T3/img/dna-26.png\")\n",
    "img3 = imread(r\"data/Otsu_data/NIH3T3/img/dna-37.png\")\n",
    "img4 = imread(r\"data/Otsu_data/NIH3T3/img/dna-44.png\")\n",
    "\n",
    "img = [img1, img2, img3, img4]\n",
    "\n",
    "gt1 = imread(r\"data/Otsu_data/NIH3T3/gt/0.png\")\n",
    "gt2 = imread(r\"data/Otsu_data/NIH3T3/gt/26.png\")\n",
    "gt3 = imread(r\"data/Otsu_data/NIH3T3/gt/37.png\")\n",
    "gt4 = imread(r\"data/Otsu_data/NIH3T3/gt/44.png\")\n",
    "\n",
    "gt = [gt1, gt2, gt3, gt4]\n",
    "\n",
    "framesize = 200"
   ]
  },
  {
   "cell_type": "code",
   "execution_count": 45,
   "metadata": {},
   "outputs": [],
   "source": [
    "framesize = 150"
   ]
  },
  {
   "cell_type": "code",
   "execution_count": 46,
   "metadata": {},
   "outputs": [],
   "source": [
    "def om(img,filtersize):\n",
    "        img = lt.local_thresholding_mean(img, 40, filtersize)\n",
    "        return img\n",
    "\n",
    "def process(image_list, function, filtersize):\n",
    "        list = []\n",
    "        \n",
    "        for i in range(0,len(image_list)):\n",
    "                list.append(function(image_list[i], filtersize))\n",
    "\n",
    "        return list\n",
    "\n",
    "\n",
    "\n",
    "def dscs(img_list, gt_list):\n",
    "        list=[]\n",
    "        for j in range(0,len(img_list)):\n",
    "                list.append(dsc.dice(img_list[j],gt_list[j]))\n",
    "        return list\n",
    "\n",
    "def om(img,filtersize):\n",
    "        img = lt.local_thresholding_mean(img, 40, filtersize)\n",
    "        return img\n",
    "\n",
    "om_img = process(img,om,framesize)"
   ]
  },
  {
   "cell_type": "code",
   "execution_count": 9,
   "metadata": {},
   "outputs": [],
   "source": [
    "dices = []"
   ]
  },
  {
   "cell_type": "code",
   "execution_count": 47,
   "metadata": {},
   "outputs": [],
   "source": [
    "\n",
    "dices.append(dscs(om_img, gt))\n",
    "dices.append(mean(dscs(om_img, gt)))\n",
    "dices.append('stepsize = 40, filtersize = 150')"
   ]
  },
  {
   "cell_type": "code",
   "execution_count": 38,
   "metadata": {},
   "outputs": [],
   "source": [
    "del dices[-4:]"
   ]
  },
  {
   "cell_type": "code",
   "execution_count": 48,
   "metadata": {},
   "outputs": [
    {
     "name": "stdout",
     "output_type": "stream",
     "text": [
      "[[0.8815232301544701, 0.8524272485279537, 0.6050052943845908, 0.84943832849873], 0.7970985253914362, 'stepsize = 40, filtersize = 200', [0.8819632833427172, 0.8544601588902944, 0.6042086669354684, 0.853355928279841], 0.7984970093620802, 'stepsize = 50, filtersize = 200', [0.9053073415922682, 0.8474592715925964, 0.5288981035738485, 0.8447283837942938], 0.7815982751382518, 'stepsize = 75, filtersize = 250', [0.9055965060753421, 0.8453956261047378, 0.543431197729613, 0.8453740864255725], 0.7849493540838164, 'stepsize = 50, filtersize = 250', [0.8360405998943934, 0.8530443098501753, 0.6705802157983013, 0.852313800900949], 0.8029947316109547, 'stepsize = 50, filtersize = 150', [0.7834802706733817, 0.8398165628906523, 0.6890940682587796, 0.8498003763021431], 0.7905478195312392, [0.7834802706733817, 0.8398165628906523, 0.6890940682587796, 0.8498003763021431], 0.7905478195312392, 'stepsize = 40, filtersize = 120', [0.768382702714803, 0.8242365839934499, 0.6899973339554104, 0.8433652389984267], 0.7814954649155226, 'stepsize = 50, filtersize = 120', [0.8306409776930594, 0.8554362420740526, 0.6699634159463433, 0.8517277378369774], 0.8019420933876082, 'stepsize = 40, filtersize = 150']\n"
     ]
    }
   ],
   "source": [
    "print(dices)"
   ]
  }
 ],
 "metadata": {
  "kernelspec": {
   "display_name": "Python 3.10.4 ('dataanalysis0104_env')",
   "language": "python",
   "name": "python3"
  },
  "language_info": {
   "codemirror_mode": {
    "name": "ipython",
    "version": 3
   },
   "file_extension": ".py",
   "mimetype": "text/x-python",
   "name": "python",
   "nbconvert_exporter": "python",
   "pygments_lexer": "ipython3",
   "version": "3.10.4"
  },
  "orig_nbformat": 4,
  "vscode": {
   "interpreter": {
    "hash": "21db8ca179e1c46f3f1871b3fc2646379981f9fac7908d31737eb0066b24c468"
   }
  }
 },
 "nbformat": 4,
 "nbformat_minor": 2
}
