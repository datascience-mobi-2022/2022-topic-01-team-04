{
 "cells": [
  {
   "cell_type": "markdown",
   "metadata": {},
   "source": [
    "## Präsentation Finale \n",
    "\n",
    "<h3><b>Abstract</b></h3>\n",
    "<p style = 'text-align : justify;'>\n",
    "\n",
    "\n",
    "-Introduction-\n",
    "On our project proposal we already explained the basic methods and our goals of implementing otsu, local thresholding and so on. \n",
    "Today we want to present our results and explain how we find the optimal segmented image to each dataset. As already explained in our project proposal, the datasets had different challenges that we needed to concur. Thus we considered the different datasets individually. We used different preprocessing methods as well as different Otsu variations in several different combinations. The images were then compared with ground truth images using the Dice Score for the evaluation of the thresholding. Within this presentation we want to show you the outcome of the different combinations of preprocessing and otsu variations and finally show you the best individualized combination for each dataset to show you the best thresholded image possible. \n",
    "\n",
    "-General-\n",
    "As already explained in the project proposal the challenges of the datasets were different. The first dataset we challenged noise, low contrast and the so called holes within the cells. In the second dataset we had brightness issues and faced the challenge of reflection. As for the last dataset,.\n",
    "We already had some possible solutions and we want to show you how the results we received fit our expectations. We thought random noise could be concurred with gaussian filter or median filter, For the holes we wanted to use the median filter. For low contrast histogram stretching was our solution. For the reflections we decided to implement two level otsu so multithrehsolding. And finally for the brightness issues we implemented local adaptive thresholding. \n",
    "\n",
    "\n",
    "-results-\n",
    "N2DH-GOWT1\n",
    "Results und bester output. Sagen warum sinnvoll und ob unsere expectations stimmen\n",
    "NIH3T3\n",
    "Results und bester output. Sagen warum sinnvoll und ob unsere expectations stimmen\n",
    "\n",
    "N2DL-HeLa\n",
    "Results und bester output. Sagen warum sinnvoll und ob unsere expectations stimmen\n",
    "\n",
    "\n",
    "These results show, that ….\n",
    "\n",
    "-Challenges-\n",
    "This problems\n",
    "\n",
    "\n",
    "-summary-\n",
    "so the best combinationi s....\n",
    "</p>\n",
    "\n",
    "\n",
    "\n",
    "\n",
    "\n"
   ]
  }
 ],
 "metadata": {
  "kernelspec": {
   "display_name": "Python 3.10.4 ('dataanalysis0104_env')",
   "language": "python",
   "name": "python3"
  },
  "language_info": {
   "name": "python",
   "version": "3.10.4"
  },
  "orig_nbformat": 4,
  "vscode": {
   "interpreter": {
    "hash": "aee1d11477472b15114408d994e46f4d51a3ab54d86022a45b211210f233c8d7"
   }
  }
 },
 "nbformat": 4,
 "nbformat_minor": 2
}
