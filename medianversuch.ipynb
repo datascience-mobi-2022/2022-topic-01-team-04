{
 "cells": [
  {
   "cell_type": "code",
   "execution_count": 26,
   "metadata": {},
   "outputs": [
    {
     "name": "stdout",
     "output_type": "stream",
     "text": [
      "Using matplotlib backend: QtAgg\n",
      "%pylab is deprecated, use %matplotlib inline and import the required libraries.\n",
      "Populating the interactive namespace from numpy and matplotlib\n"
     ]
    }
   ],
   "source": [
    "\n",
    "%pylab\n",
    "%matplotlib inline\n",
    "from matplotlib import pyplot as plt\n",
    "import numpy as np\n",
    "import scipy.ndimage\n"
   ]
  },
  {
   "cell_type": "markdown",
   "metadata": {},
   "source": [
    "## nichts angewendet auf NIH3T3 Dataset"
   ]
  },
  {
   "cell_type": "code",
   "execution_count": 21,
   "metadata": {},
   "outputs": [],
   "source": [
    "\n",
    "gt1 = plt.imread(r'data\\Otsu_data\\NIH3T3\\gt\\0.png')\n",
    "gt2 = plt.imread(r'data\\Otsu_data\\NIH3T3\\gt\\1.png')\n",
    "gt3 = plt.imread(r'data\\Otsu_data\\NIH3T3\\gt\\26.png')\n",
    "gt4 = plt.imread(r'data\\Otsu_data\\NIH3T3\\gt\\27.png')\n",
    "gt5 = plt.imread(r'data\\Otsu_data\\NIH3T3\\gt\\28.png')\n",
    "gt6 = plt.imread(r'data\\Otsu_data\\NIH3T3\\gt\\29.png')\n",
    "gt7 = plt.imread(r'data\\Otsu_data\\NIH3T3\\gt\\30.png')\n",
    "gt8 = plt.imread(r'data\\Otsu_data\\NIH3T3\\gt\\31.png')\n",
    "gt9 = plt.imread(r'data\\Otsu_data\\NIH3T3\\gt\\32.png')\n",
    "gt10 = plt.imread(r'data\\Otsu_data\\NIH3T3\\gt\\33.png')\n",
    "gt11 = plt.imread(r'data\\Otsu_data\\NIH3T3\\gt\\37.png')\n",
    "gt12 = plt.imread(r'data\\Otsu_data\\NIH3T3\\gt\\40.png')\n",
    "gt13 = plt.imread(r'data\\Otsu_data\\NIH3T3\\gt\\42.png')\n",
    "gt14 = plt.imread(r'data\\Otsu_data\\NIH3T3\\gt\\44.png')\n",
    "gt15 = plt.imread(r'data\\Otsu_data\\NIH3T3\\gt\\45.png')\n",
    "gt16 = plt.imread(r'data\\Otsu_data\\NIH3T3\\gt\\46.png')\n",
    "gt17 = plt.imread(r'data\\Otsu_data\\NIH3T3\\gt\\47.png')\n",
    "gt18 = plt.imread(r'data\\Otsu_data\\NIH3T3\\gt\\49.png')\n",
    "\n",
    "\n",
    "ground_truth_NIH3T3 = [gt1, gt2, gt3, gt4, gt5, gt6, gt7, gt8, gt9, gt10, gt11, gt12, gt13, gt14, gt15, gt16, gt17 ,gt18]\n",
    "\n",
    "#import normal images\n",
    "\n",
    "img1 = plt.imread(r'data\\Otsu_data\\NIH3T3\\img\\dna-0.png')\n",
    "img2 = plt.imread(r'data\\Otsu_data\\NIH3T3\\img\\dna-1.png')\n",
    "img3 = plt.imread(r'data\\Otsu_data\\NIH3T3\\img\\dna-26.png')\n",
    "img4 = plt.imread(r'data\\Otsu_data\\NIH3T3\\img\\dna-27.png')\n",
    "img5 = plt.imread(r'data\\Otsu_data\\NIH3T3\\img\\dna-28.png')\n",
    "img6 = plt.imread(r'data\\Otsu_data\\NIH3T3\\img\\dna-29.png')\n",
    "img7 = plt.imread(r'data\\Otsu_data\\NIH3T3\\img\\dna-30.png')\n",
    "img8 = plt.imread(r'data\\Otsu_data\\NIH3T3\\img\\dna-31.png')\n",
    "img9 = plt.imread(r'data\\Otsu_data\\NIH3T3\\img\\dna-32.png')\n",
    "img10 = plt.imread(r'data\\Otsu_data\\NIH3T3\\img\\dna-33.png')\n",
    "img11 = plt.imread(r'data\\Otsu_data\\NIH3T3\\img\\dna-37.png')\n",
    "img12 = plt.imread(r'data\\Otsu_data\\NIH3T3\\img\\dna-40.png')\n",
    "img13 = plt.imread(r'data\\Otsu_data\\NIH3T3\\img\\dna-42.png')\n",
    "img14 = plt.imread(r'data\\Otsu_data\\NIH3T3\\img\\dna-44.png')\n",
    "img15 = plt.imread(r'data\\Otsu_data\\NIH3T3\\img\\dna-45.png')\n",
    "img16 = plt.imread(r'data\\Otsu_data\\NIH3T3\\img\\dna-46.png')\n",
    "img17 = plt.imread(r'data\\Otsu_data\\NIH3T3\\img\\dna-47.png')\n",
    "img18 = plt.imread(r'data\\Otsu_data\\NIH3T3\\img\\dna-49.png')\n",
    "\n",
    "\n",
    "img_NIH3T3 = [img1, img2, img3, img4, img5, img6, img7, img8, img9, img10, img11, img12, img13, img14, img15, img16, img17 ,img18]"
   ]
  },
  {
   "cell_type": "code",
   "execution_count": 27,
   "metadata": {},
   "outputs": [],
   "source": [
    "#otsu code\n",
    "\n",
    "# otsu thresholding\n",
    "def otsu_thresholding(img,x):\n",
    "  \n",
    "#bins optimieren.... alles zu 0-255 machen\n",
    "\n",
    "\n",
    "   # load histogram, Mathematische werte aus Histogramm rausgreifen\n",
    "    n, bins, patches = plt.hist(img.flatten(),log = 'False', bins = x)\n",
    "\n",
    "   # initialize threshold value (T = 0) \n",
    "    thres = 0\n",
    "    copy = img.copy()\n",
    "\n",
    "    # create list to store values of within class variance for each threshold value\n",
    "    bcv = list()\n",
    "    \n",
    "    # set up initial values\n",
    "    for i in range(0,len(n)):\n",
    "        bclv = 0\n",
    "        w0_sum = 0\n",
    "        mean_sum0 = 0\n",
    "        v0_sum = 0\n",
    "        mean_sum1 = 0\n",
    "        v1_sum = 0\n",
    "        w0 = 0\n",
    "        w1 = 0\n",
    "        w1_sum = 0\n",
    "\n",
    "        #sum up the probabilites of each intensity value;  and the mean value (sind noch nicht happy mit der definition :()\n",
    "        for j in range(0,i+1):\n",
    "            w0_sum += n[j]\n",
    "            mean_sum0 += bins[j]*n[j]\n",
    "            \n",
    "        # background class probabilites and class mean levels\n",
    "        w0 = w0_sum / sum(n)    \n",
    "        mean_0 = mean_sum0 / sum(n[0:i+1])\n",
    "        \n",
    "        # compute background class variance\n",
    "        for m in range(0,i+1):\n",
    "            v0_sum += ((bins[m]-mean_0)** 2) * n[m]\n",
    "        \n",
    "        v0 = v0_sum / sum(n[0:i+1])\n",
    "        \n",
    "        # sum up the probabilites of each intensity value;  and the mean value\n",
    "        for k in range(i+1, len(n)): \n",
    "            w1_sum += n[k]\n",
    "          \n",
    "            mean_sum1 += bins[k]*n[k]\n",
    "\n",
    "        # compute foreground class probabilities and class mean levels    \n",
    "        w1 = w1_sum / sum(n)\n",
    "     \n",
    "        mean_1 = mean_sum1 / sum(n[i+1:len(n)])\n",
    "\n",
    "        # compute foreground class variance \n",
    "        for s in range(i+1,len(n)):\n",
    "            v1_sum += ((bins[s]-mean_1) ** 2) * n[s]\n",
    "        \n",
    "        v1 = v1_sum / sum(n[i+1:len(n)])\n",
    "\n",
    "        # compute within class variance and append to list\n",
    "        bclv = (w0 * v0) + (w1 * v1)\n",
    "        bcv.append(bclv)\n",
    "\n",
    "    # select optimal threshold value, minimum value of within class variance\n",
    "    optimal_thres = min(bcv)\n",
    "\n",
    "    #select optimal threshold in the list\n",
    "    l = 0\n",
    "    while l < len(bcv):\n",
    "        if bcv[l] == optimal_thres: thres = bins[l]\n",
    "        l += 1\n",
    "\n",
    "\n",
    "    #perform image clipping \n",
    "    for o in ndindex(copy.shape):\n",
    "        if copy[o] < (thres): \n",
    "            copy[o] = 0\n",
    "        else:\n",
    "            copy[o] = 255\n",
    "\n",
    "    # output image\n",
    "    figure()  \n",
    "    imshow(copy, 'gray')\n",
    "    colorbar()\n",
    "\n",
    "    return copy\n",
    "    \n",
    "\n",
    "\n",
    "\n"
   ]
  },
  {
   "cell_type": "code",
   "execution_count": 42,
   "metadata": {},
   "outputs": [
    {
     "name": "stderr",
     "output_type": "stream",
     "text": [
      "C:\\Users\\Helen Jade\\AppData\\Local\\Temp\\ipykernel_26464\\3251053893.py:55: RuntimeWarning: invalid value encountered in double_scalars\n",
      "  mean_1 = mean_sum1 / sum(n[i+1:len(n)])\n",
      "C:\\Users\\Helen Jade\\AppData\\Local\\Temp\\ipykernel_26464\\3251053893.py:61: RuntimeWarning: invalid value encountered in double_scalars\n",
      "  v1 = v1_sum / sum(n[i+1:len(n)])\n"
     ]
    },
    {
     "data": {
      "image/png": "[encoded data removed]",
      "text/plain": [
       "<Figure size 432x288 with 1 Axes>"
      ]
     },
     "metadata": {
      "needs_background": "light"
     },
     "output_type": "display_data"
    },
    {
     "data": {
      "image/png": "[encoded data removed]",
      "text/plain": [
       "<Figure size 432x288 with 2 Axes>"
      ]
     },
     "metadata": {
      "needs_background": "light"
     },
     "output_type": "display_data"
    },
    {
     "data": {
      "image/png": "[encoded data removed]",
      "text/plain": [
       "<Figure size 432x288 with 2 Axes>"
      ]
     },
     "metadata": {
      "needs_background": "light"
     },
     "output_type": "display_data"
    },
    {
     "data": {
      "image/png": "[encoded data removed]",
      "text/plain": [
       "<Figure size 432x288 with 2 Axes>"
      ]
     },
     "metadata": {
      "needs_background": "light"
     },
     "output_type": "display_data"
    }
   ],
   "source": [
    "otsu12 = otsu_thresholding(img12,255)\n",
    "\n",
    "otsu13 = otsu_thresholding(img13,255)\n",
    "\n",
    "otsu14 = otsu_thresholding(img14,255)\n",
    "\n",
    "#threshold\n",
    "\n",
    "# müssen schaffen dass wir alle bilder durchgehen und thresholden und dann in \n",
    "#Threshold()   Liste speichern"
   ]
  },
  {
   "cell_type": "markdown",
   "metadata": {},
   "source": [
    "Irgendwie liste machen???\n",
    "\n",
    "threshold= list()\n",
    "for i in range(0,len(img_NIH3T3)):\n",
    "   threshold.append(img_NIH3T3)"
   ]
  },
  {
   "cell_type": "code",
   "execution_count": 44,
   "metadata": {},
   "outputs": [
    {
     "data": {
      "text/plain": [
       "(array([[  0.,   0.,   0., ...,   0.,   0.,   0.],\n",
       "        [  0.,   0.,   0., ...,   0.,   0.,   0.],\n",
       "        [  0.,   0.,   0., ...,   0.,   0.,   0.],\n",
       "        ...,\n",
       "        [255., 255., 255., ..., 255., 255., 255.],\n",
       "        [255., 255., 255., ..., 255., 255., 255.],\n",
       "        [255., 255., 255., ..., 255., 255., 255.]], dtype=float32),\n",
       " array([[0., 0., 0., ..., 0., 0., 0.],\n",
       "        [0., 0., 0., ..., 0., 0., 0.],\n",
       "        [0., 0., 0., ..., 0., 0., 0.],\n",
       "        ...,\n",
       "        [0., 0., 0., ..., 0., 0., 0.],\n",
       "        [0., 0., 0., ..., 0., 0., 0.],\n",
       "        [0., 0., 0., ..., 0., 0., 0.]], dtype=float32),\n",
       " array([[255., 255., 255., ...,   0.,   0.,   0.],\n",
       "        [255., 255., 255., ...,   0.,   0.,   0.],\n",
       "        [255., 255., 255., ...,   0.,   0.,   0.],\n",
       "        ...,\n",
       "        [  0.,   0.,   0., ...,   0.,   0.,   0.],\n",
       "        [  0.,   0.,   0., ...,   0.,   0.,   0.],\n",
       "        [  0.,   0.,   0., ...,   0.,   0.,   0.]], dtype=float32))"
      ]
     },
     "execution_count": 44,
     "metadata": {},
     "output_type": "execute_result"
    }
   ],
   "source": [
    "thresholded = (otsu12, otsu13, otsu14)\n",
    "threshold"
   ]
  },
  {
   "cell_type": "markdown",
   "metadata": {},
   "source": [
    "# Dice Score (unprocessed)"
   ]
  },
  {
   "cell_type": "code",
   "execution_count": 45,
   "metadata": {},
   "outputs": [],
   "source": [
    "\n",
    "#1)brauchen otsu so dass es als liste funktioniert !!!!!!! damit wir alle gethresholdete bilder in threshold[] speichern können\n",
    "#2) dann brauchen wir dice so (evtl for schleife?) dass es für jedes bild durchgeht und uns wieder Dice scores in einer liste speichert \n",
    "\n",
    "#create a list for ground truth images and thresholded images (is done manually before running the dice score algorithm, supports iteration trough a whole dataset, here empty lists included just for the package to function)\n",
    "ground_truth_NIH3T3 =[]\n",
    "thresholded=[]\n",
    "\n",
    "\n",
    "# option 1: positive pixels = background pixels. Used for images with foreground > background\n",
    "# define the algorithm, x = image coordinate in the ground truth and thresholded lists\n",
    "def b_dice(x): \n",
    "\n",
    "    #pick the ground truth and thresholded pictures from the lists\n",
    "    gt = ground_truth_NIH3T3 = [11] \n",
    "    pt = thresholded[0] \n",
    "\n",
    "    #set new variables for count of different pixel types\n",
    "    tp=0 \n",
    "    tn=0\n",
    "    fp=0\n",
    "    fn=0\n",
    "    #iterate over all pixel coordinates (gt and pt have the same dimensions)\n",
    "    for x, y in np.ndindex((gt.shape[0],gt.shape[1])):\n",
    "\n",
    "        #if a pixel belongs to background in ground truth\n",
    "        if gt[x,y]==0:\n",
    "            #if it belongs to background in post-otsu\n",
    "            if pt[x,y]==0:\n",
    "                #add it to the true positive variable\n",
    "                tp+=1\n",
    "            #count all other pixel kinds\n",
    "            else:\n",
    "                fn+=1\n",
    "        else:\n",
    "            if pt[x,y]==0:\n",
    "                fp+=1\n",
    "\n",
    "                #else: tn+=1 not included, as tn is not needed in calculations\n",
    "    b_dsc= 2*tp/(2*tp+fn+fp)\n",
    "    return b_dsc\n",
    "\n",
    "def f_dice(x): # same thing for positive pixels = foreground pixels\n",
    "    gt = ground_truth_NIH3T3 = [x] \n",
    "    pt = tresholded[x] \n",
    "    tp=0\n",
    "    tn=0\n",
    "    fp=0\n",
    "    fn=0\n",
    "    for x, y in np.ndindex((gt.shape[0],gt.shape[1])):\n",
    "        if gt[x,y]!=0:\n",
    "            if pt[x,y]!=0:\n",
    "                tp+=1\n",
    "            else:\n",
    "                fn+=1\n",
    "        else:\n",
    "            if pt[x,y]!=0:\n",
    "                fp+=1 \n",
    "    f_dsc= 2*tp/(2*tp+fn+fp)\n",
    "    return f_dsc\n",
    "\n",
    "\n",
    "def dice(x, method):\n",
    "    if method=='background' or method=='b':\n",
    "        b_dice(x)\n",
    "    if method=='foreground' or method == 'f':\n",
    "        f_dice(x)\n",
    "    else:\n",
    "        print('write <foreground> or <f> for forward dsc and <bacground> or <b> for background dsc')\n",
    "\n",
    "\n"
   ]
  },
  {
   "cell_type": "code",
   "execution_count": 32,
   "metadata": {},
   "outputs": [
    {
     "ename": "TypeError",
     "evalue": "only integer scalar arrays can be converted to a scalar index",
     "output_type": "error",
     "traceback": [
      "\u001b[1;31m---------------------------------------------------------------------------\u001b[0m",
      "\u001b[1;31mTypeError\u001b[0m                                 Traceback (most recent call last)",
      "\u001b[1;32mc:\\Users\\Helen Jade\\OneDrive\\Desktop\\2022-topic-01-team-04\\medianversuch.ipynb Cell 10'\u001b[0m in \u001b[0;36m<cell line: 1>\u001b[1;34m()\u001b[0m\n\u001b[1;32m----> <a href='vscode-notebook-cell:/c%3A/Users/Helen%20Jade/OneDrive/Desktop/2022-topic-01-team-04/medianversuch.ipynb#ch0000014?line=0'>1</a>\u001b[0m b_dice(otsu_img12)\n",
      "\u001b[1;32mc:\\Users\\Helen Jade\\OneDrive\\Desktop\\2022-topic-01-team-04\\medianversuch.ipynb Cell 9'\u001b[0m in \u001b[0;36mb_dice\u001b[1;34m(x)\u001b[0m\n\u001b[0;32m      <a href='vscode-notebook-cell:/c%3A/Users/Helen%20Jade/OneDrive/Desktop/2022-topic-01-team-04/medianversuch.ipynb#ch0000011?line=7'>8</a>\u001b[0m \u001b[39mdef\u001b[39;00m \u001b[39mb_dice\u001b[39m(x): \n\u001b[0;32m      <a href='vscode-notebook-cell:/c%3A/Users/Helen%20Jade/OneDrive/Desktop/2022-topic-01-team-04/medianversuch.ipynb#ch0000011?line=8'>9</a>\u001b[0m \n\u001b[0;32m     <a href='vscode-notebook-cell:/c%3A/Users/Helen%20Jade/OneDrive/Desktop/2022-topic-01-team-04/medianversuch.ipynb#ch0000011?line=9'>10</a>\u001b[0m     \u001b[39m#pick the ground truth and thresholded pictures from the lists\u001b[39;00m\n\u001b[0;32m     <a href='vscode-notebook-cell:/c%3A/Users/Helen%20Jade/OneDrive/Desktop/2022-topic-01-team-04/medianversuch.ipynb#ch0000011?line=10'>11</a>\u001b[0m     gt \u001b[39m=\u001b[39m ground_truth_NIH3T3 \u001b[39m=\u001b[39m [x] \n\u001b[1;32m---> <a href='vscode-notebook-cell:/c%3A/Users/Helen%20Jade/OneDrive/Desktop/2022-topic-01-team-04/medianversuch.ipynb#ch0000011?line=11'>12</a>\u001b[0m     pt \u001b[39m=\u001b[39m thresholded[x] \n\u001b[0;32m     <a href='vscode-notebook-cell:/c%3A/Users/Helen%20Jade/OneDrive/Desktop/2022-topic-01-team-04/medianversuch.ipynb#ch0000011?line=13'>14</a>\u001b[0m     \u001b[39m#set new variables for count of different pixel types\u001b[39;00m\n\u001b[0;32m     <a href='vscode-notebook-cell:/c%3A/Users/Helen%20Jade/OneDrive/Desktop/2022-topic-01-team-04/medianversuch.ipynb#ch0000011?line=14'>15</a>\u001b[0m     tp\u001b[39m=\u001b[39m\u001b[39m0\u001b[39m \n",
      "\u001b[1;31mTypeError\u001b[0m: only integer scalar arrays can be converted to a scalar index"
     ]
    }
   ],
   "source": [
    "b_dice(otsu_img12)"
   ]
  }
 ],
 "metadata": {
  "kernelspec": {
   "display_name": "Python 3.10.4 ('dataanalysis0104_Env')",
   "language": "python",
   "name": "python3"
  },
  "language_info": {
   "codemirror_mode": {
    "name": "ipython",
    "version": 3
   },
   "file_extension": ".py",
   "mimetype": "text/x-python",
   "name": "python",
   "nbconvert_exporter": "python",
   "pygments_lexer": "ipython3",
   "version": "3.10.4"
  },
  "orig_nbformat": 4,
  "vscode": {
   "interpreter": {
    "hash": "e0d3775933bd25a838655a686af1b37679a29cb0ec998f5190cb449f12779b79"
   }
  }
 },
 "nbformat": 4,
 "nbformat_minor": 2
}
