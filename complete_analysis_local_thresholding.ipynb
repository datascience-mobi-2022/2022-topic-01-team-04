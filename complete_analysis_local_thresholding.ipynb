{
 "cells": [
  {
   "cell_type": "code",
   "execution_count": 20,
   "metadata": {},
   "outputs": [
    {
     "name": "stdout",
     "output_type": "stream",
     "text": [
      "Using matplotlib backend: QtAgg\n",
      "%pylab is deprecated, use %matplotlib inline and import the required libraries.\n",
      "Populating the interactive namespace from numpy and matplotlib\n"
     ]
    },
    {
     "name": "stderr",
     "output_type": "stream",
     "text": [
      "c:\\Users\\ievas\\anaconda3\\envs\\dataanalysis0104_env\\lib\\site-packages\\IPython\\core\\magics\\pylab.py:162: UserWarning: pylab import has clobbered these variables: ['plotting']\n",
      "`%matplotlib` prevents importing * from pylab and numpy\n",
      "  warn(\"pylab import has clobbered these variables: %s\"  % clobbered +\n"
     ]
    }
   ],
   "source": [
    "%pylab\n",
    "%matplotlib inline\n",
    "import matplotlib.pyplot as plt\n",
    "import numpy as np\n",
    "import scipy.ndimage\n",
    "from nuclei_segmentation import otsu as ot\n",
    "from nuclei_segmentation import dicescore as dsc\n",
    "from nuclei_segmentation import preprocessing as pp\n",
    "from nuclei_segmentation import local_thresholding as lt\n",
    "from nuclei_segmentation import two_level_otsu as tlo"
   ]
  },
  {
   "cell_type": "code",
   "execution_count": 30,
   "metadata": {},
   "outputs": [],
   "source": [
    "\n",
    "\n",
    "def om(img,filtersize):\n",
    "        img = lt.local_thresholding_mean(img, 50, filtersize)\n",
    "        return img\n",
    "\n",
    "def oc(img,filtersize):\n",
    "        img = lt.local_thresholding_counts(img, 300, filtersize, 0.5)\n",
    "        return img\n",
    "\n",
    "def m(img, filtersize):\n",
    "        img=scipy.ndimage.median_filter(img, filtersize)\n",
    "        return img\n",
    "\n",
    "def g(img, filtersize):\n",
    "        img=scipy.ndimage.gaussian_filter(img, filtersize)\n",
    "        return img\n",
    "        \n",
    "def s(img,filtersize):\n",
    "        img=pp.stretch(img)\n",
    "        return img\n",
    "\n",
    "\n",
    "    #functions = [om, oc, m, g, s]#\n",
    "def process(image_list, function, filtersize):\n",
    "        list = []\n",
    "        \n",
    "        for i in range(0,len(image_list)):\n",
    "                list.append(function(image_list[i], filtersize))\n",
    "\n",
    "        return list\n",
    "\n",
    "\n",
    "\n",
    "def dscs(img_list, gt_list):\n",
    "        list=[]\n",
    "        for j in range(0,len(img_list)):\n",
    "                list.append(dsc.dice(img_list[j],gt_list[j]))\n",
    "        return list\n",
    "\n",
    "def bestdsc(list1,list2):\n",
    "        if median(list1)>=median(list2):\n",
    "                list=list1\n",
    "        else:\n",
    "                list=list2\n",
    "        return list\n",
    "def better_dsc(list1, list2):\n",
    "        if bestdsc(list1, list2)==list1:\n",
    "                name='mean'\n",
    "        else:\n",
    "                name='counts'\n",
    "        return name"
   ]
  },
  {
   "cell_type": "code",
   "execution_count": null,
   "metadata": {},
   "outputs": [],
   "source": []
  },
  {
   "cell_type": "code",
   "execution_count": 31,
   "metadata": {},
   "outputs": [],
   "source": [
    "def complete_analysis_local_otsu(dataset):\n",
    "    if dataset == \"N2DH-GOWT1\":\n",
    "        img = []\n",
    "        path = r\"data/Otsu_data/N2DH-GOWT1/img\"\n",
    "        for f in os.listdir(path):\n",
    "            img.append(imread(os.path.join(path , f)))\n",
    "\n",
    "        gt = []\n",
    "        path = r\"data/Otsu_data/N2DH-GOWT1/gt\"\n",
    "        for f in os.listdir(path):\n",
    "            gt.append(pp.binarize(imread(os.path.join(path , f))))\n",
    "        \n",
    "        mfiltersize = 9\n",
    "        gfiltersize=9\n",
    "       \n",
    "        \n",
    "    if dataset == \"N2DL_HeLa\":\n",
    "\n",
    "        img = []\n",
    "        path = r\"data/Otsu_data/N2DL-HeLa/img\"\n",
    "        for f in os.listdir(path):\n",
    "            img.append(imread(os.path.join(path , f)))\n",
    "\n",
    "        gt = []\n",
    "        path = r\"data/Otsu_data/N2DL-HeLa/gt\"\n",
    "        for f in os.listdir(path):\n",
    "            gt.append(pp.binarize(imread(os.path.join(path , f))))\n",
    "        \n",
    "        mfiltersize=2\n",
    "        gfiltersize=4\n",
    "        framesize=300\n",
    "\n",
    "\n",
    "    if dataset == \"NIH3T3\":\n",
    "        img = []\n",
    "        path = r\"data/Otsu_data/NIH3T3/img\"\n",
    "        for f in os.listdir(path):\n",
    "            img.append(imread(os.path.join(path , f)))\n",
    "\n",
    "        gt = []\n",
    "        path = r\"data/Otsu_data/NIH3T3/gt\"\n",
    "        for f in os.listdir(path):\n",
    "            gt.append(imread(os.path.join(path , f)))\n",
    "\n",
    "        mfiltersize=16\n",
    "        gfiltersize=8\n",
    "        framesize=150\n",
    "\n",
    "    print(framesize)\n",
    "\n",
    "    m_img = process(img,m, mfiltersize)\n",
    "    print('m done')\n",
    "    g_img = process(img,g,gfiltersize)\n",
    "    print('g done')\n",
    "    s_img = process(img,s,1)\n",
    "    print('s done')\n",
    "    sm_img = process(s_img,m,mfiltersize)\n",
    "    print('sm done')\n",
    "    sg_img = process(g_img,g,gfiltersize)\n",
    "    print('sg done')\n",
    "    om_img = process(img,om,framesize)\n",
    "    print('om done')\n",
    "    print(len(om_img))\n",
    "    #oc_img = process(img,oc,framesize)\n",
    "    print('oc done')\n",
    "    #print(len(oc_img))\n",
    "    mom = process(m_img,om,framesize)\n",
    "    print('mom done')\n",
    "    #moc = process(m_img,oc,framesize)\n",
    "    print('moc done')\n",
    "    gom = process(g_img,om,framesize)\n",
    "    print('gom done')\n",
    "    #goc = process(g_img,oc,framesize)\n",
    "    print('goc done')\n",
    "    som = process(s_img, om, framesize)\n",
    "    print('som done')\n",
    "    #soc = process(s_img, oc, framesize)\n",
    "    print('soc done')\n",
    "    smom = process(sm_img,om,framesize)\n",
    "    print('smom done')\n",
    "    #smoc = process(sm_img,oc,framesize)\n",
    "    print('smoc done')\n",
    "    sgom = process(sg_img,om,framesize)\n",
    "    print('sgom done')\n",
    "    #sgoc = process(sg_img,oc,framesize)\n",
    "    print('sgoc done')\n",
    "\n",
    "    #processed_list=[gt,om_img,oc_img,mom,moc,gom,goc,som,soc,smom,smoc,sgom,sgoc, dataset]\n",
    "    processed_list=[gt,om_img,mom,gom,som,smom,sgom,dataset]\n",
    "\n",
    "    return processed_list\n",
    "\n",
    "def dices(imglist):\n",
    "    #dice score for o, mo,go,so,smo,sgo...:\n",
    "    gt=imglist[0]\n",
    "    gtlist=[]\n",
    "    for i in range(0,len(gt)):\n",
    "        gtlist.append(pp.binarize(gt[i]))\n",
    "\n",
    "    list=[]\n",
    "    i=1\n",
    "    #while i < len(imglist)-2:\n",
    "        #list.append(bestdsc(dscs(imglist[i], gtlist), dscs(imglist[i+1], gtlist)))\n",
    "        #print(better_dsc(dscs(imglist[i], gtlist), (imglist[i+1], gtlist)))\n",
    "        #i+=2\n",
    "\n",
    "    while i<len(imglist)-1:\n",
    "        list.append(dscs(imglist[i], gtlist))\n",
    "        i+=1\n",
    "\n",
    "    \n",
    "    #data=[bestdsc(dscs(,gt),dscs(oc_img,gt)),bestdsc(dscs(mom, gt), dscs(moc, gt)), bestdsc(dscs(gom, gt), dscs(goc, gt)), bestdsc(dscs(som, gt), dscs(soc,gt)), bestdsc(dscs(smom,gt), dscs(smoc,gt)), bestdsc(dscs(sgom,gt), dscs(sgoc,gt))]\n",
    "    #print('dscs done')\n",
    "    #print(better_dsc(dscs(om_img,gt),dscs(oc_img,gt)), better_dsc(dscs(mom, gt), dscs(moc, gt)), better_dsc(dscs(gom, gt), dscs(goc, gt)), better_dsc(dscs(som, gt), dscs(soc,gt)), better_dsc(dscs(smom,gt), dscs(smoc,gt)), better_dsc(dscs(sgom,gt), dscs(sgoc,gt)))\n",
    "    data=list\n",
    "    return data\n",
    "\n",
    "def boxplots(imglist):\n",
    "\n",
    "       #dice score for o, mo,go,so,smo,sgo...:\n",
    "    gt=imglist[0]\n",
    "    gtlist=[]\n",
    "    for i in range(0,len(gt)):\n",
    "        gtlist.append(pp.binarize(gt[i]))\n",
    "\n",
    "    list=[]\n",
    "    i=1\n",
    "    #while i < len(imglist)-2:\n",
    "        #list.append(bestdsc(dscs(imglist[i], gtlist), dscs(imglist[i+1], gtlist)))\n",
    "        #print(better_dsc(dscs(imglist[i], gtlist), (imglist[i+1], gtlist)))\n",
    "        #i+=2\n",
    "\n",
    "    while i<len(imglist)-1:\n",
    "        list.append(dscs(imglist[i], gtlist))\n",
    "        i+=1\n",
    "\n",
    "    \n",
    "    #data=[bestdsc(dscs(,gt),dscs(oc_img,gt)),bestdsc(dscs(mom, gt), dscs(moc, gt)), bestdsc(dscs(gom, gt), dscs(goc, gt)), bestdsc(dscs(som, gt), dscs(soc,gt)), bestdsc(dscs(smom,gt), dscs(smoc,gt)), bestdsc(dscs(sgom,gt), dscs(sgoc,gt))]\n",
    "    #print('dscs done')\n",
    "    #print(better_dsc(dscs(om_img,gt),dscs(oc_img,gt)), better_dsc(dscs(mom, gt), dscs(moc, gt)), better_dsc(dscs(gom, gt), dscs(goc, gt)), better_dsc(dscs(som, gt), dscs(soc,gt)), better_dsc(dscs(smom,gt), dscs(smoc,gt)), better_dsc(dscs(sgom,gt), dscs(sgoc,gt)))\n",
    "    data=list\n",
    "\n",
    "    boxplot_heading = 'Preprocessing methods - ' + imglist[-1]\n",
    "\n",
    "\n",
    "\n",
    "    boxplot = pp.dataset_boxplot_otsu(data , boxplot_heading)\n",
    "    return boxplot\n",
    "\n",
    "   \n",
    "\n",
    "    \n",
    "\n",
    "    \n",
    "    \n",
    "\n",
    "\n",
    "    \n",
    "    \n",
    "\n",
    "    \n",
    "\n",
    "\n",
    "\n",
    "\n"
   ]
  },
  {
   "cell_type": "code",
   "execution_count": 28,
   "metadata": {},
   "outputs": [
    {
     "name": "stdout",
     "output_type": "stream",
     "text": [
      "yeet\n"
     ]
    }
   ],
   "source": [
    "image = imread(r'data/Otsu_data/NIH3T3/img/dna-0.png')\n",
    "lt.local_thresholding_mean(image,50,150)\n",
    "print('yeet')"
   ]
  },
  {
   "cell_type": "code",
   "execution_count": 32,
   "metadata": {},
   "outputs": [
    {
     "name": "stdout",
     "output_type": "stream",
     "text": [
      "150\n",
      "m done\n",
      "g done\n",
      "s done\n",
      "sm done\n",
      "sg done\n",
      "om done\n",
      "18\n",
      "oc done\n"
     ]
    },
    {
     "name": "stderr",
     "output_type": "stream",
     "text": [
      "c:\\Users\\ievas\\Desktop\\2022-topic-01-team-04\\nuclei_segmentation\\local_thresholding.py:94: RuntimeWarning: invalid value encountered in double_scalars\n",
      "  v0 = v0_sum / sum(n[0:i+1])\n"
     ]
    },
    {
     "name": "stdout",
     "output_type": "stream",
     "text": [
      "mom done\n",
      "moc done\n",
      "gom done\n",
      "goc done\n",
      "som done\n",
      "soc done\n",
      "smom done\n",
      "smoc done\n",
      "sgom done\n",
      "sgoc done\n"
     ]
    }
   ],
   "source": [
    "comp2=complete_analysis_local_otsu(\"NIH3T3\")\n"
   ]
  },
  {
   "cell_type": "code",
   "execution_count": 33,
   "metadata": {},
   "outputs": [
    {
     "name": "stdout",
     "output_type": "stream",
     "text": [
      "[[0.8360405998943934, 0.8586713648254943, 0.8530443098501753, 0.8177741282363493, 0.8399953520799442, 0.7654859679125818, 0.7626226465340046, 0.8117507395585859, 0.6133732199011787, 0.8168652812886423, 0.6705802157983013, 0.8324854215161623, 0.7741625333494337, 0.852313800900949, 0.8629962943356273, 0.7509333394598693, 0.7822342384515624, 0.8543158427409453], [0.648027510867795, 0.6735160929054876, 0.8594389095517252, 0.8193132123154465, 0.8413159834812786, 0.7651337174507434, 0.7673017616223016, 0.8111191972262652, 0.6228345392860359, 0.8186237024145417, 0.6993818037827463, 0.8371225745005335, 0.7657893790350135, 0.8526310951517515, 0.8608968328629665, 0.7592169279481041, 0.7963897325364946, 0.8544344979009261], [0.8962200307300733, 0.8989426460160811, 0.8695025495900206, 0.8302464955644342, 0.8451077044130257, 0.7706547534712384, 0.7650140326704611, 0.8237449636207865, 0.6310487817255204, 0.8276915418863927, 0.6989571319504232, 0.8449742531134451, 0.7528605141584013, 0.8561505366696526, 0.8763713293266667, 0.7599872900016538, 0.8034472654887425, 0.8600522692503825], [0.8421300498519737, 0.8743258892015092, 0.8497771352849054, 0.82481326588688, 0.8277184741976791, 0.7652556444112221, 0.7839976957834036, 0.8374803303796848, 0.6095192725842279, 0.8015904688266448, 0.7663976071863642, 0.8144494476383614, 0.766391339541255, 0.856452244919524, 0.8569971999613788, 0.7659680222327839, 0.7964881411925239, 0.8554899183971788], [0.8138529659139917, 0.8708399030323575, 0.8579168484910713, 0.8265330285721963, 0.8298658817713034, 0.7670961560308923, 0.7919058986727575, 0.83809070881561, 0.6129186723455732, 0.8032843988954079, 0.7651030963655677, 0.8148343334101878, 0.7596045922968061, 0.8563841648768236, 0.8543625331963479, 0.7791690412620692, 0.8111341828194034, 0.8541022838760732], [0.909851734525395, 0.9117883553247301, 0.8642202159617313, 0.8311333937141283, 0.8420626200068814, 0.7710455256051921, 0.7590575059124861, 0.8182634981946427, 0.6282697486177428, 0.8273864920561058, 0.7128379428216284, 0.8400582412248973, 0.7435017953802454, 0.8594178859443339, 0.8761816046626265, 0.7522463087392705, 0.806145953898524, 0.8588434821780346]]\n"
     ]
    },
    {
     "name": "stderr",
     "output_type": "stream",
     "text": [
      "c:\\Users\\ievas\\Desktop\\2022-topic-01-team-04\\nuclei_segmentation\\preprocessing.py:67: UserWarning: FixedFormatter should only be used together with FixedLocator\n",
      "  ax.set_xticklabels(['No preprocessing' , 'Median filter' , 'Gaussian filter' , 'Histogram \\n stretching' , 'Histogram stretching and \\n median filter' , 'Histogram stretching and \\n gaussian filter'])\n"
     ]
    },
    {
     "name": "stdout",
     "output_type": "stream",
     "text": [
      "Line2D(_child6)\n"
     ]
    },
    {
     "data": {
      "image/png": "[encoded data removed]",
      "text/plain": [
       "<Figure size 1008x720 with 1 Axes>"
      ]
     },
     "metadata": {
      "needs_background": "light"
     },
     "output_type": "display_data"
    }
   ],
   "source": [
    "print(dices(comp2))\n",
    "boxplots(comp2)"
   ]
  },
  {
   "cell_type": "markdown",
   "metadata": {},
   "source": [
    "dice scores NIH3T3\n",
    "- [[0.8360405998943934, 0.8586713648254943, 0.8530443098501753, 0.8177741282363493, 0.8399953520799442, 0.7654859679125818, 0.7626226465340046, 0.8117507395585859, 0.6133732199011787, 0.8168652812886423, 0.6705802157983013, 0.8324854215161623, 0.7741625333494337, 0.852313800900949, 0.8629962943356273, 0.7509333394598693, 0.7822342384515624, 0.8543158427409453], [0.648027510867795, 0.6735160929054876, 0.8594389095517252, 0.8193132123154465, 0.8413159834812786, 0.7651337174507434, 0.7673017616223016, 0.8111191972262652, 0.6228345392860359, 0.8186237024145417, 0.6993818037827463, 0.8371225745005335, 0.7657893790350135, 0.8526310951517515, 0.8608968328629665, 0.7592169279481041, 0.7963897325364946, 0.8544344979009261], [0.8962200307300733, 0.8989426460160811, 0.8695025495900206, 0.8302464955644342, 0.8451077044130257, 0.7706547534712384, 0.7650140326704611, 0.8237449636207865, 0.6310487817255204, 0.8276915418863927, 0.6989571319504232, 0.8449742531134451, 0.7528605141584013, 0.8561505366696526, 0.8763713293266667, 0.7599872900016538, 0.8034472654887425, 0.8600522692503825], [0.8421300498519737, 0.8743258892015092, 0.8497771352849054, 0.82481326588688, 0.8277184741976791, 0.7652556444112221, 0.7839976957834036, 0.8374803303796848, 0.6095192725842279, 0.8015904688266448, 0.7663976071863642, 0.8144494476383614, 0.766391339541255, 0.856452244919524, 0.8569971999613788, 0.7659680222327839, 0.7964881411925239, 0.8554899183971788], [0.8138529659139917, 0.8708399030323575, 0.8579168484910713, 0.8265330285721963, 0.8298658817713034, 0.7670961560308923, 0.7919058986727575, 0.83809070881561, 0.6129186723455732, 0.8032843988954079, 0.7651030963655677, 0.8148343334101878, 0.7596045922968061, 0.8563841648768236, 0.8543625331963479, 0.7791690412620692, 0.8111341828194034, 0.8541022838760732], [0.909851734525395, 0.9117883553247301, 0.8642202159617313, 0.8311333937141283, 0.8420626200068814, 0.7710455256051921, 0.7590575059124861, 0.8182634981946427, 0.6282697486177428, 0.8273864920561058, 0.7128379428216284, 0.8400582412248973, 0.7435017953802454, 0.8594178859443339, 0.8761816046626265, 0.7522463087392705, 0.806145953898524, 0.8588434821780346]]"
   ]
  },
  {
   "cell_type": "code",
   "execution_count": null,
   "metadata": {},
   "outputs": [],
   "source": []
  },
  {
   "cell_type": "code",
   "execution_count": 24,
   "metadata": {},
   "outputs": [
    {
     "name": "stdout",
     "output_type": "stream",
     "text": [
      "300\n",
      "m done\n",
      "g done\n"
     ]
    },
    {
     "ename": "KeyboardInterrupt",
     "evalue": "",
     "output_type": "error",
     "traceback": [
      "\u001b[1;31m---------------------------------------------------------------------------\u001b[0m",
      "\u001b[1;31mKeyboardInterrupt\u001b[0m                         Traceback (most recent call last)",
      "\u001b[1;32mc:\\Users\\ievas\\Desktop\\2022-topic-01-team-04\\complete_analysis_local_thresholding.ipynb Cell 8\u001b[0m in \u001b[0;36m<cell line: 1>\u001b[1;34m()\u001b[0m\n\u001b[1;32m----> <a href='vscode-notebook-cell:/c%3A/Users/ievas/Desktop/2022-topic-01-team-04/complete_analysis_local_thresholding.ipynb#ch0000007?line=0'>1</a>\u001b[0m comp\u001b[39m=\u001b[39mcomplete_analysis_local_otsu(\u001b[39m\"\u001b[39;49m\u001b[39mN2DL_HeLa\u001b[39;49m\u001b[39m\"\u001b[39;49m)\n",
      "\u001b[1;32mc:\\Users\\ievas\\Desktop\\2022-topic-01-team-04\\complete_analysis_local_thresholding.ipynb Cell 8\u001b[0m in \u001b[0;36mcomplete_analysis_local_otsu\u001b[1;34m(dataset)\u001b[0m\n\u001b[0;32m     <a href='vscode-notebook-cell:/c%3A/Users/ievas/Desktop/2022-topic-01-team-04/complete_analysis_local_thresholding.ipynb#ch0000007?line=52'>53</a>\u001b[0m g_img \u001b[39m=\u001b[39m process(img,g,gfiltersize)\n\u001b[0;32m     <a href='vscode-notebook-cell:/c%3A/Users/ievas/Desktop/2022-topic-01-team-04/complete_analysis_local_thresholding.ipynb#ch0000007?line=53'>54</a>\u001b[0m \u001b[39mprint\u001b[39m(\u001b[39m'\u001b[39m\u001b[39mg done\u001b[39m\u001b[39m'\u001b[39m)\n\u001b[1;32m---> <a href='vscode-notebook-cell:/c%3A/Users/ievas/Desktop/2022-topic-01-team-04/complete_analysis_local_thresholding.ipynb#ch0000007?line=54'>55</a>\u001b[0m s_img \u001b[39m=\u001b[39m process(img,s,\u001b[39m1\u001b[39;49m)\n\u001b[0;32m     <a href='vscode-notebook-cell:/c%3A/Users/ievas/Desktop/2022-topic-01-team-04/complete_analysis_local_thresholding.ipynb#ch0000007?line=55'>56</a>\u001b[0m \u001b[39mprint\u001b[39m(\u001b[39m'\u001b[39m\u001b[39ms done\u001b[39m\u001b[39m'\u001b[39m)\n\u001b[0;32m     <a href='vscode-notebook-cell:/c%3A/Users/ievas/Desktop/2022-topic-01-team-04/complete_analysis_local_thresholding.ipynb#ch0000007?line=56'>57</a>\u001b[0m sm_img \u001b[39m=\u001b[39m process(s_img,m,mfiltersize)\n",
      "\u001b[1;32mc:\\Users\\ievas\\Desktop\\2022-topic-01-team-04\\complete_analysis_local_thresholding.ipynb Cell 8\u001b[0m in \u001b[0;36mprocess\u001b[1;34m(image_list, function, filtersize)\u001b[0m\n\u001b[0;32m     <a href='vscode-notebook-cell:/c%3A/Users/ievas/Desktop/2022-topic-01-team-04/complete_analysis_local_thresholding.ipynb#ch0000007?line=23'>24</a>\u001b[0m \u001b[39mlist\u001b[39m \u001b[39m=\u001b[39m []\n\u001b[0;32m     <a href='vscode-notebook-cell:/c%3A/Users/ievas/Desktop/2022-topic-01-team-04/complete_analysis_local_thresholding.ipynb#ch0000007?line=25'>26</a>\u001b[0m \u001b[39mfor\u001b[39;00m i \u001b[39min\u001b[39;00m \u001b[39mrange\u001b[39m(\u001b[39m0\u001b[39m,\u001b[39mlen\u001b[39m(image_list)):\n\u001b[1;32m---> <a href='vscode-notebook-cell:/c%3A/Users/ievas/Desktop/2022-topic-01-team-04/complete_analysis_local_thresholding.ipynb#ch0000007?line=26'>27</a>\u001b[0m         \u001b[39mlist\u001b[39m\u001b[39m.\u001b[39mappend(function(image_list[i], filtersize))\n\u001b[0;32m     <a href='vscode-notebook-cell:/c%3A/Users/ievas/Desktop/2022-topic-01-team-04/complete_analysis_local_thresholding.ipynb#ch0000007?line=28'>29</a>\u001b[0m \u001b[39mreturn\u001b[39;00m \u001b[39mlist\u001b[39m\n",
      "\u001b[1;32mc:\\Users\\ievas\\Desktop\\2022-topic-01-team-04\\complete_analysis_local_thresholding.ipynb Cell 8\u001b[0m in \u001b[0;36ms\u001b[1;34m(img, filtersize)\u001b[0m\n\u001b[0;32m     <a href='vscode-notebook-cell:/c%3A/Users/ievas/Desktop/2022-topic-01-team-04/complete_analysis_local_thresholding.ipynb#ch0000007?line=16'>17</a>\u001b[0m \u001b[39mdef\u001b[39;00m \u001b[39ms\u001b[39m(img,filtersize):\n\u001b[1;32m---> <a href='vscode-notebook-cell:/c%3A/Users/ievas/Desktop/2022-topic-01-team-04/complete_analysis_local_thresholding.ipynb#ch0000007?line=17'>18</a>\u001b[0m         img\u001b[39m=\u001b[39mpp\u001b[39m.\u001b[39;49mstretch(img)\n\u001b[0;32m     <a href='vscode-notebook-cell:/c%3A/Users/ievas/Desktop/2022-topic-01-team-04/complete_analysis_local_thresholding.ipynb#ch0000007?line=18'>19</a>\u001b[0m         \u001b[39mreturn\u001b[39;00m img\n",
      "File \u001b[1;32mc:\\Users\\ievas\\Desktop\\2022-topic-01-team-04\\nuclei_segmentation\\preprocessing.py:38\u001b[0m, in \u001b[0;36mstretch\u001b[1;34m(x)\u001b[0m\n\u001b[0;32m     35\u001b[0m img[img \u001b[39m>\u001b[39m upper_quantile] \u001b[39m=\u001b[39m upper_quantile\n\u001b[0;32m     37\u001b[0m \u001b[39mfor\u001b[39;00m i \u001b[39min\u001b[39;00m np\u001b[39m.\u001b[39mndindex(img\u001b[39m.\u001b[39mshape):\n\u001b[1;32m---> 38\u001b[0m     intensities\u001b[39m.\u001b[39;49mappend(img[i])\n\u001b[0;32m     40\u001b[0m img_max \u001b[39m=\u001b[39m \u001b[39mmax\u001b[39m(intensities)\n\u001b[0;32m     41\u001b[0m img_min \u001b[39m=\u001b[39m \u001b[39mmin\u001b[39m(intensities)\n",
      "\u001b[1;31mKeyboardInterrupt\u001b[0m: "
     ]
    }
   ],
   "source": [
    "comp=complete_analysis_local_otsu(\"N2DL_HeLa\")\n"
   ]
  },
  {
   "cell_type": "code",
   "execution_count": null,
   "metadata": {},
   "outputs": [],
   "source": [
    "print(comp)\n",
    "i=0\n",
    "while i<4:\n",
    "    figure()\n",
    "    imshow(comp[1][i], 'gray')\n",
    "    figure()\n",
    "    imshow(comp[0][i],'gray')\n",
    "    i+=1\n",
    "\n"
   ]
  },
  {
   "cell_type": "code",
   "execution_count": 19,
   "metadata": {},
   "outputs": [
    {
     "name": "stdout",
     "output_type": "stream",
     "text": [
      "[[0.6820204135043182, 0.7413784799152298, 0.7815872335613054, 0.775443777352338], [0.6952966995137484, 0.7495932062474019, 0.7850233734160468, 0.780257914755402], [0.758215868705826, 0.7679578369083377, 0.7556851932300763, 0.7555001612950526], [0.8113053613053613, 0.8412021869898211, 0.8056148916692096, 0.8024038655355713], [0.8098539100544256, 0.8413827288204996, 0.8078548688897104, 0.8063821812316849], [0.7489350716406351, 0.7502828810665131, 0.743012280058651, 0.746261883692964]]\n"
     ]
    },
    {
     "name": "stderr",
     "output_type": "stream",
     "text": [
      "c:\\Users\\ievas\\Desktop\\2022-topic-01-team-04\\nuclei_segmentation\\preprocessing.py:67: UserWarning: FixedFormatter should only be used together with FixedLocator\n",
      "  ax.set_xticklabels(['No preprocessing' , 'Median filter' , 'Gaussian filter' , 'Histogram \\n stretching' , 'Histogram stretching and \\n median filter' , 'Histogram stretching and \\n gaussian filter'])\n"
     ]
    },
    {
     "name": "stdout",
     "output_type": "stream",
     "text": [
      "Line2D(_child6)\n"
     ]
    },
    {
     "data": {
      "image/png": "[encoded data removed]",
      "text/plain": [
       "<Figure size 1008x720 with 1 Axes>"
      ]
     },
     "metadata": {
      "needs_background": "light"
     },
     "output_type": "display_data"
    }
   ],
   "source": [
    "print(dices(comp))\n",
    "boxplots(comp)"
   ]
  },
  {
   "cell_type": "markdown",
   "metadata": {},
   "source": [
    "Dice score output for HeLa (just in case the output deletes)\n",
    "\n",
    "- [[0.6820204135043182, 0.7413784799152298, 0.7815872335613054, 0.775443777352338], [0.6952966995137484, 0.7495932062474019, 0.7850233734160468, 0.780257914755402], [0.758215868705826, 0.7679578369083377, 0.7556851932300763, 0.7555001612950526], [0.8113053613053613, 0.8412021869898211, 0.8056148916692096, 0.8024038655355713], [0.8098539100544256, 0.8413827288204996, 0.8078548688897104, 0.8063821812316849], [0.7489350716406351, 0.7502828810665131, 0.743012280058651, 0.746261883692964]]"
   ]
  },
  {
   "cell_type": "code",
   "execution_count": null,
   "metadata": {},
   "outputs": [],
   "source": [
    "from nuclei_segmentation import two_level_local_thresholding as tllt\n",
    "\n",
    "dataset1_example = imread(r\"data/Otsu_data/N2DH-GOWT1/img/t31.tif\")\n",
    "d1_tllt_c = tllt.two_level_local_thresholding_counts(dataset1_example,50,200,0.5)\n"
   ]
  },
  {
   "cell_type": "code",
   "execution_count": null,
   "metadata": {},
   "outputs": [],
   "source": [
    "d1_tllt_m = tllt.two_level_local_thresholding_mean(dataset1_example,50,200)"
   ]
  },
  {
   "cell_type": "code",
   "execution_count": null,
   "metadata": {},
   "outputs": [
    {
     "ename": "NameError",
     "evalue": "name 'tllt' is not defined",
     "output_type": "error",
     "traceback": [
      "\u001b[1;31m---------------------------------------------------------------------------\u001b[0m",
      "\u001b[1;31mNameError\u001b[0m                                 Traceback (most recent call last)",
      "\u001b[1;32mc:\\Users\\ievas\\Desktop\\2022-topic-01-team-04\\complete_analysis_local_thresholding.ipynb Cell 9\u001b[0m in \u001b[0;36m<cell line: 2>\u001b[1;34m()\u001b[0m\n\u001b[0;32m      <a href='vscode-notebook-cell:/c%3A/Users/ievas/Desktop/2022-topic-01-team-04/complete_analysis_local_thresholding.ipynb#ch0000008?line=0'>1</a>\u001b[0m dataset2_example \u001b[39m=\u001b[39m imread(\u001b[39mr\u001b[39m\u001b[39m\"\u001b[39m\u001b[39mdata/Otsu_data/N2DL-HeLa/img/t52.tif\u001b[39m\u001b[39m\"\u001b[39m)\n\u001b[1;32m----> <a href='vscode-notebook-cell:/c%3A/Users/ievas/Desktop/2022-topic-01-team-04/complete_analysis_local_thresholding.ipynb#ch0000008?line=1'>2</a>\u001b[0m d2_tllt_c \u001b[39m=\u001b[39m tllt\u001b[39m.\u001b[39mtwo_level_local_thresholding_counts(dataset2_example,\u001b[39m50\u001b[39m,\u001b[39m200\u001b[39m,\u001b[39m0.5\u001b[39m)\n\u001b[0;32m      <a href='vscode-notebook-cell:/c%3A/Users/ievas/Desktop/2022-topic-01-team-04/complete_analysis_local_thresholding.ipynb#ch0000008?line=2'>3</a>\u001b[0m d2_tllt_m \u001b[39m=\u001b[39m tllt\u001b[39m.\u001b[39mtwo_level_local_thresholding_mean(dataset2_example,\u001b[39m50\u001b[39m,\u001b[39m200\u001b[39m)\n",
      "\u001b[1;31mNameError\u001b[0m: name 'tllt' is not defined"
     ]
    }
   ],
   "source": [
    "dataset2_example = imread(r\"data/Otsu_data/N2DL-HeLa/img/t13.tif\")\n",
    "d2_tllt_c = tllt.two_level_local_thresholding_counts(dataset2_example,50,200,0.5)\n"
   ]
  },
  {
   "cell_type": "code",
   "execution_count": null,
   "metadata": {},
   "outputs": [],
   "source": [
    "d2_tllt_m = tllt.two_level_local_thresholding_mean(dataset2_example,50,200)"
   ]
  },
  {
   "cell_type": "code",
   "execution_count": null,
   "metadata": {},
   "outputs": [],
   "source": [
    "dataset3_example = imread(r\"data/Otsu_data/NIH3T3/img/dna-32.png\")\n",
    "d3_tllt_c = tllt.two_level_local_thresholding_counts(dataset3_example50,200,0.5)\n"
   ]
  },
  {
   "cell_type": "code",
   "execution_count": null,
   "metadata": {},
   "outputs": [],
   "source": [
    "d3_tllt_m = tllt.two_level_local_thresholding_mean(dataset3_example,50,200)"
   ]
  }
 ],
 "metadata": {
  "kernelspec": {
   "display_name": "Python 3.10.4 ('dataanalysis0104_env')",
   "language": "python",
   "name": "python3"
  },
  "language_info": {
   "codemirror_mode": {
    "name": "ipython",
    "version": 3
   },
   "file_extension": ".py",
   "mimetype": "text/x-python",
   "name": "python",
   "nbconvert_exporter": "python",
   "pygments_lexer": "ipython3",
   "version": "3.10.4"
  },
  "orig_nbformat": 4,
  "vscode": {
   "interpreter": {
    "hash": "21db8ca179e1c46f3f1871b3fc2646379981f9fac7908d31737eb0066b24c468"
   }
  }
 },
 "nbformat": 4,
 "nbformat_minor": 2
}
