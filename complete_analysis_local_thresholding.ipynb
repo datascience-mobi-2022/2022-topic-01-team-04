{
 "cells": [
  {
   "cell_type": "code",
   "execution_count": 1,
   "metadata": {},
   "outputs": [
    {
     "name": "stdout",
     "output_type": "stream",
     "text": [
      "Using matplotlib backend: <object object at 0x0000023790E8E520>\n",
      "%pylab is deprecated, use %matplotlib inline and import the required libraries.\n",
      "Populating the interactive namespace from numpy and matplotlib\n"
     ]
    }
   ],
   "source": [
    "%pylab\n",
    "%matplotlib inline\n",
    "import matplotlib.pyplot as plt\n",
    "import numpy as np\n",
    "import scipy.ndimage\n",
    "from nuclei_segmentation import otsu as ot\n",
    "from nuclei_segmentation import dicescore as dsc\n",
    "from nuclei_segmentation import preprocessing as pp\n",
    "from nuclei_segmentation import local_thresholding as lt\n",
    "from nuclei_segmentation import two_level_otsu as tlo"
   ]
  },
  {
   "cell_type": "code",
   "execution_count": 16,
   "metadata": {},
   "outputs": [],
   "source": [
    "\n",
    "\n",
    "def om(img,filtersize):\n",
    "        img = lt.local_thresholding_mean(img, 50, 200)\n",
    "        return img\n",
    "\n",
    "def oc(img,filtersize):\n",
    "        img = lt.local_thresholding_counts(img, 50, 200, 0.5)\n",
    "        return img\n",
    "\n",
    "def m(img, filtersize):\n",
    "        img=scipy.ndimage.median_filter(img, filtersize)\n",
    "        return img\n",
    "\n",
    "def g(img, filtersize):\n",
    "        img=scipy.ndimage.gaussian_filter(img, filtersize)\n",
    "        return img\n",
    "        \n",
    "def s(img,filtersize):\n",
    "        img=pp.stretch(img)\n",
    "        return img\n",
    "\n",
    "\n",
    "    #functions = [om, oc, m, g, s]#\n",
    "def process(image_list, function, filtersize):\n",
    "        list = []\n",
    "        \n",
    "        for i in range(0,len(image_list)):\n",
    "                list.append(function(image_list[i], filtersize))\n",
    "\n",
    "        return list\n",
    "\n",
    "\n",
    "\n",
    "def dscs(img_list, gt_list):\n",
    "        list=[]\n",
    "        for j in range(0,len(img_list)):\n",
    "                list.append(dsc.dice(img_list[j],gt_list[j]))\n",
    "        return list\n",
    "\n",
    "def bestdsc(list1,list2):\n",
    "        if median(list1)>=median(list2):\n",
    "                list=list1\n",
    "        else:\n",
    "                list=list2\n",
    "        return list\n",
    "def better_dsc(list1, list2):\n",
    "        if bestdsc(list1, list2)==list1:\n",
    "                name='mean'\n",
    "        else:\n",
    "                name='counts'\n",
    "        return name"
   ]
  },
  {
   "cell_type": "code",
   "execution_count": null,
   "metadata": {},
   "outputs": [],
   "source": []
  },
  {
   "cell_type": "code",
   "execution_count": 26,
   "metadata": {},
   "outputs": [],
   "source": [
    "def complete_analysis_local_otsu(dataset):\n",
    "    if dataset == \"N2DH-GOWT1\":\n",
    "        img = []\n",
    "        path = r\"data/Otsu_data/N2DH-GOWT1/img\"\n",
    "        for f in os.listdir(path):\n",
    "            img.append(imread(os.path.join(path , f)))\n",
    "\n",
    "        gt = []\n",
    "        path = r\"data/Otsu_data/N2DH-GOWT1/gt\"\n",
    "        for f in os.listdir(path):\n",
    "            gt.append(pp.binarize(imread(os.path.join(path , f))))\n",
    "        \n",
    "        mfiltersize = 9\n",
    "        gfiltersize=9\n",
    "        \n",
    "    if dataset == \"N2DL_HeLa\":\n",
    "\n",
    "        img = []\n",
    "        path = r\"data/Otsu_data/N2DL-HeLa/img\"\n",
    "        for f in os.listdir(path):\n",
    "            img.append(imread(os.path.join(path , f)))\n",
    "\n",
    "        gt = []\n",
    "        path = r\"data/Otsu_data/N2DL-HeLa/gt\"\n",
    "        for f in os.listdir(path):\n",
    "            gt.append(pp.binarize(imread(os.path.join(path , f))))\n",
    "        \n",
    "        mfiltersize=2\n",
    "        gfiltersize=4\n",
    "\n",
    "\n",
    "    if dataset == \"NIH3T3\":\n",
    "        img = []\n",
    "        path = r\"data/Otsu_data/NIH3T3/img\"\n",
    "        for f in os.listdir(path):\n",
    "            img.append(imread(os.path.join(path , f)))\n",
    "\n",
    "        gt = []\n",
    "        path = r\"data/Otsu_data/NIH3T3/gt\"\n",
    "        for f in os.listdir(path):\n",
    "            gt.append(imread(os.path.join(path , f)))\n",
    "\n",
    "        mfiltersize=16\n",
    "        gfiltersize=8\n",
    "\n",
    "    m_img = process(img,m, mfiltersize)\n",
    "    print('m done')\n",
    "    g_img = process(img,g,gfiltersize)\n",
    "    print('g done')\n",
    "    s_img = process(img,s,1)\n",
    "    print('s done')\n",
    "    sm_img = process(s_img,m,mfiltersize)\n",
    "    print('sm done')\n",
    "    sg_img = process(g_img,g,gfiltersize)\n",
    "    print('sg done')\n",
    "    om_img = process(img,om,1)\n",
    "    print('om done')\n",
    "    print(len(om_img))\n",
    "    oc_img = process(img,oc,1)\n",
    "    print('oc done')\n",
    "    print(len(oc_img))\n",
    "    mom = process(m_img,om,1)\n",
    "    print('mom done')\n",
    "    moc = process(m_img,oc,1)\n",
    "    print('moc done')\n",
    "    gom = process(g_img,om,1)\n",
    "    print('gom done')\n",
    "    goc = process(g_img,oc,1)\n",
    "    print('goc done')\n",
    "    som = process(s_img, om, 1)\n",
    "    print('som done')\n",
    "    soc = process(s_img, oc, 1)\n",
    "    print('soc done')\n",
    "    smom = process(sm_img,om,1)\n",
    "    print('smom done')\n",
    "    smoc = process(sm_img,oc,1)\n",
    "    print('smoc done')\n",
    "    sgom = process(sg_img,om,1)\n",
    "    print('sgom done')\n",
    "    sgoc = process(sg_img,oc,1)\n",
    "    print('sgoc done')\n",
    "\n",
    "    \n",
    "\n",
    "    #dice score for o, mo,go,so,smo,sgo:\n",
    "    om_img_dice=dscs(om_img, gt)\n",
    "    oc_img_dice=dscs(oc_img, gt)\n",
    "    print(bestdsc(om_img_dice, oc_img_dice))\n",
    "    \n",
    "    data=[bestdsc(dscs(om_img,gt),dscs(oc_img,gt)),bestdsc(dscs(mom, gt), dscs(moc, gt)), bestdsc(dscs(gom, gt), dscs(goc, gt)), bestdsc(dscs(som, gt), dscs(soc,gt)), bestdsc(dscs(smom,gt), dscs(smoc,gt)), bestdsc(dscs(sgom,gt), dscs(sgoc,gt))]\n",
    "    print('dscs done')\n",
    "    print(better_dsc(dscs(om_img,gt),dscs(oc_img,gt)), better_dsc(dscs(mom, gt), dscs(moc, gt)), better_dsc(dscs(gom, gt), dscs(goc, gt)), better_dsc(dscs(som, gt), dscs(soc,gt)), better_dsc(dscs(smom,gt), dscs(smoc,gt)), better_dsc(dscs(sgom,gt), dscs(sgoc,gt)))\n",
    "    \n",
    "    boxplot_heading = 'Preprocessing methods - ' + dataset\n",
    "\n",
    "    boxplot = pp.dataset_boxplot_global_otsu(data , boxplot_heading)\n",
    "\n",
    "    \n",
    "    \n",
    "\n",
    "\n",
    "    \n",
    "    \n",
    "\n",
    "    \n",
    "\n",
    "\n",
    "\n",
    "\n"
   ]
  },
  {
   "cell_type": "code",
   "execution_count": 6,
   "metadata": {},
   "outputs": [
    {
     "ename": "KeyboardInterrupt",
     "evalue": "",
     "output_type": "error",
     "traceback": [
      "\u001b[1;31m---------------------------------------------------------------------------\u001b[0m",
      "\u001b[1;31mKeyboardInterrupt\u001b[0m                         Traceback (most recent call last)",
      "\u001b[1;32mc:\\Users\\ievas\\Desktop\\2022-topic-01-team-04\\complete_analysis_local_thresholding.ipynb Cell 4\u001b[0m in \u001b[0;36m<cell line: 2>\u001b[1;34m()\u001b[0m\n\u001b[0;32m      <a href='vscode-notebook-cell:/c%3A/Users/ievas/Desktop/2022-topic-01-team-04/complete_analysis_local_thresholding.ipynb#ch0000003?line=0'>1</a>\u001b[0m image \u001b[39m=\u001b[39m imread(\u001b[39mr\u001b[39m\u001b[39m'\u001b[39m\u001b[39mdata/Otsu_data/NIH3T3/img/dna-0.png\u001b[39m\u001b[39m'\u001b[39m)\n\u001b[1;32m----> <a href='vscode-notebook-cell:/c%3A/Users/ievas/Desktop/2022-topic-01-team-04/complete_analysis_local_thresholding.ipynb#ch0000003?line=1'>2</a>\u001b[0m lt\u001b[39m.\u001b[39;49mlocal_thresholding_mean_forward(image,\u001b[39m50\u001b[39;49m,\u001b[39m200\u001b[39;49m)\n\u001b[0;32m      <a href='vscode-notebook-cell:/c%3A/Users/ievas/Desktop/2022-topic-01-team-04/complete_analysis_local_thresholding.ipynb#ch0000003?line=2'>3</a>\u001b[0m \u001b[39mprint\u001b[39m(\u001b[39m'\u001b[39m\u001b[39myeet\u001b[39m\u001b[39m'\u001b[39m)\n\u001b[0;32m      <a href='vscode-notebook-cell:/c%3A/Users/ievas/Desktop/2022-topic-01-team-04/complete_analysis_local_thresholding.ipynb#ch0000003?line=3'>4</a>\u001b[0m lt\u001b[39m.\u001b[39mlocal_thresholding_counts(image,\u001b[39m50\u001b[39m,\u001b[39m200\u001b[39m,\u001b[39m0.5\u001b[39m)\n",
      "File \u001b[1;32mc:\\Users\\ievas\\Desktop\\2022-topic-01-team-04\\nuclei_segmentation\\local_thresholding.py:186\u001b[0m, in \u001b[0;36mlocal_thresholding_mean_forward\u001b[1;34m(image, stepsize, framesize)\u001b[0m\n\u001b[0;32m    184\u001b[0m \u001b[39mwhile\u001b[39;00m y\u001b[39m+\u001b[39mframesize\u001b[39m<\u001b[39m\u001b[39m=\u001b[39mimg\u001b[39m.\u001b[39mshape[\u001b[39m1\u001b[39m]:\n\u001b[0;32m    185\u001b[0m     post_otsu\u001b[39m=\u001b[39mimg[x:x\u001b[39m+\u001b[39mframesize, y:y\u001b[39m+\u001b[39mframesize]\n\u001b[1;32m--> 186\u001b[0m     threshold \u001b[39m=\u001b[39m otsu_t(post_otsu,\u001b[39m256\u001b[39;49m)\n\u001b[0;32m    187\u001b[0m     \u001b[39mfor\u001b[39;00m a, b \u001b[39min\u001b[39;00m np\u001b[39m.\u001b[39mndindex(post_otsu\u001b[39m.\u001b[39mshape[\u001b[39m0\u001b[39m], post_otsu\u001b[39m.\u001b[39mshape[\u001b[39m1\u001b[39m]):\n\u001b[0;32m    188\u001b[0m         c\u001b[39m=\u001b[39ma\u001b[39m+\u001b[39mx\n",
      "File \u001b[1;32mc:\\Users\\ievas\\Desktop\\2022-topic-01-team-04\\nuclei_segmentation\\local_thresholding.py:58\u001b[0m, in \u001b[0;36motsu_t\u001b[1;34m(img, x)\u001b[0m\n\u001b[0;32m     52\u001b[0m \u001b[39mimport\u001b[39;00m \u001b[39mnumpy\u001b[39;00m\n\u001b[0;32m     57\u001b[0m \u001b[39m# load histogram, Mathematische werte aus Histogramm rausgreifen\u001b[39;00m\n\u001b[1;32m---> 58\u001b[0m n, bins \u001b[39m=\u001b[39m numpy\u001b[39m.\u001b[39;49mhistogram(img\u001b[39m.\u001b[39;49mflatten(),bins \u001b[39m=\u001b[39;49m x)\n\u001b[0;32m     60\u001b[0m \u001b[39m# initialize threshold value (T = 0) \u001b[39;00m\n\u001b[0;32m     61\u001b[0m thres \u001b[39m=\u001b[39m \u001b[39m0\u001b[39m\n",
      "File \u001b[1;32m<__array_function__ internals>:5\u001b[0m, in \u001b[0;36mhistogram\u001b[1;34m(*args, **kwargs)\u001b[0m\n",
      "File \u001b[1;32mc:\\Users\\ievas\\anaconda3\\envs\\dataanalysis0104_env\\lib\\site-packages\\numpy\\lib\\histograms.py:852\u001b[0m, in \u001b[0;36mhistogram\u001b[1;34m(a, bins, range, normed, weights, density)\u001b[0m\n\u001b[0;32m    849\u001b[0m \u001b[39m# Compute the bin indices, and for values that lie exactly on\u001b[39;00m\n\u001b[0;32m    850\u001b[0m \u001b[39m# last_edge we need to subtract one\u001b[39;00m\n\u001b[0;32m    851\u001b[0m f_indices \u001b[39m=\u001b[39m _unsigned_subtract(tmp_a, first_edge) \u001b[39m*\u001b[39m norm\n\u001b[1;32m--> 852\u001b[0m indices \u001b[39m=\u001b[39m f_indices\u001b[39m.\u001b[39;49mastype(np\u001b[39m.\u001b[39;49mintp)\n\u001b[0;32m    853\u001b[0m indices[indices \u001b[39m==\u001b[39m n_equal_bins] \u001b[39m-\u001b[39m\u001b[39m=\u001b[39m \u001b[39m1\u001b[39m\n\u001b[0;32m    855\u001b[0m \u001b[39m# The index computation is not guaranteed to give exactly\u001b[39;00m\n\u001b[0;32m    856\u001b[0m \u001b[39m# consistent results within ~1 ULP of the bin edges.\u001b[39;00m\n",
      "\u001b[1;31mKeyboardInterrupt\u001b[0m: "
     ]
    }
   ],
   "source": [
    "image = imread(r'data/Otsu_data/NIH3T3/img/dna-0.png')\n",
    "lt.local_thresholding_mean(image,50,200)\n",
    "print('yeet')\n",
    "lt.local_thresholding_counts(image,50,200,0.5)\n",
    "print('yeeeet')"
   ]
  },
  {
   "cell_type": "code",
   "execution_count": 27,
   "metadata": {},
   "outputs": [
    {
     "name": "stdout",
     "output_type": "stream",
     "text": [
      "m done\n",
      "g done\n",
      "s done\n",
      "sm done\n",
      "sg done\n"
     ]
    },
    {
     "ename": "KeyboardInterrupt",
     "evalue": "",
     "output_type": "error",
     "traceback": [
      "\u001b[1;31m---------------------------------------------------------------------------\u001b[0m",
      "\u001b[1;31mKeyboardInterrupt\u001b[0m                         Traceback (most recent call last)",
      "\u001b[1;32mc:\\Users\\ievas\\Desktop\\2022-topic-01-team-04\\complete_analysis_local_thresholding.ipynb Cell 6\u001b[0m in \u001b[0;36m<cell line: 1>\u001b[1;34m()\u001b[0m\n\u001b[1;32m----> <a href='vscode-notebook-cell:/c%3A/Users/ievas/Desktop/2022-topic-01-team-04/complete_analysis_local_thresholding.ipynb#ch0000004?line=0'>1</a>\u001b[0m complete_analysis_local_otsu(\u001b[39m\"\u001b[39;49m\u001b[39mNIH3T3\u001b[39;49m\u001b[39m\"\u001b[39;49m)\n",
      "\u001b[1;32mc:\\Users\\ievas\\Desktop\\2022-topic-01-team-04\\complete_analysis_local_thresholding.ipynb Cell 6\u001b[0m in \u001b[0;36mcomplete_analysis_local_otsu\u001b[1;34m(dataset)\u001b[0m\n\u001b[0;32m     <a href='vscode-notebook-cell:/c%3A/Users/ievas/Desktop/2022-topic-01-team-04/complete_analysis_local_thresholding.ipynb#ch0000004?line=53'>54</a>\u001b[0m sg_img \u001b[39m=\u001b[39m process(g_img,g,gfiltersize)\n\u001b[0;32m     <a href='vscode-notebook-cell:/c%3A/Users/ievas/Desktop/2022-topic-01-team-04/complete_analysis_local_thresholding.ipynb#ch0000004?line=54'>55</a>\u001b[0m \u001b[39mprint\u001b[39m(\u001b[39m'\u001b[39m\u001b[39msg done\u001b[39m\u001b[39m'\u001b[39m)\n\u001b[1;32m---> <a href='vscode-notebook-cell:/c%3A/Users/ievas/Desktop/2022-topic-01-team-04/complete_analysis_local_thresholding.ipynb#ch0000004?line=55'>56</a>\u001b[0m om_img \u001b[39m=\u001b[39m process(img,om,\u001b[39m1\u001b[39;49m)\n\u001b[0;32m     <a href='vscode-notebook-cell:/c%3A/Users/ievas/Desktop/2022-topic-01-team-04/complete_analysis_local_thresholding.ipynb#ch0000004?line=56'>57</a>\u001b[0m \u001b[39mprint\u001b[39m(\u001b[39m'\u001b[39m\u001b[39mom done\u001b[39m\u001b[39m'\u001b[39m)\n\u001b[0;32m     <a href='vscode-notebook-cell:/c%3A/Users/ievas/Desktop/2022-topic-01-team-04/complete_analysis_local_thresholding.ipynb#ch0000004?line=57'>58</a>\u001b[0m \u001b[39mprint\u001b[39m(\u001b[39mlen\u001b[39m(om_img))\n",
      "\u001b[1;32mc:\\Users\\ievas\\Desktop\\2022-topic-01-team-04\\complete_analysis_local_thresholding.ipynb Cell 6\u001b[0m in \u001b[0;36mprocess\u001b[1;34m(image_list, function, filtersize)\u001b[0m\n\u001b[0;32m     <a href='vscode-notebook-cell:/c%3A/Users/ievas/Desktop/2022-topic-01-team-04/complete_analysis_local_thresholding.ipynb#ch0000004?line=23'>24</a>\u001b[0m \u001b[39mlist\u001b[39m \u001b[39m=\u001b[39m []\n\u001b[0;32m     <a href='vscode-notebook-cell:/c%3A/Users/ievas/Desktop/2022-topic-01-team-04/complete_analysis_local_thresholding.ipynb#ch0000004?line=25'>26</a>\u001b[0m \u001b[39mfor\u001b[39;00m i \u001b[39min\u001b[39;00m \u001b[39mrange\u001b[39m(\u001b[39m0\u001b[39m,\u001b[39mlen\u001b[39m(image_list)):\n\u001b[1;32m---> <a href='vscode-notebook-cell:/c%3A/Users/ievas/Desktop/2022-topic-01-team-04/complete_analysis_local_thresholding.ipynb#ch0000004?line=26'>27</a>\u001b[0m         \u001b[39mlist\u001b[39m\u001b[39m.\u001b[39mappend(function(image_list[i], filtersize))\n\u001b[0;32m     <a href='vscode-notebook-cell:/c%3A/Users/ievas/Desktop/2022-topic-01-team-04/complete_analysis_local_thresholding.ipynb#ch0000004?line=28'>29</a>\u001b[0m \u001b[39mreturn\u001b[39;00m \u001b[39mlist\u001b[39m\n",
      "\u001b[1;32mc:\\Users\\ievas\\Desktop\\2022-topic-01-team-04\\complete_analysis_local_thresholding.ipynb Cell 6\u001b[0m in \u001b[0;36mom\u001b[1;34m(img, filtersize)\u001b[0m\n\u001b[0;32m      <a href='vscode-notebook-cell:/c%3A/Users/ievas/Desktop/2022-topic-01-team-04/complete_analysis_local_thresholding.ipynb#ch0000004?line=0'>1</a>\u001b[0m \u001b[39mdef\u001b[39;00m \u001b[39mom\u001b[39m(img,filtersize):\n\u001b[1;32m----> <a href='vscode-notebook-cell:/c%3A/Users/ievas/Desktop/2022-topic-01-team-04/complete_analysis_local_thresholding.ipynb#ch0000004?line=1'>2</a>\u001b[0m         img \u001b[39m=\u001b[39m lt\u001b[39m.\u001b[39;49mlocal_thresholding_mean_forward(img, \u001b[39m50\u001b[39;49m, \u001b[39m200\u001b[39;49m)\n\u001b[0;32m      <a href='vscode-notebook-cell:/c%3A/Users/ievas/Desktop/2022-topic-01-team-04/complete_analysis_local_thresholding.ipynb#ch0000004?line=2'>3</a>\u001b[0m         \u001b[39mreturn\u001b[39;00m img\n",
      "File \u001b[1;32mc:\\Users\\ievas\\Desktop\\2022-topic-01-team-04\\nuclei_segmentation\\local_thresholding.py:186\u001b[0m, in \u001b[0;36mlocal_thresholding_mean_forward\u001b[1;34m(image, stepsize, framesize)\u001b[0m\n\u001b[0;32m    184\u001b[0m \u001b[39mwhile\u001b[39;00m y\u001b[39m+\u001b[39mframesize\u001b[39m<\u001b[39m\u001b[39m=\u001b[39mimg\u001b[39m.\u001b[39mshape[\u001b[39m1\u001b[39m]:\n\u001b[0;32m    185\u001b[0m     post_otsu\u001b[39m=\u001b[39mimg[x:x\u001b[39m+\u001b[39mframesize, y:y\u001b[39m+\u001b[39mframesize]\n\u001b[1;32m--> 186\u001b[0m     threshold \u001b[39m=\u001b[39m otsu_t(post_otsu,\u001b[39m256\u001b[39;49m)\n\u001b[0;32m    187\u001b[0m     \u001b[39mfor\u001b[39;00m a, b \u001b[39min\u001b[39;00m np\u001b[39m.\u001b[39mndindex(post_otsu\u001b[39m.\u001b[39mshape[\u001b[39m0\u001b[39m], post_otsu\u001b[39m.\u001b[39mshape[\u001b[39m1\u001b[39m]):\n\u001b[0;32m    188\u001b[0m         c\u001b[39m=\u001b[39ma\u001b[39m+\u001b[39mx\n",
      "File \u001b[1;32mc:\\Users\\ievas\\Desktop\\2022-topic-01-team-04\\nuclei_segmentation\\local_thresholding.py:83\u001b[0m, in \u001b[0;36motsu_t\u001b[1;34m(img, x)\u001b[0m\n\u001b[0;32m     81\u001b[0m \u001b[39m#sum up the probabilites of each intensity value;  and the mean value (sind noch nicht happy mit der definition :()\u001b[39;00m\n\u001b[0;32m     82\u001b[0m w0_sum \u001b[39m=\u001b[39m numpy\u001b[39m.\u001b[39msum(numpy\u001b[39m.\u001b[39marray(n[\u001b[39m0\u001b[39m:i\u001b[39m+\u001b[39m\u001b[39m1\u001b[39m]))\n\u001b[1;32m---> 83\u001b[0m mean_sum0 \u001b[39m=\u001b[39m numpy\u001b[39m.\u001b[39msum((numpy\u001b[39m.\u001b[39;49marray(bins[\u001b[39m0\u001b[39;49m:i\u001b[39m+\u001b[39;49m\u001b[39m1\u001b[39;49m])\u001b[39m*\u001b[39mnumpy\u001b[39m.\u001b[39marray(n[\u001b[39m0\u001b[39m:i\u001b[39m+\u001b[39m\u001b[39m1\u001b[39m])))\n\u001b[0;32m     85\u001b[0m \u001b[39m# background class probabilites and class mean levels\u001b[39;00m\n\u001b[0;32m     86\u001b[0m w0 \u001b[39m=\u001b[39m w0_sum \u001b[39m/\u001b[39m \u001b[39msum\u001b[39m(n)  \n",
      "\u001b[1;31mKeyboardInterrupt\u001b[0m: "
     ]
    }
   ],
   "source": [
    "complete_analysis_local_otsu(\"NIH3T3\")"
   ]
  },
  {
   "cell_type": "code",
   "execution_count": 28,
   "metadata": {},
   "outputs": [
    {
     "name": "stdout",
     "output_type": "stream",
     "text": [
      "m done\n",
      "g done\n",
      "s done\n",
      "sm done\n",
      "sg done\n",
      "om done\n",
      "4\n"
     ]
    },
    {
     "name": "stderr",
     "output_type": "stream",
     "text": [
      "c:\\Users\\ievas\\Desktop\\2022-topic-01-team-04\\nuclei_segmentation\\otsu.py:120: RuntimeWarning: invalid value encountered in longlong_scalars\n",
      "  w0 = w0_sum / sum(n)\n",
      "c:\\Users\\ievas\\Desktop\\2022-topic-01-team-04\\nuclei_segmentation\\otsu.py:130: RuntimeWarning: invalid value encountered in longlong_scalars\n",
      "  w1 = w1_sum / sum(n)\n"
     ]
    },
    {
     "name": "stdout",
     "output_type": "stream",
     "text": [
      "oc done\n",
      "4\n",
      "mom done\n",
      "moc done\n",
      "gom done\n",
      "goc done\n",
      "som done\n",
      "soc done\n",
      "smom done\n"
     ]
    },
    {
     "ename": "KeyboardInterrupt",
     "evalue": "",
     "output_type": "error",
     "traceback": [
      "\u001b[1;31m---------------------------------------------------------------------------\u001b[0m",
      "\u001b[1;31mKeyboardInterrupt\u001b[0m                         Traceback (most recent call last)",
      "\u001b[1;32mc:\\Users\\ievas\\Desktop\\2022-topic-01-team-04\\complete_analysis_local_thresholding.ipynb Cell 7\u001b[0m in \u001b[0;36m<cell line: 1>\u001b[1;34m()\u001b[0m\n\u001b[1;32m----> <a href='vscode-notebook-cell:/c%3A/Users/ievas/Desktop/2022-topic-01-team-04/complete_analysis_local_thresholding.ipynb#ch0000005?line=0'>1</a>\u001b[0m complete_analysis_local_otsu(\u001b[39m\"\u001b[39;49m\u001b[39mN2DL_HeLa\u001b[39;49m\u001b[39m\"\u001b[39;49m)\n",
      "\u001b[1;32mc:\\Users\\ievas\\Desktop\\2022-topic-01-team-04\\complete_analysis_local_thresholding.ipynb Cell 7\u001b[0m in \u001b[0;36mcomplete_analysis_local_otsu\u001b[1;34m(dataset)\u001b[0m\n\u001b[0;32m     <a href='vscode-notebook-cell:/c%3A/Users/ievas/Desktop/2022-topic-01-team-04/complete_analysis_local_thresholding.ipynb#ch0000005?line=73'>74</a>\u001b[0m smom \u001b[39m=\u001b[39m process(sm_img,om,\u001b[39m1\u001b[39m)\n\u001b[0;32m     <a href='vscode-notebook-cell:/c%3A/Users/ievas/Desktop/2022-topic-01-team-04/complete_analysis_local_thresholding.ipynb#ch0000005?line=74'>75</a>\u001b[0m \u001b[39mprint\u001b[39m(\u001b[39m'\u001b[39m\u001b[39msmom done\u001b[39m\u001b[39m'\u001b[39m)\n\u001b[1;32m---> <a href='vscode-notebook-cell:/c%3A/Users/ievas/Desktop/2022-topic-01-team-04/complete_analysis_local_thresholding.ipynb#ch0000005?line=75'>76</a>\u001b[0m smoc \u001b[39m=\u001b[39m process(sm_img,oc,\u001b[39m1\u001b[39;49m)\n\u001b[0;32m     <a href='vscode-notebook-cell:/c%3A/Users/ievas/Desktop/2022-topic-01-team-04/complete_analysis_local_thresholding.ipynb#ch0000005?line=76'>77</a>\u001b[0m \u001b[39mprint\u001b[39m(\u001b[39m'\u001b[39m\u001b[39msmoc done\u001b[39m\u001b[39m'\u001b[39m)\n\u001b[0;32m     <a href='vscode-notebook-cell:/c%3A/Users/ievas/Desktop/2022-topic-01-team-04/complete_analysis_local_thresholding.ipynb#ch0000005?line=77'>78</a>\u001b[0m sgom \u001b[39m=\u001b[39m process(sg_img,om,\u001b[39m1\u001b[39m)\n",
      "\u001b[1;32mc:\\Users\\ievas\\Desktop\\2022-topic-01-team-04\\complete_analysis_local_thresholding.ipynb Cell 7\u001b[0m in \u001b[0;36mprocess\u001b[1;34m(image_list, function, filtersize)\u001b[0m\n\u001b[0;32m     <a href='vscode-notebook-cell:/c%3A/Users/ievas/Desktop/2022-topic-01-team-04/complete_analysis_local_thresholding.ipynb#ch0000005?line=23'>24</a>\u001b[0m \u001b[39mlist\u001b[39m \u001b[39m=\u001b[39m []\n\u001b[0;32m     <a href='vscode-notebook-cell:/c%3A/Users/ievas/Desktop/2022-topic-01-team-04/complete_analysis_local_thresholding.ipynb#ch0000005?line=25'>26</a>\u001b[0m \u001b[39mfor\u001b[39;00m i \u001b[39min\u001b[39;00m \u001b[39mrange\u001b[39m(\u001b[39m0\u001b[39m,\u001b[39mlen\u001b[39m(image_list)):\n\u001b[1;32m---> <a href='vscode-notebook-cell:/c%3A/Users/ievas/Desktop/2022-topic-01-team-04/complete_analysis_local_thresholding.ipynb#ch0000005?line=26'>27</a>\u001b[0m         \u001b[39mlist\u001b[39m\u001b[39m.\u001b[39mappend(function(image_list[i], filtersize))\n\u001b[0;32m     <a href='vscode-notebook-cell:/c%3A/Users/ievas/Desktop/2022-topic-01-team-04/complete_analysis_local_thresholding.ipynb#ch0000005?line=28'>29</a>\u001b[0m \u001b[39mreturn\u001b[39;00m \u001b[39mlist\u001b[39m\n",
      "\u001b[1;32mc:\\Users\\ievas\\Desktop\\2022-topic-01-team-04\\complete_analysis_local_thresholding.ipynb Cell 7\u001b[0m in \u001b[0;36moc\u001b[1;34m(img, filtersize)\u001b[0m\n\u001b[0;32m      <a href='vscode-notebook-cell:/c%3A/Users/ievas/Desktop/2022-topic-01-team-04/complete_analysis_local_thresholding.ipynb#ch0000005?line=4'>5</a>\u001b[0m \u001b[39mdef\u001b[39;00m \u001b[39moc\u001b[39m(img,filtersize):\n\u001b[1;32m----> <a href='vscode-notebook-cell:/c%3A/Users/ievas/Desktop/2022-topic-01-team-04/complete_analysis_local_thresholding.ipynb#ch0000005?line=5'>6</a>\u001b[0m         img \u001b[39m=\u001b[39m lt\u001b[39m.\u001b[39;49mlocal_thresholding_counts(img, \u001b[39m50\u001b[39;49m, \u001b[39m200\u001b[39;49m, \u001b[39m0.5\u001b[39;49m)\n\u001b[0;32m      <a href='vscode-notebook-cell:/c%3A/Users/ievas/Desktop/2022-topic-01-team-04/complete_analysis_local_thresholding.ipynb#ch0000005?line=6'>7</a>\u001b[0m         \u001b[39mreturn\u001b[39;00m img\n",
      "File \u001b[1;32mc:\\Users\\ievas\\Desktop\\2022-topic-01-team-04\\nuclei_segmentation\\local_thresholding.py:34\u001b[0m, in \u001b[0;36mlocal_thresholding_counts\u001b[1;34m(image, stepsize, framesize, sensitivity)\u001b[0m\n\u001b[0;32m     32\u001b[0m     \u001b[39mfor\u001b[39;00m a,b \u001b[39min\u001b[39;00m np\u001b[39m.\u001b[39mndindex(post_otsu\u001b[39m.\u001b[39mshape[\u001b[39m0\u001b[39m],post_otsu\u001b[39m.\u001b[39mshape[\u001b[39m1\u001b[39m]):\n\u001b[0;32m     33\u001b[0m         it[x\u001b[39m+\u001b[39ma,y\u001b[39m+\u001b[39mb,\u001b[39m0\u001b[39m] \u001b[39m+\u001b[39m\u001b[39m=\u001b[39mpost_otsu[a,b]\n\u001b[1;32m---> 34\u001b[0m         it[x\u001b[39m+\u001b[39ma,y\u001b[39m+\u001b[39mb,\u001b[39m1\u001b[39m] \u001b[39m+\u001b[39m\u001b[39m=\u001b[39m sensitivity\n\u001b[0;32m     35\u001b[0m     y\u001b[39m+\u001b[39m\u001b[39m=\u001b[39mstepsize\n\u001b[0;32m     36\u001b[0m y\u001b[39m=\u001b[39m\u001b[39m0\u001b[39m\n",
      "\u001b[1;31mKeyboardInterrupt\u001b[0m: "
     ]
    }
   ],
   "source": [
    "complete_analysis_local_otsu(\"N2DL_HeLa\")"
   ]
  }
 ],
 "metadata": {
  "kernelspec": {
   "display_name": "Python 3.10.4 ('dataanalysis0104_env')",
   "language": "python",
   "name": "python3"
  },
  "language_info": {
   "codemirror_mode": {
    "name": "ipython",
    "version": 3
   },
   "file_extension": ".py",
   "mimetype": "text/x-python",
   "name": "python",
   "nbconvert_exporter": "python",
   "pygments_lexer": "ipython3",
   "version": "3.10.4"
  },
  "orig_nbformat": 4,
  "vscode": {
   "interpreter": {
    "hash": "21db8ca179e1c46f3f1871b3fc2646379981f9fac7908d31737eb0066b24c468"
   }
  }
 },
 "nbformat": 4,
 "nbformat_minor": 2
}
