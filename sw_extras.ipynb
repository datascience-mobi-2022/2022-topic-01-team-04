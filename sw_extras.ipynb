{
 "cells": [
  {
   "cell_type": "code",
   "execution_count": 1,
   "metadata": {},
   "outputs": [
    {
     "name": "stdout",
     "output_type": "stream",
     "text": [
      "Using matplotlib backend: <object object at 0x0000022E82816470>\n",
      "%pylab is deprecated, use %matplotlib inline and import the required libraries.\n",
      "Populating the interactive namespace from numpy and matplotlib\n"
     ]
    }
   ],
   "source": [
    "#Packages\n",
    "%pylab\n",
    "%matplotlib inline\n",
    "import numpy as np\n",
    "import scipy.ndimage\n",
    "import matplotlib.pyplot as plt\n",
    "from images_segmentation import otsu as ot"
   ]
  },
  {
   "cell_type": "code",
   "execution_count": 27,
   "metadata": {},
   "outputs": [],
   "source": [
    "# otsu_i function\n",
    "#https://note.nkmk.me/en/python-list-initialize/\n",
    "def otsu_i(image):\n",
    "    img=ot.otsu_thresholding(image, 1)\n",
    "    i = img.shape[0]\n",
    "    j = img.shape[1]\n",
    "    it = [[[] * 1] * i] * j\n",
    "    for x, y in np.ndindex((i,j)):\n",
    "        if img[x,y] == 0:\n",
    "            it[x][y].append('b')\n",
    "        else:\n",
    "            it[x][y].append('f')\n",
    "    return it\n"
   ]
  },
  {
   "cell_type": "code",
   "execution_count": 33,
   "metadata": {},
   "outputs": [
    {
     "ename": "KeyboardInterrupt",
     "evalue": "",
     "output_type": "error",
     "traceback": [
      "\u001b[1;31m---------------------------------------------------------------------------\u001b[0m",
      "\u001b[1;31mKeyboardInterrupt\u001b[0m                         Traceback (most recent call last)",
      "\u001b[1;32mc:\\Users\\ievas\\Desktop\\2022-topic-01-team-04\\sw_extras.ipynb Cell 3'\u001b[0m in \u001b[0;36m<cell line: 2>\u001b[1;34m()\u001b[0m\n\u001b[0;32m      <a href='vscode-notebook-cell:/c%3A/Users/ievas/Desktop/2022-topic-01-team-04/sw_extras.ipynb#ch0000002?line=0'>1</a>\u001b[0m img_1 \u001b[39m=\u001b[39m imread(\u001b[39mr\u001b[39m\u001b[39m\"\u001b[39m\u001b[39mdata\u001b[39m\u001b[39m\\\u001b[39m\u001b[39mOtsu_data\u001b[39m\u001b[39m\\\u001b[39m\u001b[39mN2DH-GOWT1\u001b[39m\u001b[39m\\\u001b[39m\u001b[39mimg\u001b[39m\u001b[39m\\\u001b[39m\u001b[39mt39.tif\u001b[39m\u001b[39m\"\u001b[39m) \n\u001b[1;32m----> <a href='vscode-notebook-cell:/c%3A/Users/ievas/Desktop/2022-topic-01-team-04/sw_extras.ipynb#ch0000002?line=1'>2</a>\u001b[0m otsu_i(img_1)\n",
      "\u001b[1;32mc:\\Users\\ievas\\Desktop\\2022-topic-01-team-04\\sw_extras.ipynb Cell 2'\u001b[0m in \u001b[0;36motsu_i\u001b[1;34m(image)\u001b[0m\n\u001b[0;32m      <a href='vscode-notebook-cell:/c%3A/Users/ievas/Desktop/2022-topic-01-team-04/sw_extras.ipynb#ch0000001?line=2'>3</a>\u001b[0m \u001b[39mdef\u001b[39;00m \u001b[39motsu_i\u001b[39m(image):\n\u001b[1;32m----> <a href='vscode-notebook-cell:/c%3A/Users/ievas/Desktop/2022-topic-01-team-04/sw_extras.ipynb#ch0000001?line=3'>4</a>\u001b[0m     img\u001b[39m=\u001b[39mot\u001b[39m.\u001b[39;49motsu_thresholding(image, \u001b[39m1\u001b[39;49m)\n\u001b[0;32m      <a href='vscode-notebook-cell:/c%3A/Users/ievas/Desktop/2022-topic-01-team-04/sw_extras.ipynb#ch0000001?line=4'>5</a>\u001b[0m     i \u001b[39m=\u001b[39m img\u001b[39m.\u001b[39mshape[\u001b[39m0\u001b[39m]\n\u001b[0;32m      <a href='vscode-notebook-cell:/c%3A/Users/ievas/Desktop/2022-topic-01-team-04/sw_extras.ipynb#ch0000001?line=5'>6</a>\u001b[0m     j \u001b[39m=\u001b[39m img\u001b[39m.\u001b[39mshape[\u001b[39m1\u001b[39m]\n",
      "File \u001b[1;32mc:\\Users\\ievas\\Desktop\\2022-topic-01-team-04\\images_segmentation\\otsu.py:101\u001b[0m, in \u001b[0;36motsu_thresholding\u001b[1;34m(img, x)\u001b[0m\n\u001b[0;32m     <a href='file:///c%3A/Users/ievas/Desktop/2022-topic-01-team-04/images_segmentation/otsu.py?line=98'>99</a>\u001b[0m         copy[o] \u001b[39m=\u001b[39m \u001b[39m0\u001b[39m\n\u001b[0;32m    <a href='file:///c%3A/Users/ievas/Desktop/2022-topic-01-team-04/images_segmentation/otsu.py?line=99'>100</a>\u001b[0m     \u001b[39melse\u001b[39;00m:\n\u001b[1;32m--> <a href='file:///c%3A/Users/ievas/Desktop/2022-topic-01-team-04/images_segmentation/otsu.py?line=100'>101</a>\u001b[0m         copy[o] \u001b[39m=\u001b[39m \u001b[39m255\u001b[39m\n\u001b[0;32m    <a href='file:///c%3A/Users/ievas/Desktop/2022-topic-01-team-04/images_segmentation/otsu.py?line=102'>103</a>\u001b[0m \u001b[39m# output image\u001b[39;00m\n\u001b[0;32m    <a href='file:///c%3A/Users/ievas/Desktop/2022-topic-01-team-04/images_segmentation/otsu.py?line=103'>104</a>\u001b[0m \u001b[39m'''figure()  \u001b[39;00m\n\u001b[0;32m    <a href='file:///c%3A/Users/ievas/Desktop/2022-topic-01-team-04/images_segmentation/otsu.py?line=104'>105</a>\u001b[0m \u001b[39mimshow(copy, 'gray')\u001b[39;00m\n\u001b[0;32m    <a href='file:///c%3A/Users/ievas/Desktop/2022-topic-01-team-04/images_segmentation/otsu.py?line=105'>106</a>\u001b[0m \u001b[39mcolorbar()'''\u001b[39;00m\n",
      "\u001b[1;31mKeyboardInterrupt\u001b[0m: "
     ]
    },
    {
     "data": {
      "image/png": "[encoded data removed]",
      "text/plain": [
       "<Figure size 432x288 with 1 Axes>"
      ]
     },
     "metadata": {
      "needs_background": "light"
     },
     "output_type": "display_data"
    }
   ],
   "source": [
    "img_1 = imread(r\"data\\Otsu_data\\N2DH-GOWT1\\img\\t39.tif\") \n",
    "otsu_i(img_1)"
   ]
  },
  {
   "cell_type": "code",
   "execution_count": 40,
   "metadata": {},
   "outputs": [],
   "source": [
    "#image cropping?????\n",
    "def crop(image,x,y,w,z):\n",
    "    h = w-x\n",
    "    w = z-y\n",
    "    cropped = np.empty((h,w), dtype = float)\n",
    "    for a in range(x,w):\n",
    "        for b in range(y,z):\n",
    "            cropped[a-x,b-y]=image[a,b]\n",
    "    return cropped\n"
   ]
  },
  {
   "cell_type": "code",
   "execution_count": 39,
   "metadata": {},
   "outputs": [
    {
     "data": {
      "text/plain": [
       "array([], shape=(0, 0), dtype=float64)"
      ]
     },
     "execution_count": 39,
     "metadata": {},
     "output_type": "execute_result"
    }
   ],
   "source": [
    "crop(img_1,0,20,0,20)\n"
   ]
  }
 ],
 "metadata": {
  "interpreter": {
   "hash": "21db8ca179e1c46f3f1871b3fc2646379981f9fac7908d31737eb0066b24c468"
  },
  "kernelspec": {
   "display_name": "Python 3.10.4 ('dataanalysis0104_env')",
   "language": "python",
   "name": "python3"
  },
  "language_info": {
   "codemirror_mode": {
    "name": "ipython",
    "version": 3
   },
   "file_extension": ".py",
   "mimetype": "text/x-python",
   "name": "python",
   "nbconvert_exporter": "python",
   "pygments_lexer": "ipython3",
   "version": "3.10.4"
  },
  "orig_nbformat": 4
 },
 "nbformat": 4,
 "nbformat_minor": 2
}
