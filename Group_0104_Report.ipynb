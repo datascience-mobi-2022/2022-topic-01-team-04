{
 "cells": [
  {
   "cell_type": "markdown",
   "metadata": {},
   "source": [
    "# **Implementation and Evaluation of Otsu Thresholding**\n",
    "\n",
    "\n",
    "\n",
    "***\n",
    "## **Local adaptive thresholding**\n",
    "\n",
    "Although, global thresholding is very fast and provides reliable results in most cases, it is susceptible to non-uniformal illumination, considerable background noise and varation in contrast **(quelle)**. As a reason for that, pixels can not be clearly assigned to the foreground or background, which results in unaccurate segmented images. In order to overcome this problem, the implemented global segmentation method, can be extended to local tresholding, being a more appropriate and accurate binarization method. Local thresholding uses non-overlapping windows to divide the original image into a distinct number of regions and to determine the optimal threshold of each. Due to contrast and illumination variation even in small regions, local adaptive thresholding is performed by using overlapping windows. The key idea is to use a sliding window, a frame of a fixed size, which iterates over the image and calculates the threshold value individually for each pixel by Otsu thresholding, derived from the grayscale information of its local neighbourhood pixels **(quelle)**. Each pixel will be assigned to the foreground or background, based on checking to what the pixel has been assigned to more times or by determining the optimal threshold intensity value based on averaging the threshold values, which were assigned to the pixels, and performing image clipping afterwards. To achieve efficiency and accuracy it is important to select the right stepsize and window size. Since the calculation of the threshold value from the local neighbourhood is to be applied to each pixel in the image, local adaptive thresholding algorithms are often slow. **vectorized ... is faster???**\n",
    "***"
   ]
  }
 ],
 "metadata": {
  "language_info": {
   "name": "python"
  },
  "orig_nbformat": 4
 },
 "nbformat": 4,
 "nbformat_minor": 2
}
