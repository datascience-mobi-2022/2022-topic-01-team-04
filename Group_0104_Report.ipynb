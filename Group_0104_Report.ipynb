{
 "cells": [
  {
   "cell_type": "code",
   "execution_count": 1,
   "metadata": {},
   "outputs": [
    {
     "name": "stdout",
     "output_type": "stream",
     "text": [
      "Using matplotlib backend: <object object at 0x10749ee20>\n",
      "%pylab is deprecated, use %matplotlib inline and import the required libraries.\n",
      "Populating the interactive namespace from numpy and matplotlib\n"
     ]
    }
   ],
   "source": [
    "%pylab\n",
    "%matplotlib inline\n",
    "import matplotlib.pyplot as plt\n",
    "import numpy as np\n",
    "import scipy.ndimage\n",
    "import pandas as pd\n",
    "import seaborn as sns\n",
    "from images_segmentation import otsu as ot"
   ]
  },
  {
   "cell_type": "markdown",
   "metadata": {},
   "source": [
    "# **Implementation and Evaluation of Otsu Thresholding**\n",
    "\n",
    "\n",
    "***\n",
    "\n",
    "### **Two-level Otsu Thresholding**\n",
    "\n",
    "Otsu thresholding is not selective for bright spots, reflections or artifacts, which arise from the image acquisition process and data transmission during microscopy. As a reason for that, pixels are assigned incorrectly to the foreground and thus identified falsely as cell nuclei. To solve this problem, Otsu's method can be extended to multithreshold problems.\n",
    "\n",
    "$σ^2_B = ω_1(μ_1 - μ_T) - ω_2(μ_2 - μ_T) - ω_3(μ_3 - μ_T)$\n",
    "***\n",
    "\n",
    "### **Local Adaptive Thresholding**\n",
    "\n",
    "Although, global thresholding is very fast and provides reliable results in most cases, it is susceptible to non-uniformal illumination, considerable background noise and varation in contrast (Singh *et al.*, 2011). As a reason for that, pixels can not be clearly assigned to the foreground or background, which results in unaccurate segmented images. In order to overcome this problem, the implemented global segmentation method, can be extended to local tresholding, being a more appropriate and accurate binarization method. Local thresholding uses non-overlapping windows to divide the original image into a distinct number of regions and to determine the optimal threshold of each. Due to contrast and illumination variation even in small regions especially in the NIH3T3 dataset, local adaptive thresholding is performed by using overlapping windows. The key idea is to use a sliding window, a  retangular frame of a fixed size, which iterates over the image and calculates the threshold value individually for each pixel by Otsu thresholding, derived from the grayscale information of its local neighbourhood pixels (Singh *et al.*, 2011). To assign each pixel to the foreground or background, two possible options were elaborated. On the one hand, the optimal threshold intensity value can be determined by averaging the threshold values, which were assigned to the pixel. By performing image clipping, a binary and segmented image can be received. On the other hand, each pixel can be assigned to the foreground or background, by checking to what the pixel has been assigned to more oftern. To achieve efficiency and accuracy it is important to select the right stepsize and window size. Since the calculation of the threshold value from the local neighbourhood is to be applied to each pixel in the image, local adaptive thresholding algorithms are often slower than global thresholding algorithms.\n",
    "\n",
    "***"
   ]
  },
  {
   "cell_type": "code",
   "execution_count": null,
   "metadata": {},
   "outputs": [],
   "source": []
  }
 ],
 "metadata": {
  "kernelspec": {
   "display_name": "Python 3.10.4 ('dataanalysis0104_env')",
   "language": "python",
   "name": "python3"
  },
  "language_info": {
   "codemirror_mode": {
    "name": "ipython",
    "version": 3
   },
   "file_extension": ".py",
   "mimetype": "text/x-python",
   "name": "python",
   "nbconvert_exporter": "python",
   "pygments_lexer": "ipython3",
   "version": "3.10.4"
  },
  "orig_nbformat": 4,
  "vscode": {
   "interpreter": {
    "hash": "c2780eabf9c709791df5bb09a5e724a87501d2f5f75f641a7e33d45f5519c21d"
   }
  }
 },
 "nbformat": 4,
 "nbformat_minor": 2
}
