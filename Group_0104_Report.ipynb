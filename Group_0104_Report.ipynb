{
 "cells": [
  {
   "cell_type": "code",
   "execution_count": 1,
   "metadata": {},
   "outputs": [
    {
     "name": "stdout",
     "output_type": "stream",
     "text": [
      "Using matplotlib backend: <object object at 0x10749ee20>\n",
      "%pylab is deprecated, use %matplotlib inline and import the required libraries.\n",
      "Populating the interactive namespace from numpy and matplotlib\n"
     ]
    }
   ],
   "source": [
    "%pylab\n",
    "%matplotlib inline\n",
    "import matplotlib.pyplot as plt\n",
    "import numpy as np\n",
    "import scipy.ndimage\n",
    "import pandas as pd\n",
    "import seaborn as sns\n",
    "from images_segmentation import otsu as ot"
   ]
  },
  {
   "cell_type": "markdown",
   "metadata": {},
   "source": [
    "<div style = \"text-align : justify\">\n",
    "\n",
    "# **Implementation and Evaluation of Otsu Thresholding**\n",
    "### **Abstract**\n",
    "\n",
    "### **Table of contents**\n",
    "\n",
    "1. Introduction\n",
    "\n",
    "2. Description of datasets  \n",
    "2.1 N2DH-GOWT1 dataset  \n",
    "2.2 N2DL-HeLa dataset  \n",
    "2.3 NIH3T3 dataset \n",
    "\n",
    "3. Methods  \n",
    "3.1 Preprocessing  \n",
    "3.2 Thresholding  \n",
    "3.3 Evaluation  \n",
    "\n",
    "4. Results  \n",
    "\n",
    "5. Discussion \n",
    " \n",
    "6. References  \n",
    "\n",
    "\n",
    "### **Introduction**\n",
    "\n",
    "### **Methods**\n",
    "\n",
    "***\n",
    "\n",
    "\n",
    "### **Two-level Otsu Thresholding**\n",
    "\n",
    "Otsu thresholding is not selective for bright spots, reflections or artifacts, which arise from the image acquisition process and data transmission during microscopy. As a reason for that, pixels are assigned incorrectly to the foreground and thus identified falsely as cell nuclei. To solve this problem, Otsu's method can be extended to multithreshold problems, respectively two-level Otsu thresholding can be performed. The fundamental principle is to set two threshold values, which divide the image into three pixel classes. The optimal set of threshold values is determined by maximizing the between-class variance between the three pixel classes as followed (Otsu, 1979):\n",
    "\n",
    "$σ^2_B = ω_1(μ_1 - μ_T) - ω_2(μ_2 - μ_T) - ω_3(μ_3 - μ_T)$\n",
    "\n",
    "The higher threshold intensity value is used to remove the bright spots and reflections from the original image, whereas the lower threshold value separates the cell nuclei from the background. In order to receive a binary image, all pixels with a lower or equal input pixel intensity than the lower threshold value as well as all pixels with a higher input pixel intensity than the upper threshold value are set to 0 (background). The remaining pixels, in rage between the lower and upper threshold value, are converted to 1 (foreground).\n",
    "\n",
    "\n",
    "***\n",
    "\n",
    "\n",
    "### **Local Adaptive Thresholding**\n",
    "\n",
    "Although, global thresholding is very fast and provides reliable results in most cases, it is susceptible to non-uniformal illumination, considerable background noise and varation in contrast (Singh *et al.*, 2011). As a reason for that, pixels can not be clearly assigned to the foreground or background, which results in unaccurate segmented images. In order to overcome this problem, the implemented global segmentation method, can be extended to local tresholding, being a more appropriate and accurate binarization method. Local thresholding uses non-overlapping windows to divide the original image into a distinct number of regions and to determine the optimal threshold of each. Due to contrast and illumination variation even in small regions especially in the NIH3T3 dataset, local adaptive thresholding is performed by using overlapping windows. The key idea is to use a sliding window, a  retangular frame of a fixed size, which iterates over the image and calculates the threshold value individually for each pixel by Otsu thresholding, derived from the grayscale information of its local neighbourhood pixels (Singh *et al.*, 2011). To assign each pixel to the foreground or background, two possible options were elaborated. On the one hand, the optimal threshold intensity value can be determined by averaging the threshold values, which were assigned to the pixel. By performing image clipping afterwards, a binary and segmented image can be received. On the other hand, each pixel can be assigned to the foreground or background, by checking to what the pixel has been assigned to more often. To achieve efficiency and accuracy it is important to select the right stepsize and window size. Since the calculation of the threshold value from the local neighbourhood is to be applied to each pixel in the image, local adaptive thresholding algorithms are often slower than global thresholding algorithms.\n",
    "\n",
    "***"
   ]
  },
  {
   "cell_type": "code",
   "execution_count": null,
   "metadata": {},
   "outputs": [],
   "source": []
  }
 ],
 "metadata": {
  "kernelspec": {
   "display_name": "Python 3.10.4 ('dataanalysis0104_env')",
   "language": "python",
   "name": "python3"
  },
  "language_info": {
   "codemirror_mode": {
    "name": "ipython",
    "version": 3
   },
   "file_extension": ".py",
   "mimetype": "text/x-python",
   "name": "python",
   "nbconvert_exporter": "python",
   "pygments_lexer": "ipython3",
   "version": "3.10.4"
  },
  "orig_nbformat": 4,
  "vscode": {
   "interpreter": {
    "hash": "c2780eabf9c709791df5bb09a5e724a87501d2f5f75f641a7e33d45f5519c21d"
   }
  }
 },
 "nbformat": 4,
 "nbformat_minor": 2
}
