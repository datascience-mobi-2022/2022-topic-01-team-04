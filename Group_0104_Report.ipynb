{
 "cells": [
  {
   "cell_type": "markdown",
   "metadata": {},
   "source": [
    "# **Implementation and Evaluation of Otsu Thresholding**\n",
    "\n",
    "\n",
    "\n",
    "***\n",
    "### **Local adaptive thresholding**\n",
    "\n",
    "Although, global thresholding is very fast and provides reliable results in most cases, it is susceptible to non-uniformal illumination, considerable background noise and varation in contrast (Singh *et al.*, 2011). As a reason for that, pixels can not be clearly assigned to the foreground or background, which results in unaccurate segmented images. In order to overcome this problem, the implemented global segmentation method, can be extended to local tresholding, being a more appropriate and accurate binarization method. Local thresholding uses non-overlapping windows to divide the original image into a distinct number of regions and to determine the optimal threshold of each. Due to contrast and illumination variation even in small regions especially in the NIH3T3 dataset, local adaptive thresholding is performed by using overlapping windows. The key idea is to use a sliding window, a  retangular frame of a fixed size, which iterates over the image and calculates the threshold value individually for each pixel by Otsu thresholding, derived from the grayscale information of its local neighbourhood pixels (Singh *et al.*, 2011). \n",
    "\n",
    "\n",
    "Each pixel will be assigned to the foreground or background, based on checking to what the pixel has been assigned to more times or by determining the optimal threshold intensity value based on averaging the threshold values, which were assigned to the pixels, and performing image clipping afterwards. To achieve efficiency and accuracy it is important to select the right stepsize and window size. Since the calculation of the threshold value from the local neighbourhood is to be applied to each pixel in the image, local adaptive thresholding algorithms are often slower than global thresholding.\n",
    "\n",
    "***"
   ]
  }
 ],
 "metadata": {
  "kernelspec": {
   "display_name": "Python 3.10.4 ('dataanalysis0104_env')",
   "language": "python",
   "name": "python3"
  },
  "language_info": {
   "name": "python",
   "version": "3.10.4"
  },
  "orig_nbformat": 4,
  "vscode": {
   "interpreter": {
    "hash": "c2780eabf9c709791df5bb09a5e724a87501d2f5f75f641a7e33d45f5519c21d"
   }
  }
 },
 "nbformat": 4,
 "nbformat_minor": 2
}
