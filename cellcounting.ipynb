{
 "cells": [
  {
   "cell_type": "code",
   "execution_count": null,
   "metadata": {},
   "outputs": [],
   "source": []
  },
  {
   "cell_type": "markdown",
   "metadata": {},
   "source": [
    "- cell counting\n",
    "\n",
    "brain storming\n",
    "\n",
    "unterschied 1 und 0 \n",
    "edge detection \n",
    "hole filling \n",
    "und sliding window verküpfen/ nutzen"
   ]
  }
 ],
 "metadata": {
  "language_info": {
   "name": "python"
  },
  "orig_nbformat": 4
 },
 "nbformat": 4,
 "nbformat_minor": 2
}
