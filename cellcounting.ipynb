{
 "cells": [
  {
   "cell_type": "code",
   "execution_count": null,
   "metadata": {},
   "outputs": [],
   "source": [
    "def cell_counting(img):\n",
    "\n",
    "    import matplotlib.pyplot\n",
    "    import numpy\n",
    "\n",
    "    img = img.copy()\n",
    "\n",
    "   "
   ]
  },
  {
   "cell_type": "markdown",
   "metadata": {},
   "source": [
    "- cell counting\n",
    "\n",
    "brain storming\n",
    "\n",
    "- unterschied 1 und 0 \n",
    "- edge detection \n",
    "- hole filling \n",
    "- und sliding window verküpfen/ nutzen /ich glaube hier wurde es aber mehr sinn machen mit 1-dimensionales element bzw eine gerade iterrieren oder? -Ieva"
   ]
  }
 ],
 "metadata": {
  "kernelspec": {
   "display_name": "Python 3.10.4 ('dataanalysis0104_env')",
   "language": "python",
   "name": "python3"
  },
  "language_info": {
   "name": "python",
   "version": "3.10.4"
  },
  "orig_nbformat": 4,
  "vscode": {
   "interpreter": {
    "hash": "aee1d11477472b15114408d994e46f4d51a3ab54d86022a45b211210f233c8d7"
   }
  }
 },
 "nbformat": 4,
 "nbformat_minor": 2
}
