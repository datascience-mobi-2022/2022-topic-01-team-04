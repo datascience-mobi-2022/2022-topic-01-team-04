{
 "cells": [
  {
   "cell_type": "code",
   "execution_count": 1,
   "metadata": {},
   "outputs": [
    {
     "name": "stdout",
     "output_type": "stream",
     "text": [
      "Using matplotlib backend: <object object at 0x0000015D62DBA4E0>\n",
      "%pylab is deprecated, use %matplotlib inline and import the required libraries.\n",
      "Populating the interactive namespace from numpy and matplotlib\n"
     ]
    }
   ],
   "source": [
    "%pylab\n",
    "%matplotlib inline\n",
    "import numpy\n",
    "from matplotlib import pyplot\n",
    "from nuclei_segmentation import otsu\n",
    "import scipy.ndimage\n",
    "\n"
   ]
  },
  {
   "cell_type": "code",
   "execution_count": 2,
   "metadata": {},
   "outputs": [],
   "source": [
    "# histogram stretching algorithm\n",
    "def stretch(x):\n",
    "    intensities = []\n",
    "   \n",
    "    img = x.copy()\n",
    "    lower_quantile, upper_quantile = np.percentile(x, (2,  98))\n",
    "\n",
    "    img[img < lower_quantile] = lower_quantile\n",
    "    img[img > upper_quantile] = upper_quantile\n",
    "    \n",
    "    for i in np.ndindex(img.shape):\n",
    "        intensities.append(img[i])\n",
    "   \n",
    "    img_max = max(intensities)\n",
    "    img_min = min(intensities)\n",
    "    img_stretch = (img-img_min)*(256 / (img_max-img_min))\n",
    "    return img_stretch"
   ]
  },
  {
   "cell_type": "code",
   "execution_count": 3,
   "metadata": {},
   "outputs": [],
   "source": [
    "def binarize(x, intensity):\n",
    "    img = x.copy()\n",
    "\n",
    "    img[img > 0] = intensity\n",
    "    img[img <= 0] = 0\n",
    "    #for o in np.ndindex(img.shape):\n",
    "     #   if img[o] > 0: \n",
    "      #     img[o] = 1\n",
    "       # else:\n",
    "        #    img[o] = 0\n",
    "    \n",
    "    return img"
   ]
  },
  {
   "cell_type": "code",
   "execution_count": 4,
   "metadata": {},
   "outputs": [],
   "source": [
    "img1 = imread(r\"data\\Otsu_data\\NIH3T3\\img\\dna-1.png\")\n",
    "img=copy(img1)"
   ]
  },
  {
   "cell_type": "code",
   "execution_count": 5,
   "metadata": {},
   "outputs": [],
   "source": [
    "#image for comparison of different preprocessing methods\n",
    "#img = imread(r\"data\\Otsu_data\\N2DH-GOWT1\\img\\t52.tif\")\n",
    "\n",
    "img_raw = otsu.otsu_thresholding(img1, 256)\n",
    "img_median = otsu.otsu_thresholding(scipy.ndimage.median_filter(img1, 5), 256)\n",
    "img_gauss = otsu.otsu_thresholding(scipy.ndimage.gaussian_filter(img1,5), 256)\n",
    "img_stretch = otsu.otsu_thresholding(stretch(img1), 256)"
   ]
  },
  {
   "cell_type": "code",
   "execution_count": 6,
   "metadata": {},
   "outputs": [],
   "source": [
    "def image_comparison_whole_image(list_of_images):\n",
    "    imlist = list_of_images\n",
    "    number_of_images=len(list_of_images)\n",
    "    img0=list_of_images[0]\n",
    "    x=int(img0.shape[0]/number_of_images)\n",
    "    y=img.shape[1]\n",
    "    i=1\n",
    "    while i<number_of_images:\n",
    "        image=list_of_images[i]\n",
    "        img0[x*i:x*(i+1),0:y] = image[x*i:x*(i+1), 0:y]\n",
    "        img0[x*i:x*i+3,0:y] = 1\n",
    "        i+=1\n",
    "    figure()\n",
    "    imshow(img0, 'gray')\n",
    "    return img0\n",
    "\n"
   ]
  },
  {
   "cell_type": "code",
   "execution_count": 7,
   "metadata": {},
   "outputs": [],
   "source": [
    "def image_comparison_same_segment(list_of_images, x0, height):\n",
    "    imlist = list_of_images\n",
    "    number_of_images=len(list_of_images)\n",
    "    img0=list_of_images[0]\n",
    "    x=height\n",
    "    y=img.shape[1]\n",
    "    i=0\n",
    "    while i<number_of_images:\n",
    "        image=list_of_images[i]\n",
    "        img0[x*i:x*(i+1),0:y] = image[x0:x0+x, 0:y]\n",
    "        img0[x*i:x*i+3,0:y] = 1\n",
    "        i+=1\n",
    "    from nuclei_segmentation import local_thresholding\n",
    "    img0=img0[0:x*number_of_images, 0:y]\n",
    "    figure()\n",
    "    imshow(img0, 'gray')\n",
    "    return img0"
   ]
  },
  {
   "cell_type": "code",
   "execution_count": 8,
   "metadata": {},
   "outputs": [],
   "source": [
    "img1 = img\n",
    "img2 = scipy.ndimage.gaussian_filter(img, 10)\n",
    "img3 = stretch(img2)\n",
    "img4 = otsu.otsu_thresholding(img3, 256)\n",
    "list=[img1,img2,img4]"
   ]
  },
  {
   "cell_type": "code",
   "execution_count": 9,
   "metadata": {},
   "outputs": [
    {
     "name": "stderr",
     "output_type": "stream",
     "text": [
      "c:\\Users\\ievas\\Desktop\\2022-topic-01-team-04\\nuclei_segmentation\\local_thresholding.py:96: RuntimeWarning: invalid value encountered in longlong_scalars\n",
      "  w0 = w0_sum / sum(n)\n",
      "c:\\Users\\ievas\\Desktop\\2022-topic-01-team-04\\nuclei_segmentation\\local_thresholding.py:104: RuntimeWarning: invalid value encountered in double_scalars\n",
      "  v0 = v0_sum / sum(n[0:i+1])\n",
      "c:\\Users\\ievas\\Desktop\\2022-topic-01-team-04\\nuclei_segmentation\\local_thresholding.py:111: RuntimeWarning: invalid value encountered in longlong_scalars\n",
      "  w1 = w1_sum / sum(n)\n"
     ]
    },
    {
     "ename": "IndexError",
     "evalue": "index -1356 is out of bounds for axis 1 with size 1344",
     "output_type": "error",
     "traceback": [
      "\u001b[1;31m---------------------------------------------------------------------------\u001b[0m",
      "\u001b[1;31mIndexError\u001b[0m                                Traceback (most recent call last)",
      "\u001b[1;32mc:\\Users\\ievas\\Desktop\\2022-topic-01-team-04\\bilder_fuer_report.ipynb Cell 9\u001b[0m in \u001b[0;36m<cell line: 3>\u001b[1;34m()\u001b[0m\n\u001b[0;32m      <a href='vscode-notebook-cell:/c%3A/Users/ievas/Desktop/2022-topic-01-team-04/bilder_fuer_report.ipynb#ch0000008?line=0'>1</a>\u001b[0m img\u001b[39m=\u001b[39mimread(\u001b[39mr\u001b[39m\u001b[39m\"\u001b[39m\u001b[39mdata\u001b[39m\u001b[39m\\\u001b[39m\u001b[39mOtsu_data\u001b[39m\u001b[39m\\\u001b[39m\u001b[39mNIH3T3\u001b[39m\u001b[39m\\\u001b[39m\u001b[39mimg\u001b[39m\u001b[39m\\\u001b[39m\u001b[39mdna-44.png\u001b[39m\u001b[39m\"\u001b[39m)\n\u001b[0;32m      <a href='vscode-notebook-cell:/c%3A/Users/ievas/Desktop/2022-topic-01-team-04/bilder_fuer_report.ipynb#ch0000008?line=1'>2</a>\u001b[0m \u001b[39mfrom\u001b[39;00m \u001b[39mnuclei_segmentation\u001b[39;00m \u001b[39mimport\u001b[39;00m local_thresholding\n\u001b[1;32m----> <a href='vscode-notebook-cell:/c%3A/Users/ievas/Desktop/2022-topic-01-team-04/bilder_fuer_report.ipynb#ch0000008?line=2'>3</a>\u001b[0m sliding_window_on_img \u001b[39m=\u001b[39m local_thresholding\u001b[39m.\u001b[39;49mlocal_thresholding_mean_better(img, \u001b[39m50\u001b[39;49m, \u001b[39m200\u001b[39;49m)\n",
      "File \u001b[1;32mc:\\Users\\ievas\\Desktop\\2022-topic-01-team-04\\nuclei_segmentation\\local_thresholding.py:253\u001b[0m, in \u001b[0;36mlocal_thresholding_mean_better\u001b[1;34m(img, stepsize, framesize)\u001b[0m\n\u001b[0;32m    251\u001b[0m \u001b[39mdef\u001b[39;00m \u001b[39mlocal_thresholding_mean_better\u001b[39m(img, stepsize, framesize):\n\u001b[0;32m    252\u001b[0m     f \u001b[39m=\u001b[39m local_thresholding_mean_forward(img, stepsize, framesize)\n\u001b[1;32m--> 253\u001b[0m     b \u001b[39m=\u001b[39m local_thresholding_mean_backward(img, stepsize, framesize)\n\u001b[0;32m    254\u001b[0m     fb\u001b[39m=\u001b[39mf\u001b[39m+\u001b[39mb\n\u001b[0;32m    257\u001b[0m     \u001b[39mfor\u001b[39;00m i, j \u001b[39min\u001b[39;00m np\u001b[39m.\u001b[39mndindex(fb\u001b[39m.\u001b[39mshape[\u001b[39m0\u001b[39m], fb\u001b[39m.\u001b[39mshape[\u001b[39m1\u001b[39m]):\n",
      "File \u001b[1;32mc:\\Users\\ievas\\Desktop\\2022-topic-01-team-04\\nuclei_segmentation\\local_thresholding.py:243\u001b[0m, in \u001b[0;36mlocal_thresholding_mean_backward\u001b[1;34m(image, stepsize, framesize)\u001b[0m\n\u001b[0;32m    241\u001b[0m     c\u001b[39m=\u001b[39ma\u001b[39m+\u001b[39mx\n\u001b[0;32m    242\u001b[0m     d\u001b[39m=\u001b[39mb\u001b[39m+\u001b[39my\n\u001b[1;32m--> 243\u001b[0m     array[c,d,\u001b[39m0\u001b[39m]\u001b[39m+\u001b[39m\u001b[39m=\u001b[39mthreshold\n\u001b[0;32m    244\u001b[0m     array[c,d,\u001b[39m1\u001b[39m]\u001b[39m+\u001b[39m\u001b[39m=\u001b[39m\u001b[39m1\u001b[39m\n\u001b[0;32m    245\u001b[0m y\u001b[39m-\u001b[39m\u001b[39m=\u001b[39mstepsize\n",
      "\u001b[1;31mIndexError\u001b[0m: index -1356 is out of bounds for axis 1 with size 1344"
     ]
    }
   ],
   "source": [
    "img=imread(r\"data\\Otsu_data\\NIH3T3\\img\\dna-44.png\")\n",
    "from nuclei_segmentation import local_thresholding\n",
    "sliding_window_on_img = local_thresholding.local_thresholding_mean_better(img, 50, 200)"
   ]
  },
  {
   "cell_type": "code",
   "execution_count": null,
   "metadata": {},
   "outputs": [
    {
     "ename": "TypeError",
     "evalue": "binarize() missing 1 required positional argument: 'intensity'",
     "output_type": "error",
     "traceback": [
      "\u001b[1;31m---------------------------------------------------------------------------\u001b[0m",
      "\u001b[1;31mTypeError\u001b[0m                                 Traceback (most recent call last)",
      "\u001b[1;32mc:\\Users\\ievas\\Desktop\\2022-topic-01-team-04\\bilder_fuer_report.ipynb Cell 9\u001b[0m in \u001b[0;36m<cell line: 6>\u001b[1;34m()\u001b[0m\n\u001b[0;32m      <a href='vscode-notebook-cell:/c%3A/Users/ievas/Desktop/2022-topic-01-team-04/bilder_fuer_report.ipynb#ch0000008?line=3'>4</a>\u001b[0m img\u001b[39m=\u001b[39mimread(\u001b[39mr\u001b[39m\u001b[39m\"\u001b[39m\u001b[39mdata\u001b[39m\u001b[39m\\\u001b[39m\u001b[39mOtsu_data\u001b[39m\u001b[39m\\\u001b[39m\u001b[39mNIH3T3\u001b[39m\u001b[39m\\\u001b[39m\u001b[39mimg\u001b[39m\u001b[39m\\\u001b[39m\u001b[39mdna-44.png\u001b[39m\u001b[39m\"\u001b[39m)\n\u001b[0;32m      <a href='vscode-notebook-cell:/c%3A/Users/ievas/Desktop/2022-topic-01-team-04/bilder_fuer_report.ipynb#ch0000008?line=4'>5</a>\u001b[0m \u001b[39m#image=stretch(img)\u001b[39;00m\n\u001b[1;32m----> <a href='vscode-notebook-cell:/c%3A/Users/ievas/Desktop/2022-topic-01-team-04/bilder_fuer_report.ipynb#ch0000008?line=5'>6</a>\u001b[0m gt_img \u001b[39m=\u001b[39m binarize((imread(\u001b[39mr\u001b[39;49m\u001b[39m\"\u001b[39;49m\u001b[39mdata\u001b[39;49m\u001b[39m\\\u001b[39;49m\u001b[39mOtsu_data\u001b[39;49m\u001b[39m\\\u001b[39;49m\u001b[39mNIH3T3\u001b[39;49m\u001b[39m\\\u001b[39;49m\u001b[39mgt\u001b[39;49m\u001b[39m\\\u001b[39;49m\u001b[39m44.png\u001b[39;49m\u001b[39m\"\u001b[39;49m)))\n\u001b[0;32m      <a href='vscode-notebook-cell:/c%3A/Users/ievas/Desktop/2022-topic-01-team-04/bilder_fuer_report.ipynb#ch0000008?line=6'>7</a>\u001b[0m otsu_img \u001b[39m=\u001b[39m otsu\u001b[39m.\u001b[39motsu_thresholding(img, \u001b[39m256\u001b[39m)\n\u001b[0;32m      <a href='vscode-notebook-cell:/c%3A/Users/ievas/Desktop/2022-topic-01-team-04/bilder_fuer_report.ipynb#ch0000008?line=7'>8</a>\u001b[0m \u001b[39mprint\u001b[39m(\u001b[39m'\u001b[39m\u001b[39mdone\u001b[39m\u001b[39m'\u001b[39m)\n",
      "\u001b[1;31mTypeError\u001b[0m: binarize() missing 1 required positional argument: 'intensity'"
     ]
    }
   ],
   "source": [
    "from nuclei_segmentation import local_thresholding\n",
    "from nuclei_segmentation import two_level_otsu\n",
    "\n",
    "img=imread(r\"data\\Otsu_data\\NIH3T3\\img\\dna-44.png\")\n",
    "#image=stretch(img)\n",
    "gt_img = binarize((imread(r\"data\\Otsu_data\\NIH3T3\\gt\\44.png\")))\n",
    "otsu_img = otsu.otsu_thresholding(img, 256)\n",
    "print('done')\n",
    "tl_img = two_level_otsu.two_level_otsu_thresholding_clip(img,256)\n",
    "print('done2')\n",
    "lt_img= binarize(local_thresholding.local_thresholding_mean(img, 50, 200))\n",
    "print('done3')\n",
    "\n",
    "list=[img,otsu_img,tl_img,lt_img, gt_img]\n",
    "image_comparison_same_segment(list, 0, 200)"
   ]
  },
  {
   "cell_type": "code",
   "execution_count": null,
   "metadata": {},
   "outputs": [
    {
     "name": "stdout",
     "output_type": "stream",
     "text": [
      "done\n",
      "done2\n",
      "done3\n"
     ]
    },
    {
     "data": {
      "text/plain": [
       "array([[2, 0, 0, ..., 0, 0, 0],\n",
       "       [0, 0, 0, ..., 0, 2, 0],\n",
       "       [0, 0, 0, ..., 5, 2, 0],\n",
       "       ...,\n",
       "       [0, 0, 0, ..., 0, 0, 0],\n",
       "       [0, 0, 0, ..., 0, 0, 0],\n",
       "       [0, 0, 0, ..., 0, 0, 0]], dtype=uint8)"
      ]
     },
     "execution_count": 97,
     "metadata": {},
     "output_type": "execute_result"
    },
    {
     "data": {
      "image/png": "[encoded data removed]",
      "text/plain": [
       "<Figure size 432x288 with 1 Axes>"
      ]
     },
     "metadata": {
      "needs_background": "light"
     },
     "output_type": "display_data"
    }
   ],
   "source": [
    "\n",
    "img=imread(r\"data\\Otsu_data\\N2DH-GOWT1\\img\\t52.tif\")\n",
    "intensity=max(unique(img))\n",
    "#image=stretch(img)\n",
    "gt_img = binarize(imread(r\"data\\Otsu_data\\N2DH-GOWT1\\gt\\man_seg52.tif\"), intensity)\n",
    "otsu_img = otsu.otsu_thresholding(img, 256)\n",
    "print('done')\n",
    "tl_img = binarize(two_level_otsu.two_level_otsu_thresholding_clip(img,256), intensity)\n",
    "print('done2')\n",
    "lt_img= binarize(local_thresholding.local_thresholding_mean(img, 50, 200), intensity)\n",
    "print('done3')\n",
    "\n",
    "list=[img, otsu_img,tl_img,lt_img, gt_img]\n",
    "image_comparison_same_segment(list, 100, 200)"
   ]
  },
  {
   "cell_type": "code",
   "execution_count": null,
   "metadata": {},
   "outputs": [],
   "source": []
  },
  {
   "cell_type": "code",
   "execution_count": null,
   "metadata": {},
   "outputs": [
    {
     "name": "stdout",
     "output_type": "stream",
     "text": [
      "done\n",
      "done2\n"
     ]
    },
    {
     "name": "stderr",
     "output_type": "stream",
     "text": [
      "c:\\Users\\ievas\\Desktop\\2022-topic-01-team-04\\nuclei_segmentation\\local_thresholding.py:96: RuntimeWarning: invalid value encountered in longlong_scalars\n",
      "  w0 = w0_sum / sum(n)\n",
      "c:\\Users\\ievas\\Desktop\\2022-topic-01-team-04\\nuclei_segmentation\\local_thresholding.py:104: RuntimeWarning: invalid value encountered in double_scalars\n",
      "  v0 = v0_sum / sum(n[0:i+1])\n",
      "c:\\Users\\ievas\\Desktop\\2022-topic-01-team-04\\nuclei_segmentation\\local_thresholding.py:111: RuntimeWarning: invalid value encountered in longlong_scalars\n",
      "  w1 = w1_sum / sum(n)\n"
     ]
    },
    {
     "name": "stdout",
     "output_type": "stream",
     "text": [
      "done3\n"
     ]
    },
    {
     "ename": "ValueError",
     "evalue": "could not broadcast input array from shape (200,1100) into shape (100,1100)",
     "output_type": "error",
     "traceback": [
      "\u001b[1;31m---------------------------------------------------------------------------\u001b[0m",
      "\u001b[1;31mValueError\u001b[0m                                Traceback (most recent call last)",
      "\u001b[1;32mc:\\Users\\ievas\\Desktop\\2022-topic-01-team-04\\bilder_fuer_report.ipynb Cell 12\u001b[0m in \u001b[0;36m<cell line: 12>\u001b[1;34m()\u001b[0m\n\u001b[0;32m      <a href='vscode-notebook-cell:/c%3A/Users/ievas/Desktop/2022-topic-01-team-04/bilder_fuer_report.ipynb#ch0000013?line=8'>9</a>\u001b[0m \u001b[39mprint\u001b[39m(\u001b[39m'\u001b[39m\u001b[39mdone3\u001b[39m\u001b[39m'\u001b[39m)\n\u001b[0;32m     <a href='vscode-notebook-cell:/c%3A/Users/ievas/Desktop/2022-topic-01-team-04/bilder_fuer_report.ipynb#ch0000013?line=10'>11</a>\u001b[0m \u001b[39mlist\u001b[39m\u001b[39m=\u001b[39m[otsu_img,tl_img,lt_img, gt_img]\n\u001b[1;32m---> <a href='vscode-notebook-cell:/c%3A/Users/ievas/Desktop/2022-topic-01-team-04/bilder_fuer_report.ipynb#ch0000013?line=11'>12</a>\u001b[0m image_comparison_same_segment(\u001b[39mlist\u001b[39;49m, \u001b[39m100\u001b[39;49m, \u001b[39m200\u001b[39;49m)\n",
      "\u001b[1;32mc:\\Users\\ievas\\Desktop\\2022-topic-01-team-04\\bilder_fuer_report.ipynb Cell 12\u001b[0m in \u001b[0;36mimage_comparison_same_segment\u001b[1;34m(list_of_images, x0, height)\u001b[0m\n\u001b[0;32m      <a href='vscode-notebook-cell:/c%3A/Users/ievas/Desktop/2022-topic-01-team-04/bilder_fuer_report.ipynb#ch0000013?line=7'>8</a>\u001b[0m \u001b[39mwhile\u001b[39;00m i\u001b[39m<\u001b[39mnumber_of_images:\n\u001b[0;32m      <a href='vscode-notebook-cell:/c%3A/Users/ievas/Desktop/2022-topic-01-team-04/bilder_fuer_report.ipynb#ch0000013?line=8'>9</a>\u001b[0m     image\u001b[39m=\u001b[39mlist_of_images[i]\n\u001b[1;32m---> <a href='vscode-notebook-cell:/c%3A/Users/ievas/Desktop/2022-topic-01-team-04/bilder_fuer_report.ipynb#ch0000013?line=9'>10</a>\u001b[0m     img0[x\u001b[39m*\u001b[39mi:x\u001b[39m*\u001b[39m(i\u001b[39m+\u001b[39m\u001b[39m1\u001b[39m),\u001b[39m0\u001b[39m:y] \u001b[39m=\u001b[39m image[x0:x0\u001b[39m+\u001b[39mx, \u001b[39m0\u001b[39m:y]\n\u001b[0;32m     <a href='vscode-notebook-cell:/c%3A/Users/ievas/Desktop/2022-topic-01-team-04/bilder_fuer_report.ipynb#ch0000013?line=10'>11</a>\u001b[0m     img0[x\u001b[39m*\u001b[39mi:x\u001b[39m*\u001b[39mi\u001b[39m+\u001b[39m\u001b[39m3\u001b[39m,\u001b[39m0\u001b[39m:y] \u001b[39m=\u001b[39m \u001b[39m1\u001b[39m\n\u001b[0;32m     <a href='vscode-notebook-cell:/c%3A/Users/ievas/Desktop/2022-topic-01-team-04/bilder_fuer_report.ipynb#ch0000013?line=11'>12</a>\u001b[0m     i\u001b[39m+\u001b[39m\u001b[39m=\u001b[39m\u001b[39m1\u001b[39m\n",
      "\u001b[1;31mValueError\u001b[0m: could not broadcast input array from shape (200,1100) into shape (100,1100)"
     ]
    }
   ],
   "source": [
    "img=imread(r\"data\\Otsu_data\\N2DL-HeLa\\img\\t75.tif\")\n",
    "intensity=max(unique(img))\n",
    "gt_img = binarize(imread(r\"data\\Otsu_data\\N2DL-HeLa\\gt\\man_seg75.tif\"), intensity)\n",
    "otsu_img = otsu.otsu_thresholding(img, 256)\n",
    "print('done')\n",
    "tl_img = binarize(two_level_otsu.two_level_otsu_thresholding_clip(img,256),intensity)\n",
    "print('done2')\n",
    "lt_img= binarize(local_thresholding.local_thresholding_mean(img, 50, 200),intensity)\n",
    "print('done3')\n",
    "\n",
    "list=[otsu_img,tl_img,lt_img, gt_img]\n",
    "image_comparison_same_segment(list, 100, 200)"
   ]
  }
 ],
 "metadata": {
  "kernelspec": {
   "display_name": "Python 3.10.4 ('dataanalysis0104_env')",
   "language": "python",
   "name": "python3"
  },
  "language_info": {
   "codemirror_mode": {
    "name": "ipython",
    "version": 3
   },
   "file_extension": ".py",
   "mimetype": "text/x-python",
   "name": "python",
   "nbconvert_exporter": "python",
   "pygments_lexer": "ipython3",
   "version": "3.10.4"
  },
  "orig_nbformat": 4,
  "vscode": {
   "interpreter": {
    "hash": "21db8ca179e1c46f3f1871b3fc2646379981f9fac7908d31737eb0066b24c468"
   }
  }
 },
 "nbformat": 4,
 "nbformat_minor": 2
}
