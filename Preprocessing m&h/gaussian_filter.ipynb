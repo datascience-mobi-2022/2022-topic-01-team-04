{
 "cells": [
  {
   "cell_type": "code",
   "execution_count": 7,
   "metadata": {},
   "outputs": [
    {
     "ename": "ModuleNotFoundError",
     "evalue": "No module named 'matplotlib'",
     "output_type": "error",
     "traceback": [
      "\u001b[0;31m---------------------------------------------------------------------------\u001b[0m",
      "\u001b[0;31mModuleNotFoundError\u001b[0m                       Traceback (most recent call last)",
      "\u001b[1;32m/Users/maribelschneider/Documents/Uni/Bachelor - Molekulare Biotechnologie/Vorlesungsunterlagen/weitere Dateien/FS4/Data Analysis/2022-topic-01-team-04/Preprocessing m&h/gaussian_filter.ipynb Cell 1'\u001b[0m in \u001b[0;36m<cell line: 1>\u001b[0;34m()\u001b[0m\n\u001b[0;32m----> <a href='vscode-notebook-cell:/Users/maribelschneider/Documents/Uni/Bachelor%20-%20Molekulare%20Biotechnologie/Vorlesungsunterlagen/weitere%20Dateien/FS4/Data%20Analysis/2022-topic-01-team-04/Preprocessing%20m%26h/gaussian_filter.ipynb#ch0000000?line=0'>1</a>\u001b[0m get_ipython()\u001b[39m.\u001b[39;49mrun_line_magic(\u001b[39m'\u001b[39;49m\u001b[39mpylab\u001b[39;49m\u001b[39m'\u001b[39;49m, \u001b[39m'\u001b[39;49m\u001b[39m'\u001b[39;49m)\n\u001b[1;32m      <a href='vscode-notebook-cell:/Users/maribelschneider/Documents/Uni/Bachelor%20-%20Molekulare%20Biotechnologie/Vorlesungsunterlagen/weitere%20Dateien/FS4/Data%20Analysis/2022-topic-01-team-04/Preprocessing%20m%26h/gaussian_filter.ipynb#ch0000000?line=1'>2</a>\u001b[0m get_ipython()\u001b[39m.\u001b[39mrun_line_magic(\u001b[39m'\u001b[39m\u001b[39mmatplotlib\u001b[39m\u001b[39m'\u001b[39m, \u001b[39m'\u001b[39m\u001b[39minline\u001b[39m\u001b[39m'\u001b[39m)\n\u001b[1;32m      <a href='vscode-notebook-cell:/Users/maribelschneider/Documents/Uni/Bachelor%20-%20Molekulare%20Biotechnologie/Vorlesungsunterlagen/weitere%20Dateien/FS4/Data%20Analysis/2022-topic-01-team-04/Preprocessing%20m%26h/gaussian_filter.ipynb#ch0000000?line=2'>3</a>\u001b[0m \u001b[39mimport\u001b[39;00m \u001b[39mmatplotlib\u001b[39;00m\u001b[39m.\u001b[39;00m\u001b[39mpyplot\u001b[39;00m \u001b[39mas\u001b[39;00m \u001b[39mplt\u001b[39;00m\n",
      "File \u001b[0;32m/Library/Frameworks/Python.framework/Versions/3.10/lib/python3.10/site-packages/IPython/core/interactiveshell.py:2305\u001b[0m, in \u001b[0;36mInteractiveShell.run_line_magic\u001b[0;34m(self, magic_name, line, _stack_depth)\u001b[0m\n\u001b[1;32m   2303\u001b[0m     kwargs[\u001b[39m'\u001b[39m\u001b[39mlocal_ns\u001b[39m\u001b[39m'\u001b[39m] \u001b[39m=\u001b[39m \u001b[39mself\u001b[39m\u001b[39m.\u001b[39mget_local_scope(stack_depth)\n\u001b[1;32m   2304\u001b[0m \u001b[39mwith\u001b[39;00m \u001b[39mself\u001b[39m\u001b[39m.\u001b[39mbuiltin_trap:\n\u001b[0;32m-> 2305\u001b[0m     result \u001b[39m=\u001b[39m fn(\u001b[39m*\u001b[39;49margs, \u001b[39m*\u001b[39;49m\u001b[39m*\u001b[39;49mkwargs)\n\u001b[1;32m   2306\u001b[0m \u001b[39mreturn\u001b[39;00m result\n",
      "File \u001b[0;32m/Library/Frameworks/Python.framework/Versions/3.10/lib/python3.10/site-packages/IPython/core/magics/pylab.py:155\u001b[0m, in \u001b[0;36mPylabMagics.pylab\u001b[0;34m(self, line)\u001b[0m\n\u001b[1;32m    151\u001b[0m \u001b[39melse\u001b[39;00m:\n\u001b[1;32m    152\u001b[0m     \u001b[39m# invert no-import flag\u001b[39;00m\n\u001b[1;32m    153\u001b[0m     import_all \u001b[39m=\u001b[39m \u001b[39mnot\u001b[39;00m args\u001b[39m.\u001b[39mno_import_all\n\u001b[0;32m--> 155\u001b[0m gui, backend, clobbered \u001b[39m=\u001b[39m \u001b[39mself\u001b[39;49m\u001b[39m.\u001b[39;49mshell\u001b[39m.\u001b[39;49menable_pylab(args\u001b[39m.\u001b[39;49mgui, import_all\u001b[39m=\u001b[39;49mimport_all)\n\u001b[1;32m    156\u001b[0m \u001b[39mself\u001b[39m\u001b[39m.\u001b[39m_show_matplotlib_backend(args\u001b[39m.\u001b[39mgui, backend)\n\u001b[1;32m    157\u001b[0m \u001b[39mprint\u001b[39m(\n\u001b[1;32m    158\u001b[0m     \u001b[39m\"\u001b[39m\u001b[39m%\u001b[39m\u001b[39mpylab is deprecated, use \u001b[39m\u001b[39m%\u001b[39m\u001b[39mmatplotlib inline and import the required libraries.\u001b[39m\u001b[39m\"\u001b[39m\n\u001b[1;32m    159\u001b[0m )\n",
      "File \u001b[0;32m/Library/Frameworks/Python.framework/Versions/3.10/lib/python3.10/site-packages/IPython/core/interactiveshell.py:3532\u001b[0m, in \u001b[0;36mInteractiveShell.enable_pylab\u001b[0;34m(self, gui, import_all, welcome_message)\u001b[0m\n\u001b[1;32m   3505\u001b[0m \u001b[39m\"\"\"Activate pylab support at runtime.\u001b[39;00m\n\u001b[1;32m   3506\u001b[0m \n\u001b[1;32m   3507\u001b[0m \u001b[39mThis turns on support for matplotlib, preloads into the interactive\u001b[39;00m\n\u001b[0;32m   (...)\u001b[0m\n\u001b[1;32m   3528\u001b[0m \u001b[39m    This argument is ignored, no welcome message will be displayed.\u001b[39;00m\n\u001b[1;32m   3529\u001b[0m \u001b[39m\"\"\"\u001b[39;00m\n\u001b[1;32m   3530\u001b[0m \u001b[39mfrom\u001b[39;00m \u001b[39mIPython\u001b[39;00m\u001b[39m.\u001b[39;00m\u001b[39mcore\u001b[39;00m\u001b[39m.\u001b[39;00m\u001b[39mpylabtools\u001b[39;00m \u001b[39mimport\u001b[39;00m import_pylab\n\u001b[0;32m-> 3532\u001b[0m gui, backend \u001b[39m=\u001b[39m \u001b[39mself\u001b[39;49m\u001b[39m.\u001b[39;49menable_matplotlib(gui)\n\u001b[1;32m   3534\u001b[0m \u001b[39m# We want to prevent the loading of pylab to pollute the user's\u001b[39;00m\n\u001b[1;32m   3535\u001b[0m \u001b[39m# namespace as shown by the %who* magics, so we execute the activation\u001b[39;00m\n\u001b[1;32m   3536\u001b[0m \u001b[39m# code in an empty namespace, and we update *both* user_ns and\u001b[39;00m\n\u001b[1;32m   3537\u001b[0m \u001b[39m# user_ns_hidden with this information.\u001b[39;00m\n\u001b[1;32m   3538\u001b[0m ns \u001b[39m=\u001b[39m {}\n",
      "File \u001b[0;32m/Library/Frameworks/Python.framework/Versions/3.10/lib/python3.10/site-packages/IPython/core/interactiveshell.py:3478\u001b[0m, in \u001b[0;36mInteractiveShell.enable_matplotlib\u001b[0;34m(self, gui)\u001b[0m\n\u001b[1;32m   3457\u001b[0m \u001b[39mdef\u001b[39;00m \u001b[39menable_matplotlib\u001b[39m(\u001b[39mself\u001b[39m, gui\u001b[39m=\u001b[39m\u001b[39mNone\u001b[39;00m):\n\u001b[1;32m   3458\u001b[0m     \u001b[39m\"\"\"Enable interactive matplotlib and inline figure support.\u001b[39;00m\n\u001b[1;32m   3459\u001b[0m \n\u001b[1;32m   3460\u001b[0m \u001b[39m    This takes the following steps:\u001b[39;00m\n\u001b[0;32m   (...)\u001b[0m\n\u001b[1;32m   3476\u001b[0m \u001b[39m        display figures inline.\u001b[39;00m\n\u001b[1;32m   3477\u001b[0m \u001b[39m    \"\"\"\u001b[39;00m\n\u001b[0;32m-> 3478\u001b[0m     \u001b[39mfrom\u001b[39;00m \u001b[39mmatplotlib_inline\u001b[39;00m\u001b[39m.\u001b[39;00m\u001b[39mbackend_inline\u001b[39;00m \u001b[39mimport\u001b[39;00m configure_inline_support\n\u001b[1;32m   3480\u001b[0m     \u001b[39mfrom\u001b[39;00m \u001b[39mIPython\u001b[39;00m\u001b[39m.\u001b[39;00m\u001b[39mcore\u001b[39;00m \u001b[39mimport\u001b[39;00m pylabtools \u001b[39mas\u001b[39;00m pt\n\u001b[1;32m   3481\u001b[0m     gui, backend \u001b[39m=\u001b[39m pt\u001b[39m.\u001b[39mfind_gui_and_backend(gui, \u001b[39mself\u001b[39m\u001b[39m.\u001b[39mpylab_gui_select)\n",
      "File \u001b[0;32m/Library/Frameworks/Python.framework/Versions/3.10/lib/python3.10/site-packages/matplotlib_inline/backend_inline.py:6\u001b[0m, in \u001b[0;36m<module>\u001b[0;34m\u001b[0m\n\u001b[1;32m      1\u001b[0m \u001b[39m\"\"\"A matplotlib backend for publishing figures via display_data\"\"\"\u001b[39;00m\n\u001b[1;32m      3\u001b[0m \u001b[39m# Copyright (c) IPython Development Team.\u001b[39;00m\n\u001b[1;32m      4\u001b[0m \u001b[39m# Distributed under the terms of the BSD 3-Clause License.\u001b[39;00m\n\u001b[0;32m----> 6\u001b[0m \u001b[39mimport\u001b[39;00m \u001b[39mmatplotlib\u001b[39;00m\n\u001b[1;32m      7\u001b[0m \u001b[39mfrom\u001b[39;00m \u001b[39mmatplotlib\u001b[39;00m\u001b[39m.\u001b[39;00m\u001b[39mbackends\u001b[39;00m\u001b[39m.\u001b[39;00m\u001b[39mbackend_agg\u001b[39;00m \u001b[39mimport\u001b[39;00m (  \u001b[39m# noqa\u001b[39;00m\n\u001b[1;32m      8\u001b[0m     new_figure_manager,\n\u001b[1;32m      9\u001b[0m     FigureCanvasAgg,\n\u001b[1;32m     10\u001b[0m     new_figure_manager_given_figure,\n\u001b[1;32m     11\u001b[0m )\n\u001b[1;32m     12\u001b[0m \u001b[39mfrom\u001b[39;00m \u001b[39mmatplotlib\u001b[39;00m \u001b[39mimport\u001b[39;00m colors\n",
      "\u001b[0;31mModuleNotFoundError\u001b[0m: No module named 'matplotlib'"
     ]
    }
   ],
   "source": [
    "%pylab\n",
    "%matplotlib inline\n",
    "import matplotlib.pyplot as plt\n",
    "import numpy\n",
    "import scipy.ndimage\n",
    "import pandas as pd\n"
   ]
  },
  {
   "cell_type": "code",
   "execution_count": 6,
   "metadata": {},
   "outputs": [
    {
     "ename": "NameError",
     "evalue": "name 'gt1' is not defined",
     "output_type": "error",
     "traceback": [
      "\u001b[0;31m---------------------------------------------------------------------------\u001b[0m",
      "\u001b[0;31mNameError\u001b[0m                                 Traceback (most recent call last)",
      "\u001b[1;32m/Users/maribelschneider/Documents/Uni/Bachelor - Molekulare Biotechnologie/Vorlesungsunterlagen/weitere Dateien/FS4/Data Analysis/2022-topic-01-team-04/Preprocessing m&h/gaussian_filter.ipynb Cell 2'\u001b[0m in \u001b[0;36m<cell line: 1>\u001b[0;34m()\u001b[0m\n\u001b[0;32m----> <a href='vscode-notebook-cell:/Users/maribelschneider/Documents/Uni/Bachelor%20-%20Molekulare%20Biotechnologie/Vorlesungsunterlagen/weitere%20Dateien/FS4/Data%20Analysis/2022-topic-01-team-04/Preprocessing%20m%26h/gaussian_filter.ipynb#ch0000001?line=0'>1</a>\u001b[0m gt1\n",
      "\u001b[0;31mNameError\u001b[0m: name 'gt1' is not defined"
     ]
    }
   ],
   "source": []
  }
 ],
 "metadata": {
  "kernelspec": {
   "display_name": "Python 3.10.5 64-bit",
   "language": "python",
   "name": "python3"
  },
  "language_info": {
   "codemirror_mode": {
    "name": "ipython",
    "version": 3
   },
   "file_extension": ".py",
   "mimetype": "text/x-python",
   "name": "python",
   "nbconvert_exporter": "python",
   "pygments_lexer": "ipython3",
   "version": "3.10.5"
  },
  "orig_nbformat": 4,
  "vscode": {
   "interpreter": {
    "hash": "aee8b7b246df8f9039afb4144a1f6fd8d2ca17a180786b69acc140d282b71a49"
   }
  }
 },
 "nbformat": 4,
 "nbformat_minor": 2
}
