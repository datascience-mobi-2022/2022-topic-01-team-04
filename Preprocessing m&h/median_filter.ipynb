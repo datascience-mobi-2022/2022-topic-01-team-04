{
 "cells": [
  {
   "cell_type": "code",
   "execution_count": 25,
   "metadata": {},
   "outputs": [
    {
     "name": "stdout",
     "output_type": "stream",
     "text": [
      "Using matplotlib backend: QtAgg\n",
      "%pylab is deprecated, use %matplotlib inline and import the required libraries.\n",
      "Populating the interactive namespace from numpy and matplotlib\n"
     ]
    }
   ],
   "source": [
    "\n",
    "%pylab\n",
    "%matplotlib inline\n",
    "from matplotlib import pyplot as plt\n",
    "\n"
   ]
  },
  {
   "cell_type": "markdown",
   "metadata": {},
   "source": [
    "Unsere Preprocessing:\n",
    "- no preprocessing\n",
    "- Median\n",
    "- Gaussian\n",
    "- (Mittelwert)\n",
    "- Histogramm stretching\n",
    "- kombinationen\n",
    "\n",
    "# Median filter angewendet auf NIH3T3 Dataset"
   ]
  },
  {
   "cell_type": "code",
   "execution_count": 26,
   "metadata": {},
   "outputs": [
    {
     "ename": "FileNotFoundError",
     "evalue": "[Errno 2] No such file or directory: 'data\\\\Otsu_data\\\\NIH3T3\\\\img\\\\dna-44.png'",
     "output_type": "error",
     "traceback": [
      "\u001b[1;31m---------------------------------------------------------------------------\u001b[0m",
      "\u001b[1;31mFileNotFoundError\u001b[0m                         Traceback (most recent call last)",
      "\u001b[1;32mc:\\Users\\Helen Jade\\OneDrive\\Desktop\\2022-topic-01-team-04\\Preprocessing m&h\\median_filter.ipynb Cell 3'\u001b[0m in \u001b[0;36m<cell line: 1>\u001b[1;34m()\u001b[0m\n\u001b[1;32m----> <a href='vscode-notebook-cell:/c%3A/Users/Helen%20Jade/OneDrive/Desktop/2022-topic-01-team-04/Preprocessing%20m%26h/median_filter.ipynb#ch0000003?line=0'>1</a>\u001b[0m img \u001b[39m=\u001b[39m imread(\u001b[39mr\u001b[39;49m\u001b[39m\"\u001b[39;49m\u001b[39mdata\u001b[39;49m\u001b[39m\\\u001b[39;49m\u001b[39mOtsu_data\u001b[39;49m\u001b[39m\\\u001b[39;49m\u001b[39mNIH3T3\u001b[39;49m\u001b[39m\\\u001b[39;49m\u001b[39mimg\u001b[39;49m\u001b[39m\\\u001b[39;49m\u001b[39mdna-44.png\u001b[39;49m\u001b[39m\"\u001b[39;49m)\n",
      "File \u001b[1;32mc:\\Users\\Helen Jade\\anaconda3\\envs\\dataanalysis0104_Env\\lib\\site-packages\\matplotlib\\pyplot.py:2139\u001b[0m, in \u001b[0;36mimread\u001b[1;34m(fname, format)\u001b[0m\n\u001b[0;32m   2137\u001b[0m \u001b[39m@_copy_docstring_and_deprecators\u001b[39m(matplotlib\u001b[39m.\u001b[39mimage\u001b[39m.\u001b[39mimread)\n\u001b[0;32m   2138\u001b[0m \u001b[39mdef\u001b[39;00m \u001b[39mimread\u001b[39m(fname, \u001b[39mformat\u001b[39m\u001b[39m=\u001b[39m\u001b[39mNone\u001b[39;00m):\n\u001b[1;32m-> 2139\u001b[0m     \u001b[39mreturn\u001b[39;00m matplotlib\u001b[39m.\u001b[39;49mimage\u001b[39m.\u001b[39;49mimread(fname, \u001b[39mformat\u001b[39;49m)\n",
      "File \u001b[1;32mc:\\Users\\Helen Jade\\anaconda3\\envs\\dataanalysis0104_Env\\lib\\site-packages\\matplotlib\\image.py:1560\u001b[0m, in \u001b[0;36mimread\u001b[1;34m(fname, format)\u001b[0m\n\u001b[0;32m   1558\u001b[0m                 response \u001b[39m=\u001b[39m io\u001b[39m.\u001b[39mBytesIO(response\u001b[39m.\u001b[39mread())\n\u001b[0;32m   1559\u001b[0m             \u001b[39mreturn\u001b[39;00m imread(response, \u001b[39mformat\u001b[39m\u001b[39m=\u001b[39mext)\n\u001b[1;32m-> 1560\u001b[0m \u001b[39mwith\u001b[39;00m img_open(fname) \u001b[39mas\u001b[39;00m image:\n\u001b[0;32m   1561\u001b[0m     \u001b[39mreturn\u001b[39;00m (_pil_png_to_float_array(image)\n\u001b[0;32m   1562\u001b[0m             \u001b[39mif\u001b[39;00m \u001b[39misinstance\u001b[39m(image, PIL\u001b[39m.\u001b[39mPngImagePlugin\u001b[39m.\u001b[39mPngImageFile) \u001b[39melse\u001b[39;00m\n\u001b[0;32m   1563\u001b[0m             pil_to_array(image))\n",
      "File \u001b[1;32mc:\\Users\\Helen Jade\\anaconda3\\envs\\dataanalysis0104_Env\\lib\\site-packages\\PIL\\ImageFile.py:100\u001b[0m, in \u001b[0;36mImageFile.__init__\u001b[1;34m(self, fp, filename)\u001b[0m\n\u001b[0;32m     96\u001b[0m \u001b[39mself\u001b[39m\u001b[39m.\u001b[39mdecodermaxblock \u001b[39m=\u001b[39m MAXBLOCK\n\u001b[0;32m     98\u001b[0m \u001b[39mif\u001b[39;00m isPath(fp):\n\u001b[0;32m     99\u001b[0m     \u001b[39m# filename\u001b[39;00m\n\u001b[1;32m--> 100\u001b[0m     \u001b[39mself\u001b[39m\u001b[39m.\u001b[39mfp \u001b[39m=\u001b[39m \u001b[39mopen\u001b[39;49m(fp, \u001b[39m\"\u001b[39;49m\u001b[39mrb\u001b[39;49m\u001b[39m\"\u001b[39;49m)\n\u001b[0;32m    101\u001b[0m     \u001b[39mself\u001b[39m\u001b[39m.\u001b[39mfilename \u001b[39m=\u001b[39m fp\n\u001b[0;32m    102\u001b[0m     \u001b[39mself\u001b[39m\u001b[39m.\u001b[39m_exclusive_fp \u001b[39m=\u001b[39m \u001b[39mTrue\u001b[39;00m\n",
      "\u001b[1;31mFileNotFoundError\u001b[0m: [Errno 2] No such file or directory: 'data\\\\Otsu_data\\\\NIH3T3\\\\img\\\\dna-44.png'"
     ]
    }
   ],
   "source": [
    "\n",
    "img = imread(r\"data\\Otsu_data\\NIH3T3\\img\\dna-44.png\")"
   ]
  },
  {
   "cell_type": "code",
   "execution_count": null,
   "metadata": {},
   "outputs": [
    {
     "ename": "FileNotFoundError",
     "evalue": "[Errno 2] No such file or directory: 'data\\\\Otsu_data\\\\NIH3T3\\\\gt\\\\0.png'",
     "output_type": "error",
     "traceback": [
      "\u001b[1;31m---------------------------------------------------------------------------\u001b[0m",
      "\u001b[1;31mFileNotFoundError\u001b[0m                         Traceback (most recent call last)",
      "\u001b[1;32mc:\\Users\\Helen Jade\\OneDrive\\Desktop\\2022-topic-01-team-04\\Preprocessing m&h\\median_filter.ipynb Cell 3'\u001b[0m in \u001b[0;36m<cell line: 4>\u001b[1;34m()\u001b[0m\n\u001b[0;32m      <a href='vscode-notebook-cell:/c%3A/Users/Helen%20Jade/OneDrive/Desktop/2022-topic-01-team-04/Preprocessing%20m%26h/median_filter.ipynb#ch0000002?line=0'>1</a>\u001b[0m \u001b[39m#load ground truths\u001b[39;00m\n\u001b[0;32m      <a href='vscode-notebook-cell:/c%3A/Users/Helen%20Jade/OneDrive/Desktop/2022-topic-01-team-04/Preprocessing%20m%26h/median_filter.ipynb#ch0000002?line=1'>2</a>\u001b[0m \u001b[39mfrom\u001b[39;00m \u001b[39mmatplotlib\u001b[39;00m \u001b[39mimport\u001b[39;00m pyplot \u001b[39mas\u001b[39;00m plt\n\u001b[1;32m----> <a href='vscode-notebook-cell:/c%3A/Users/Helen%20Jade/OneDrive/Desktop/2022-topic-01-team-04/Preprocessing%20m%26h/median_filter.ipynb#ch0000002?line=3'>4</a>\u001b[0m gt1 \u001b[39m=\u001b[39m plt\u001b[39m.\u001b[39;49mimread(\u001b[39mr\u001b[39;49m\u001b[39m'\u001b[39;49m\u001b[39mdata\u001b[39;49m\u001b[39m\\\u001b[39;49m\u001b[39mOtsu_data\u001b[39;49m\u001b[39m\\\u001b[39;49m\u001b[39mNIH3T3\u001b[39;49m\u001b[39m\\\u001b[39;49m\u001b[39mgt\u001b[39;49m\u001b[39m\\\u001b[39;49m\u001b[39m0.png\u001b[39;49m\u001b[39m'\u001b[39;49m)\n\u001b[0;32m      <a href='vscode-notebook-cell:/c%3A/Users/Helen%20Jade/OneDrive/Desktop/2022-topic-01-team-04/Preprocessing%20m%26h/median_filter.ipynb#ch0000002?line=4'>5</a>\u001b[0m gt2 \u001b[39m=\u001b[39m plt\u001b[39m.\u001b[39mimread(\u001b[39mr\u001b[39m\u001b[39m'\u001b[39m\u001b[39mdata\u001b[39m\u001b[39m\\\u001b[39m\u001b[39mOtsu_data\u001b[39m\u001b[39m\\\u001b[39m\u001b[39mNIH3T3\u001b[39m\u001b[39m\\\u001b[39m\u001b[39mgt\u001b[39m\u001b[39m\\\u001b[39m\u001b[39m1.png\u001b[39m\u001b[39m'\u001b[39m)\n\u001b[0;32m      <a href='vscode-notebook-cell:/c%3A/Users/Helen%20Jade/OneDrive/Desktop/2022-topic-01-team-04/Preprocessing%20m%26h/median_filter.ipynb#ch0000002?line=5'>6</a>\u001b[0m gt3 \u001b[39m=\u001b[39m plt\u001b[39m.\u001b[39mimread(\u001b[39mr\u001b[39m\u001b[39m'\u001b[39m\u001b[39mdata\u001b[39m\u001b[39m\\\u001b[39m\u001b[39mOtsu_data\u001b[39m\u001b[39m\\\u001b[39m\u001b[39mNIH3T3\u001b[39m\u001b[39m\\\u001b[39m\u001b[39mgt\u001b[39m\u001b[39m\\\u001b[39m\u001b[39m26.png\u001b[39m\u001b[39m'\u001b[39m)\n",
      "File \u001b[1;32mc:\\Users\\Helen Jade\\anaconda3\\envs\\dataanalysis0104_Env\\lib\\site-packages\\matplotlib\\pyplot.py:2139\u001b[0m, in \u001b[0;36mimread\u001b[1;34m(fname, format)\u001b[0m\n\u001b[0;32m   2137\u001b[0m \u001b[39m@_copy_docstring_and_deprecators\u001b[39m(matplotlib\u001b[39m.\u001b[39mimage\u001b[39m.\u001b[39mimread)\n\u001b[0;32m   2138\u001b[0m \u001b[39mdef\u001b[39;00m \u001b[39mimread\u001b[39m(fname, \u001b[39mformat\u001b[39m\u001b[39m=\u001b[39m\u001b[39mNone\u001b[39;00m):\n\u001b[1;32m-> 2139\u001b[0m     \u001b[39mreturn\u001b[39;00m matplotlib\u001b[39m.\u001b[39;49mimage\u001b[39m.\u001b[39;49mimread(fname, \u001b[39mformat\u001b[39;49m)\n",
      "File \u001b[1;32mc:\\Users\\Helen Jade\\anaconda3\\envs\\dataanalysis0104_Env\\lib\\site-packages\\matplotlib\\image.py:1560\u001b[0m, in \u001b[0;36mimread\u001b[1;34m(fname, format)\u001b[0m\n\u001b[0;32m   1558\u001b[0m                 response \u001b[39m=\u001b[39m io\u001b[39m.\u001b[39mBytesIO(response\u001b[39m.\u001b[39mread())\n\u001b[0;32m   1559\u001b[0m             \u001b[39mreturn\u001b[39;00m imread(response, \u001b[39mformat\u001b[39m\u001b[39m=\u001b[39mext)\n\u001b[1;32m-> 1560\u001b[0m \u001b[39mwith\u001b[39;00m img_open(fname) \u001b[39mas\u001b[39;00m image:\n\u001b[0;32m   1561\u001b[0m     \u001b[39mreturn\u001b[39;00m (_pil_png_to_float_array(image)\n\u001b[0;32m   1562\u001b[0m             \u001b[39mif\u001b[39;00m \u001b[39misinstance\u001b[39m(image, PIL\u001b[39m.\u001b[39mPngImagePlugin\u001b[39m.\u001b[39mPngImageFile) \u001b[39melse\u001b[39;00m\n\u001b[0;32m   1563\u001b[0m             pil_to_array(image))\n",
      "File \u001b[1;32mc:\\Users\\Helen Jade\\anaconda3\\envs\\dataanalysis0104_Env\\lib\\site-packages\\PIL\\ImageFile.py:100\u001b[0m, in \u001b[0;36mImageFile.__init__\u001b[1;34m(self, fp, filename)\u001b[0m\n\u001b[0;32m     96\u001b[0m \u001b[39mself\u001b[39m\u001b[39m.\u001b[39mdecodermaxblock \u001b[39m=\u001b[39m MAXBLOCK\n\u001b[0;32m     98\u001b[0m \u001b[39mif\u001b[39;00m isPath(fp):\n\u001b[0;32m     99\u001b[0m     \u001b[39m# filename\u001b[39;00m\n\u001b[1;32m--> 100\u001b[0m     \u001b[39mself\u001b[39m\u001b[39m.\u001b[39mfp \u001b[39m=\u001b[39m \u001b[39mopen\u001b[39;49m(fp, \u001b[39m\"\u001b[39;49m\u001b[39mrb\u001b[39;49m\u001b[39m\"\u001b[39;49m)\n\u001b[0;32m    101\u001b[0m     \u001b[39mself\u001b[39m\u001b[39m.\u001b[39mfilename \u001b[39m=\u001b[39m fp\n\u001b[0;32m    102\u001b[0m     \u001b[39mself\u001b[39m\u001b[39m.\u001b[39m_exclusive_fp \u001b[39m=\u001b[39m \u001b[39mTrue\u001b[39;00m\n",
      "\u001b[1;31mFileNotFoundError\u001b[0m: [Errno 2] No such file or directory: 'data\\\\Otsu_data\\\\NIH3T3\\\\gt\\\\0.png'"
     ]
    }
   ],
   "source": [
    "#load ground truths\n",
    "from matplotlib import pyplot as plt\n",
    "\n",
    "gt1 = plt.imread(r'data\\Otsu_data\\NIH3T3\\gt\\0.png')\n",
    "gt2 = plt.imread(r'data\\Otsu_data\\NIH3T3\\gt\\1.png')\n",
    "gt3 = plt.imread(r'data\\Otsu_data\\NIH3T3\\gt\\26.png')\n",
    "gt4 = plt.imread(r'data\\Otsu_data\\NIH3T3\\gt\\27.png')\n",
    "gt5 = plt.imread(r'data\\Otsu_data\\NIH3T3\\gt\\28.png')\n",
    "gt6 = plt.imread(r'data\\Otsu_data\\NIH3T3\\gt\\29.png')\n",
    "gt7 = plt.imread(r'data\\Otsu_data\\NIH3T3\\gt\\30.png')\n",
    "gt8 = plt.imread(r'data\\Otsu_data\\NIH3T3\\gt\\31.png')\n",
    "gt9 = plt.imread(r'data\\Otsu_data\\NIH3T3\\gt\\32.png')\n",
    "gt10 = plt.imread(r'data\\Otsu_data\\NIH3T3\\gt\\33.png')\n",
    "gt11 = plt.imread(r'data\\Otsu_data\\NIH3T3\\gt\\37.png')\n",
    "gt12 = plt.imread(r'data\\Otsu_data\\NIH3T3\\gt\\40.png')\n",
    "gt13 = plt.imread(r'data\\Otsu_data\\NIH3T3\\gt\\42.png')\n",
    "gt14 = plt.imread(r'data\\Otsu_data\\NIH3T3\\gt\\44.png')\n",
    "gt15 = plt.imread(r'data\\Otsu_data\\NIH3T3\\gt\\45.png')\n",
    "gt16 = plt.imread(r'data\\Otsu_data\\NIH3T3\\gt\\46.png')\n",
    "gt17 = plt.imread(r'data\\Otsu_data\\NIH3T3\\gt\\47.png')\n",
    "gt18 = plt.imread(r'data\\Otsu_data\\NIH3T3\\gt\\49.png')\n",
    "\n",
    "\n",
    "ground_truth_NIH3T3 = [gt1, gt2, gt3, gt4, gt5, gt6, gt7, gt8, gt9, gt10, gt11, gt12, gt13, gt14, gt15, gt16, gt17 ,gt18]\n",
    "\n",
    "#import normal images\n",
    "\n",
    "img1 = plt.imread(r'data\\Otsu_data\\NIH3T3\\img\\dna-0.png')\n",
    "img2 = plt.imread(r'data\\Otsu_data\\NIH3T3\\img\\dna-1.png')\n",
    "img3 = plt.imread(r'data\\Otsu_data\\NIH3T3\\img\\dna-26.png')\n",
    "img4 = plt.imread(r'data\\Otsu_data\\NIH3T3\\img\\dna-27.png')\n",
    "img5 = plt.imread(r'data\\Otsu_data\\NIH3T3\\img\\dna-28.png')\n",
    "img6 = plt.imread(r'data\\Otsu_data\\NIH3T3\\img\\dna-29.png')\n",
    "img7 = plt.imread(r'data\\Otsu_data\\NIH3T3\\img\\dna-30.png')\n",
    "img8 = plt.imread(r'data\\Otsu_data\\NIH3T3\\img\\dna-31.png')\n",
    "img9 = plt.imread(r'data\\Otsu_data\\NIH3T3\\img\\dna-32.png')\n",
    "img10 = plt.imread(r'data\\Otsu_data\\NIH3T3\\img\\dna-33.png')\n",
    "img11 = plt.imread(r'data\\Otsu_data\\NIH3T3\\img\\dna-37.png')\n",
    "img12 = plt.imread(r'data\\Otsu_data\\NIH3T3\\img\\dna-40.png')\n",
    "img13 = plt.imread(r'data\\Otsu_data\\NIH3T3\\img\\dna-42.png')\n",
    "img14 = plt.imread(r'data\\Otsu_data\\NIH3T3\\img\\dna-44.png')\n",
    "img15 = plt.imread(r'data\\Otsu_data\\NIH3T3\\img\\dna-45.png')\n",
    "img16 = plt.imread(r'data\\Otsu_data\\NIH3T3\\img\\dna-46.png')\n",
    "img17 = plt.imread(r'data\\Otsu_data\\NIH3T3\\img\\dna-47.png')\n",
    "img18 = plt.imread(r'data\\Otsu_data\\NIH3T3\\img\\dna-49.png')\n",
    "\n",
    "\n",
    "images_NIH3T3 = [img1, img2, img3, img4, img5, img6, img7, img8, img9, img10, img11, img12, img13, img14, img15, img16, img17 ,img18]"
   ]
  }
 ],
 "metadata": {
  "kernelspec": {
   "display_name": "Python 3.10.4 ('dataanalysis0104_Env')",
   "language": "python",
   "name": "python3"
  },
  "language_info": {
   "codemirror_mode": {
    "name": "ipython",
    "version": 3
   },
   "file_extension": ".py",
   "mimetype": "text/x-python",
   "name": "python",
   "nbconvert_exporter": "python",
   "pygments_lexer": "ipython3",
   "version": "3.10.4"
  },
  "orig_nbformat": 4,
  "vscode": {
   "interpreter": {
    "hash": "e0d3775933bd25a838655a686af1b37679a29cb0ec998f5190cb449f12779b79"
   }
  }
 },
 "nbformat": 4,
 "nbformat_minor": 2
}
